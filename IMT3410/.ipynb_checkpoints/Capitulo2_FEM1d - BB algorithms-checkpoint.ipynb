{
 "cells": [
  {
   "cell_type": "markdown",
   "metadata": {},
   "source": [
    "# Static condensation FEM 1d"
   ]
  },
  {
   "cell_type": "code",
   "execution_count": 1,
   "metadata": {},
   "outputs": [],
   "source": [
    "import numpy as np\n",
    "import sys\n",
    "import matplotlib.pyplot as plt\n",
    "import scipy.sparse as sps\n",
    "from scipy.sparse.linalg import spsolve\n",
    "from scipy.integrate import quadrature\n",
    "from numpy import sin, cos\n",
    "from scipy.special import comb\n",
    "import time\n",
    "from scipy.special import roots_jacobi"
   ]
  },
  {
   "cell_type": "markdown",
   "metadata": {},
   "source": [
    "## Bernstein algorithms for finite element methods\n",
    "\n",
    "see paper \n",
    "- [Ainsworth, M., Andriamaro, G., & Davydov, O. (2011). Bernstein–Bézier finite elements of arbitrary order and optimal assembly procedures. SIAM Journal on Scientific Computing, 33(6), 3087-3109.](https://epubs.siam.org/doi/abs/10.1137/11082539X)"
   ]
  },
  {
   "cell_type": "code",
   "execution_count": 2,
   "metadata": {},
   "outputs": [],
   "source": [
    "# Algorithm Compute_binomial_coefficients\n",
    "# Input : N\n",
    "# Output: all binomial coefficients binom(n, j) for j=0,..,n, for n=0,...,N \n",
    "def Compute_binomial_coefficients(N):\n",
    "    # compute all binomial coefficients\n",
    "    Cb = []\n",
    "    for n in range(0,N+1):\n",
    "        c = []\n",
    "        for j in range(n+1):\n",
    "            c.append(comb(n,j))\n",
    "        # end for\n",
    "        Cb.append(c)\n",
    "    return Cb\n",
    "\n",
    "# Algorithm Stifness1d\n",
    "# Input : K, n, A\n",
    "# Output: local stifness matrix using polynmials of degree n\n",
    "#         int_K A(x) grad B_j^{n}(x) * A(x) * grad B_i^{n}(x) dx\n",
    "def Stiffness1d(K, n, A=None):\n",
    "    # Compute stiffness matrix \n",
    "    d = 1\n",
    "    # grad \\lambda_k = - |\\gamma_k|/(d|K|) n_{K}\n",
    "    hK = abs(K[1]-K[0])\n",
    "    gradlambda = [-1.0/hK, 1.0/hK]\n",
    "    mutilde = np.zeros((2*n-2+1,d+1,d+2))\n",
    "    for k in range(0,d+1):\n",
    "        for l in range(0, d+1):\n",
    "            #for alpha0 in range(0,2*n-2):\n",
    "            muA = Compute_mu(K, 2*n-2, A)\n",
    "            mutilde[:,k,l] = gradlambda[k]*muA*gradlambda[l]\n",
    "        # end for\n",
    "    # end for\n",
    "    \n",
    "    S = np.zeros((n+1,n+1), dtype=np.float64)\n",
    "    for alpha0 in range(0,n):\n",
    "        for beta0 in range(0,n):\n",
    "            w0 = Cb[alpha0+beta0][alpha0]/Cb[2*n-2][n-1]\n",
    "            #w0 = comb(alpha0+beta0, alpha0)/comb(2*n-2, n-1)\n",
    "            w1 = w0*Cb[(n-1)-alpha0 + (n-1)-beta0][(n-1)-alpha0]\n",
    "            #w1 = w0*comb((n-1)-alpha0+(n-1)-beta0, (n-1)-alpha0)\n",
    "            for k in range(0, d+1):\n",
    "                for l in range(0,d+1):\n",
    "                    S[alpha0+k,beta0+l] += n**2*w1*mutilde[alpha0+beta0,k,l]\n",
    "                #end for\n",
    "            #end for\n",
    "        #end for\n",
    "    #end for\n",
    "    return S\n",
    "\n",
    "# Algortihm  Compute_mu\n",
    "# Input : element K, n, f\n",
    "# Output: Bernstein Bezier moments of degree n of a funcion f\n",
    "from math import ceil\n",
    "def Compute_mu(K, n, f=None, q=None):\n",
    "    # compute the Bernstein Bezier moments of a function f\n",
    "    # dimension\n",
    "    d = 1\n",
    "    # number of quadrature points\n",
    "    if q is None or q <= 0.5*(n+1):\n",
    "        q = ceil(0.5*(n+1))\n",
    "    \n",
    "    if f is None:\n",
    "        F0 = np.ones(q)\n",
    "        mu = abs(K[1]-K[0])/d*Moment(F0,q,n)\n",
    "    else:\n",
    "        # Gauss-Jacobi points\n",
    "        xiv, omegav = roots_jacobi(q, alpha=0, beta=0, mu=False)\n",
    "        # transformation from (-1,1) to K = (a,b)\n",
    "        xK = 0.5*(K[0]*(1-xiv) + K[1]*(1+xiv))\n",
    "        mu = abs(K[1]-K[0])/d*Moment(f(xK), q,n)\n",
    "    return mu\n",
    "\n",
    "# Algorithm Moment(F0, q)\n",
    "# Input : Array F0 corresponding to values of a function f at Stroud nodes\n",
    "# Output: Array Fd composed of Bernstein-Bezier moments of f using Stroud rule\n",
    "def Moment(F0, q,n):\n",
    "    d = 1\n",
    "    Fnew = F0.copy()\n",
    "    for l in range(1, d+1):\n",
    "        Fold = Fnew\n",
    "        Fnew = MomentStep(Fold, l, q,n)\n",
    "    return Fnew\n",
    "\n",
    "# Algorithm MomentStep(Fin, l, q)\n",
    "# Input : Array Fin and index l in {1,...,d}\n",
    "# Output: Updated array Fout with index il switched to alphal\n",
    "def MomentStep(Fin, l, q, n):\n",
    "    xiv, omegav = roots_jacobi(q, alpha=0, beta=0, mu=False)\n",
    "    xiv += 1.0\n",
    "    xiv *= 0.5\n",
    "    omegav *= 0.5\n",
    "    \n",
    "    Fout = np.zeros(n+1)\n",
    "    for il in range(0,q):\n",
    "        xi    = xiv[il]\n",
    "        omega = omegav[il]\n",
    "        s     = 1-xi\n",
    "        r     = xi/s\n",
    "        w = omega*s**n\n",
    "        for alphal in range(0, n+1):\n",
    "            Fout[alphal] += w*Fin[il]\n",
    "            w *= r*(n-alphal)/(1+alphal)\n",
    "    return Fout"
   ]
  },
  {
   "cell_type": "markdown",
   "metadata": {},
   "source": [
    "# Finite element solver\n",
    "- Continuous Galerkin method for Poisson equation\n",
    "- The code uses the Bernstein-Bezier polynomial basis"
   ]
  },
  {
   "cell_type": "code",
   "execution_count": 36,
   "metadata": {},
   "outputs": [],
   "source": [
    "# Algorithm fem1d_Poisson\n",
    "# Description: Simple algortihm for computing the finite element continuous Galerkin matrix\n",
    "# Input : Coordinate, Elements, NN, NE, f, c, p\n",
    "# Output: global stiffness matrix A and load vector\n",
    "def fem1d_Poisson(mesh, p=1, f=None, c=None):\n",
    "    iA = []; jA = []; kA = [];\n",
    "    # precompute the binomial coefficients\n",
    "    global Cb \n",
    "    Cb = Compute_binomial_coefficients(max(2*p-2,p))\n",
    "    # Load vector\n",
    "    b = np.zeros(mesh.NN+(p-1)*mesh.NE);\n",
    "\n",
    "    # General Structure of degrees of freedom: [Nodes, faces, interior]\n",
    "    for j in range(mesh.NE):\n",
    "        # Interval\n",
    "        K = mesh.Coordinates[mesh.Elements[j,:]]\n",
    "    \n",
    "        # Local stiffness matrix\n",
    "        AK = Stiffness1d(K, p, c)\n",
    "    \n",
    "        # Local load vector\n",
    "        if f is None:\n",
    "            bK = np.zeros(p+1)\n",
    "        else:\n",
    "            bK = Compute_mu(K, p, f)\n",
    "        \n",
    "        # Global Assembling\n",
    "        # nodal degrees of freedom \n",
    "        dofn = mesh.Elements[j,:]\n",
    "        # interior degrees of freedom\n",
    "        dofi = np.arange(mesh.NN+(p-1)*j, mesh.NN+(p-1)*(j+1))\n",
    "        dof = np.hstack([ dofn[0], dofi, dofn[1] ])\n",
    "    \n",
    "        # assembling b\n",
    "        b[dof] += bK\n",
    "    \n",
    "        # Sparse assembling of A: A[dof,dof] = AK\n",
    "        rows = dof; cols = dof\n",
    "        prod = [(x,y) for x in rows for y in cols];\n",
    "        iAlocal = [x for (x,y) in prod]\n",
    "        jAlocal = [y for (x,y) in prod]\n",
    "        kAlocal = np.reshape(AK, (1,AK.size))\n",
    "        iA.extend(iAlocal); jA.extend(jAlocal); kA.extend(kAlocal.flatten())\n",
    "    # end for\n",
    "    A = sps.coo_matrix(( kA,(iA, jA)), (mesh.NN+mesh.NE*(p-1), mesh.NN+mesh.NE*(p-1)), dtype=np.float64)\n",
    "    fig, axa = plt.subplots(1,1,figsize=(4,4))\n",
    "    axa.spy(A, markersize=5)\n",
    "    plt.show()\n",
    "    return (A, b)"
   ]
  },
  {
   "cell_type": "code",
   "execution_count": 37,
   "metadata": {},
   "outputs": [],
   "source": [
    "def fem1d_solver(mesh, p=1, f=None, c=None, static_condensation=False):\n",
    "    # Solve linear system\n",
    "    if static_condensation:\n",
    "        (A, b) = fem1d_Poisson_static_condensation(mesh, p, f, c)\n",
    "        uhnodes = np.zeros(mesh.NN);\n",
    "        All = range(0,mesh.NN)\n",
    "        Free = np.setdiff1d(All,[0,mesh.NN-1]);\n",
    "        AFree = A.tocsc()[Free, :][:, Free]\n",
    "        print(\"*** static condensation: size of A\", AFree.shape)\n",
    "        bFree = b[Free]\n",
    "        uhnodes[Free] = spsolve(AFree, bFree)\n",
    "        return uhnodes\n",
    "    else:\n",
    "        (A, b) = fem1d_Poisson(mesh, p, f, c)\n",
    "        uh = np.zeros(mesh.NN+(p-1)*mesh.NE);\n",
    "        All = range(0,mesh.NN+(p-1)*mesh.NE)\n",
    "        Free = np.setdiff1d(All,[0,mesh.NN-1]);\n",
    "        AFree = A.tocsc()[Free, :][:, Free]\n",
    "        print(\"*** full system: size of A\", AFree.shape)\n",
    "        bFree = b[Free]\n",
    "        uh[Free] = spsolve(AFree, bFree)\n",
    "        return uh"
   ]
  },
  {
   "cell_type": "code",
   "execution_count": 38,
   "metadata": {},
   "outputs": [],
   "source": [
    "# Triangulation\n",
    "class mesh1d:\n",
    "    def __init__(self, Coordinates, Elements):\n",
    "        self.Coordinates = Coordinates\n",
    "        self.Elements = Elements\n",
    "        self.NE = Elements.shape[0] # number of elements\n",
    "        self.NN = Coordinates.size # number of coordinates or nodes\n",
    "        self.h = np.max([abs(Coordinates[j+1] - Coordinates[j]) for j in range(self.NE)]) # parameter of the triangulation\n",
    "\n",
    "def equispaced_mesh(xi,xf,j):\n",
    "    n = 2**j;\n",
    "    Coordinates = np.linspace(xi,xf,num = n+2) # nodes \n",
    "    Elements = np.vstack([range(n+1), range(1,n+2)]).T\n",
    "    return mesh1d(Coordinates, Elements)"
   ]
  },
  {
   "cell_type": "code",
   "execution_count": 39,
   "metadata": {},
   "outputs": [],
   "source": [
    "def test1_poisson(static_condensation=False):\n",
    "    # 1D FEM for Poisson equation\n",
    "    # -u'' = f in (0,1), u(0) = u(1) = 0\n",
    "    xi = 0; xf = 1;\n",
    "    u = lambda x: x*(x-1.0)*sin(x)\n",
    "    du = lambda x: (2*x-1)*sin(x)+(x**2-x)*cos(x)\n",
    "    f = lambda x: -(2*sin(x) + 2*(2*x-1)*cos(x) - (x**2-x)*sin(x))\n",
    "    mesh = equispaced_mesh(0,1,9)\n",
    "    uh = fem1d_solver(mesh, p=10, f=f, c=None, static_condensation=static_condensation)\n",
    "    x = np.linspace(0,1,100);\n",
    "    plt.plot(x, u(x), '--C3');\n",
    "    plt.plot(mesh.Coordinates,uh[range(mesh.NN)], 'C0'); \n",
    "    plt.legend(['exact', 'uh at nodes'])\n",
    "    plt.show();"
   ]
  },
  {
   "cell_type": "code",
   "execution_count": 40,
   "metadata": {},
   "outputs": [
    {
     "data": {
      "image/png": "[encoded data removed]",
      "text/plain": [
       "<Figure size 288x288 with 1 Axes>"
      ]
     },
     "metadata": {
      "needs_background": "light"
     },
     "output_type": "display_data"
    },
    {
     "name": "stdout",
     "output_type": "stream",
     "text": [
      "*** full system: size of A (5129, 5129)\n"
     ]
    },
    {
     "data": {
      "image/png": "[encoded data removed]",
      "text/plain": [
       "<Figure size 432x288 with 1 Axes>"
      ]
     },
     "metadata": {
      "needs_background": "light"
     },
     "output_type": "display_data"
    }
   ],
   "source": [
    "test1_poisson()"
   ]
  },
  {
   "cell_type": "markdown",
   "metadata": {},
   "source": [
    "# Static condensation"
   ]
  },
  {
   "cell_type": "code",
   "execution_count": 41,
   "metadata": {},
   "outputs": [],
   "source": [
    "# Algorithm fem1d_Poisson\n",
    "# Description: Simple algortihm for computing the finite element continuous Galerkin matrix\n",
    "# Input : Coordinate, Elements, NN, NE, f, c, p\n",
    "# Output: global stiffness matrix A and load vector\n",
    "def fem1d_Poisson_static_condensation(mesh, p=1, f=None, c=None):\n",
    "    iS = []; jS = []; kS = [];\n",
    "    # precompute the binomial coefficients\n",
    "    global Cb \n",
    "    Cb = Compute_binomial_coefficients(max(2*p-2,p))\n",
    "    # Load vector\n",
    "    b = np.zeros(mesh.NN+(p-1)*mesh.NE);\n",
    "\n",
    "    # General Structure of degrees of freedom: [Nodes, faces, interior]\n",
    "    for j in range(mesh.NE):\n",
    "        # Interval\n",
    "        K = mesh.Coordinates[mesh.Elements[j,:]]\n",
    "    \n",
    "        # Local stiffness matrix\n",
    "        AK = Stiffness1d(K, p, c)\n",
    "    \n",
    "        # Local load vector\n",
    "        if f is None:\n",
    "            bK = np.zeros(p+1)\n",
    "        else:\n",
    "            bK = Compute_mu(K, p, f)\n",
    "        \n",
    "        # Global Assembling\n",
    "        # static condensation\n",
    "        A00 = AK[ 1:p, :][:,1:p]\n",
    "        A0p = AK[1:p,:][:,[0,p]]\n",
    "        Ap0 = AK[[0,p],:][:,1:p]\n",
    "        App = AK[[0,p],:][:,[0,p]]\n",
    "        bp = bK[[0,p]]\n",
    "        b0 = bK[1:p]\n",
    "        G  = np.linalg.solve(A00, A0p).T\n",
    "        SK  = App-G@A0p\n",
    "        bsK = bp - G.dot(b0) \n",
    "        # nodal degrees of freedom \n",
    "        dof = mesh.Elements[j,:]\n",
    "    \n",
    "        # assembling b\n",
    "        b[dof] += bsK\n",
    "    \n",
    "        # Sparse assembling of A: A[dof,dof] = AK\n",
    "        rows = dof; cols = dof\n",
    "        prod = [(x,y) for x in rows for y in cols];\n",
    "        iSlocal = [x for (x,y) in prod]\n",
    "        jSlocal = [y for (x,y) in prod]\n",
    "        kSlocal = np.reshape(SK, (1,SK.size))\n",
    "        iS.extend(iSlocal); jS.extend(jSlocal); kS.extend(kSlocal.flatten())\n",
    "    # end for\n",
    "    S = sps.coo_matrix(( kS,(iS, jS)), (mesh.NN,mesh.NN), dtype = np.float64)\n",
    "    fig, axs = plt.subplots(1,1,figsize=(4,4))\n",
    "    axs.spy(S,markersize=5)\n",
    "    plt.show()\n",
    "    return (S, b)"
   ]
  },
  {
   "cell_type": "code",
   "execution_count": 42,
   "metadata": {},
   "outputs": [
    {
     "data": {
      "image/png": "[encoded data removed]",
      "text/plain": [
       "<Figure size 288x288 with 1 Axes>"
      ]
     },
     "metadata": {
      "needs_background": "light"
     },
     "output_type": "display_data"
    },
    {
     "name": "stdout",
     "output_type": "stream",
     "text": [
      "*** static condensation: size of A (512, 512)\n"
     ]
    },
    {
     "data": {
      "image/png": "[encoded data removed]",
      "text/plain": [
       "<Figure size 432x288 with 1 Axes>"
      ]
     },
     "metadata": {
      "needs_background": "light"
     },
     "output_type": "display_data"
    }
   ],
   "source": [
    "test1_poisson(static_condensation=True)"
   ]
  },
  {
   "cell_type": "code",
   "execution_count": null,
   "metadata": {},
   "outputs": [],
   "source": []
  }
 ],
 "metadata": {
  "kernelspec": {
   "display_name": "Python 3 (ipykernel)",
   "language": "python",
   "name": "python3"
  },
  "language_info": {
   "codemirror_mode": {
    "name": "ipython",
    "version": 3
   },
   "file_extension": ".py",
   "mimetype": "text/x-python",
   "name": "python",
   "nbconvert_exporter": "python",
   "pygments_lexer": "ipython3",
   "version": "3.7.9"
  }
 },
 "nbformat": 4,
 "nbformat_minor": 4
}
