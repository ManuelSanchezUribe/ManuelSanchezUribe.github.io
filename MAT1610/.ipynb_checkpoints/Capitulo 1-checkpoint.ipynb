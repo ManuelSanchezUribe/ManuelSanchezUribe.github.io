{
 "cells": [
  {
   "cell_type": "markdown",
   "metadata": {},
   "source": [
    "<center><h1 style=\"color:#173F8A;\"> Calculo I, MAT1640-2, 2022-1 </h1></center>\n",
    "<h3 style=\"color:#173F8A;text-align:right;\"> Facultad de Matematicas<br>  Pontificia Universidad Catolica de Chile <br>  </h3>\n",
    "<h3 style=\"color:#0176DE;text-align:right;\"> Profesor. Manuel A. Sanchez<br> Instituto de Ingenieria Matematica y Computacional<br></h3>\n",
    "<hr style=\"border:2px solid #03122E\"> </hr>\n",
    "\n",
    "<!-- Palette colors UC: celeste:#0176DE, azul #173F8A, azul oscuro: #03122E, amarillo: #FEC60D, amarillo oscuro: #E3AE00 -->\n",
    "<!--\n",
    "<figure>\n",
    "<img align =\"right\" src=\"IMClogo.png\" alt=\"logo\" width=\"250\" height=\"400\"><br><br><br><br><br>\n",
    "</figure>\n",
    " -->\n"
   ]
  },
  {
   "cell_type": "code",
   "execution_count": 1,
   "metadata": {},
   "outputs": [],
   "source": [
    "import numpy as np\n",
    "import scipy as sp\n",
    "import pandas as pd\n",
    "from math import sqrt\n",
    "import matplotlib.pyplot as plt\n",
    "from IPython.display import display\n",
    "from IPython.core.display import HTML"
   ]
  },
  {
   "cell_type": "markdown",
   "metadata": {},
   "source": [
    "# Capitulo 1. Limite y continuidad de funciones\n",
    "### Seccion 2.2 Texto guia: Cálculo Trascendentes tempranas, James Stewart, Séptima edición"
   ]
  },
  {
   "cell_type": "markdown",
   "metadata": {},
   "source": [
    "#### Ilustracion.  \n",
    "Concepto de limite. $f(x) = x^{2} - x+2$ cuando $x$ es cercano a $2$."
   ]
  },
  {
   "cell_type": "code",
   "execution_count": 2,
   "metadata": {},
   "outputs": [
    {
     "data": {
      "text/html": [
       "<div>\n",
       "<style scoped>\n",
       "    .dataframe tbody tr th:only-of-type {\n",
       "        vertical-align: middle;\n",
       "    }\n",
       "\n",
       "    .dataframe tbody tr th {\n",
       "        vertical-align: top;\n",
       "    }\n",
       "\n",
       "    .dataframe thead th {\n",
       "        text-align: right;\n",
       "    }\n",
       "</style>\n",
       "<table border=\"1\" class=\"dataframe\">\n",
       "  <thead>\n",
       "    <tr style=\"text-align: right;\">\n",
       "      <th></th>\n",
       "      <th>x&lt;2</th>\n",
       "      <th>f left</th>\n",
       "      <th>x&gt;2</th>\n",
       "      <th>f right</th>\n",
       "    </tr>\n",
       "  </thead>\n",
       "  <tbody>\n",
       "    <tr>\n",
       "      <th>0</th>\n",
       "      <td>1.000</td>\n",
       "      <td>2.000000</td>\n",
       "      <td>3.000</td>\n",
       "      <td>8.000000</td>\n",
       "    </tr>\n",
       "    <tr>\n",
       "      <th>1</th>\n",
       "      <td>1.500</td>\n",
       "      <td>2.750000</td>\n",
       "      <td>2.500</td>\n",
       "      <td>5.750000</td>\n",
       "    </tr>\n",
       "    <tr>\n",
       "      <th>2</th>\n",
       "      <td>1.800</td>\n",
       "      <td>3.440000</td>\n",
       "      <td>2.200</td>\n",
       "      <td>4.640000</td>\n",
       "    </tr>\n",
       "    <tr>\n",
       "      <th>3</th>\n",
       "      <td>1.900</td>\n",
       "      <td>3.710000</td>\n",
       "      <td>2.100</td>\n",
       "      <td>4.310000</td>\n",
       "    </tr>\n",
       "    <tr>\n",
       "      <th>4</th>\n",
       "      <td>1.950</td>\n",
       "      <td>3.852500</td>\n",
       "      <td>2.050</td>\n",
       "      <td>4.152500</td>\n",
       "    </tr>\n",
       "    <tr>\n",
       "      <th>5</th>\n",
       "      <td>1.990</td>\n",
       "      <td>3.970100</td>\n",
       "      <td>2.010</td>\n",
       "      <td>4.030100</td>\n",
       "    </tr>\n",
       "    <tr>\n",
       "      <th>6</th>\n",
       "      <td>1.995</td>\n",
       "      <td>3.985025</td>\n",
       "      <td>2.005</td>\n",
       "      <td>4.015025</td>\n",
       "    </tr>\n",
       "    <tr>\n",
       "      <th>7</th>\n",
       "      <td>1.999</td>\n",
       "      <td>3.997001</td>\n",
       "      <td>2.001</td>\n",
       "      <td>4.003001</td>\n",
       "    </tr>\n",
       "  </tbody>\n",
       "</table>\n",
       "</div>"
      ],
      "text/plain": [
       "     x<2    f left    x>2   f right\n",
       "0  1.000  2.000000  3.000  8.000000\n",
       "1  1.500  2.750000  2.500  5.750000\n",
       "2  1.800  3.440000  2.200  4.640000\n",
       "3  1.900  3.710000  2.100  4.310000\n",
       "4  1.950  3.852500  2.050  4.152500\n",
       "5  1.990  3.970100  2.010  4.030100\n",
       "6  1.995  3.985025  2.005  4.015025\n",
       "7  1.999  3.997001  2.001  4.003001"
      ]
     },
     "metadata": {},
     "output_type": "display_data"
    }
   ],
   "source": [
    "xleft = np.array([1,1.5,1.8,1.9,1.95,1.99,1.995,1.999])\n",
    "xright = np.array([3,2.5,2.2,2.1,2.05,2.01,2.005,2.001])\n",
    "f  = lambda x: x**2-x+2\n",
    "fleft = f(xleft)\n",
    "fright = f(xright)\n",
    "data = {'x<2':xleft, 'f left':fleft, 'x>2':xright, 'f right':fright}\n",
    "df = pd.DataFrame(data)\n",
    "display(df)"
   ]
  },
  {
   "cell_type": "code",
   "execution_count": 3,
   "metadata": {},
   "outputs": [
    {
     "data": {
      "image/png": "[encoded data removed]",
      "text/plain": [
       "<Figure size 432x288 with 1 Axes>"
      ]
     },
     "metadata": {
      "needs_background": "light"
     },
     "output_type": "display_data"
    }
   ],
   "source": [
    "xplot = np.linspace(1,3,200)\n",
    "plt.plot(xplot,f(xplot) );plt.xlabel('x'); plt.ylabel('y'); plt.show()"
   ]
  },
  {
   "cell_type": "markdown",
   "metadata": {},
   "source": [
    "## Ejemplo 1. \n",
    "\\begin{equation}\n",
    "\\lim_{x\\rightarrow 1}\\frac{x-1}{x^{2}-1}\n",
    "\\end{equation}"
   ]
  },
  {
   "cell_type": "code",
   "execution_count": 4,
   "metadata": {},
   "outputs": [
    {
     "data": {
      "text/html": [
       "<div>\n",
       "<style scoped>\n",
       "    .dataframe tbody tr th:only-of-type {\n",
       "        vertical-align: middle;\n",
       "    }\n",
       "\n",
       "    .dataframe tbody tr th {\n",
       "        vertical-align: top;\n",
       "    }\n",
       "\n",
       "    .dataframe thead th {\n",
       "        text-align: right;\n",
       "    }\n",
       "</style>\n",
       "<table border=\"1\" class=\"dataframe\">\n",
       "  <thead>\n",
       "    <tr style=\"text-align: right;\">\n",
       "      <th></th>\n",
       "      <th>x&lt;1</th>\n",
       "      <th>f left</th>\n",
       "      <th>x&gt;1</th>\n",
       "      <th>f right</th>\n",
       "    </tr>\n",
       "  </thead>\n",
       "  <tbody>\n",
       "    <tr>\n",
       "      <th>0</th>\n",
       "      <td>0.5000</td>\n",
       "      <td>0.666667</td>\n",
       "      <td>1.5000</td>\n",
       "      <td>0.400000</td>\n",
       "    </tr>\n",
       "    <tr>\n",
       "      <th>1</th>\n",
       "      <td>0.9000</td>\n",
       "      <td>0.526316</td>\n",
       "      <td>1.1000</td>\n",
       "      <td>0.476190</td>\n",
       "    </tr>\n",
       "    <tr>\n",
       "      <th>2</th>\n",
       "      <td>0.9500</td>\n",
       "      <td>0.512821</td>\n",
       "      <td>1.0500</td>\n",
       "      <td>0.487805</td>\n",
       "    </tr>\n",
       "    <tr>\n",
       "      <th>3</th>\n",
       "      <td>0.9900</td>\n",
       "      <td>0.502513</td>\n",
       "      <td>1.0100</td>\n",
       "      <td>0.497512</td>\n",
       "    </tr>\n",
       "    <tr>\n",
       "      <th>4</th>\n",
       "      <td>0.9950</td>\n",
       "      <td>0.501253</td>\n",
       "      <td>1.0050</td>\n",
       "      <td>0.498753</td>\n",
       "    </tr>\n",
       "    <tr>\n",
       "      <th>5</th>\n",
       "      <td>0.9990</td>\n",
       "      <td>0.500250</td>\n",
       "      <td>1.0001</td>\n",
       "      <td>0.499975</td>\n",
       "    </tr>\n",
       "    <tr>\n",
       "      <th>6</th>\n",
       "      <td>0.9995</td>\n",
       "      <td>0.500125</td>\n",
       "      <td>1.0005</td>\n",
       "      <td>0.499875</td>\n",
       "    </tr>\n",
       "    <tr>\n",
       "      <th>7</th>\n",
       "      <td>0.9999</td>\n",
       "      <td>0.500025</td>\n",
       "      <td>1.0001</td>\n",
       "      <td>0.499975</td>\n",
       "    </tr>\n",
       "  </tbody>\n",
       "</table>\n",
       "</div>"
      ],
      "text/plain": [
       "      x<1    f left     x>1   f right\n",
       "0  0.5000  0.666667  1.5000  0.400000\n",
       "1  0.9000  0.526316  1.1000  0.476190\n",
       "2  0.9500  0.512821  1.0500  0.487805\n",
       "3  0.9900  0.502513  1.0100  0.497512\n",
       "4  0.9950  0.501253  1.0050  0.498753\n",
       "5  0.9990  0.500250  1.0001  0.499975\n",
       "6  0.9995  0.500125  1.0005  0.499875\n",
       "7  0.9999  0.500025  1.0001  0.499975"
      ]
     },
     "metadata": {},
     "output_type": "display_data"
    }
   ],
   "source": [
    "xleft = np.array([0.5,0.9,0.95,0.99,0.995,0.999,0.9995,0.9999])\n",
    "xright = np.array([1.5,1.1,1.05,1.01,1.005,1.0001,1.0005,1.0001])\n",
    "f  = lambda x: (x-1)/(x**2-1)\n",
    "fleft = f(xleft)\n",
    "fright = f(xright)\n",
    "data = {'x<1':xleft, 'f left':fleft, 'x>1':xright, 'f right':fright}\n",
    "df = pd.DataFrame(data)\n",
    "display(df)"
   ]
  },
  {
   "cell_type": "code",
   "execution_count": 5,
   "metadata": {},
   "outputs": [
    {
     "data": {
      "image/png": "[encoded data removed]",
      "text/plain": [
       "<Figure size 432x288 with 1 Axes>"
      ]
     },
     "metadata": {
      "needs_background": "light"
     },
     "output_type": "display_data"
    }
   ],
   "source": [
    "xplot = np.linspace(0,2,200)\n",
    "plt.plot(xplot,f(xplot) );plt.show()"
   ]
  },
  {
   "cell_type": "markdown",
   "metadata": {},
   "source": [
    "## Ejemplo 2. \n",
    "\\begin{equation}\n",
    "\\lim_{t\\rightarrow 0} \\frac{\\sqrt{t^2+9}-3}{t^{2}}\n",
    "\\end{equation}"
   ]
  },
  {
   "cell_type": "code",
   "execution_count": 6,
   "metadata": {},
   "outputs": [
    {
     "data": {
      "text/html": [
       "<table border=\"1\" class=\"dataframe\">\n",
       "  <thead>\n",
       "    <tr style=\"text-align: right;\">\n",
       "      <th></th>\n",
       "      <th>x&lt;0</th>\n",
       "      <th>f left</th>\n",
       "      <th>x&gt;</th>\n",
       "      <th>f right</th>\n",
       "    </tr>\n",
       "  </thead>\n",
       "  <tbody>\n",
       "    <tr>\n",
       "      <th>0</th>\n",
       "      <td>-1.000000e+00</td>\n",
       "      <td>0.162278</td>\n",
       "      <td>1.000000e+00</td>\n",
       "      <td>0.162278</td>\n",
       "    </tr>\n",
       "    <tr>\n",
       "      <th>1</th>\n",
       "      <td>-5.000000e-01</td>\n",
       "      <td>0.165525</td>\n",
       "      <td>5.000000e-01</td>\n",
       "      <td>0.165525</td>\n",
       "    </tr>\n",
       "    <tr>\n",
       "      <th>2</th>\n",
       "      <td>-1.000000e-01</td>\n",
       "      <td>0.166620</td>\n",
       "      <td>1.000000e-01</td>\n",
       "      <td>0.166620</td>\n",
       "    </tr>\n",
       "    <tr>\n",
       "      <th>3</th>\n",
       "      <td>-5.000000e-02</td>\n",
       "      <td>0.166655</td>\n",
       "      <td>5.000000e-02</td>\n",
       "      <td>0.166655</td>\n",
       "    </tr>\n",
       "    <tr>\n",
       "      <th>4</th>\n",
       "      <td>-1.000000e-02</td>\n",
       "      <td>0.166666</td>\n",
       "      <td>1.000000e-02</td>\n",
       "      <td>0.166666</td>\n",
       "    </tr>\n",
       "    <tr>\n",
       "      <th>5</th>\n",
       "      <td>-5.000000e-03</td>\n",
       "      <td>0.166667</td>\n",
       "      <td>5.000000e-03</td>\n",
       "      <td>0.166667</td>\n",
       "    </tr>\n",
       "    <tr>\n",
       "      <th>6</th>\n",
       "      <td>-1.000000e-03</td>\n",
       "      <td>0.166667</td>\n",
       "      <td>1.000000e-03</td>\n",
       "      <td>0.166667</td>\n",
       "    </tr>\n",
       "    <tr>\n",
       "      <th>7</th>\n",
       "      <td>-5.000000e-04</td>\n",
       "      <td>0.166667</td>\n",
       "      <td>5.000000e-04</td>\n",
       "      <td>0.166667</td>\n",
       "    </tr>\n",
       "    <tr>\n",
       "      <th>8</th>\n",
       "      <td>-1.000000e-04</td>\n",
       "      <td>0.166667</td>\n",
       "      <td>1.000000e-04</td>\n",
       "      <td>0.166667</td>\n",
       "    </tr>\n",
       "    <tr>\n",
       "      <th>9</th>\n",
       "      <td>-5.000000e-05</td>\n",
       "      <td>0.166667</td>\n",
       "      <td>5.000000e-05</td>\n",
       "      <td>0.166667</td>\n",
       "    </tr>\n",
       "    <tr>\n",
       "      <th>10</th>\n",
       "      <td>-1.000000e-05</td>\n",
       "      <td>0.166667</td>\n",
       "      <td>1.000000e-05</td>\n",
       "      <td>0.166667</td>\n",
       "    </tr>\n",
       "    <tr>\n",
       "      <th>11</th>\n",
       "      <td>-5.000000e-06</td>\n",
       "      <td>0.166676</td>\n",
       "      <td>5.000000e-06</td>\n",
       "      <td>0.166676</td>\n",
       "    </tr>\n",
       "    <tr>\n",
       "      <th>12</th>\n",
       "      <td>-1.000000e-06</td>\n",
       "      <td>0.166533</td>\n",
       "      <td>1.000000e-06</td>\n",
       "      <td>0.166533</td>\n",
       "    </tr>\n",
       "    <tr>\n",
       "      <th>13</th>\n",
       "      <td>-5.000000e-07</td>\n",
       "      <td>0.166978</td>\n",
       "      <td>5.000000e-07</td>\n",
       "      <td>0.166978</td>\n",
       "    </tr>\n",
       "    <tr>\n",
       "      <th>14</th>\n",
       "      <td>-1.000000e-07</td>\n",
       "      <td>0.177636</td>\n",
       "      <td>1.000000e-07</td>\n",
       "      <td>0.177636</td>\n",
       "    </tr>\n",
       "  </tbody>\n",
       "</table>"
      ],
      "text/plain": [
       "<IPython.core.display.HTML object>"
      ]
     },
     "metadata": {},
     "output_type": "display_data"
    }
   ],
   "source": [
    "xleft = np.array([-1,-0.5,-0.1,-0.05,-0.01,-0.005,-0.001,-0.0005, -0.0001, -0.00005, -0.00001,-0.000005,-0.000001,-0.0000005,-0.0000001], dtype=np.float64)\n",
    "xright = np.array([1,0.5,0.1,0.05,0.01,0.005,0.001,0.0005, 0.0001, 0.00005, 0.00001,0.000005,0.000001,0.0000005,0.0000001], dtype=np.float64)\n",
    "f  = lambda x: (np.sqrt(x**2+9)-3)/(x**2)\n",
    "fleft = f(xleft)\n",
    "fright = f(xright)\n",
    "data = {'x<0':xleft, 'f left':fleft, 'x>':xright, 'f right':fright}\n",
    "df = pd.DataFrame(data)\n",
    "display(HTML(df.to_html()))"
   ]
  },
  {
   "cell_type": "code",
   "execution_count": 7,
   "metadata": {},
   "outputs": [
    {
     "data": {
      "image/png": "[encoded data removed]",
      "text/plain": [
       "<Figure size 432x288 with 1 Axes>"
      ]
     },
     "metadata": {
      "needs_background": "light"
     },
     "output_type": "display_data"
    }
   ],
   "source": [
    "xplotleft = np.linspace(-.1,0,1000, endpoint=False)\n",
    "xplotright = np.linspace(.1,0,1000, endpoint=False)\n",
    "xplot = np.concatenate([xplotleft, np.flip(xplotright)])\n",
    "plt.plot(xplot,f(xplot) );plt.show()"
   ]
  },
  {
   "cell_type": "markdown",
   "metadata": {},
   "source": [
    "## Ejemplo 3.\n",
    "\\begin{equation}\n",
    "\\lim_{x\\rightarrow 0} \\frac{\\sin(x)}{x}\n",
    "\\end{equation}\n"
   ]
  },
  {
   "cell_type": "code",
   "execution_count": 8,
   "metadata": {},
   "outputs": [
    {
     "data": {
      "text/html": [
       "<table border=\"1\" class=\"dataframe\">\n",
       "  <thead>\n",
       "    <tr style=\"text-align: right;\">\n",
       "      <th></th>\n",
       "      <th>x&lt;0</th>\n",
       "      <th>f left</th>\n",
       "      <th>x&gt;0</th>\n",
       "      <th>f right</th>\n",
       "    </tr>\n",
       "  </thead>\n",
       "  <tbody>\n",
       "    <tr>\n",
       "      <th>0</th>\n",
       "      <td>-1.000000e+00</td>\n",
       "      <td>0.841471</td>\n",
       "      <td>1.000000e+00</td>\n",
       "      <td>0.841471</td>\n",
       "    </tr>\n",
       "    <tr>\n",
       "      <th>1</th>\n",
       "      <td>-5.000000e-01</td>\n",
       "      <td>0.958851</td>\n",
       "      <td>5.000000e-01</td>\n",
       "      <td>0.958851</td>\n",
       "    </tr>\n",
       "    <tr>\n",
       "      <th>2</th>\n",
       "      <td>-1.000000e-01</td>\n",
       "      <td>0.998334</td>\n",
       "      <td>1.000000e-01</td>\n",
       "      <td>0.998334</td>\n",
       "    </tr>\n",
       "    <tr>\n",
       "      <th>3</th>\n",
       "      <td>-5.000000e-02</td>\n",
       "      <td>0.999583</td>\n",
       "      <td>5.000000e-02</td>\n",
       "      <td>0.999583</td>\n",
       "    </tr>\n",
       "    <tr>\n",
       "      <th>4</th>\n",
       "      <td>-1.000000e-02</td>\n",
       "      <td>0.999983</td>\n",
       "      <td>1.000000e-02</td>\n",
       "      <td>0.999983</td>\n",
       "    </tr>\n",
       "    <tr>\n",
       "      <th>5</th>\n",
       "      <td>-5.000000e-03</td>\n",
       "      <td>0.999996</td>\n",
       "      <td>5.000000e-03</td>\n",
       "      <td>0.999996</td>\n",
       "    </tr>\n",
       "    <tr>\n",
       "      <th>6</th>\n",
       "      <td>-1.000000e-03</td>\n",
       "      <td>1.000000</td>\n",
       "      <td>1.000000e-03</td>\n",
       "      <td>1.000000</td>\n",
       "    </tr>\n",
       "    <tr>\n",
       "      <th>7</th>\n",
       "      <td>-5.000000e-04</td>\n",
       "      <td>1.000000</td>\n",
       "      <td>5.000000e-04</td>\n",
       "      <td>1.000000</td>\n",
       "    </tr>\n",
       "    <tr>\n",
       "      <th>8</th>\n",
       "      <td>-1.000000e-04</td>\n",
       "      <td>1.000000</td>\n",
       "      <td>1.000000e-04</td>\n",
       "      <td>1.000000</td>\n",
       "    </tr>\n",
       "    <tr>\n",
       "      <th>9</th>\n",
       "      <td>-5.000000e-05</td>\n",
       "      <td>1.000000</td>\n",
       "      <td>5.000000e-05</td>\n",
       "      <td>1.000000</td>\n",
       "    </tr>\n",
       "    <tr>\n",
       "      <th>10</th>\n",
       "      <td>-1.000000e-05</td>\n",
       "      <td>1.000000</td>\n",
       "      <td>1.000000e-05</td>\n",
       "      <td>1.000000</td>\n",
       "    </tr>\n",
       "    <tr>\n",
       "      <th>11</th>\n",
       "      <td>-5.000000e-06</td>\n",
       "      <td>1.000000</td>\n",
       "      <td>5.000000e-06</td>\n",
       "      <td>1.000000</td>\n",
       "    </tr>\n",
       "    <tr>\n",
       "      <th>12</th>\n",
       "      <td>-1.000000e-06</td>\n",
       "      <td>1.000000</td>\n",
       "      <td>1.000000e-06</td>\n",
       "      <td>1.000000</td>\n",
       "    </tr>\n",
       "    <tr>\n",
       "      <th>13</th>\n",
       "      <td>-5.000000e-07</td>\n",
       "      <td>1.000000</td>\n",
       "      <td>5.000000e-07</td>\n",
       "      <td>1.000000</td>\n",
       "    </tr>\n",
       "    <tr>\n",
       "      <th>14</th>\n",
       "      <td>-1.000000e-07</td>\n",
       "      <td>1.000000</td>\n",
       "      <td>1.000000e-07</td>\n",
       "      <td>1.000000</td>\n",
       "    </tr>\n",
       "  </tbody>\n",
       "</table>"
      ],
      "text/plain": [
       "<IPython.core.display.HTML object>"
      ]
     },
     "metadata": {},
     "output_type": "display_data"
    }
   ],
   "source": [
    "xleft = np.array([-1,-0.5,-0.1,-0.05,-0.01,-0.005,-0.001,-0.0005, -0.0001, -0.00005, -0.00001,-0.000005,-0.000001,-0.0000005,-0.0000001], dtype=np.float32)\n",
    "xright = np.array([1,0.5,0.1,0.05,0.01,0.005,0.001,0.0005, 0.0001, 0.00005, 0.00001,0.000005,0.000001,0.0000005,0.0000001], dtype=np.float32)\n",
    "f  = lambda x: np.sin(x)/(x)\n",
    "fleft = f(xleft)\n",
    "fright = f(xright)\n",
    "data = {'x<0':xleft, 'f left':fleft, 'x>0':xright, 'f right':fright}\n",
    "df = pd.DataFrame(data)\n",
    "display(HTML(df.to_html()))"
   ]
  },
  {
   "cell_type": "code",
   "execution_count": 9,
   "metadata": {},
   "outputs": [
    {
     "data": {
      "image/png": "[encoded data removed]",
      "text/plain": [
       "<Figure size 432x288 with 1 Axes>"
      ]
     },
     "metadata": {
      "needs_background": "light"
     },
     "output_type": "display_data"
    }
   ],
   "source": [
    "xplotleft = np.linspace(-.1,0,1000, endpoint=False)\n",
    "xplotright = np.linspace(.1,0,1000, endpoint=False)\n",
    "xplot = np.concatenate([xplotleft, np.flip(xplotright)])\n",
    "plt.plot(xplot,f(xplot) );plt.show()"
   ]
  },
  {
   "cell_type": "markdown",
   "metadata": {},
   "source": [
    "## Ejemplo 4.\n",
    "\\begin{equation}\n",
    "\\lim_{x\\rightarrow 0} \\sin(\\frac{\\pi}{x})\n",
    "\\end{equation}"
   ]
  },
  {
   "cell_type": "code",
   "execution_count": 10,
   "metadata": {},
   "outputs": [
    {
     "data": {
      "image/png": "[encoded data removed]",
      "text/plain": [
       "<Figure size 432x288 with 1 Axes>"
      ]
     },
     "metadata": {
      "needs_background": "light"
     },
     "output_type": "display_data"
    }
   ],
   "source": [
    "f = lambda x: np.sin(np.pi/x)\n",
    "xplotleft = np.linspace(-1,0,100, endpoint=False)\n",
    "xplotright = np.linspace(1,0,100, endpoint=False)\n",
    "xplot = np.concatenate([xplotleft, np.flip(xplotright)])\n",
    "plt.plot(xplot,f(xplot) );plt.show()"
   ]
  },
  {
   "cell_type": "markdown",
   "metadata": {},
   "source": [
    "## Ejemplo 5. \n",
    "\\begin{equation}\n",
    "\\lim_{x\\rightarrow 0} \\left( x^{3} + \\frac{\\cos(5x)}{10000} \\right)\n",
    "\\end{equation}"
   ]
  },
  {
   "cell_type": "code",
   "execution_count": 11,
   "metadata": {},
   "outputs": [
    {
     "data": {
      "text/html": [
       "<table border=\"1\" class=\"dataframe\">\n",
       "  <thead>\n",
       "    <tr style=\"text-align: right;\">\n",
       "      <th></th>\n",
       "      <th>x&lt;1</th>\n",
       "      <th>f left</th>\n",
       "      <th>x&gt;1</th>\n",
       "      <th>f right</th>\n",
       "    </tr>\n",
       "  </thead>\n",
       "  <tbody>\n",
       "    <tr>\n",
       "      <th>0</th>\n",
       "      <td>-1.00000</td>\n",
       "      <td>-0.999972</td>\n",
       "      <td>1.00000</td>\n",
       "      <td>1.000028</td>\n",
       "    </tr>\n",
       "    <tr>\n",
       "      <th>1</th>\n",
       "      <td>-0.50000</td>\n",
       "      <td>-0.125080</td>\n",
       "      <td>0.50000</td>\n",
       "      <td>0.124920</td>\n",
       "    </tr>\n",
       "    <tr>\n",
       "      <th>2</th>\n",
       "      <td>-0.10000</td>\n",
       "      <td>-0.000912</td>\n",
       "      <td>0.10000</td>\n",
       "      <td>0.001088</td>\n",
       "    </tr>\n",
       "    <tr>\n",
       "      <th>3</th>\n",
       "      <td>-0.05000</td>\n",
       "      <td>-0.000028</td>\n",
       "      <td>0.05000</td>\n",
       "      <td>0.000222</td>\n",
       "    </tr>\n",
       "    <tr>\n",
       "      <th>4</th>\n",
       "      <td>-0.01000</td>\n",
       "      <td>0.000099</td>\n",
       "      <td>0.01000</td>\n",
       "      <td>0.000101</td>\n",
       "    </tr>\n",
       "    <tr>\n",
       "      <th>5</th>\n",
       "      <td>-0.00500</td>\n",
       "      <td>0.000100</td>\n",
       "      <td>0.00500</td>\n",
       "      <td>0.000100</td>\n",
       "    </tr>\n",
       "    <tr>\n",
       "      <th>6</th>\n",
       "      <td>-0.00100</td>\n",
       "      <td>0.000100</td>\n",
       "      <td>0.00100</td>\n",
       "      <td>0.000100</td>\n",
       "    </tr>\n",
       "    <tr>\n",
       "      <th>7</th>\n",
       "      <td>-0.00050</td>\n",
       "      <td>0.000100</td>\n",
       "      <td>0.00050</td>\n",
       "      <td>0.000100</td>\n",
       "    </tr>\n",
       "    <tr>\n",
       "      <th>8</th>\n",
       "      <td>-0.00010</td>\n",
       "      <td>0.000100</td>\n",
       "      <td>0.00010</td>\n",
       "      <td>0.000100</td>\n",
       "    </tr>\n",
       "    <tr>\n",
       "      <th>9</th>\n",
       "      <td>-0.00005</td>\n",
       "      <td>0.000100</td>\n",
       "      <td>0.00005</td>\n",
       "      <td>0.000100</td>\n",
       "    </tr>\n",
       "    <tr>\n",
       "      <th>10</th>\n",
       "      <td>-0.00001</td>\n",
       "      <td>0.000100</td>\n",
       "      <td>0.00001</td>\n",
       "      <td>0.000100</td>\n",
       "    </tr>\n",
       "  </tbody>\n",
       "</table>"
      ],
      "text/plain": [
       "<IPython.core.display.HTML object>"
      ]
     },
     "metadata": {},
     "output_type": "display_data"
    }
   ],
   "source": [
    "xleft = np.array([-1,-0.5,-0.1,-0.05,-0.01,-0.005,-0.001,-0.0005, -0.0001, -0.00005, -0.00001], dtype=np.float64)\n",
    "xright = np.array([1,0.5,0.1,0.05,0.01,0.005,0.001,0.0005, 0.0001, 0.00005, 0.00001], dtype=np.float64)\n",
    "f  = lambda x: x**3 + np.cos(5*x)/(10000)\n",
    "fleft = f(xleft)\n",
    "fright = f(xright)\n",
    "data = {'x<1':xleft, 'f left':fleft, 'x>1':xright, 'f right':fright}\n",
    "df = pd.DataFrame(data)\n",
    "display(HTML(df.to_html()))"
   ]
  },
  {
   "cell_type": "markdown",
   "metadata": {},
   "source": [
    "## Ejemplo 8. \n",
    "\\begin{equation}\n",
    "\\lim_{x\\rightarrow 0 }\\frac{1}{x^{2}}\n",
    "\\end{equation}"
   ]
  },
  {
   "cell_type": "code",
   "execution_count": 12,
   "metadata": {},
   "outputs": [
    {
     "data": {
      "text/html": [
       "<table border=\"1\" class=\"dataframe\">\n",
       "  <thead>\n",
       "    <tr style=\"text-align: right;\">\n",
       "      <th></th>\n",
       "      <th>x&lt;0</th>\n",
       "      <th>f left</th>\n",
       "      <th>x&gt;0</th>\n",
       "      <th>f right</th>\n",
       "    </tr>\n",
       "  </thead>\n",
       "  <tbody>\n",
       "    <tr>\n",
       "      <th>0</th>\n",
       "      <td>-1.00000</td>\n",
       "      <td>1.000000e+00</td>\n",
       "      <td>1.00000</td>\n",
       "      <td>1.000000e+00</td>\n",
       "    </tr>\n",
       "    <tr>\n",
       "      <th>1</th>\n",
       "      <td>-0.50000</td>\n",
       "      <td>4.000000e+00</td>\n",
       "      <td>0.50000</td>\n",
       "      <td>4.000000e+00</td>\n",
       "    </tr>\n",
       "    <tr>\n",
       "      <th>2</th>\n",
       "      <td>-0.10000</td>\n",
       "      <td>1.000000e+02</td>\n",
       "      <td>0.10000</td>\n",
       "      <td>1.000000e+02</td>\n",
       "    </tr>\n",
       "    <tr>\n",
       "      <th>3</th>\n",
       "      <td>-0.05000</td>\n",
       "      <td>4.000000e+02</td>\n",
       "      <td>0.05000</td>\n",
       "      <td>4.000000e+02</td>\n",
       "    </tr>\n",
       "    <tr>\n",
       "      <th>4</th>\n",
       "      <td>-0.01000</td>\n",
       "      <td>1.000000e+04</td>\n",
       "      <td>0.01000</td>\n",
       "      <td>1.000000e+04</td>\n",
       "    </tr>\n",
       "    <tr>\n",
       "      <th>5</th>\n",
       "      <td>-0.00500</td>\n",
       "      <td>4.000000e+04</td>\n",
       "      <td>0.00500</td>\n",
       "      <td>4.000000e+04</td>\n",
       "    </tr>\n",
       "    <tr>\n",
       "      <th>6</th>\n",
       "      <td>-0.00100</td>\n",
       "      <td>1.000000e+06</td>\n",
       "      <td>0.00100</td>\n",
       "      <td>1.000000e+06</td>\n",
       "    </tr>\n",
       "    <tr>\n",
       "      <th>7</th>\n",
       "      <td>-0.00050</td>\n",
       "      <td>4.000000e+06</td>\n",
       "      <td>0.00050</td>\n",
       "      <td>4.000000e+06</td>\n",
       "    </tr>\n",
       "    <tr>\n",
       "      <th>8</th>\n",
       "      <td>-0.00010</td>\n",
       "      <td>1.000000e+08</td>\n",
       "      <td>0.00010</td>\n",
       "      <td>1.000000e+08</td>\n",
       "    </tr>\n",
       "    <tr>\n",
       "      <th>9</th>\n",
       "      <td>-0.00005</td>\n",
       "      <td>4.000000e+08</td>\n",
       "      <td>0.00005</td>\n",
       "      <td>4.000000e+08</td>\n",
       "    </tr>\n",
       "    <tr>\n",
       "      <th>10</th>\n",
       "      <td>-0.00001</td>\n",
       "      <td>1.000000e+10</td>\n",
       "      <td>0.00001</td>\n",
       "      <td>1.000000e+10</td>\n",
       "    </tr>\n",
       "  </tbody>\n",
       "</table>"
      ],
      "text/plain": [
       "<IPython.core.display.HTML object>"
      ]
     },
     "metadata": {},
     "output_type": "display_data"
    }
   ],
   "source": [
    "xleft = np.array([-1,-0.5,-0.1,-0.05,-0.01,-0.005,-0.001,-0.0005, -0.0001, -0.00005, -0.00001], dtype=np.float64)\n",
    "xright = np.array([1,0.5,0.1,0.05,0.01,0.005,0.001,0.0005, 0.0001, 0.00005, 0.00001], dtype=np.float64)\n",
    "f  = lambda x: 1/x**2\n",
    "fleft = f(xleft)\n",
    "fright = f(xright)\n",
    "data = {'x<0':xleft, 'f left':fleft, 'x>0':xright, 'f right':fright}\n",
    "df = pd.DataFrame(data)\n",
    "display(HTML(df.to_html()))"
   ]
  },
  {
   "cell_type": "code",
   "execution_count": 13,
   "metadata": {},
   "outputs": [
    {
     "data": {
      "image/png": "[encoded data removed]",
      "text/plain": [
       "<Figure size 432x288 with 1 Axes>"
      ]
     },
     "metadata": {
      "needs_background": "light"
     },
     "output_type": "display_data"
    }
   ],
   "source": [
    "f = lambda x: 1/x**2\n",
    "xplotleft = np.linspace(-1,0,100, endpoint=False)\n",
    "xplotright = np.linspace(1,0,100, endpoint=False)\n",
    "xplot = np.concatenate([xplotleft, np.flip(xplotright)])\n",
    "plt.plot(xplotleft,f(xplotleft),'C00' );\n",
    "plt.plot(xplotright, f(xplotright),'C00');\n",
    "plt.show()"
   ]
  },
  {
   "cell_type": "markdown",
   "metadata": {},
   "source": [
    "## Ejemplo 9.\n",
    "\\begin{equation}\n",
    "\\lim_{x\\rightarrow 3^{-}} \\frac{2x}{x-3},\\qquad \\lim_{x\\rightarrow 3^{+}} \\frac{2x}{x-3}\n",
    "\\end{equation}"
   ]
  },
  {
   "cell_type": "code",
   "execution_count": 14,
   "metadata": {},
   "outputs": [
    {
     "data": {
      "text/html": [
       "<table border=\"1\" class=\"dataframe\">\n",
       "  <thead>\n",
       "    <tr style=\"text-align: right;\">\n",
       "      <th></th>\n",
       "      <th>x&lt;3</th>\n",
       "      <th>f left</th>\n",
       "      <th>x&gt;3</th>\n",
       "      <th>f right</th>\n",
       "    </tr>\n",
       "  </thead>\n",
       "  <tbody>\n",
       "    <tr>\n",
       "      <th>0</th>\n",
       "      <td>2.000</td>\n",
       "      <td>-4.0</td>\n",
       "      <td>4.000</td>\n",
       "      <td>8.0</td>\n",
       "    </tr>\n",
       "    <tr>\n",
       "      <th>1</th>\n",
       "      <td>2.500</td>\n",
       "      <td>-10.0</td>\n",
       "      <td>3.500</td>\n",
       "      <td>14.0</td>\n",
       "    </tr>\n",
       "    <tr>\n",
       "      <th>2</th>\n",
       "      <td>2.900</td>\n",
       "      <td>-58.0</td>\n",
       "      <td>3.100</td>\n",
       "      <td>62.0</td>\n",
       "    </tr>\n",
       "    <tr>\n",
       "      <th>3</th>\n",
       "      <td>2.950</td>\n",
       "      <td>-118.0</td>\n",
       "      <td>3.050</td>\n",
       "      <td>122.0</td>\n",
       "    </tr>\n",
       "    <tr>\n",
       "      <th>4</th>\n",
       "      <td>2.990</td>\n",
       "      <td>-598.0</td>\n",
       "      <td>3.010</td>\n",
       "      <td>602.0</td>\n",
       "    </tr>\n",
       "    <tr>\n",
       "      <th>5</th>\n",
       "      <td>2.995</td>\n",
       "      <td>-1198.0</td>\n",
       "      <td>3.005</td>\n",
       "      <td>1202.0</td>\n",
       "    </tr>\n",
       "    <tr>\n",
       "      <th>6</th>\n",
       "      <td>2.999</td>\n",
       "      <td>-5998.0</td>\n",
       "      <td>3.001</td>\n",
       "      <td>6002.0</td>\n",
       "    </tr>\n",
       "  </tbody>\n",
       "</table>"
      ],
      "text/plain": [
       "<IPython.core.display.HTML object>"
      ]
     },
     "metadata": {},
     "output_type": "display_data"
    }
   ],
   "source": [
    "xleft = np.array([2,2.5,2.9,2.95,2.99,2.995,2.999], dtype=np.float64)\n",
    "xright = np.array([4,3.5,3.1,3.05,3.01,3.005,3.001], dtype=np.float64)\n",
    "f  = lambda x: 2*x/(x-3)\n",
    "fleft = f(xleft)\n",
    "fright = f(xright)\n",
    "data = {'x<3':xleft, 'f left':fleft, 'x>3':xright, 'f right':fright}\n",
    "df = pd.DataFrame(data)\n",
    "display(HTML(df.to_html()))"
   ]
  },
  {
   "cell_type": "code",
   "execution_count": 15,
   "metadata": {},
   "outputs": [
    {
     "data": {
      "image/png": "[encoded data removed]",
      "text/plain": [
       "<Figure size 432x288 with 1 Axes>"
      ]
     },
     "metadata": {
      "needs_background": "light"
     },
     "output_type": "display_data"
    }
   ],
   "source": [
    "xplotleft = np.linspace(2,3,100, endpoint=False)\n",
    "xplotright = np.linspace(4,3,100, endpoint=False)\n",
    "xplot = np.concatenate([xplotleft, np.flip(xplotright)])\n",
    "plt.plot(xplotleft,f(xplotleft),'C00' )\n",
    "plt.plot(xplotright, f(xplotright),'C00')\n",
    "plt.plot([3,3],[-600,600], 'C01')\n",
    "plt.show()"
   ]
  },
  {
   "cell_type": "markdown",
   "metadata": {},
   "source": [
    "<center><h3 style=\"color: #E3AE00 ;text-align:right;\"> Fin clase 1.<br></h3></center>\n",
    "<hr style=\"border:2px solid #03122E\"> </hr>"
   ]
  },
  {
   "cell_type": "code",
   "execution_count": 21,
   "metadata": {},
   "outputs": [
    {
     "data": {
      "image/png": "[encoded data removed]",
      "text/plain": [
       "<Figure size 432x288 with 1 Axes>"
      ]
     },
     "metadata": {
      "needs_background": "light"
     },
     "output_type": "display_data"
    }
   ],
   "source": [
    "xplot = np.linspace(0.7,1.3,100)\n",
    "f  = lambda x: x**3-5*x+6\n",
    "l1 = lambda x: 1.8+0*x\n",
    "l2 = lambda x: 2.2+0*x\n",
    "plt.plot(xplot,f(xplot),'C00' );plt.plot(xplot,l1(xplot),'C03' );plt.plot(xplot,l2(xplot),'C03' );"
   ]
  },
  {
   "cell_type": "code",
   "execution_count": 22,
   "metadata": {
    "scrolled": true
   },
   "outputs": [
    {
     "data": {
      "image/png": "[encoded data removed]",
      "text/plain": [
       "<Figure size 432x288 with 1 Axes>"
      ]
     },
     "metadata": {
      "needs_background": "light"
     },
     "output_type": "display_data"
    }
   ],
   "source": [
    "xplot = np.linspace(0.88,1.15,100)\n",
    "plt.plot(xplot,f(xplot),'C00' );plt.plot(xplot,l1(xplot),'C03' );plt.plot(xplot,l2(xplot),'C03' );"
   ]
  },
  {
   "cell_type": "code",
   "execution_count": 23,
   "metadata": {},
   "outputs": [
    {
     "data": {
      "image/png": "[encoded data removed]",
      "text/plain": [
       "<Figure size 432x288 with 1 Axes>"
      ]
     },
     "metadata": {
      "needs_background": "light"
     },
     "output_type": "display_data"
    }
   ],
   "source": [
    "xplot = np.linspace(0.92,1.08,100)\n",
    "plt.plot(xplot,f(xplot),'C00' );plt.plot(xplot,l1(xplot),'C03' );plt.plot(xplot,l2(xplot),'C03' );"
   ]
  },
  {
   "cell_type": "markdown",
   "metadata": {},
   "source": [
    "## Limites al infinito"
   ]
  },
  {
   "cell_type": "markdown",
   "metadata": {},
   "source": [
    "### Ejemplo\n",
    "Calcular\n",
    "\\begin{equation}\n",
    "\\lim_{x\\rightarrow \\infty}f(x);\\qquad\\lim_{x\\rightarrow -\\infty}f(x);\\qquad \\textrm{con }f(x) = \\frac{x^{2}-1}{x^{2}+1}\n",
    "\\end{equation}"
   ]
  },
  {
   "cell_type": "code",
   "execution_count": 3,
   "metadata": {},
   "outputs": [
    {
     "data": {
      "text/html": [
       "<table border=\"1\" class=\"dataframe\">\n",
       "  <thead>\n",
       "    <tr style=\"text-align: right;\">\n",
       "      <th></th>\n",
       "      <th>x--&gt; inf</th>\n",
       "      <th>f inf</th>\n",
       "      <th>x--&gt; -inf</th>\n",
       "      <th>f -inf</th>\n",
       "    </tr>\n",
       "  </thead>\n",
       "  <tbody>\n",
       "    <tr>\n",
       "      <th>0</th>\n",
       "      <td>0.0</td>\n",
       "      <td>-1.000000</td>\n",
       "      <td>0.0</td>\n",
       "      <td>-1.000000</td>\n",
       "    </tr>\n",
       "    <tr>\n",
       "      <th>1</th>\n",
       "      <td>1.0</td>\n",
       "      <td>0.000000</td>\n",
       "      <td>-1.0</td>\n",
       "      <td>0.000000</td>\n",
       "    </tr>\n",
       "    <tr>\n",
       "      <th>2</th>\n",
       "      <td>2.0</td>\n",
       "      <td>0.600000</td>\n",
       "      <td>-2.0</td>\n",
       "      <td>0.600000</td>\n",
       "    </tr>\n",
       "    <tr>\n",
       "      <th>3</th>\n",
       "      <td>3.0</td>\n",
       "      <td>0.800000</td>\n",
       "      <td>-3.0</td>\n",
       "      <td>0.800000</td>\n",
       "    </tr>\n",
       "    <tr>\n",
       "      <th>4</th>\n",
       "      <td>4.0</td>\n",
       "      <td>0.882353</td>\n",
       "      <td>-4.0</td>\n",
       "      <td>0.882353</td>\n",
       "    </tr>\n",
       "    <tr>\n",
       "      <th>5</th>\n",
       "      <td>5.0</td>\n",
       "      <td>0.923077</td>\n",
       "      <td>-5.0</td>\n",
       "      <td>0.923077</td>\n",
       "    </tr>\n",
       "    <tr>\n",
       "      <th>6</th>\n",
       "      <td>10.0</td>\n",
       "      <td>0.980198</td>\n",
       "      <td>-10.0</td>\n",
       "      <td>0.980198</td>\n",
       "    </tr>\n",
       "    <tr>\n",
       "      <th>7</th>\n",
       "      <td>50.0</td>\n",
       "      <td>0.999200</td>\n",
       "      <td>-50.0</td>\n",
       "      <td>0.999200</td>\n",
       "    </tr>\n",
       "    <tr>\n",
       "      <th>8</th>\n",
       "      <td>100.0</td>\n",
       "      <td>0.999800</td>\n",
       "      <td>-100.0</td>\n",
       "      <td>0.999800</td>\n",
       "    </tr>\n",
       "    <tr>\n",
       "      <th>9</th>\n",
       "      <td>500.0</td>\n",
       "      <td>0.999992</td>\n",
       "      <td>-500.0</td>\n",
       "      <td>0.999992</td>\n",
       "    </tr>\n",
       "    <tr>\n",
       "      <th>10</th>\n",
       "      <td>1000.0</td>\n",
       "      <td>0.999998</td>\n",
       "      <td>-1000.0</td>\n",
       "      <td>0.999998</td>\n",
       "    </tr>\n",
       "    <tr>\n",
       "      <th>11</th>\n",
       "      <td>5000.0</td>\n",
       "      <td>1.000000</td>\n",
       "      <td>-5000.0</td>\n",
       "      <td>1.000000</td>\n",
       "    </tr>\n",
       "  </tbody>\n",
       "</table>"
      ],
      "text/plain": [
       "<IPython.core.display.HTML object>"
      ]
     },
     "metadata": {},
     "output_type": "display_data"
    }
   ],
   "source": [
    "xinf = np.array([0,1,2,3,4,5,10,50,100,500,1000,5000], dtype=np.float64)\n",
    "xminf = np.array([0,-1,-2,-3,-4,-5,-10,-50,-100,-500,-1000,-5000], dtype=np.float64)\n",
    "f  = lambda x: (x**2-1)/(x**2+1)\n",
    "finf = f(xinf)\n",
    "fminf = f(xminf)\n",
    "data = {'x--> inf':xinf, 'f inf':finf, 'x--> -inf':xminf, 'f -inf':fminf}\n",
    "df = pd.DataFrame(data)\n",
    "display(HTML(df.to_html()))"
   ]
  },
  {
   "cell_type": "code",
   "execution_count": 15,
   "metadata": {},
   "outputs": [
    {
     "data": {
      "image/png": "[encoded data removed]",
      "text/plain": [
       "<Figure size 864x288 with 1 Axes>"
      ]
     },
     "metadata": {
      "needs_background": "light"
     },
     "output_type": "display_data"
    }
   ],
   "source": [
    "xplot = np.linspace(-20,20,1000)\n",
    "plt.figure(figsize=(12,4))\n",
    "plt.plot(xplot, f(xplot),'C00')\n",
    "plt.plot([-20,20],[1,1], 'C01')\n",
    "plt.show()"
   ]
  },
  {
   "cell_type": "markdown",
   "metadata": {},
   "source": [
    "### Ejemplo\n",
    "\\begin{equation}\n",
    "\\lim_{x\\rightarrow \\infty}f(x);\\qquad\\lim_{x\\rightarrow -\\infty}f(x);\\qquad \\textrm{con }f(x) = \\arctan(x) = \\tan^{-1}(x)\n",
    "\\end{equation}"
   ]
  },
  {
   "cell_type": "code",
   "execution_count": 18,
   "metadata": {},
   "outputs": [
    {
     "data": {
      "text/html": [
       "<table border=\"1\" class=\"dataframe\">\n",
       "  <thead>\n",
       "    <tr style=\"text-align: right;\">\n",
       "      <th></th>\n",
       "      <th>x--&gt; inf</th>\n",
       "      <th>f inf</th>\n",
       "      <th>x--&gt; -inf</th>\n",
       "      <th>f -inf</th>\n",
       "    </tr>\n",
       "  </thead>\n",
       "  <tbody>\n",
       "    <tr>\n",
       "      <th>0</th>\n",
       "      <td>0.0</td>\n",
       "      <td>0.000000</td>\n",
       "      <td>0.0</td>\n",
       "      <td>0.000000</td>\n",
       "    </tr>\n",
       "    <tr>\n",
       "      <th>1</th>\n",
       "      <td>1.0</td>\n",
       "      <td>0.785398</td>\n",
       "      <td>-1.0</td>\n",
       "      <td>-0.785398</td>\n",
       "    </tr>\n",
       "    <tr>\n",
       "      <th>2</th>\n",
       "      <td>2.0</td>\n",
       "      <td>1.107149</td>\n",
       "      <td>-2.0</td>\n",
       "      <td>-1.107149</td>\n",
       "    </tr>\n",
       "    <tr>\n",
       "      <th>3</th>\n",
       "      <td>3.0</td>\n",
       "      <td>1.249046</td>\n",
       "      <td>-3.0</td>\n",
       "      <td>-1.249046</td>\n",
       "    </tr>\n",
       "    <tr>\n",
       "      <th>4</th>\n",
       "      <td>4.0</td>\n",
       "      <td>1.325818</td>\n",
       "      <td>-4.0</td>\n",
       "      <td>-1.325818</td>\n",
       "    </tr>\n",
       "    <tr>\n",
       "      <th>5</th>\n",
       "      <td>5.0</td>\n",
       "      <td>1.373401</td>\n",
       "      <td>-5.0</td>\n",
       "      <td>-1.373401</td>\n",
       "    </tr>\n",
       "    <tr>\n",
       "      <th>6</th>\n",
       "      <td>10.0</td>\n",
       "      <td>1.471128</td>\n",
       "      <td>-10.0</td>\n",
       "      <td>-1.471128</td>\n",
       "    </tr>\n",
       "    <tr>\n",
       "      <th>7</th>\n",
       "      <td>50.0</td>\n",
       "      <td>1.550799</td>\n",
       "      <td>-50.0</td>\n",
       "      <td>-1.550799</td>\n",
       "    </tr>\n",
       "    <tr>\n",
       "      <th>8</th>\n",
       "      <td>100.0</td>\n",
       "      <td>1.560797</td>\n",
       "      <td>-100.0</td>\n",
       "      <td>-1.560797</td>\n",
       "    </tr>\n",
       "    <tr>\n",
       "      <th>9</th>\n",
       "      <td>500.0</td>\n",
       "      <td>1.568796</td>\n",
       "      <td>-500.0</td>\n",
       "      <td>-1.568796</td>\n",
       "    </tr>\n",
       "    <tr>\n",
       "      <th>10</th>\n",
       "      <td>1000.0</td>\n",
       "      <td>1.569796</td>\n",
       "      <td>-1000.0</td>\n",
       "      <td>-1.569796</td>\n",
       "    </tr>\n",
       "    <tr>\n",
       "      <th>11</th>\n",
       "      <td>5000.0</td>\n",
       "      <td>1.570596</td>\n",
       "      <td>-5000.0</td>\n",
       "      <td>-1.570596</td>\n",
       "    </tr>\n",
       "    <tr>\n",
       "      <th>12</th>\n",
       "      <td>10000.0</td>\n",
       "      <td>1.570696</td>\n",
       "      <td>-10000.0</td>\n",
       "      <td>-1.570696</td>\n",
       "    </tr>\n",
       "  </tbody>\n",
       "</table>"
      ],
      "text/plain": [
       "<IPython.core.display.HTML object>"
      ]
     },
     "metadata": {},
     "output_type": "display_data"
    }
   ],
   "source": [
    "xinf = np.array([0,1,2,3,4,5,10,50,100,500,1000,5000, 10000], dtype=np.float64)\n",
    "xminf = np.array([0,-1,-2,-3,-4,-5,-10,-50,-100,-500,-1000,-5000, -10000], dtype=np.float64)\n",
    "f  = lambda x: np.arctan(x)\n",
    "finf = f(xinf)\n",
    "fminf = f(xminf)\n",
    "data = {'x--> inf':xinf, 'f inf':finf, 'x--> -inf':xminf, 'f -inf':fminf}\n",
    "df = pd.DataFrame(data)\n",
    "display(HTML(df.to_html()))"
   ]
  },
  {
   "cell_type": "code",
   "execution_count": 24,
   "metadata": {},
   "outputs": [
    {
     "data": {
      "image/png": "[encoded data removed]",
      "text/plain": [
       "<Figure size 864x288 with 1 Axes>"
      ]
     },
     "metadata": {
      "needs_background": "light"
     },
     "output_type": "display_data"
    }
   ],
   "source": [
    "xplot = np.linspace(-20,20,1000)\n",
    "plt.figure(figsize=(12,4))\n",
    "plt.plot(xplot, f(xplot),'C00')\n",
    "plt.plot([-20,20],[np.pi/2,np.pi/2], 'C01')\n",
    "plt.plot([-20,20],[-np.pi/2,-np.pi/2], 'C01')\n",
    "plt.show()"
   ]
  },
  {
   "cell_type": "markdown",
   "metadata": {},
   "source": [
    "### Ejemplo\n",
    "\\begin{equation}\n",
    "\\lim_{x\\rightarrow \\infty}f(x);\\qquad\\lim_{x\\rightarrow -\\infty}f(x);\\qquad \\textrm{con }f(x) = \\frac{1}{x}\n",
    "\\end{equation}"
   ]
  },
  {
   "cell_type": "code",
   "execution_count": 26,
   "metadata": {},
   "outputs": [
    {
     "data": {
      "image/png": "[encoded data removed]",
      "text/plain": [
       "<Figure size 864x288 with 1 Axes>"
      ]
     },
     "metadata": {
      "needs_background": "light"
     },
     "output_type": "display_data"
    }
   ],
   "source": [
    "f = lambda x: 1/x\n",
    "xplotleft = np.linspace(-20,0,100, endpoint=False)\n",
    "xplotright = np.linspace(20,0,100, endpoint=False)\n",
    "plt.figure(figsize=(12,4))\n",
    "plt.plot(xplotleft,f(xplotleft),'C00' )\n",
    "plt.plot(xplotright, f(xplotright),'C00')\n",
    "plt.plot([-20,20],[0,0], 'C01')\n",
    "plt.show()"
   ]
  },
  {
   "cell_type": "markdown",
   "metadata": {},
   "source": [
    "### Ejemplo \n",
    "\\begin{equation}\n",
    "\\lim_{x\\rightarrow \\infty}\\frac{3x^{2}-x-2}{5x^{2}+4x+1}\n",
    "\\end{equation}\n"
   ]
  },
  {
   "cell_type": "code",
   "execution_count": 33,
   "metadata": {},
   "outputs": [
    {
     "data": {
      "image/png": "[encoded data removed]",
      "text/plain": [
       "<Figure size 864x288 with 1 Axes>"
      ]
     },
     "metadata": {
      "needs_background": "light"
     },
     "output_type": "display_data"
    }
   ],
   "source": [
    "f = lambda x: (3*x**2-x-2)/(5*x**2+4*x+1)\n",
    "xplotright = np.linspace(10,-10,10000, endpoint=False)\n",
    "plt.figure(figsize=(12,4))\n",
    "plt.plot(xplotright, f(xplotright),'C00')\n",
    "plt.plot([-10,10],[0.6,0.6], 'C01')\n",
    "plt.show()"
   ]
  },
  {
   "cell_type": "markdown",
   "metadata": {},
   "source": [
    "### Ejemplo \n",
    "\\begin{equation}\n",
    "\\lim_{x\\rightarrow \\infty}\\frac{\\sqrt{2x^{2}+1}}{3x-5}\n",
    "\\end{equation}"
   ]
  },
  {
   "cell_type": "code",
   "execution_count": 46,
   "metadata": {},
   "outputs": [
    {
     "data": {
      "image/png": "[encoded data removed]",
      "text/plain": [
       "<Figure size 864x288 with 1 Axes>"
      ]
     },
     "metadata": {
      "needs_background": "light"
     },
     "output_type": "display_data"
    }
   ],
   "source": [
    "f = lambda x: np.sqrt(2*x**2+1)/(3*x-5)\n",
    "xplotleft = np.linspace(5/3-3,5/3,100, endpoint=False)\n",
    "xplotright = np.linspace(3+5/3,5/3,100, endpoint=False)\n",
    "plt.figure(figsize=(12,4))\n",
    "plt.plot(xplotleft, f(xplotleft),'C00')\n",
    "plt.plot(xplotright, f(xplotright),'C00')\n",
    "plt.plot([5/3-3,3+5/3],[np.sqrt(2)/3,np.sqrt(2)/3], 'C01')\n",
    "plt.plot([5/3-3,3+5/3],[-np.sqrt(2)/3,-np.sqrt(2)/3], 'C02')\n",
    "plt.plot([5/3,5/3],[-10,10], 'C03')\n",
    "plt.axis([5/3-3,5/3+3,-10,10])\n",
    "plt.show()"
   ]
  },
  {
   "cell_type": "code",
   "execution_count": null,
   "metadata": {},
   "outputs": [],
   "source": []
  }
 ],
 "metadata": {
  "hide_input": false,
  "kernelspec": {
   "display_name": "Python 3",
   "language": "python",
   "name": "python3"
  },
  "language_info": {
   "codemirror_mode": {
    "name": "ipython",
    "version": 3
   },
   "file_extension": ".py",
   "mimetype": "text/x-python",
   "name": "python",
   "nbconvert_exporter": "python",
   "pygments_lexer": "ipython3",
   "version": "3.7.0"
  }
 },
 "nbformat": 4,
 "nbformat_minor": 4
}
