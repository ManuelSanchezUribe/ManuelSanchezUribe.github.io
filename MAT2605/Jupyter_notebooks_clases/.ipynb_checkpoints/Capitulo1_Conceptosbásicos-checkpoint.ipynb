{
 "cells": [
  {
   "cell_type": "markdown",
   "metadata": {},
   "source": [
    "# 1. Conceptos basicos\n",
    "\n",
    "## Aritmetica de punto flotante\n",
    "\n",
    "Calcular $\\varepsilon$ maquina"
   ]
  },
  {
   "cell_type": "code",
   "execution_count": 1,
   "metadata": {},
   "outputs": [],
   "source": [
    "# numerical python library\n",
    "import numpy as np\n",
    "# see numpy.finfo"
   ]
  },
  {
   "cell_type": "code",
   "execution_count": 11,
   "metadata": {},
   "outputs": [],
   "source": [
    "def compute_epsilon_machine():\n",
    "    epsilon = 1.0\n",
    "    while 1+epsilon > 1:\n",
    "        epsilon = epsilon/2.0\n",
    "    return 2*epsilon"
   ]
  },
  {
   "cell_type": "code",
   "execution_count": 12,
   "metadata": {},
   "outputs": [
    {
     "name": "stdout",
     "output_type": "stream",
     "text": [
      "* epsilon maquina calculado por funcion es: 2.220446049250313e-16\n",
      "* epsilon maquina calculado por numpy es  : 2.220446049250313e-16\n"
     ]
    }
   ],
   "source": [
    "epsilon = compute_epsilon_machine()\n",
    "print(\"* epsilon maquina calculado por funcion es:\", epsilon)\n",
    "print(\"* epsilon maquina calculado por numpy es  :\", np.finfo(float).eps)"
   ]
  },
  {
   "cell_type": "code",
   "execution_count": 13,
   "metadata": {},
   "outputs": [],
   "source": [
    "def compute_epsilon_machine_negative():\n",
    "    epsilon = -1.0\n",
    "    while 1+epsilon < 1:\n",
    "        epsilon = epsilon/2.0\n",
    "    return 2*abs(epsilon)"
   ]
  },
  {
   "cell_type": "code",
   "execution_count": 14,
   "metadata": {},
   "outputs": [
    {
     "name": "stdout",
     "output_type": "stream",
     "text": [
      "* epsilon maquina calculado por funcion es: 1.1102230246251565e-16\n",
      "* epsilon maquina calculado por numpy es  : 1.1102230246251565e-16\n"
     ]
    }
   ],
   "source": [
    "epsilon_n = compute_epsilon_machine_negative()\n",
    "print(\"* epsilon maquina calculado por funcion es:\", epsilon_n)\n",
    "print(\"* epsilon maquina calculado por numpy es  :\", np.finfo(float).epsneg)"
   ]
  },
  {
   "cell_type": "markdown",
   "metadata": {},
   "source": [
    "### Rango de maquina\n",
    "\n",
    "El numero mas grande:\n",
    "$$\n",
    "(-1)^0  2^{2046-1023}(1+f)\n",
    "$$\n",
    "numero mantisa mas grande\n",
    "$$\n",
    "f = 1- 2^{-52}\n",
    "$$"
   ]
  },
  {
   "cell_type": "code",
   "execution_count": 2,
   "metadata": {},
   "outputs": [
    {
     "name": "stdout",
     "output_type": "stream",
     "text": [
      " * rango de maquina ( -1.7976931348623157e+308 ,  1.7976931348623157e+308 )\n",
      "1.7976931348623157e+308\n",
      "inf\n"
     ]
    }
   ],
   "source": [
    "print(\" * rango de maquina (\",np.finfo(float).min, \", \", np.finfo(float).max,\")\")\n",
    "print(2**1023*(2-2**(-52)))\n",
    "print(1.8*10**308)"
   ]
  },
  {
   "cell_type": "code",
   "execution_count": 16,
   "metadata": {},
   "outputs": [
    {
     "name": "stdout",
     "output_type": "stream",
     "text": [
      " * rango de maquina aproximado ( 2e- 1024 , 2e 1024 )\n"
     ]
    }
   ],
   "source": [
    "print(\" * rango de maquina aproximado ( 2e-\",np.finfo(float).maxexp, \", 2e\", np.finfo(float).maxexp,\")\")"
   ]
  },
  {
   "cell_type": "code",
   "execution_count": 17,
   "metadata": {},
   "outputs": [
    {
     "name": "stdout",
     "output_type": "stream",
     "text": [
      " * menor numero positivo posible representable 2.2250738585072014e-308\n",
      " * menor numero positivo posible representable 2e -1022\n"
     ]
    }
   ],
   "source": [
    "print(\" * menor numero positivo posible representable\",np.finfo(float).tiny)\n",
    "print(\" * menor numero positivo posible representable 2e\", np.finfo(float).minexp)"
   ]
  },
  {
   "cell_type": "code",
   "execution_count": 18,
   "metadata": {},
   "outputs": [
    {
     "name": "stdout",
     "output_type": "stream",
     "text": [
      " * digitos significatios de precision 15\n"
     ]
    }
   ],
   "source": [
    "print(\" * digitos significatios de precision\",np.finfo(float).precision)"
   ]
  },
  {
   "cell_type": "code",
   "execution_count": 19,
   "metadata": {},
   "outputs": [
    {
     "name": "stdout",
     "output_type": "stream",
     "text": [
      " * numero de digitos en la mantisa m: 52\n"
     ]
    }
   ],
   "source": [
    "print(\" * numero de digitos en la mantisa m:\",np.finfo(float).nmant)"
   ]
  },
  {
   "cell_type": "code",
   "execution_count": 20,
   "metadata": {},
   "outputs": [
    {
     "name": "stdout",
     "output_type": "stream",
     "text": [
      " * numero de bits ocupados por punto flotante 64\n",
      " * numero de bits ocupados por el exponente de la representacion de punto flotante 11\n"
     ]
    }
   ],
   "source": [
    "print(\" * numero de bits ocupados por punto flotante\", np.finfo(float).bits)\n",
    "print(\" * numero de bits ocupados por el exponente de la representacion de punto flotante\",np.finfo(float).iexp)"
   ]
  },
  {
   "cell_type": "markdown",
   "metadata": {},
   "source": [
    "## Numeros binarios\n",
    "\n",
    "http://www.binaryconvert.com/result_double.html?decimal=048046049"
   ]
  },
  {
   "cell_type": "code",
   "execution_count": 8,
   "metadata": {},
   "outputs": [
    {
     "data": {
      "text/plain": [
       "'0b11111111111'"
      ]
     },
     "execution_count": 8,
     "metadata": {},
     "output_type": "execute_result"
    }
   ],
   "source": [
    "bin(2047)"
   ]
  },
  {
   "cell_type": "code",
   "execution_count": null,
   "metadata": {},
   "outputs": [],
   "source": [
    "\n",
    "\n"
   ]
  },
  {
   "cell_type": "code",
   "execution_count": null,
   "metadata": {},
   "outputs": [],
   "source": []
  }
 ],
 "metadata": {
  "hide_input": false,
  "kernelspec": {
   "display_name": "Python 3",
   "language": "python",
   "name": "python3"
  },
  "language_info": {
   "codemirror_mode": {
    "name": "ipython",
    "version": 3
   },
   "file_extension": ".py",
   "mimetype": "text/x-python",
   "name": "python",
   "nbconvert_exporter": "python",
   "pygments_lexer": "ipython3",
   "version": "3.6.8"
  }
 },
 "nbformat": 4,
 "nbformat_minor": 2
}
