{
 "cells": [
  {
   "cell_type": "markdown",
   "id": "8e7e49be",
   "metadata": {},
   "source": [
    "<center><h1 style=\"color:#173F8A;\"> Metodos para Ecuaciones Diferenciales, IMT3410, 2022-2 </h1></center>\n",
    "<h3 style=\"color:#173F8A;text-align:right;\"> Instituto de Ingenieria Matematica y Computacional<br>  Pontificia Universidad Catolica de Chile <br>  </h3>\n",
    "<h3 style=\"color:#0176DE;text-align:right;\"> Profesor. Manuel A. Sanchez<br> </h3>\n",
    "<hr style=\"border:2px solid #03122E\"> </hr>\n",
    "\n",
    "<!-- Palette colors UC: celeste:#0176DE, azul #173F8A, azul oscuro: #03122E, amarillo: #FEC60D, amarillo oscuro: #E3AE00 -->\n",
    "<!--\n",
    "<figure>\n",
    "<img align =\"right\" src=\"IMClogo.png\" alt=\"logo\" width=\"250\" height=\"400\"><br><br><br><br><br>\n",
    "</figure>\n",
    " -->"
   ]
  },
  {
   "cell_type": "markdown",
   "id": "d8b25788",
   "metadata": {},
   "source": [
    "<h2 style=\"color:#03122E;text-align:center;\"> Capitulo 2. Metodos para Ecuaciones Diferenciales Parciales Elipticas<br> </h2>\n",
    "\n",
    "<hr style=\"border:3px solid #E3AE00 \"> </hr>"
   ]
  },
  {
   "cell_type": "markdown",
   "id": "bc60057e",
   "metadata": {},
   "source": [
    "## Ecuacion de 2do orden eliptica\n",
    "\n",
    "\n",
    "Queremos resolver la siguiente ecuacion eliptica\n",
    "$$\n",
    "-\\frac{d}{dx}\\left( p(x) \\frac{d}{dx}u(x)\\right) + q(x)\\frac{d}{dx}u(x)+ r(x)u(x) = f(x),\\quad x\\in (a,b)\n",
    "$$\n",
    "con condiciones de borde $u(a) = A, u(b) = B$.\n",
    "\n"
   ]
  },
  {
   "cell_type": "code",
   "execution_count": 25,
   "id": "51b0ddb2",
   "metadata": {},
   "outputs": [],
   "source": [
    "# use netgen.meshing module for 1d meshes\n",
    "from ngsolve import *\n",
    "from netgen.meshing import Mesh as Mesh1d\n",
    "from netgen.meshing import MeshPoint,Element0D, Element1D\n",
    "from netgen.csg import *\n",
    "import numpy as np\n",
    "import matplotlib as plt"
   ]
  },
  {
   "cell_type": "code",
   "execution_count": 30,
   "id": "5e417766",
   "metadata": {},
   "outputs": [],
   "source": [
    "# Problem data\n",
    "## New problem\n",
    "a = 0.0; b= 1.0\n",
    "f = 1.0 \n",
    "A = .0; B = .0\n",
    "p = 1.0\n",
    "r = 10.0\n",
    "q = 20.0"
   ]
  },
  {
   "cell_type": "code",
   "execution_count": 31,
   "id": "f562703f",
   "metadata": {},
   "outputs": [],
   "source": [
    "from ngsolve import *\n",
    "def uniform_1d_mesh(a=0.0,b=1.0,N=10, material='material'):\n",
    "    \"\"\" returns a mesh of interval (a,b) with nel elements\n",
    "    \"\"\"\n",
    "    #m = Mesh()\n",
    "    m = Mesh1d(dim=1)\n",
    "    pnums = []\n",
    "    for i in range(0, N+1):\n",
    "        xi = (b-a)*i/N\n",
    "        pnums.append (m.Add (MeshPoint (Pnt(xi, 0, 0))))\n",
    "    idx = m.AddRegion(\"material\", dim=1)\n",
    "    for i in range(0,N):\n",
    "        m.Add (Element1D ([pnums[i],pnums[i+1]], index=idx))\n",
    "\n",
    "    idx_left = m.AddRegion(\"left\", dim=0)\n",
    "    idx_right = m.AddRegion(\"right\", dim=0)\n",
    "\n",
    "    m.Add (Element0D (pnums[0], index=idx_left))\n",
    "    m.Add (Element0D (pnums[N], index=idx_right))\n",
    "\n",
    "    return m, pnums\n"
   ]
  },
  {
   "cell_type": "code",
   "execution_count": 32,
   "id": "4fa89b12",
   "metadata": {},
   "outputs": [],
   "source": [
    "m, pnums = uniform_1d_mesh(a=a,b=b,N=20)\n",
    "mesh = Mesh(m)"
   ]
  },
  {
   "cell_type": "code",
   "execution_count": 34,
   "id": "79aa810c",
   "metadata": {},
   "outputs": [],
   "source": [
    "# Finite Element Space\n",
    "Vh = H1(mesh, order=1, dirichlet=\"left|right\")\n",
    "uh, v = Vh.TnT()\n",
    "# bilinear form\n",
    "abf = BilinearForm(Vh)\n",
    "abf += p*grad(uh)*grad(v)*dx\n",
    "abf += q*grad(uh)*v*dx\n",
    "abf += r*uh*v*dx\n",
    "abf.Assemble()\n",
    "# linear form\n",
    "flf = LinearForm(Vh)\n",
    "flf += f*v*dx\n",
    "flf.Assemble()\n",
    "\n",
    "gf = GridFunction(Vh,\"u\")\n",
    "gf.Set(0, BND)\n",
    "rhs = flf.vec.CreateVector()\n",
    "rhs.data = flf.vec - abf.mat * gf.vec\n",
    "gf.vec.data += abf.mat.Inverse(Vh.FreeDofs()) * rhs"
   ]
  },
  {
   "cell_type": "markdown",
   "id": "ee9864ea",
   "metadata": {},
   "source": [
    "## Grafica de la solucion en dimension 1"
   ]
  },
  {
   "cell_type": "code",
   "execution_count": 35,
   "id": "462eed31",
   "metadata": {},
   "outputs": [
    {
     "data": {
      "image/png": "[encoded data removed]",
      "text/plain": [
       "<Figure size 640x480 with 1 Axes>"
      ]
     },
     "metadata": {},
     "output_type": "display_data"
    }
   ],
   "source": [
    "import numpy as np\n",
    "import matplotlib.pyplot as plt\n",
    "#plt.rc('text', usetex=True)\n",
    "# mesh\n",
    "\n",
    "xx  = [v.point[0] for v in mesh.vertices] \n",
    "u0 = [0          for v in mesh.vertices]\n",
    "\n",
    "fig, ax = plt.subplots(1,1)\n",
    "uhplot = []\n",
    "subdiv = 1\n",
    "for el in mesh.Elements(VOL):\n",
    "    xvlocal = np.linspace( mesh[el.vertices[0]].point[0]+10**-5, mesh[el.vertices[1]].point[0]-10**-5, subdiv+1)\n",
    "    uhlocal = []\n",
    "    for xlocal in xvlocal:\n",
    "        mip = mesh(xlocal)\n",
    "        uhlocal.append(gf(mip))\n",
    "    line_uh, = ax.plot(xvlocal, uhlocal, color='C0')\n",
    "line_uh.set_label(r'$u_h$')\n",
    "\n",
    "plt.show()"
   ]
  },
  {
   "cell_type": "markdown",
   "id": "41c4dff5",
   "metadata": {},
   "source": [
    "## Ecuacion de Poisson \n",
    "\n",
    "Resolvemos el problema de Poisson en dimension 2:\n",
    "\\begin{equation}\n",
    "\\begin{array}{rclrl}\n",
    "-\\nabla \\cdot( \\nabla u(x,y))&=& f(x,y)&\\mbox{en} & (a,b) \\\\\n",
    "u &=&u_D&\\mbox{sobre}& \\{a,b\\}\n",
    "\\end{array}\n",
    "\\end{equation}"
   ]
  },
  {
   "cell_type": "code",
   "execution_count": 37,
   "id": "b6b0440e",
   "metadata": {
    "scrolled": true
   },
   "outputs": [
    {
     "data": {
      "application/vnd.jupyter.widget-view+json": {
       "model_id": "29d3b21c5eec4c5a8211ce483688b03a",
       "version_major": 2,
       "version_minor": 0
      },
      "text/plain": [
       "WebGuiWidget(layout=Layout(height='50vh', width='100%'), value={'gui_settings': {}, 'ngsolve_version': '6.2.23…"
      ]
     },
     "metadata": {},
     "output_type": "display_data"
    },
    {
     "data": {
      "application/vnd.jupyter.widget-view+json": {
       "model_id": "aa18f84df8094c03bc0ed3906e5e86f9",
       "version_major": 2,
       "version_minor": 0
      },
      "text/plain": [
       "WebGuiWidget(layout=Layout(height='50vh', width='100%'), value={'gui_settings': {}, 'ngsolve_version': '6.2.23…"
      ]
     },
     "metadata": {},
     "output_type": "display_data"
    },
    {
     "data": {
      "text/plain": [
       "BaseWebGuiScene"
      ]
     },
     "execution_count": 37,
     "metadata": {},
     "output_type": "execute_result"
    }
   ],
   "source": [
    "from ngsolve import * # libreria de NGVolve\n",
    "from netgen.geom2d import unit_square # dominio\n",
    "from ngsolve.webgui import Draw # comando para graficar en jupyter\n",
    "\n",
    "ngsglobals.msg_level = 1\n",
    "\n",
    "# generate a triangular mesh of mesh-size 0.2\n",
    "mesh = Mesh(unit_square.GenerateMesh(maxh=0.075))\n",
    "\n",
    "# H1-conforming finite element space\n",
    "fes = H1(mesh, order=1, dirichlet=[1,2,3,4])\n",
    "\n",
    "# define trial- and test-functions\n",
    "u = fes.TrialFunction()\n",
    "v = fes.TestFunction()\n",
    "\n",
    "# the right hand side\n",
    "force = IfPos(x-0.15,IfPos(0.35-x,IfPos(0.35-y,IfPos(y-0.15,1,0),0),0),0) + IfPos(x-0.65,IfPos(0.85-x,IfPos(0.85-y,IfPos(y-0.65,1,0),0),0),0) + IfPos(x-0.65,IfPos(0.85-x,IfPos(0.35-y,IfPos(y-0.15,1,0),0),0),0) + IfPos(x-0.15,IfPos(0.35-x,IfPos(0.85-y,IfPos(y-0.65,1,0),0),0),0)\n",
    "\n",
    "f = LinearForm(fes)\n",
    "f += force * v * dx\n",
    "\n",
    "# the bilinear-form \n",
    "a = BilinearForm(fes, symmetric=True)\n",
    "a += grad(u)*grad(v)*dx\n",
    "\n",
    "a.Assemble()\n",
    "f.Assemble()\n",
    "\n",
    "# the solution field \n",
    "gfu = GridFunction(fes)\n",
    "gfu.vec.data = a.mat.Inverse(fes.FreeDofs(), inverse=\"sparsecholesky\") * f.vec\n",
    "# print (u.vec)\n",
    "\n",
    "\n",
    "# plot the solution (netgen-gui only)\n",
    "Draw(force, mesh)\n",
    "Draw (gfu)\n",
    "#Draw (-grad(gfu), mesh, \"Flux\")\n"
   ]
  },
  {
   "cell_type": "code",
   "execution_count": null,
   "id": "8edd666d",
   "metadata": {},
   "outputs": [],
   "source": []
  }
 ],
 "metadata": {
  "kernelspec": {
   "display_name": "Python 3 (ipykernel)",
   "language": "python",
   "name": "python3"
  },
  "language_info": {
   "codemirror_mode": {
    "name": "ipython",
    "version": 3
   },
   "file_extension": ".py",
   "mimetype": "text/x-python",
   "name": "python",
   "nbconvert_exporter": "python",
   "pygments_lexer": "ipython3",
   "version": "3.7.9"
  }
 },
 "nbformat": 4,
 "nbformat_minor": 5
}
