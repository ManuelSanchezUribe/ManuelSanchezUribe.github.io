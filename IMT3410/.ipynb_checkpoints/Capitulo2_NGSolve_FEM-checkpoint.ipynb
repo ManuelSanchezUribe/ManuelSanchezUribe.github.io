{
 "cells": [
  {
   "cell_type": "markdown",
   "id": "8e7e49be",
   "metadata": {},
   "source": [
    "<center><h1 style=\"color:#173F8A;\"> Metodos para Ecuaciones Diferenciales, IMT3410, 2022-2 </h1></center>\n",
    "<h3 style=\"color:#173F8A;text-align:right;\"> Instituto de Ingenieria Matematica y Computacional<br>  Pontificia Universidad Catolica de Chile <br>  </h3>\n",
    "<h3 style=\"color:#0176DE;text-align:right;\"> Profesor. Manuel A. Sanchez<br> </h3>\n",
    "<hr style=\"border:2px solid #03122E\"> </hr>\n",
    "\n",
    "<!-- Palette colors UC: celeste:#0176DE, azul #173F8A, azul oscuro: #03122E, amarillo: #FEC60D, amarillo oscuro: #E3AE00 -->\n",
    "<!--\n",
    "<figure>\n",
    "<img align =\"right\" src=\"IMClogo.png\" alt=\"logo\" width=\"250\" height=\"400\"><br><br><br><br><br>\n",
    "</figure>\n",
    " -->"
   ]
  },
  {
   "cell_type": "markdown",
   "id": "d8b25788",
   "metadata": {},
   "source": [
    "<h2 style=\"color:#03122E;text-align:center;\"> Capitulo 2. Metodos para Ecuaciones Diferenciales Parciales Elipticas<br> </h2>\n",
    "\n",
    "<hr style=\"border:3px solid #E3AE00 \"> </hr>"
   ]
  },
  {
   "cell_type": "markdown",
   "id": "bc60057e",
   "metadata": {},
   "source": [
    "## Ecuacion de 2do orden eliptica\n",
    "\n",
    "\n",
    "Queremos resolver la siguiente ecuacion eliptica\n",
    "$$\n",
    "-\\frac{d}{dx}\\left( p(x) \\frac{d}{dx}u(x)\\right) + q(x)\\frac{d}{dx}u(x)+ r(x)u(x) = f(x),\\quad x\\in (a,b)\n",
    "$$\n",
    "con condiciones de borde $u(a) = A, u(b) = B$.\n",
    "\n"
   ]
  },
  {
   "cell_type": "code",
   "execution_count": 3,
   "id": "51b0ddb2",
   "metadata": {},
   "outputs": [],
   "source": [
    "# use netgen.meshing module for 1d meshes\n",
    "from ngsolve import *\n",
    "from netgen.meshing import Mesh as Mesh1d\n",
    "from netgen.meshing import MeshPoint,Element0D, Element1D\n",
    "from netgen.geom2d import SplineGeometry\n",
    "from netgen.csg import *\n",
    "from ngsolve.webgui import Draw #\n",
    "import numpy as np\n",
    "import matplotlib.pyplot as plt"
   ]
  },
  {
   "cell_type": "code",
   "execution_count": 2,
   "id": "5e417766",
   "metadata": {},
   "outputs": [],
   "source": [
    "# Problem data\n",
    "## New problem\n",
    "a = 0.0; b= 1.0\n",
    "f = 1.0 \n",
    "A = .0; B = .0\n",
    "p = 1.0\n",
    "r = 10.0\n",
    "q = 20.0"
   ]
  },
  {
   "cell_type": "code",
   "execution_count": 3,
   "id": "f562703f",
   "metadata": {},
   "outputs": [],
   "source": [
    "from ngsolve import *\n",
    "def uniform_1d_mesh(a=0.0,b=1.0,N=10, material='material'):\n",
    "    \"\"\" returns a mesh of interval (a,b) with nel elements\n",
    "    \"\"\"\n",
    "    #m = Mesh()\n",
    "    m = Mesh1d(dim=1)\n",
    "    pnums = []\n",
    "    for i in range(0, N+1):\n",
    "        xi = (b-a)*i/N\n",
    "        pnums.append (m.Add (MeshPoint (Pnt(xi, 0, 0))))\n",
    "    idx = m.AddRegion(\"material\", dim=1)\n",
    "    for i in range(0,N):\n",
    "        m.Add (Element1D ([pnums[i],pnums[i+1]], index=idx))\n",
    "\n",
    "    idx_left = m.AddRegion(\"left\", dim=0)\n",
    "    idx_right = m.AddRegion(\"right\", dim=0)\n",
    "\n",
    "    m.Add (Element0D (pnums[0], index=idx_left))\n",
    "    m.Add (Element0D (pnums[N], index=idx_right))\n",
    "\n",
    "    return m, pnums\n"
   ]
  },
  {
   "cell_type": "code",
   "execution_count": 4,
   "id": "4fa89b12",
   "metadata": {},
   "outputs": [],
   "source": [
    "m, pnums = uniform_1d_mesh(a=a,b=b,N=20)\n",
    "mesh = Mesh(m)"
   ]
  },
  {
   "cell_type": "code",
   "execution_count": 5,
   "id": "79aa810c",
   "metadata": {},
   "outputs": [],
   "source": [
    "# Finite Element Space\n",
    "Vh = H1(mesh, order=1, dirichlet=\"left|right\")\n",
    "uh, v = Vh.TnT()\n",
    "# bilinear form\n",
    "abf = BilinearForm(Vh)\n",
    "abf += p*grad(uh)*grad(v)*dx\n",
    "abf += q*grad(uh)*v*dx\n",
    "abf += r*uh*v*dx\n",
    "abf.Assemble()\n",
    "# linear form\n",
    "flf = LinearForm(Vh)\n",
    "flf += f*v*dx\n",
    "flf.Assemble()\n",
    "\n",
    "gf = GridFunction(Vh,\"u\")\n",
    "gf.Set(0, BND)\n",
    "rhs = flf.vec.CreateVector()\n",
    "rhs.data = flf.vec - abf.mat * gf.vec\n",
    "gf.vec.data += abf.mat.Inverse(Vh.FreeDofs()) * rhs"
   ]
  },
  {
   "cell_type": "markdown",
   "id": "ee9864ea",
   "metadata": {},
   "source": [
    "## Grafica de la solucion en dimension 1"
   ]
  },
  {
   "cell_type": "code",
   "execution_count": 6,
   "id": "462eed31",
   "metadata": {},
   "outputs": [
    {
     "data": {
      "image/png": "[encoded data removed]",
      "text/plain": [
       "<Figure size 640x480 with 1 Axes>"
      ]
     },
     "metadata": {},
     "output_type": "display_data"
    }
   ],
   "source": [
    "import numpy as np\n",
    "import matplotlib.pyplot as plt\n",
    "#plt.rc('text', usetex=True)\n",
    "# mesh\n",
    "\n",
    "xx  = [v.point[0] for v in mesh.vertices] \n",
    "u0 = [0          for v in mesh.vertices]\n",
    "\n",
    "fig, ax = plt.subplots(1,1)\n",
    "uhplot = []\n",
    "subdiv = 1\n",
    "for el in mesh.Elements(VOL):\n",
    "    xvlocal = np.linspace( mesh[el.vertices[0]].point[0]+10**-5, mesh[el.vertices[1]].point[0]-10**-5, subdiv+1)\n",
    "    uhlocal = []\n",
    "    for xlocal in xvlocal:\n",
    "        mip = mesh(xlocal)\n",
    "        uhlocal.append(gf(mip))\n",
    "    line_uh, = ax.plot(xvlocal, uhlocal, color='C0')\n",
    "line_uh.set_label(r'$u_h$')\n",
    "\n",
    "plt.show()"
   ]
  },
  {
   "cell_type": "markdown",
   "id": "41c4dff5",
   "metadata": {},
   "source": [
    "## Ecuacion de Poisson \n",
    "\n",
    "Resolvemos el problema de Poisson en dimension 2:\n",
    "\\begin{equation}\n",
    "\\begin{array}{rclrl}\n",
    "-\\nabla \\cdot( \\nabla u(x,y))&=& f(x,y)&\\mbox{en} & (a,b) \\\\\n",
    "u &=&u_D&\\mbox{sobre}& \\{a,b\\}\n",
    "\\end{array}\n",
    "\\end{equation}"
   ]
  },
  {
   "cell_type": "code",
   "execution_count": 7,
   "id": "b6b0440e",
   "metadata": {
    "scrolled": true
   },
   "outputs": [
    {
     "data": {
      "application/vnd.jupyter.widget-view+json": {
       "model_id": "8e15afb7af0b4ee28498d8ea3bb27ccb",
       "version_major": 2,
       "version_minor": 0
      },
      "text/plain": [
       "WebGuiWidget(layout=Layout(height='50vh', width='100%'), value={'gui_settings': {}, 'ngsolve_version': '6.2.23…"
      ]
     },
     "metadata": {},
     "output_type": "display_data"
    },
    {
     "data": {
      "application/vnd.jupyter.widget-view+json": {
       "model_id": "2968092b67f8486cabcd8b30357d5ba1",
       "version_major": 2,
       "version_minor": 0
      },
      "text/plain": [
       "WebGuiWidget(layout=Layout(height='50vh', width='100%'), value={'gui_settings': {}, 'ngsolve_version': '6.2.23…"
      ]
     },
     "metadata": {},
     "output_type": "display_data"
    },
    {
     "data": {
      "text/plain": [
       "BaseWebGuiScene"
      ]
     },
     "execution_count": 7,
     "metadata": {},
     "output_type": "execute_result"
    }
   ],
   "source": [
    "from ngsolve import * # libreria de NGVolve\n",
    "from netgen.geom2d import unit_square # dominio\n",
    "from ngsolve.webgui import Draw # comando para graficar en jupyter\n",
    "\n",
    "ngsglobals.msg_level = 1\n",
    "\n",
    "# generate a triangular mesh of mesh-size 0.2\n",
    "mesh = Mesh(unit_square.GenerateMesh(maxh=0.075))\n",
    "\n",
    "# H1-conforming finite element space\n",
    "fes = H1(mesh, order=1, dirichlet=[1,2,3,4])\n",
    "\n",
    "# define trial- and test-functions\n",
    "u = fes.TrialFunction()\n",
    "v = fes.TestFunction()\n",
    "\n",
    "# the right hand side\n",
    "force = IfPos(x-0.15,IfPos(0.35-x,IfPos(0.35-y,IfPos(y-0.15,1,0),0),0),0) + IfPos(x-0.65,IfPos(0.85-x,IfPos(0.85-y,IfPos(y-0.65,1,0),0),0),0) + IfPos(x-0.65,IfPos(0.85-x,IfPos(0.35-y,IfPos(y-0.15,1,0),0),0),0) + IfPos(x-0.15,IfPos(0.35-x,IfPos(0.85-y,IfPos(y-0.65,1,0),0),0),0)\n",
    "\n",
    "f = LinearForm(fes)\n",
    "f += force * v * dx\n",
    "\n",
    "# the bilinear-form \n",
    "a = BilinearForm(fes, symmetric=True)\n",
    "a += grad(u)*grad(v)*dx\n",
    "\n",
    "a.Assemble()\n",
    "f.Assemble()\n",
    "\n",
    "# the solution field \n",
    "gfu = GridFunction(fes)\n",
    "gfu.vec.data = a.mat.Inverse(fes.FreeDofs(), inverse=\"sparsecholesky\") * f.vec\n",
    "# print (u.vec)\n",
    "\n",
    "\n",
    "# plot the solution (netgen-gui only)\n",
    "Draw(force, mesh)\n",
    "Draw (gfu)\n",
    "#Draw (-grad(gfu), mesh, \"Flux\")\n"
   ]
  },
  {
   "cell_type": "markdown",
   "id": "5fe889c7",
   "metadata": {},
   "source": [
    "# Ejemplos de Ern & Guermond (3.2.5 Numerical illustrations).\n",
    "\n",
    "Considere la ecuacion de Laplace $-\\Delta u = f$ en el dominio $\\Omega = (0,1)\\times (0,1)$ y un par\\'ametro positivo $\\alpha$. Elija el lado derecho $f$ y la condici\\'on de Dirichlet no homogenea tal que la soluci\\'on exacta es $u(x,y) = (x^2+y^2)^{\\alpha/2}$. Obeserve que:\n",
    "- $u\\in H^{1}(\\Omega)$ si $0 < \\alpha \\leq 1$.\n",
    "- $u\\in H^{2}(\\Omega)$ si $1<\\alpha \\leq 2$.\n",
    "- $u\\in H^{3}(\\Omega)$ si $2<\\alpha\\leq 3$\n"
   ]
  },
  {
   "cell_type": "code",
   "execution_count": 43,
   "id": "e2d53a89",
   "metadata": {},
   "outputs": [],
   "source": [
    "from ngsolve import * # libreria de NGVolve\n",
    "from netgen.geom2d import unit_square # dominio\n",
    "from ngsolve.webgui import Draw # comando para graficar en jupyter\n",
    "\n",
    "\n",
    "def Solve_Poisson_Dirichlet(mesh, f, uD, boundary=\"bottom|right|top|left\", order=1):\n",
    "    # H1-conforming finite element space\n",
    "    fes = H1(mesh, order=order, dirichlet=boundary)\n",
    "    # define trial- and test-functions\n",
    "    u = fes.TrialFunction()\n",
    "    v = fes.TestFunction()\n",
    "    # the right hand side\n",
    "    lf = LinearForm(fes)\n",
    "    lf += f * v * dx\n",
    "    # the bilinear-form \n",
    "    a = BilinearForm(fes, symmetric=True)\n",
    "    a += grad(u)*grad(v)*dx\n",
    "    a.Assemble()\n",
    "    lf.Assemble()\n",
    "\n",
    "    # the solution field \n",
    "    gfu = GridFunction(fes)\n",
    "    gfu.Set(uD, BND)\n",
    "    r = lf.vec.CreateVector()\n",
    "    r.data = lf.vec - a.mat * gfu.vec\n",
    "    gfu.vec.data += a.mat.Inverse(freedofs=fes.FreeDofs()) * r  \n",
    "    return gfu\n",
    "\n",
    "def Convergence_Test_alpha(h0 = 0.25, nmeshes=4, alpha=2.25, order=1):\n",
    "    # solucion exacta\n",
    "    uexact = (x**2+y**2)**(alpha/2.0)\n",
    "    f =  -(x**2 + y**2)**(-1 + alpha/2) *alpha**2\n",
    "\n",
    "    # generate a triangular mesh\n",
    "    mesh = Mesh(unit_square.GenerateMesh(maxh=h0))\n",
    "    err_u = np.zeros(nmeshes)\n",
    "    h = np.zeros(nmeshes)\n",
    "    h[0] = computehmax(mesh)\n",
    "    for j in range(nmeshes):\n",
    "        gfu = Solve_Poisson_Dirichlet(mesh, f, uD=uexact, order=order)\n",
    "        err_u[j]  = sqrt( Integrate( InnerProduct( gfu - uexact, gfu -uexact), mesh))\n",
    "        if j < nmeshes-1:\n",
    "            mesh.Refine()\n",
    "            h[j+1] = computehmax(mesh)\n",
    "    rate = computerate(h, err_u)\n",
    "    return h, err_u, rate, gfu\n",
    "\n",
    "def computehmax(mesh):\n",
    "    elvol = Integrate(CoefficientFunction(1),mesh,element_wise=True)\n",
    "    hh = [(2*vol)**(1/2) for vol in elvol] # 3D\n",
    "    return max(hh)\n",
    "\n",
    "def computerate(h, error):\n",
    "    rate = np.zeros(h.size-1)\n",
    "    for j in range(h.size-1):\n",
    "        rate[j] = np.log(error[j+1]/error[j])/np.log(h[j+1]/h[j])\n",
    "    return rate\n"
   ]
  },
  {
   "cell_type": "code",
   "execution_count": 44,
   "id": "feaa8ed0",
   "metadata": {},
   "outputs": [],
   "source": [
    "alpha = 2.25\n",
    "h1, err_u1, rate1, gfu1 = Convergence_Test_alpha(nmeshes=6, alpha=alpha, order = 1)\n",
    "h2, err_u2, rate2, gfu2 = Convergence_Test_alpha(nmeshes=6, alpha=alpha, order = 2)\n",
    "h3, err_u3, rate3, gfu3 = Convergence_Test_alpha(nmeshes=6, alpha=alpha, order = 3)"
   ]
  },
  {
   "cell_type": "code",
   "execution_count": 50,
   "id": "fda6ffa6",
   "metadata": {},
   "outputs": [
    {
     "data": {
      "image/png": "[encoded data removed]",
      "text/plain": [
       "<Figure size 640x480 with 1 Axes>"
      ]
     },
     "metadata": {},
     "output_type": "display_data"
    }
   ],
   "source": [
    "plt.loglog(h1,err_u1, label='order 1')\n",
    "plt.loglog(h2,err_u2, label='order 2')\n",
    "plt.loglog(h3,err_u3, label='order 3')\n",
    "plt.legend()\n",
    "plt.title(r'$\\alpha=2.25$')\n",
    "plt.show()"
   ]
  },
  {
   "cell_type": "code",
   "execution_count": 51,
   "id": "d9a150a9",
   "metadata": {},
   "outputs": [],
   "source": [
    "alpha = 1.25\n",
    "h1, err_u1, rate1, gfu1 = Convergence_Test_alpha(nmeshes=6, alpha=alpha, order = 1)\n",
    "h2, err_u2, rate2, gfu2 = Convergence_Test_alpha(nmeshes=6, alpha=alpha, order = 2)\n",
    "h3, err_u3, rate3, gfu3 = Convergence_Test_alpha(nmeshes=6, alpha=alpha, order = 3)"
   ]
  },
  {
   "cell_type": "code",
   "execution_count": 52,
   "id": "86d403a0",
   "metadata": {},
   "outputs": [
    {
     "data": {
      "image/png": "[encoded data removed]",
      "text/plain": [
       "<Figure size 640x480 with 1 Axes>"
      ]
     },
     "metadata": {},
     "output_type": "display_data"
    }
   ],
   "source": [
    "plt.loglog(h1,err_u1, label='order 1')\n",
    "plt.loglog(h2,err_u2, label='order 2')\n",
    "plt.loglog(h3,err_u3, label='order 3')\n",
    "plt.legend()\n",
    "plt.title(r'$\\alpha=1.25$')\n",
    "plt.show()"
   ]
  },
  {
   "cell_type": "code",
   "execution_count": 53,
   "id": "f269e188",
   "metadata": {},
   "outputs": [],
   "source": [
    "alpha = 0.25\n",
    "h1, err_u1, rate1, gfu1 = Convergence_Test_alpha(nmeshes=6, alpha=alpha, order = 1)\n",
    "h2, err_u2, rate2, gfu2 = Convergence_Test_alpha(nmeshes=6, alpha=alpha, order = 2)\n",
    "h3, err_u3, rate3, gfu3 = Convergence_Test_alpha(nmeshes=6, alpha=alpha, order = 3)"
   ]
  },
  {
   "cell_type": "code",
   "execution_count": 54,
   "id": "5224bd35",
   "metadata": {},
   "outputs": [
    {
     "data": {
      "image/png": "[encoded data removed]",
      "text/plain": [
       "<Figure size 640x480 with 1 Axes>"
      ]
     },
     "metadata": {},
     "output_type": "display_data"
    }
   ],
   "source": [
    "plt.loglog(h1,err_u1, label='order 1')\n",
    "plt.loglog(h2,err_u2, label='order 2')\n",
    "plt.loglog(h3,err_u3, label='order 3')\n",
    "plt.legend()\n",
    "plt.title(r'$\\alpha=1.25$')\n",
    "plt.show()"
   ]
  },
  {
   "cell_type": "markdown",
   "id": "f8d84b8c",
   "metadata": {},
   "source": [
    "## Ecuacion de Adveccion - difusion\n",
    "\n",
    "Considere un fljo en dos dimensiones a traves de una tuberia calentada. La velocidad del flujo se asume conocida y queremos evaluar la temperatura $u$ dentro de la tuberia en estado estacionario. La temperatura es gobernada por la ecuacion de adveccion-difusion \n",
    "\\begin{equation*}\n",
    "\\beta \\cdot \\nabla u - \\epsilon \\Delta u = 0\n",
    "\\end{equation*}\n",
    "\n",
    "La tuberia es modelada por un dominio rectangular $\\Omega$ con lados enumerados del 1 al 4 en sentido del reloj, comenzando desde el lado mas a la izquierda. Los flujos entran la tuberia desde $\\partial \\Omega_1$ y fluyen hacian $\\partial \\Omega_3$ mientras los lados $\\partial \\Omega_2$ y $\\partial \\Omega_4$ son fronteras solidas. Las condiciones de frontera para la temperatura son $u=0$ sobre $\\partial \\Omega_1$ (flujo helado entrante), $u=1$ sobre $\\partial \\Omega_2$ y $\\partial \\Omega_4$ (fronteras calentadas) y $\\nabla u * n = 0$ sobre $\\partial \\Omega_3$ (condicion de outflow). La velocidad de flujo es tomada como $\\beta = (4 y (1-y) , 0 )^\\top$ "
   ]
  },
  {
   "cell_type": "code",
   "execution_count": 43,
   "id": "9de2be88",
   "metadata": {},
   "outputs": [],
   "source": [
    "def Solve_Heated_Pipe(mesh, beta, epsilon,g, order=1):\n",
    "    # H1-conforming finite element space\n",
    "    fes = H1(mesh, order=order, dirichlet=\"top|left|bottom\")\n",
    "    # define trial- and test-functions\n",
    "    u = fes.TrialFunction()\n",
    "    v = fes.TestFunction()\n",
    "    # the right hand side\n",
    "    lf = LinearForm(fes)\n",
    "    lf += 0 * v * dx\n",
    "    # the bilinear-form \n",
    "    a = BilinearForm(fes)\n",
    "    a += (beta*grad(u))*v*dx + epsilon*grad(u)*grad(v)*dx\n",
    "    a.Assemble()\n",
    "    lf.Assemble()\n",
    "\n",
    "    # the solution field \n",
    "    gfu = GridFunction(fes)\n",
    "    gfu.Set(g, definedon=mesh.Boundaries('top|left|bottom'))\n",
    "    r = lf.vec.CreateVector()\n",
    "    r.data = lf.vec - a.mat * gfu.vec\n",
    "    gfu.vec.data += a.mat.Inverse(freedofs=fes.FreeDofs()) * r  \n",
    "    return gfu"
   ]
  },
  {
   "cell_type": "code",
   "execution_count": 50,
   "id": "3a272ef9",
   "metadata": {
    "scrolled": true
   },
   "outputs": [],
   "source": [
    "geo = SplineGeometry()\n",
    "\n",
    "pnts =[(0,0),(5,0),(5,1),(0,1)]\n",
    "p1,p2,p3,p4 = [geo.AppendPoint(*pnt) for pnt in pnts]\n",
    "curves = [[[\"line\",p1,p2],\"bottom\"],\n",
    "          [[\"line\",p2,p3],\"right\"],\n",
    "          [[\"line\",p3,p4],\"top\"],\n",
    "          [[\"line\",p4,p1],\"left\"]]\n",
    "[geo.Append(c,bc=bc) for c,bc in curves]\n",
    "ngmesh = geo.GenerateMesh(maxh=0.1)\n",
    "mesh = Mesh(ngmesh)\n",
    "\n",
    "bdry_values = {'bottom': 1, 'top': 1, 'left': 0}\n",
    "values_list = [bdry_values[bc]\n",
    "               if bc in bdry_values.keys() else 0\n",
    "               for bc in mesh.GetBoundaries()]\n",
    "g = CoefficientFunction(values_list)\n",
    "gfun = GridFunction(H1(mesh), name='bdry')\n",
    "gfun.Set(g, definedon=mesh.Boundaries('top|left|bottom'))\n",
    "# Draw(gfun, max=1, min=0)\n",
    "\n"
   ]
  },
  {
   "cell_type": "code",
   "execution_count": 53,
   "id": "329b70ae",
   "metadata": {},
   "outputs": [
    {
     "data": {
      "application/vnd.jupyter.widget-view+json": {
       "model_id": "0cb09604fe1447febf823ba90f02e62f",
       "version_major": 2,
       "version_minor": 0
      },
      "text/plain": [
       "WebGuiWidget(layout=Layout(height='50vh', width='100%'), value={'gui_settings': {}, 'ngsolve_version': '6.2.23…"
      ]
     },
     "metadata": {},
     "output_type": "display_data"
    },
    {
     "data": {
      "text/plain": [
       "BaseWebGuiScene"
      ]
     },
     "execution_count": 53,
     "metadata": {},
     "output_type": "execute_result"
    }
   ],
   "source": [
    "epsilon = 0.1 # diffussion dominated\n",
    "beta =CoefficientFunction((4*y*(1-y),0))\n",
    "gfu = Solve_Heated_Pipe(mesh, beta, epsilon,g, order=3)\n",
    "Draw(gfu, max=1, min=0)"
   ]
  },
  {
   "cell_type": "code",
   "execution_count": 52,
   "id": "06243efc",
   "metadata": {},
   "outputs": [
    {
     "data": {
      "application/vnd.jupyter.widget-view+json": {
       "model_id": "f5c044968e3b4364be845463488c1489",
       "version_major": 2,
       "version_minor": 0
      },
      "text/plain": [
       "WebGuiWidget(layout=Layout(height='50vh', width='100%'), value={'gui_settings': {}, 'ngsolve_version': '6.2.23…"
      ]
     },
     "metadata": {},
     "output_type": "display_data"
    },
    {
     "data": {
      "text/plain": [
       "BaseWebGuiScene"
      ]
     },
     "execution_count": 52,
     "metadata": {},
     "output_type": "execute_result"
    }
   ],
   "source": [
    "epsilon = 0.001 # advection dominated\n",
    "beta =CoefficientFunction((4*y*(1-y),0))\n",
    "gfu = Solve_Heated_Pipe(mesh, beta, epsilon,g, order=3)\n",
    "Draw(gfu, max=1, min=0)"
   ]
  },
  {
   "cell_type": "markdown",
   "id": "23ba8455",
   "metadata": {},
   "source": [
    "# 3D pipe"
   ]
  },
  {
   "cell_type": "code",
   "execution_count": 59,
   "id": "72745a8a",
   "metadata": {},
   "outputs": [],
   "source": [
    "from netgen.occ import *\n",
    "from netgen.webgui import Draw as DrawGeo\n"
   ]
  },
  {
   "cell_type": "code",
   "execution_count": 81,
   "id": "363e52d7",
   "metadata": {},
   "outputs": [
    {
     "data": {
      "application/vnd.jupyter.widget-view+json": {
       "model_id": "27fc542c775d4f0bab1b89ed408dd02c",
       "version_major": 2,
       "version_minor": 0
      },
      "text/plain": [
       "WebGuiWidget(layout=Layout(height='50vh', width='100%'), value={'gui_settings': {}, 'ngsolve_version': '6.2.23…"
      ]
     },
     "metadata": {},
     "output_type": "display_data"
    },
    {
     "data": {
      "text/plain": [
       "BaseWebGuiScene"
      ]
     },
     "execution_count": 81,
     "metadata": {},
     "output_type": "execute_result"
    }
   ],
   "source": [
    "cyl = Cylinder(Pnt(0,0.5,0.5), X, r=0.5, h=5)\n",
    "ngmesh = OCCGeometry(cyl).GenerateMesh(maxh=0.5)\n",
    "ngmesh.SetBCName(0,'top')\n",
    "ngmesh.SetBCName(2,'left')\n",
    "ngmesh.SetBCName(1,'right')\n",
    "mesh= Mesh(ngmesh).Curve(3)\n",
    "Draw(mesh)"
   ]
  },
  {
   "cell_type": "code",
   "execution_count": 82,
   "id": "a6ad8070",
   "metadata": {},
   "outputs": [],
   "source": [
    "def Solve_Heated_Pipe3D(mesh, beta, epsilon,g, order=1):\n",
    "    # H1-conforming finite element space\n",
    "    fes = H1(mesh, order=order, dirichlet=\"top|left\")\n",
    "    # define trial- and test-functions\n",
    "    u = fes.TrialFunction()\n",
    "    v = fes.TestFunction()\n",
    "    # the right hand side\n",
    "    lf = LinearForm(fes)\n",
    "    lf += 0 * v * dx\n",
    "    # the bilinear-form \n",
    "    a = BilinearForm(fes)\n",
    "    a += (beta*grad(u))*v*dx + epsilon*grad(u)*grad(v)*dx\n",
    "    a.Assemble()\n",
    "    lf.Assemble()\n",
    "\n",
    "    # the solution field \n",
    "    gfu = GridFunction(fes)\n",
    "    gfu.Set(g, definedon=mesh.Boundaries('top|left'))\n",
    "    r = lf.vec.CreateVector()\n",
    "    r.data = lf.vec - a.mat * gfu.vec\n",
    "    gfu.vec.data += a.mat.Inverse(freedofs=fes.FreeDofs()) * r  \n",
    "    return gfu"
   ]
  },
  {
   "cell_type": "code",
   "execution_count": 83,
   "id": "db4c498c",
   "metadata": {},
   "outputs": [],
   "source": [
    "bdry_values = {'top': 1, 'left': 0}\n",
    "values_list = [bdry_values[bc]\n",
    "               if bc in bdry_values.keys() else 0\n",
    "               for bc in mesh.GetBoundaries()]\n",
    "g = CoefficientFunction(values_list)\n",
    "gfun = GridFunction(H1(mesh), name='bdry')\n",
    "gfun.Set(g, definedon=mesh.Boundaries('top|left'))\n",
    "# Draw(gfun)"
   ]
  },
  {
   "cell_type": "code",
   "execution_count": 84,
   "id": "1cddde6d",
   "metadata": {},
   "outputs": [
    {
     "data": {
      "application/vnd.jupyter.widget-view+json": {
       "model_id": "80071ef400444a71b430b8c91c65eec6",
       "version_major": 2,
       "version_minor": 0
      },
      "text/plain": [
       "WebGuiWidget(layout=Layout(height='50vh', width='100%'), value={'gui_settings': {}, 'ngsolve_version': '6.2.23…"
      ]
     },
     "metadata": {},
     "output_type": "display_data"
    },
    {
     "data": {
      "text/plain": [
       "BaseWebGuiScene"
      ]
     },
     "execution_count": 84,
     "metadata": {},
     "output_type": "execute_result"
    }
   ],
   "source": [
    "epsilon = 0.1 # convection dominated\n",
    "beta =CoefficientFunction((4*y*(1-y),0,0))\n",
    "gfu = Solve_Heated_Pipe(mesh, beta, epsilon,g, order=1)\n",
    "Draw(gfu, max=1, min=0)"
   ]
  },
  {
   "cell_type": "code",
   "execution_count": 85,
   "id": "d89da296",
   "metadata": {},
   "outputs": [
    {
     "data": {
      "application/vnd.jupyter.widget-view+json": {
       "model_id": "301524a375dd4e7fa0bf1d6885dcdbcd",
       "version_major": 2,
       "version_minor": 0
      },
      "text/plain": [
       "WebGuiWidget(layout=Layout(height='50vh', width='100%'), value={'gui_settings': {}, 'ngsolve_version': '6.2.23…"
      ]
     },
     "metadata": {},
     "output_type": "display_data"
    },
    {
     "data": {
      "text/plain": [
       "BaseWebGuiScene"
      ]
     },
     "execution_count": 85,
     "metadata": {},
     "output_type": "execute_result"
    }
   ],
   "source": [
    "epsilon = 0.001 # convection dominated\n",
    "beta =CoefficientFunction((4*y*(1-y),0,0))\n",
    "gfu = Solve_Heated_Pipe(mesh, beta, epsilon,g, order=3)\n",
    "Draw(gfu, max=1, min=0)"
   ]
  },
  {
   "cell_type": "code",
   "execution_count": null,
   "id": "cc271719",
   "metadata": {},
   "outputs": [],
   "source": []
  }
 ],
 "metadata": {
  "kernelspec": {
   "display_name": "Python 3 (ipykernel)",
   "language": "python",
   "name": "python3"
  },
  "language_info": {
   "codemirror_mode": {
    "name": "ipython",
    "version": 3
   },
   "file_extension": ".py",
   "mimetype": "text/x-python",
   "name": "python",
   "nbconvert_exporter": "python",
   "pygments_lexer": "ipython3",
   "version": "3.7.9"
  }
 },
 "nbformat": 4,
 "nbformat_minor": 5
}
