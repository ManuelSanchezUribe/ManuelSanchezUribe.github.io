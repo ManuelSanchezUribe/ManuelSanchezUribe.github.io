{
 "cells": [
  {
   "cell_type": "markdown",
   "id": "9d354204",
   "metadata": {},
   "source": [
    "<center><h1 style=\"color:#173F8A;\"> Metodos para Ecuaciones Diferenciales, IMT3410, 2023-2 </h1></center>\n",
    "<h3 style=\"color:#173F8A;text-align:right;\"> Instituto de Ingenieria Matematica y Computacional<br>  Pontificia Universidad Catolica de Chile <br>  </h3>\n",
    "<h3 style=\"color:#0176DE;text-align:right;\"> Profesor. Manuel A. Sanchez<br> </h3>\n",
    "<hr style=\"border:2px solid #03122E\"> </hr>\n",
    "\n",
    "<!-- Palette colors UC: celeste:#0176DE, azul #173F8A, azul oscuro: #03122E, amarillo: #FEC60D, amarillo oscuro: #E3AE00 -->\n",
    "<!--\n",
    "<figure>\n",
    "<img align =\"right\" src=\"IMClogo.png\" alt=\"logo\" width=\"250\" height=\"400\"><br><br><br><br><br>\n",
    "</figure>\n",
    " -->"
   ]
  },
  {
   "cell_type": "markdown",
   "id": "a40431b5",
   "metadata": {},
   "source": [
    "## Capitulo 2: Mi primer codigo de elementos finitos"
   ]
  },
  {
   "cell_type": "markdown",
   "id": "f5d09264",
   "metadata": {},
   "source": [
    "## Problema: \n",
    "Queremos resolver la siguiente ecuacion eliptica\n",
    "$$\n",
    "-\\frac{d}{dx}\\left( p(x) \\frac{d}{dx}u(x)\\right) + r(x)u(x) = f(x),\\quad x\\in (a,b)\n",
    "$$\n",
    "con condiciones de borde $u(a) = A, u(b) = B$."
   ]
  },
  {
   "cell_type": "code",
   "execution_count": 1,
   "id": "67b91ba7",
   "metadata": {},
   "outputs": [],
   "source": [
    "import numpy as np\n",
    "from scipy.special import roots_jacobi"
   ]
  },
  {
   "cell_type": "code",
   "execution_count": 2,
   "id": "4f0a9202",
   "metadata": {},
   "outputs": [],
   "source": [
    "# Datos\n",
    "class problem1delliptic:\n",
    "    def __init__(self,a,b,f,A,B,p,r,uexact=None,duexact=None):\n",
    "        self.a = a\n",
    "        self.b = b\n",
    "        self.f = f\n",
    "        self.A = A\n",
    "        self.B = B\n",
    "        self.p = p \n",
    "        self.r = r\n",
    "        self.uexact = uexact\n",
    "        self.duexact = duexact\n",
    "# problema ejemplo\n",
    "a = 0.0; b= 1.0\n",
    "f = lambda x: 0 +0*x\n",
    "A = 0; B = 0\n",
    "p = lambda x: 1.0+0*x\n",
    "r = lambda x: 0+0*x\n",
    "problema1 = problem1delliptic(a,b,f,A,B,p,r)"
   ]
  },
  {
   "cell_type": "code",
   "execution_count": 3,
   "id": "d7094414",
   "metadata": {},
   "outputs": [],
   "source": [
    "# Triangulacion o subdivision del intervalo\n",
    "class Triangulation1d:\n",
    "    def __init__(self, Coordinates, Elements1d):\n",
    "        self.Coordinates = Coordinates\n",
    "        self.Elements = Elements1d\n",
    "        self.NN = Coordinates.size\n",
    "        self.NE = Elements1d.shape[0]\n",
    "# ejemplo de triangulacion\n",
    "npoints = 5\n",
    "x = np.random.rand(npoints-2); z = a + (b-a)*x\n",
    "Coordinates = np.concatenate( (np.array([a]),np.sort(z),np.array([b])) )\n",
    "Elements1d = np.asarray([[i, i+1] for i in range(npoints-1)])\n",
    "mesh1d = Triangulation1d(Coordinates, Elements1d)"
   ]
  },
  {
   "cell_type": "code",
   "execution_count": 9,
   "id": "28379590",
   "metadata": {},
   "outputs": [],
   "source": [
    "def myfirstfem1d(problem, mesh):\n",
    "    # Matrix \n",
    "    A = np.zeros((mesh.NN, mesh.NN), dtype=np.float64)\n",
    "    # vector\n",
    "    b = np.zeros(mesh.NN, dtype=np.float64)\n",
    "    # solution\n",
    "    uh = np.zeros(mesh.NN, dtype=np.float64)\n",
    "    #\n",
    "    x,w = roots_jacobi(n=2,alpha=0,beta=0)\n",
    "    def computeStiffness1d(K,pfun):\n",
    "        # compute integral p(x)*phi_i'*phi_j' dx\n",
    "        hi = np.abs(K[1]-K[0])\n",
    "        gradgrad = (1.0/hi**2)*np.outer(np.array([-1.0,1.0]), np.array([-1.0,1.0]))\n",
    "        y = (K[1]-K[0])/2*(x+1.0)+K[0] \n",
    "        return (hi/2.0*np.sum(w*pfun(y), axis=-1)) * gradgrad\n",
    "    \n",
    "    def computeMass1d(K,rfun): \n",
    "        # compute integral r(x)*phi_i'phi_j dx\n",
    "        hi = np.abs(K[1]-K[0])\n",
    "        y = (K[1]-K[0])/2*(x+1.0)+K[0] \n",
    "        MK = np.array([[np.sum(w*rfun(y)*(1-x)**2, axis=-1)   ,np.sum(w*rfun(y)*(1-x)*(1+x), axis=-1)],\n",
    "                       [np.sum(w*rfun(y)*(1+x)*(1-x), axis=-1),np.sum(w*rfun(y)*(1+x)**2, axis=-1)   ]])\n",
    "        return hi/2.0*MK\n",
    "    \n",
    "    def computeloadvector1d(K,ffun):\n",
    "        # compute integral f(x)*phi_i dx\n",
    "        bK = np.array([np.sum(w*ffun(y)*(1-x), axis=-1), np.sum(w*ffun(y)*(1+x), axis=-1)])\n",
    "        return hi/2.0*bK\n",
    "    \n",
    "    # Loop over elements\n",
    "    for j in range(mesh.NE):\n",
    "        # element\n",
    "        K = mesh.Coordinates[mesh.Elements[j,:]]\n",
    "        # local stiffness matrix\n",
    "        SK = computeStiffness1d(K,problem.p)\n",
    "        # local mas matrix \n",
    "        MK = computeMass1d(K,problem.r)\n",
    "        # local assembling matrix A+= AK = SK+MK\n",
    "        \n",
    "        # load vector\n",
    "        bK = computeloadvector1d(K, problem.f)\n",
    "        # local assembling vector b += bK\n",
    "    # end loop\n",
    "    \n",
    "    # Dirichlet boundary condicion\n",
    "    uh[0] = problem.A; uh[-1] = problem.B\n",
    "    b = b - A.dot(uh)\n",
    "    Freenodes = np.arange(1, mesh.NN-1, dtype=int)\n",
    "    # slicing\n",
    "    AFree = A[np.ix_(Freenodes, Freenodes)]  \n",
    "    # solve linear system AFree uh[Free] = b[Free] \n",
    "    return uh\n",
    "\n",
    "    "
   ]
  },
  {
   "cell_type": "code",
   "execution_count": 10,
   "id": "7b95348d",
   "metadata": {},
   "outputs": [
    {
     "name": "stdout",
     "output_type": "stream",
     "text": [
      "[-0.57735027  0.57735027] [1. 1.]\n",
      "[-0.57735027  0.57735027] [1. 1.]\n",
      "[-0.57735027  0.57735027] [1. 1.]\n",
      "[-0.57735027  0.57735027] [1. 1.]\n"
     ]
    }
   ],
   "source": [
    "uh = myfirstfem1d(problema1, mesh1d)"
   ]
  },
  {
   "cell_type": "code",
   "execution_count": 2,
   "id": "1439d22b",
   "metadata": {},
   "outputs": [
    {
     "name": "stdout",
     "output_type": "stream",
     "text": [
      "Grupo 1 es  ['Diego', 'Juan Pablo']\n",
      "Grupo 2 es  ['Cesar', 'Vicente']\n",
      "Grupo 3 es  ['Sebastian', 'Patricio']\n",
      "Grupo 4 es  ['Ernesto', 'Gustavo']\n"
     ]
    }
   ],
   "source": [
    "lista = ['Ernesto', 'Cesar', 'Gustavo', 'Sebastian','Vicente', 'Patricio', 'Juan Pablo', 'Diego']\n",
    "import random\n",
    "\n",
    "def crear_grupos(lista, n):\n",
    "    N = len(lista)\n",
    "    random.shuffle(lista)\n",
    "    Grupos = []\n",
    "    for j in range(int(N/n)):\n",
    "        Grupoj = lista[n*j:n*(j+1)]\n",
    "        Grupos.append(Grupoj)\n",
    "        print(f\"Grupo {j+1} es  {Grupoj}\")\n",
    "crear_grupos(lista,n=2)"
   ]
  },
  {
   "cell_type": "code",
   "execution_count": null,
   "id": "da42c410",
   "metadata": {},
   "outputs": [],
   "source": []
  },
  {
   "cell_type": "code",
   "execution_count": null,
   "id": "46b53788",
   "metadata": {},
   "outputs": [],
   "source": []
  }
 ],
 "metadata": {
  "kernelspec": {
   "display_name": "Python 3 (ipykernel)",
   "language": "python",
   "name": "python3"
  },
  "language_info": {
   "codemirror_mode": {
    "name": "ipython",
    "version": 3
   },
   "file_extension": ".py",
   "mimetype": "text/x-python",
   "name": "python",
   "nbconvert_exporter": "python",
   "pygments_lexer": "ipython3",
   "version": "3.7.9"
  }
 },
 "nbformat": 4,
 "nbformat_minor": 5
}
