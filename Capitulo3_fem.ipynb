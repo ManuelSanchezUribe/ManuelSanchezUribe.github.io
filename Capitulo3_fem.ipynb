{
 "cells": [
  {
   "cell_type": "markdown",
   "id": "47e1992e",
   "metadata": {},
   "source": [
    "<center><h1 style=\"color:#173F8A;\"> Metodos para Ecuaciones Diferenciales, IMT3410, 2022-2 </h1></center>\n",
    "<h3 style=\"color:#173F8A;text-align:right;\"> Instituto de Ingenieria Matematica y Computacional<br>  Pontificia Universidad Catolica de Chile <br>  </h3>\n",
    "<h3 style=\"color:#0176DE;text-align:right;\"> Profesor. Manuel A. Sanchez<br> </h3>\n",
    "<hr style=\"border:2px solid #03122E\"> </hr>\n",
    "\n",
    "<!-- Palette colors UC: celeste:#0176DE, azul #173F8A, azul oscuro: #03122E, amarillo: #FEC60D, amarillo oscuro: #E3AE00 -->\n",
    "<!--\n",
    "<figure>\n",
    "<img align =\"right\" src=\"IMClogo.png\" alt=\"logo\" width=\"250\" height=\"400\"><br><br><br><br><br>\n",
    "</figure>\n",
    " -->"
   ]
  },
  {
   "cell_type": "markdown",
   "id": "87d29733",
   "metadata": {},
   "source": [
    "<h2 style=\"color:#03122E;text-align:center;\"> Capitulo 3. Metodos para Ecuaciones Diferenciales Parciales Hiperbolicas<br> </h2>\n",
    "\n",
    "<hr style=\"border:3px solid #E3AE00 \"> </hr>"
   ]
  },
  {
   "cell_type": "markdown",
   "id": "cc73f28f",
   "metadata": {},
   "source": [
    "## Ecuacion hiperbolica con viscocidad en una dimension\n",
    "\n",
    "Resolvemos el problema en una dimension:\n",
    "\\begin{equation}\n",
    "\\begin{array}{rclrl}\n",
    "-\\varepsilon \\frac{d^{2}}{dx^{2}}u + a\\frac{d}{dx}u &=& f(x)&\\mbox{en} & (a,b) \\\\\n",
    "u &=&u_D&\\mbox{sobre}& \\{a,b\\}\n",
    "\\end{array}\n",
    "\\end{equation}\n"
   ]
  },
  {
   "cell_type": "code",
   "execution_count": 1,
   "id": "b522b7d9",
   "metadata": {},
   "outputs": [],
   "source": [
    "# use netgen.meshing module for 1d meshes\n",
    "from ngsolve import *\n",
    "from netgen.meshing import Mesh as Mesh1d\n",
    "from netgen.meshing import MeshPoint,Element0D, Element1D\n",
    "from netgen.csg import *\n",
    "import numpy as np\n",
    "import matplotlib as plt"
   ]
  },
  {
   "cell_type": "code",
   "execution_count": 123,
   "id": "998e612f",
   "metadata": {},
   "outputs": [],
   "source": [
    "# Problem data\n",
    "class problem_hyperbolic1D:\n",
    "    def __init__(self):\n",
    "        # Geometry Interval\n",
    "        self.a = 0; self.b = 1\n",
    "        # diffusion\n",
    "        self.epsilon = 0.01\n",
    "        # convection\n",
    "        self.beta = 1.0\n",
    "        # \n",
    "        self.force = CoefficientFunction(0)\n",
    "        # Boundary condition\n",
    "        self.Dirichlet = \"left|right\"\n",
    "        self.uD_l = 1.0\n",
    "        self.uD_r = 0.0 \n",
    "        self.uexact = lambda x: 1/(1-np.exp(-1/self.epsilon))*(1-np.exp(-(1-x)/self.epsilon))"
   ]
  },
  {
   "cell_type": "code",
   "execution_count": 38,
   "id": "796bf425",
   "metadata": {},
   "outputs": [],
   "source": [
    "from ngsolve import *\n",
    "def uniform_1d_mesh(a=0,b=1,N=10, material='material'):\n",
    "    \"\"\" returns a mesh of interval (a,b) with nel elements\n",
    "    \"\"\"\n",
    "    #m = Mesh()\n",
    "    m = Mesh1d(dim=1)\n",
    "    pnums = []\n",
    "    for i in range(0, N+1):\n",
    "        pnums.append (m.Add (MeshPoint (Pnt(i/N, 0, 0))))\n",
    "    idx = m.AddRegion(\"material\", dim=1)\n",
    "    for i in range(0,N):\n",
    "        m.Add (Element1D ([pnums[i],pnums[i+1]], index=idx))\n",
    "\n",
    "    idx_left = m.AddRegion(\"left\", dim=0)\n",
    "    idx_right = m.AddRegion(\"right\", dim=0)\n",
    "\n",
    "    m.Add (Element0D (pnums[0], index=idx_left))\n",
    "    m.Add (Element0D (pnums[N], index=idx_right))\n",
    "\n",
    "    return m, pnums"
   ]
  },
  {
   "cell_type": "code",
   "execution_count": 45,
   "id": "0bf8f498",
   "metadata": {},
   "outputs": [],
   "source": [
    "import numpy as np\n",
    "import matplotlib.pyplot as plt\n",
    "def plot1D(mesh, gf, exact=None):\n",
    "    xx  = [v.point[0] for v in mesh.vertices] \n",
    "    u0 = [0          for v in mesh.vertices]\n",
    "\n",
    "    fig, ax = plt.subplots(1,1)\n",
    "    uhplot = []\n",
    "    subdiv = gf.space.globalorder\n",
    "    for el in mesh.Elements(VOL):\n",
    "        xvlocal = np.linspace( mesh[el.vertices[0]].point[0]+10**-5, mesh[el.vertices[1]].point[0]-10**-5, subdiv+1)\n",
    "        uhlocal = []\n",
    "        for xlocal in xvlocal:\n",
    "            mip = mesh(xlocal)\n",
    "            uhlocal.append(gf(mip))\n",
    "        line_uh, = ax.plot(xvlocal, uhlocal, color='C0')\n",
    "    line_uh.set_label(r'$u_h$')\n",
    "    \n",
    "    if exact is not None:\n",
    "        \n",
    "        xplot = np.linspace(0,1,200)\n",
    "        ax.plot(xplot, exact(xplot), 'C03')\n",
    "    plt.show()"
   ]
  },
  {
   "cell_type": "code",
   "execution_count": 46,
   "id": "5d4d93a2",
   "metadata": {},
   "outputs": [],
   "source": [
    "def standardGalerkin(problem, mesh, p=1):\n",
    "    # Finite Element Space\n",
    "    Vh = H1(mesh, order=p, dirichlet=problem.Dirichlet)\n",
    "    uh, v = Vh.TnT()\n",
    "    # bilinear form\n",
    "    a = BilinearForm(Vh)\n",
    "    a += problem.epsilon*grad(uh)*grad(v)*dx\n",
    "    #a += h*grad(uh)*grad(v)*dx\n",
    "    a += problem.beta*grad(uh)*v*dx\n",
    "\n",
    "    a.Assemble()\n",
    "    # linear form\n",
    "    f = LinearForm(Vh)\n",
    "    f += problem.force*v*dx\n",
    "    f.Assemble()\n",
    "\n",
    "    gf = GridFunction(Vh,\"u\")\n",
    "    uD  = mesh.BoundaryCF({ \"left\" : problem.uD_l,\"right\" : problem.uD_r})\n",
    "    gf.Set(uD,BND) \n",
    "    r = f.vec.CreateVector()\n",
    "    r.data = f.vec - a.mat * gf.vec\n",
    "    gf.vec.data += a.mat.Inverse(Vh.FreeDofs()) * r\n",
    "    return gf"
   ]
  },
  {
   "cell_type": "code",
   "execution_count": 47,
   "id": "5c299153",
   "metadata": {},
   "outputs": [],
   "source": [
    "def Galerkin_artificialdiffusion(problem, mesh, p=1):\n",
    "    # Finite Element Space\n",
    "    Vh = H1(mesh, order=p, dirichlet=problem.Dirichlet)\n",
    "    uh, v = Vh.TnT()\n",
    "    # bilinear form\n",
    "    h = specialcf.mesh_size\n",
    "    delta = h - problem.epsilon\n",
    "    a = BilinearForm(Vh)\n",
    "    a += problem.epsilon*grad(uh)*grad(v)*dx\n",
    "    a += delta*grad(uh)*grad(v)*dx\n",
    "    a += problem.beta*grad(uh)*v*dx\n",
    "\n",
    "    a.Assemble()\n",
    "    # linear form\n",
    "    f = LinearForm(Vh)\n",
    "    f += problem.force*v*dx\n",
    "    f.Assemble()\n",
    "\n",
    "    gf = GridFunction(Vh,\"u\")\n",
    "    uD  = mesh.BoundaryCF({ \"left\" : problem.uD_l,\"right\" : problem.uD_r})\n",
    "    gf.Set(uD,BND) \n",
    "    r = f.vec.CreateVector()\n",
    "    r.data = f.vec - a.mat * gf.vec\n",
    "    gf.vec.data += a.mat.Inverse(Vh.FreeDofs()) * r\n",
    "    return gf"
   ]
  },
  {
   "cell_type": "code",
   "execution_count": 107,
   "id": "6da93c58",
   "metadata": {},
   "outputs": [],
   "source": [
    "def Galerkin_streamlinediffusion(problem, mesh, p=1, C=0.5):\n",
    "    # Finite Element Space\n",
    "    Vh = H1(mesh, order=p, dirichlet=problem.Dirichlet)\n",
    "    uh, v = Vh.TnT()\n",
    "    #help(uh)\n",
    "    # bilinear form\n",
    "    h = specialcf.mesh_size\n",
    "    delta = C * h/ abs(problem.beta)\n",
    "    \n",
    "    a = BilinearForm(Vh)\n",
    "    if p >1:\n",
    "        a+= -problem.epsilon*delta*(grad(uh)[0].Diff(x))*problem.beta*grad(v)*dx\n",
    "    a += problem.epsilon*grad(uh)*grad(v)*dx\n",
    "    a += problem.beta*grad(uh)*(v+delta *problem.beta*grad(v) )*dx\n",
    "\n",
    "    a.Assemble()\n",
    "    # linear form\n",
    "    f = LinearForm(Vh)\n",
    "    f += problem.force*(v+delta*problem.beta*grad(v))*dx\n",
    "    f.Assemble()\n",
    "\n",
    "    gf = GridFunction(Vh,\"u\")\n",
    "    uD  = mesh.BoundaryCF({ \"left\" : problem.uD_l,\"right\" : problem.uD_r})\n",
    "    gf.Set(uD,BND) \n",
    "    r = f.vec.CreateVector()\n",
    "    r.data = f.vec - a.mat * gf.vec\n",
    "    gf.vec.data += a.mat.Inverse(Vh.FreeDofs()) * r\n",
    "    return gf"
   ]
  },
  {
   "cell_type": "code",
   "execution_count": 132,
   "id": "97cdc5a8",
   "metadata": {},
   "outputs": [],
   "source": [
    "problem = problem_hyperbolic1D()\n",
    "N = 21; h = 1.0/N\n",
    "m, pnums = uniform_1d_mesh(problem.a,problem.b,N)\n",
    "mesh = Mesh(m)\n",
    "\n",
    "gf_sG = standardGalerkin(problem, mesh, p=1)\n",
    "gf_Gad = Galerkin_artificialdiffusion(problem, mesh, p=1)\n"
   ]
  },
  {
   "cell_type": "code",
   "execution_count": 133,
   "id": "c0ed97e1",
   "metadata": {},
   "outputs": [
    {
     "data": {
      "image/png": "[encoded data removed]",
      "text/plain": [
       "<Figure size 432x288 with 1 Axes>"
      ]
     },
     "metadata": {
      "needs_background": "light"
     },
     "output_type": "display_data"
    }
   ],
   "source": [
    "plot1D(mesh, gf_sG, problem.uexact)"
   ]
  },
  {
   "cell_type": "code",
   "execution_count": 134,
   "id": "aa849a68",
   "metadata": {},
   "outputs": [
    {
     "data": {
      "image/png": "[encoded data removed]",
      "text/plain": [
       "<Figure size 432x288 with 1 Axes>"
      ]
     },
     "metadata": {
      "needs_background": "light"
     },
     "output_type": "display_data"
    }
   ],
   "source": [
    "plot1D(mesh, gf_Gad, problem.uexact)"
   ]
  },
  {
   "cell_type": "code",
   "execution_count": 139,
   "id": "4a7214d6",
   "metadata": {
    "scrolled": false
   },
   "outputs": [
    {
     "data": {
      "image/png": "[encoded data removed]",
      "text/plain": [
       "<Figure size 432x288 with 1 Axes>"
      ]
     },
     "metadata": {
      "needs_background": "light"
     },
     "output_type": "display_data"
    }
   ],
   "source": [
    "gf_Gad = Galerkin_streamlinediffusion(problem, mesh, p=1, C= 0.3)\n",
    "plot1D(mesh, gf_Gad, problem.uexact)"
   ]
  },
  {
   "cell_type": "code",
   "execution_count": null,
   "id": "9a3ae925",
   "metadata": {},
   "outputs": [],
   "source": []
  }
 ],
 "metadata": {
  "kernelspec": {
   "display_name": "Python 3 (ipykernel)",
   "language": "python",
   "name": "python3"
  },
  "language_info": {
   "codemirror_mode": {
    "name": "ipython",
    "version": 3
   },
   "file_extension": ".py",
   "mimetype": "text/x-python",
   "name": "python",
   "nbconvert_exporter": "python",
   "pygments_lexer": "ipython3",
   "version": "3.10.4"
  }
 },
 "nbformat": 4,
 "nbformat_minor": 5
}
