{
 "cells": [
  {
   "cell_type": "markdown",
   "id": "eb5a1167",
   "metadata": {},
   "source": [
    "# Steady-state Navier Stokes"
   ]
  },
  {
   "cell_type": "code",
   "execution_count": 14,
   "id": "e5773f0b",
   "metadata": {},
   "outputs": [],
   "source": [
    "# define geometry and generate mesh\n",
    "from ngsolve import *\n",
    "from ngsolve.webgui import *\n",
    "from netgen.occ import *\n",
    "shape = Rectangle(1,1).Face()\n",
    "shape.edges.Min(X).name=\"left\"\n",
    "shape.edges.Max(X).name=\"right\"\n",
    "shape.edges.Min(Y).name=\"bottom\"\n",
    "shape.edges.Max(Y).name=\"top\"\n",
    "geom = OCCGeometry(shape, dim=2)\n",
    "mesh = Mesh(geom.GenerateMesh(maxh=0.3))"
   ]
  },
  {
   "cell_type": "code",
   "execution_count": 20,
   "id": "fb26328f",
   "metadata": {},
   "outputs": [],
   "source": [
    "mesh = Mesh (geom.GenerateMesh(maxh=0.05)); nu = Parameter(1)\n",
    "V = VectorH1(mesh,order=2,dirichlet=\"bottom|right|top|left\")\n",
    "Q = H1(mesh,order=1);\n",
    "N = NumberSpace(mesh);\n",
    "X = V*Q*N\n",
    "(u,p,lam), (v,q,mu) = X.TnT()\n",
    "a = BilinearForm(X)\n",
    "a += (nu*InnerProduct(grad(u),grad(v))+InnerProduct(grad(u)*u,v)\n",
    "      -div(u)*q-div(v)*p-lam*q-mu*p)*dx\n",
    "\n",
    "atri = BilinearForm(Trialspace=V*V, testspace=V)"
   ]
  },
  {
   "cell_type": "code",
   "execution_count": 29,
   "id": "b2c1e26e",
   "metadata": {},
   "outputs": [
    {
     "name": "stdout",
     "output_type": "stream",
     "text": [
      "Help on BilinearForm in module ngsolve.comp object:\n",
      "\n",
      "class BilinearForm(NGS_Object)\n",
      " |  Used to store the left hand side of a PDE. integrators (ngsolve.BFI)\n",
      " |  to it to implement your PDE. If the left hand side is linear\n",
      " |  you can use BilinearForm.Assemble to assemble it after adding\n",
      " |  your integrators. For nonlinear usage use BilinearForm.Apply or\n",
      " |  BilinearForm.AssembleLinearization instead of Bilinearform.Assemble.\n",
      " |  \n",
      " |  Parameters:\n",
      " |  \n",
      " |  space : ngsolve.FESpace\n",
      " |    The finite element space the bilinearform is defined on. This\n",
      " |    can be a compound FESpace for a mixed formulation.\n",
      " |  \n",
      " |  \n",
      " |   Keyword arguments can be:\n",
      " |  condense: bool = False\n",
      " |    (formerly known as 'eliminate_internal')\n",
      " |    Set up BilinearForm for static condensation of internal\n",
      " |    bubbles. Static condensation has to be done by user,\n",
      " |    this enables only the use of the members harmonic_extension,\n",
      " |    harmonic_extension_trans and inner_solve. Have a look at the\n",
      " |    documentation for further information.\n",
      " |  eliminate_internal: bool = False\n",
      " |    deprecated for static condensation, replaced by 'condense'\n",
      " |  \n",
      " |  eliminate_hidden: bool = False\n",
      " |    Set up BilinearForm for static condensation of hidden\n",
      " |    dofs. May be overruled by eliminate_internal.\n",
      " |  print: bool = False\n",
      " |    Write additional information to testout file. \n",
      " |    This file must be set by ngsolve.SetTestoutFile. Use \n",
      " |    ngsolve.SetNumThreads(1) for serial output\n",
      " |  printelmat: bool = False\n",
      " |    Write element matrices to testout file\n",
      " |  symmetric: bool = False\n",
      " |    BilinearForm is symmetric.\n",
      " |    does not imply symmetric_storage, as used to be earlier\n",
      " |  \n",
      " |  symmetric_storage: bool = False\n",
      " |    Store only lower triangular part of sparse matrix.\n",
      " |  nonassemble: bool = False\n",
      " |    BilinearForm will not allocate memory for assembling.\n",
      " |    optimization feature for (nonlinear) problems where the\n",
      " |    form is only applied but never assembled.\n",
      " |  project: bool = False\n",
      " |    When calling bf.Assemble, all saved coarse matrices from\n",
      " |    mesh refinements are updated as well using a Galerkin projection\n",
      " |    of the matrix on the finest grid. This is needed to use the multigrid\n",
      " |    preconditioner with a changing bilinearform.\n",
      " |  nonsym_storage: bool = False\n",
      " |    (deprecated) The full matrix is stored, even if the symmetric flag is set.\n",
      " |  diagonal: bool = False\n",
      " |    Stores only the diagonal of the matrix.\n",
      " |  geom_free: bool = False\n",
      " |    when element matrices are independent of geometry, we store them \n",
      " |    only for the reference elements\n",
      " |  matrix_free_bdb: bool = False\n",
      " |    store BDB factors seperately\n",
      " |  check_unused: bool = True\n",
      " |    If set prints warnings if not UNUSED_DOFS are not used.\n",
      " |  \n",
      " |  Method resolution order:\n",
      " |      BilinearForm\n",
      " |      NGS_Object\n",
      " |      pybind11_builtins.pybind11_object\n",
      " |      builtins.object\n",
      " |  \n",
      " |  Methods defined here:\n",
      " |  \n",
      " |  Add(...)\n",
      " |      Add(*args, **kwargs)\n",
      " |      Overloaded function.\n",
      " |      \n",
      " |      1. Add(self: ngsolve.comp.BilinearForm, integrator: ngsolve.fem.BFI) -> ngsolve.comp.BilinearForm\n",
      " |      \n",
      " |      \n",
      " |               Add integrator to bilinear form.\n",
      " |      \n",
      " |      Parameters:\n",
      " |      \n",
      " |      integrator : ngsolve.fem.BFI\n",
      " |        input bilinear form integrator\n",
      " |      \n",
      " |      \n",
      " |      \n",
      " |      2. Add(self: object, arg0: ngsolve.comp.SumOfIntegrals) -> object\n",
      " |  \n",
      " |  Apply(...)\n",
      " |      Apply(self: ngsolve.comp.BilinearForm, x: ngsolve.la.BaseVector, y: ngsolve.la.BaseVector) -> None\n",
      " |      \n",
      " |      \n",
      " |      Applies a (non-)linear variational formulation to x and stores the result in y.\n",
      " |      \n",
      " |      Parameters:\n",
      " |      \n",
      " |      x : ngsolve.BaseVector\n",
      " |        input vector\n",
      " |      \n",
      " |      y : ngsolve.BaseVector\n",
      " |        output vector\n",
      " |  \n",
      " |  Assemble(...)\n",
      " |      Assemble(self: ngsolve.comp.BilinearForm, reallocate: bool = False) -> ngsolve.comp.BilinearForm\n",
      " |      \n",
      " |      \n",
      " |      Assemble the bilinear form.\n",
      " |      \n",
      " |      Parameters:\n",
      " |      \n",
      " |      reallocate : bool\n",
      " |        input reallocate\n",
      " |  \n",
      " |  AssembleLinearization(...)\n",
      " |      AssembleLinearization(self: ngsolve.comp.BilinearForm, ulin: ngsolve.la.BaseVector, reallocate: bool = False) -> None\n",
      " |      \n",
      " |      \n",
      " |      Computes linearization of the bilinear form at given vecor.\n",
      " |      \n",
      " |      Parameters:\n",
      " |      \n",
      " |      ulin : ngsolve.la.BaseVector\n",
      " |        input vector\n",
      " |  \n",
      " |  ComputeInternal(...)\n",
      " |      ComputeInternal(self: ngsolve.comp.BilinearForm, u: ngsolve.la.BaseVector, f: ngsolve.la.BaseVector) -> None\n",
      " |      \n",
      " |      \n",
      " |      \n",
      " |      Parameters:\n",
      " |      \n",
      " |      u : ngsolve.la.BaseVector\n",
      " |        input vector\n",
      " |      \n",
      " |      f : ngsolve.la.BaseVector\n",
      " |        input right hand side\n",
      " |  \n",
      " |  DeleteMatrix(...)\n",
      " |      DeleteMatrix(self: ngsolve.comp.BilinearForm) -> None\n",
      " |  \n",
      " |  DeleteSpecialElements(...)\n",
      " |      DeleteSpecialElements(self: ngsolve.comp.BilinearForm) -> None\n",
      " |  \n",
      " |  Energy(...)\n",
      " |      Energy(self: ngsolve.comp.BilinearForm, x: ngsolve.la.BaseVector) -> float\n",
      " |      \n",
      " |      \n",
      " |      Computes the energy of EnergyIntegrators like SymbolicEnergy for given input vector.\n",
      " |      \n",
      " |      Parameters:\n",
      " |      \n",
      " |      x : ngsolve.la.BaseVector\n",
      " |        input vector\n",
      " |  \n",
      " |  Flux(...)\n",
      " |      Flux(self: ngsolve.comp.BilinearForm, gf: ngsolve.comp.GridFunction) -> ngsolve.fem.CoefficientFunction\n",
      " |      \n",
      " |      \n",
      " |      \n",
      " |      Parameters:\n",
      " |      \n",
      " |      gf : ngsolve.comp.GridFunction\n",
      " |        input GridFunction\n",
      " |  \n",
      " |  SetPreconditioner(...)\n",
      " |      SetPreconditioner(self: ngsolve.comp.BilinearForm, arg0: ngcomp::Preconditioner) -> None\n",
      " |  \n",
      " |  UnsetPreconditioner(...)\n",
      " |      UnsetPreconditioner(self: ngsolve.comp.BilinearForm, arg0: ngcomp::Preconditioner) -> None\n",
      " |  \n",
      " |  __call__(...)\n",
      " |      __call__(self: ngsolve.comp.BilinearForm, gfu: ngsolve.comp.GridFunction, gfv: ngsolve.comp.GridFunction) -> float\n",
      " |  \n",
      " |  __iadd__(...)\n",
      " |      __iadd__(*args, **kwargs)\n",
      " |      Overloaded function.\n",
      " |      \n",
      " |      1. __iadd__(self: ngsolve.comp.BilinearForm, other: ngsolve.fem.BFI) -> ngsolve.comp.BilinearForm\n",
      " |      \n",
      " |      2. __iadd__(self: ngsolve.comp.BilinearForm, arg0: ngsolve.comp.SumOfIntegrals) -> ngsolve.comp.BilinearForm\n",
      " |      \n",
      " |      3. __iadd__(self: ngsolve.comp.BilinearForm, arg0: ngsolve.comp.Variation) -> ngsolve.comp.BilinearForm\n",
      " |  \n",
      " |  __init__(...)\n",
      " |      __init__(*args, **kwargs)\n",
      " |      Overloaded function.\n",
      " |      \n",
      " |      1. __init__(self: ngsolve.comp.BilinearForm, space: ngsolve.comp.FESpace, name: str = 'biform_from_py', **kwargs) -> None\n",
      " |      \n",
      " |      2. __init__(self: ngsolve.comp.BilinearForm, trialspace: ngsolve.comp.FESpace, testspace: ngsolve.comp.FESpace, name: str = 'biform_from_py', **kwargs) -> None\n",
      " |      \n",
      " |      3. __init__(self: ngsolve.comp.BilinearForm, arg0: ngsolve.comp.SumOfIntegrals, **kwargs) -> None\n",
      " |  \n",
      " |  __str__(...)\n",
      " |      __str__(self: ngsolve.comp.BilinearForm) -> str\n",
      " |  \n",
      " |  ----------------------------------------------------------------------\n",
      " |  Static methods defined here:\n",
      " |  \n",
      " |  __flags_doc__(...) from builtins.PyCapsule\n",
      " |      __flags_doc__() -> dict\n",
      " |  \n",
      " |  ----------------------------------------------------------------------\n",
      " |  Data descriptors defined here:\n",
      " |  \n",
      " |  components\n",
      " |      list of components for bilinearforms on compound-space\n",
      " |  \n",
      " |  condense\n",
      " |      use static condensation ?\n",
      " |  \n",
      " |  harmonic_extension\n",
      " |      harmonic_extension used for static condensaition\n",
      " |  \n",
      " |  harmonic_extension_trans\n",
      " |      harmonic_extension_trans used for static condensation\n",
      " |  \n",
      " |  inner_matrix\n",
      " |      inner_matrix of the bilinear form\n",
      " |  \n",
      " |  inner_solve\n",
      " |      inner_solve used for static condensation\n",
      " |  \n",
      " |  integrators\n",
      " |      integrators of the bilinear form\n",
      " |  \n",
      " |  loform\n",
      " |  \n",
      " |  mat\n",
      " |      matrix of the assembled bilinear form\n",
      " |  \n",
      " |  space\n",
      " |      fespace on which the bilinear form is defined on\n",
      " |  \n",
      " |  ----------------------------------------------------------------------\n",
      " |  Data descriptors inherited from NGS_Object:\n",
      " |  \n",
      " |  __memory__\n",
      " |  \n",
      " |  flags\n",
      " |  \n",
      " |  name\n",
      " |  \n",
      " |  ----------------------------------------------------------------------\n",
      " |  Static methods inherited from pybind11_builtins.pybind11_object:\n",
      " |  \n",
      " |  __new__(*args, **kwargs) from pybind11_builtins.pybind11_type\n",
      " |      Create and return a new object.  See help(type) for accurate signature.\n",
      "\n"
     ]
    }
   ],
   "source": [
    "help(a)"
   ]
  },
  {
   "cell_type": "code",
   "execution_count": 21,
   "id": "30188cef",
   "metadata": {},
   "outputs": [],
   "source": [
    "gfu = GridFunction(X)\n",
    "gfu.components[0].Set(CF((4*x*(1-x),0)),\n",
    "                      definedon=mesh.Boundaries(\"top\"))"
   ]
  },
  {
   "cell_type": "code",
   "execution_count": 22,
   "id": "46e7aadd",
   "metadata": {},
   "outputs": [],
   "source": [
    "def SimpleNewtonSolve(gfu,a,tol=1e-13,maxits=10, callback=lambda gfu: None):\n",
    "    res = gfu.vec.CreateVector()\n",
    "    du = gfu.vec.CreateVector()\n",
    "    fes = gfu.space\n",
    "    callback(gfu)\n",
    "    for it in range(maxits):\n",
    "        print (\"Iteration {:3}  \".format(it),end=\"\")\n",
    "        a.Apply(gfu.vec, res)\n",
    "        a.AssembleLinearization(gfu.vec)\n",
    "        du.data = a.mat.Inverse(fes.FreeDofs()) * res\n",
    "        gfu.vec.data -= du\n",
    "        callback(gfu)\n",
    "        #stopping criteria\n",
    "        stopcritval = sqrt(abs(InnerProduct(du,res)))\n",
    "        print (\"<A u\",it,\", A u\",it,\">_{-1}^0.5 = \", stopcritval)\n",
    "        if stopcritval < tol:\n",
    "            break"
   ]
  },
  {
   "cell_type": "code",
   "execution_count": 23,
   "id": "a53f0f6b",
   "metadata": {},
   "outputs": [],
   "source": [
    "def SolveAndVisualize(multidim=True):\n",
    "    gfu.components[0].Set(CF((4*x*(1-x),0)),\n",
    "                      definedon=mesh.Boundaries(\"top\"))\n",
    "    if multidim:\n",
    "        gfu_it = GridFunction(gfu.space,multidim=0)\n",
    "        cb = lambda gfu : gfu_it.AddMultiDimComponent(gfu.vec) # store current state\n",
    "        SimpleNewtonSolve(gfu, a, callback = cb)\n",
    "    else:\n",
    "        SimpleNewtonSolve(gfu, a)\n",
    "    Draw(gfu.components[0],mesh, vectors = {\"grid_size\" : 25})\n",
    "    print(\"above you see the solution after the Newton solve.\")\n",
    "    if multidim:\n",
    "        Draw(gfu_it.components[0], mesh, vectors = {\"grid_size\" : 25})\n",
    "        print(\"above you can inspect the results after each iteration of the Newton solve (use multidim-slider).\")"
   ]
  },
  {
   "cell_type": "code",
   "execution_count": 24,
   "id": "416185ba",
   "metadata": {},
   "outputs": [
    {
     "name": "stdout",
     "output_type": "stream",
     "text": [
      "Iteration   0  <A u 0 , A u 0 >_{-1}^0.5 =  2.802547898062877\n",
      "Iteration   1  <A u 1 , A u 1 >_{-1}^0.5 =  0.007951210463583325\n",
      "Iteration   2  <A u 2 , A u 2 >_{-1}^0.5 =  6.53514499647618e-08\n",
      "Iteration   3  <A u 3 , A u 3 >_{-1}^0.5 =  8.314829341908468e-16\n"
     ]
    },
    {
     "data": {
      "application/vnd.jupyter.widget-view+json": {
       "model_id": "36a74f422716414497540d28a767267a",
       "version_major": 2,
       "version_minor": 0
      },
      "text/plain": [
       "WebGuiWidget(layout=Layout(height='50vh', width='100%'), value={'gui_settings': {}, 'ngsolve_version': '6.2.23…"
      ]
     },
     "metadata": {},
     "output_type": "display_data"
    },
    {
     "name": "stdout",
     "output_type": "stream",
     "text": [
      "above you see the solution after the Newton solve.\n"
     ]
    },
    {
     "data": {
      "application/vnd.jupyter.widget-view+json": {
       "model_id": "17325a36b23d45c696ef839167cc81bc",
       "version_major": 2,
       "version_minor": 0
      },
      "text/plain": [
       "WebGuiWidget(layout=Layout(height='50vh', width='100%'), value={'gui_settings': {}, 'ngsolve_version': '6.2.23…"
      ]
     },
     "metadata": {},
     "output_type": "display_data"
    },
    {
     "name": "stdout",
     "output_type": "stream",
     "text": [
      "above you can inspect the results after each iteration of the Newton solve (use multidim-slider).\n"
     ]
    }
   ],
   "source": [
    "SolveAndVisualize()"
   ]
  },
  {
   "cell_type": "code",
   "execution_count": 25,
   "id": "d8afa746",
   "metadata": {},
   "outputs": [
    {
     "name": "stdout",
     "output_type": "stream",
     "text": [
      "Iteration   0  <A u 0 , A u 0 >_{-1}^0.5 =  1.0268795752516626\n",
      "Iteration   1  <A u 1 , A u 1 >_{-1}^0.5 =  0.06816677002147578\n",
      "Iteration   2  <A u 2 , A u 2 >_{-1}^0.5 =  0.005114072197127057\n",
      "Iteration   3  <A u 3 , A u 3 >_{-1}^0.5 =  3.764873044603522e-05\n",
      "Iteration   4  <A u 4 , A u 4 >_{-1}^0.5 =  2.431079711873393e-09\n",
      "Iteration   5  <A u 5 , A u 5 >_{-1}^0.5 =  8.642580799498299e-17\n"
     ]
    },
    {
     "data": {
      "application/vnd.jupyter.widget-view+json": {
       "model_id": "192f0e3af1ac47a398cd6084868cfe86",
       "version_major": 2,
       "version_minor": 0
      },
      "text/plain": [
       "WebGuiWidget(layout=Layout(height='50vh', width='100%'), value={'gui_settings': {}, 'ngsolve_version': '6.2.23…"
      ]
     },
     "metadata": {},
     "output_type": "display_data"
    },
    {
     "name": "stdout",
     "output_type": "stream",
     "text": [
      "above you see the solution after the Newton solve.\n"
     ]
    }
   ],
   "source": [
    "nu.Set(0.01)\n",
    "SolveAndVisualize(multidim=False)"
   ]
  },
  {
   "cell_type": "code",
   "execution_count": 26,
   "id": "614418b6",
   "metadata": {},
   "outputs": [
    {
     "name": "stdout",
     "output_type": "stream",
     "text": [
      "Iteration   0  <A u 0 , A u 0 >_{-1}^0.5 =  0.2979728380844454\n",
      "Iteration   1  <A u 1 , A u 1 >_{-1}^0.5 =  0.06816677002147674\n",
      "Iteration   2  <A u 2 , A u 2 >_{-1}^0.5 =  0.005114072197127356\n",
      "Iteration   3  <A u 3 , A u 3 >_{-1}^0.5 =  3.76487304460598e-05\n",
      "Iteration   4  <A u 4 , A u 4 >_{-1}^0.5 =  2.431079709198522e-09\n",
      "Iteration   5  <A u 5 , A u 5 >_{-1}^0.5 =  9.497561260504864e-17\n"
     ]
    },
    {
     "data": {
      "application/vnd.jupyter.widget-view+json": {
       "model_id": "8e0b4465cb484a96ae4596b438da1788",
       "version_major": 2,
       "version_minor": 0
      },
      "text/plain": [
       "WebGuiWidget(layout=Layout(height='50vh', width='100%'), value={'gui_settings': {}, 'ngsolve_version': '6.2.23…"
      ]
     },
     "metadata": {},
     "output_type": "display_data"
    },
    {
     "name": "stdout",
     "output_type": "stream",
     "text": [
      "above you see the solution after the Newton solve.\n"
     ]
    },
    {
     "data": {
      "application/vnd.jupyter.widget-view+json": {
       "model_id": "9f78ceddfe13495f82e25dfa1e14c779",
       "version_major": 2,
       "version_minor": 0
      },
      "text/plain": [
       "WebGuiWidget(layout=Layout(height='50vh', width='100%'), value={'gui_settings': {}, 'ngsolve_version': '6.2.23…"
      ]
     },
     "metadata": {},
     "output_type": "display_data"
    },
    {
     "name": "stdout",
     "output_type": "stream",
     "text": [
      "above you can inspect the results after each iteration of the Newton solve (use multidim-slider).\n"
     ]
    }
   ],
   "source": [
    "nu.Set(0.01)\n",
    "SolveAndVisualize()"
   ]
  },
  {
   "cell_type": "code",
   "execution_count": 27,
   "id": "6ffcd0b7",
   "metadata": {},
   "outputs": [
    {
     "name": "stdout",
     "output_type": "stream",
     "text": [
      "Iteration   0  <A u 0 , A u 0 >_{-1}^0.5 =  0.1281734500727043\n",
      "Iteration   1  <A u 1 , A u 1 >_{-1}^0.5 =  0.01608829849944338\n",
      "Iteration   2  <A u 2 , A u 2 >_{-1}^0.5 =  0.10332933234259505\n",
      "Iteration   3  <A u 3 , A u 3 >_{-1}^0.5 =  0.07542576870056626\n",
      "Iteration   4  <A u 4 , A u 4 >_{-1}^0.5 =  0.13950593885792073\n",
      "Iteration   5  <A u 5 , A u 5 >_{-1}^0.5 =  0.3131649033278089\n",
      "Iteration   6  <A u 6 , A u 6 >_{-1}^0.5 =  0.30029712713713846\n",
      "Iteration   7  <A u 7 , A u 7 >_{-1}^0.5 =  1.0602097238811419\n",
      "Iteration   8  <A u 8 , A u 8 >_{-1}^0.5 =  9.064920585248915\n",
      "Iteration   9  <A u 9 , A u 9 >_{-1}^0.5 =  19.12244884215964\n"
     ]
    },
    {
     "data": {
      "application/vnd.jupyter.widget-view+json": {
       "model_id": "c92699e217124b84abad8204c0b1af29",
       "version_major": 2,
       "version_minor": 0
      },
      "text/plain": [
       "WebGuiWidget(layout=Layout(height='50vh', width='100%'), value={'gui_settings': {}, 'ngsolve_version': '6.2.23…"
      ]
     },
     "metadata": {},
     "output_type": "display_data"
    },
    {
     "name": "stdout",
     "output_type": "stream",
     "text": [
      "above you see the solution after the Newton solve.\n"
     ]
    },
    {
     "data": {
      "application/vnd.jupyter.widget-view+json": {
       "model_id": "efd1438672774af78c228f5567b65892",
       "version_major": 2,
       "version_minor": 0
      },
      "text/plain": [
       "WebGuiWidget(layout=Layout(height='50vh', width='100%'), value={'gui_settings': {}, 'ngsolve_version': '6.2.23…"
      ]
     },
     "metadata": {},
     "output_type": "display_data"
    },
    {
     "name": "stdout",
     "output_type": "stream",
     "text": [
      "above you can inspect the results after each iteration of the Newton solve (use multidim-slider).\n"
     ]
    }
   ],
   "source": [
    "nu.Set(0.001)\n",
    "SolveAndVisualize()"
   ]
  },
  {
   "cell_type": "code",
   "execution_count": 28,
   "id": "5ff66973",
   "metadata": {},
   "outputs": [
    {
     "name": "stdout",
     "output_type": "stream",
     "text": [
      "Newton iteration  0\n",
      "err =  1.1345116445211663\n",
      "Newton iteration  1\n",
      "err =  1.0210127245858895\n",
      "Newton iteration  2\n",
      "err =  0.8169900301494071\n",
      "Newton iteration  3\n",
      "err =  0.5725434265517533\n",
      "Newton iteration  4\n",
      "err =  0.34475148558548424\n",
      "Newton iteration  5\n",
      "err =  0.1757605336678652\n",
      "Newton iteration  6\n",
      "err =  0.08477519634087283\n",
      "Newton iteration  7\n",
      "err =  0.026892595537730907\n",
      "Newton iteration  8\n",
      "err =  0.00966646481878095\n",
      "Newton iteration  9\n",
      "err =  0.0010678300617646959\n",
      "Newton iteration  10\n",
      "err =  2.0919968390943966e-05\n",
      "Newton iteration  11\n",
      "err =  1.0127179809682405e-08\n",
      "Newton iteration  12\n",
      "err =  1.909113711786587e-15\n"
     ]
    },
    {
     "data": {
      "application/vnd.jupyter.widget-view+json": {
       "model_id": "5a7de696d9b841e79863d0251f177ee9",
       "version_major": 2,
       "version_minor": 0
      },
      "text/plain": [
       "WebGuiWidget(layout=Layout(height='50vh', width='100%'), value={'gui_settings': {}, 'ngsolve_version': '6.2.23…"
      ]
     },
     "metadata": {},
     "output_type": "display_data"
    },
    {
     "data": {
      "text/plain": [
       "BaseWebGuiScene"
      ]
     },
     "execution_count": 28,
     "metadata": {},
     "output_type": "execute_result"
    }
   ],
   "source": [
    "from ngsolve.solvers import *\n",
    "nu.Set(0.001)\n",
    "gfu.components[0].Set(CF((4*x*(1-x),0)),definedon=mesh.Boundaries(\"top\"))\n",
    "Newton(a,gfu,maxit=20,dampfactor=0.1)\n",
    "Draw(gfu.components[0],mesh, vectors = {\"grid_size\" : 25})"
   ]
  },
  {
   "cell_type": "markdown",
   "id": "e7e500f8",
   "metadata": {},
   "source": [
    "## Exploring basis functions"
   ]
  },
  {
   "cell_type": "code",
   "execution_count": 12,
   "id": "3ab5827d",
   "metadata": {},
   "outputs": [],
   "source": [
    "# define geometry and generate mesh\n",
    "from ngsolve import *\n",
    "from ngsolve.webgui import *\n",
    "from netgen.occ import *\n",
    "shape = Rectangle(1,1).Face()\n",
    "shape.edges.Min(X).name=\"left\"\n",
    "shape.edges.Max(X).name=\"right\"\n",
    "shape.edges.Min(Y).name=\"bottom\"\n",
    "shape.edges.Max(Y).name=\"top\"\n",
    "geom = OCCGeometry(shape, dim=2)\n",
    "mesh = Mesh(geom.GenerateMesh(maxh=0.3))\n",
    "\n",
    "mesh = Mesh (geom.GenerateMesh(maxh=0.4)); # mesh with 12 vertices\n",
    "Nvertices = len(mesh.vertices)\n",
    "# print(\"number of vertices:\", Nvertices)\n",
    "\n",
    "V = VectorH1(mesh,order=2,dirichlet=\"bottom|right|top|left\")\n",
    "Q = H1(mesh,order=1);\n",
    "\n"
   ]
  },
  {
   "cell_type": "markdown",
   "id": "8ebdb85f",
   "metadata": {},
   "source": [
    "### Vertex basis function, first component"
   ]
  },
  {
   "cell_type": "code",
   "execution_count": 13,
   "id": "49c28bfd",
   "metadata": {},
   "outputs": [
    {
     "name": "stdout",
     "output_type": "stream",
     "text": [
      "Number of dof V:  74\n"
     ]
    },
    {
     "data": {
      "application/vnd.jupyter.widget-view+json": {
       "model_id": "bb704ec3493246d1ba5cfaa206277c6a",
       "version_major": 2,
       "version_minor": 0
      },
      "text/plain": [
       "WebGuiWidget(layout=Layout(height='50vh', width='100%'), value={'gui_settings': {}, 'ngsolve_version': '6.2.23…"
      ]
     },
     "metadata": {},
     "output_type": "display_data"
    },
    {
     "data": {
      "text/plain": [
       "BaseWebGuiScene"
      ]
     },
     "execution_count": 13,
     "metadata": {},
     "output_type": "execute_result"
    }
   ],
   "source": [
    "print(\"Number of dof V: \", V.ndof)\n",
    "gfvertex_1 = GridFunction(V,  multidim=Nvertices)\n",
    "for i in range(Nvertices):\n",
    "    gfvertex_1.vecs[i].data[:] = 0\n",
    "    gfvertex_1.vecs[i].data[i] = 1.0\n",
    "Draw(gfvertex_1)"
   ]
  },
  {
   "cell_type": "markdown",
   "id": "ab8e20d6",
   "metadata": {},
   "source": [
    "### Edge basis function, first component"
   ]
  },
  {
   "cell_type": "code",
   "execution_count": 17,
   "id": "492fde2a",
   "metadata": {},
   "outputs": [
    {
     "data": {
      "application/vnd.jupyter.widget-view+json": {
       "model_id": "30d183bb157446d7b78eaad0eb2a4d97",
       "version_major": 2,
       "version_minor": 0
      },
      "text/plain": [
       "WebGuiWidget(layout=Layout(height='50vh', width='100%'), value={'gui_settings': {}, 'ngsolve_version': '6.2.23…"
      ]
     },
     "metadata": {},
     "output_type": "display_data"
    },
    {
     "data": {
      "text/plain": [
       "BaseWebGuiScene"
      ]
     },
     "execution_count": 17,
     "metadata": {},
     "output_type": "execute_result"
    }
   ],
   "source": [
    "Nedges = len(mesh.edges)\n",
    "gfedge_1 = GridFunction(V,  multidim=Nedges)\n",
    "for i in range(Nedges):\n",
    "    gfedge_1.vecs[i].data[:] = 0\n",
    "    gfedge_1.vecs[i].data[Nvertices+i] = 1.0\n",
    "Draw(gfedge_1, autoscale=True)"
   ]
  },
  {
   "cell_type": "markdown",
   "id": "3d25d1b1",
   "metadata": {},
   "source": [
    "### Vertex basis function, second component"
   ]
  },
  {
   "cell_type": "code",
   "execution_count": 14,
   "id": "218b3b6e",
   "metadata": {},
   "outputs": [
    {
     "data": {
      "application/vnd.jupyter.widget-view+json": {
       "model_id": "be51763776014f0bba1dde9620d785f6",
       "version_major": 2,
       "version_minor": 0
      },
      "text/plain": [
       "WebGuiWidget(layout=Layout(height='50vh', width='100%'), value={'gui_settings': {}, 'ngsolve_version': '6.2.23…"
      ]
     },
     "metadata": {},
     "output_type": "display_data"
    },
    {
     "data": {
      "text/plain": [
       "BaseWebGuiScene"
      ]
     },
     "execution_count": 14,
     "metadata": {},
     "output_type": "execute_result"
    }
   ],
   "source": [
    "gfvertex_2 = GridFunction(V,  multidim=Nvertices)\n",
    "for i in range(Nvertices):\n",
    "    gfvertex_2.vecs[i].data[:] = 0\n",
    "    gfvertex_2.vecs[i].data[Nvertices+Nedges+i] = 1.0\n",
    "Draw(gfvertex_2)"
   ]
  },
  {
   "cell_type": "markdown",
   "id": "0fee1e6c",
   "metadata": {},
   "source": [
    "### Edge basis function, second component\n"
   ]
  },
  {
   "cell_type": "code",
   "execution_count": 15,
   "id": "20000efe",
   "metadata": {},
   "outputs": [
    {
     "data": {
      "application/vnd.jupyter.widget-view+json": {
       "model_id": "a02c578273f5463f8ff3366d1f61c846",
       "version_major": 2,
       "version_minor": 0
      },
      "text/plain": [
       "WebGuiWidget(layout=Layout(height='50vh', width='100%'), value={'gui_settings': {}, 'ngsolve_version': '6.2.23…"
      ]
     },
     "metadata": {},
     "output_type": "display_data"
    },
    {
     "data": {
      "text/plain": [
       "BaseWebGuiScene"
      ]
     },
     "execution_count": 15,
     "metadata": {},
     "output_type": "execute_result"
    }
   ],
   "source": [
    "Nedges = len(mesh.edges)\n",
    "gfedge_2 = GridFunction(V,  multidim=Nedges)\n",
    "for i in range(Nedges):\n",
    "    gfedge_2.vecs[i].data[:] = 0\n",
    "    gfedge_2.vecs[i].data[2*Nvertices+Nedges+i] = 1.0\n",
    "Draw(gfedge_2)"
   ]
  },
  {
   "cell_type": "markdown",
   "id": "30462a31",
   "metadata": {},
   "source": [
    "## Create tensor for evaluation convection term"
   ]
  },
  {
   "cell_type": "code",
   "execution_count": 40,
   "id": "5fd49fc6",
   "metadata": {},
   "outputs": [],
   "source": [
    "\n",
    "import numpy as np\n",
    "mesh = Mesh (geom.GenerateMesh(maxh=0.5)); nu = Parameter(1)\n",
    "V = VectorH1(mesh,order=2,dirichlet=\"bottom|right|top|left\")\n",
    "Vdim = V.ndof\n",
    "V2 = V*V\n",
    "u, w = V2.TrialFunction() \n",
    "v = V.TestFunction()\n",
    "aconv = BilinearForm(trialspace=V2, testspace=V)\n",
    "aconv += (InnerProduct(grad(w)*u,v))*dx\n"
   ]
  },
  {
   "cell_type": "code",
   "execution_count": 41,
   "id": "98cbd887",
   "metadata": {},
   "outputs": [],
   "source": [
    "gfuw = GridFunction(V2)\n",
    "A = np.zeros((Vdim, Vdim, Vdim), np.float64)\n",
    "r = GridFunction(V).vec.CreateVector()\n",
    "for i in range(Vdim):\n",
    "    gfuw.vec.data[:] = 0\n",
    "    gfuw.vec.data[i] = 1.0\n",
    "    for j in range(Vdim):\n",
    "        gfuw.vec.data[Vdim+j] = 1.0\n",
    "        aconv.Apply(gfuw.vec, r)\n",
    "        A[i,j,:] = r\n",
    "        gfuw.vec.data[Vdim+j] = 0.0"
   ]
  },
  {
   "cell_type": "code",
   "execution_count": 42,
   "id": "3fbe25eb",
   "metadata": {},
   "outputs": [],
   "source": [
    "def evaluationA(A, u):\n",
    "    return u.dot(u.dot(A))"
   ]
  },
  {
   "cell_type": "code",
   "execution_count": 48,
   "id": "f6f315b3",
   "metadata": {},
   "outputs": [
    {
     "name": "stdout",
     "output_type": "stream",
     "text": [
      "0.051412344499214245\n"
     ]
    }
   ],
   "source": [
    "gfutest = GridFunction(V)\n",
    "u =  np.zeros(Vdim)\n",
    "u[1] = 1.0\n",
    "gfutest.vec.data = u\n",
    "\n",
    "rNout = gfutest.vec.CreateVector()\n",
    "aconv.Apply(gfutest.vec, rNout)\n",
    "\n",
    "rAout = evaluationA(A,u)\n",
    "print(np.linalg.norm(rAout-rNout))"
   ]
  },
  {
   "cell_type": "code",
   "execution_count": 49,
   "id": "b702dd2f",
   "metadata": {},
   "outputs": [
    {
     "name": "stdout",
     "output_type": "stream",
     "text": [
      "       0\n",
      " -5.36925e-233\n",
      "       0\n",
      "       0\n",
      " -2.68463e-233\n",
      " -2.68463e-233\n",
      "       0\n",
      "       0\n",
      "       0\n",
      "       0\n",
      " 5.36925e-234\n",
      " 5.36925e-234\n",
      "       0\n",
      "       0\n",
      "       0\n",
      "       0\n",
      " 2.68463e-234\n",
      "       0\n",
      "       0\n",
      "       0\n",
      "       0\n",
      "       0\n",
      " 3.231e-07\n",
      "       0\n",
      "       0\n",
      " 1.6155e-07\n",
      " 3.231e-07\n",
      "       0\n",
      "       0\n",
      "       0\n",
      "       0\n",
      " -2.6925e-08\n",
      " -5.385e-08\n",
      "       0\n",
      "       0\n",
      "       0\n",
      "       0\n",
      " -2.6925e-08\n",
      "       0\n",
      "       0\n",
      "       0\n",
      "       0\n",
      "\n",
      "\n",
      "[ 0.          0.04166667  0.          0.          0.02083333  0.02083333\n",
      "  0.          0.          0.          0.         -0.00416667 -0.00416667\n",
      "  0.          0.          0.          0.         -0.00208333  0.\n",
      "  0.          0.          0.          0.          0.          0.\n",
      "  0.          0.          0.          0.          0.          0.\n",
      "  0.          0.          0.          0.          0.          0.\n",
      "  0.          0.          0.          0.          0.          0.        ]\n"
     ]
    }
   ],
   "source": [
    "print(rNout)\n",
    "print(rAout)"
   ]
  },
  {
   "cell_type": "code",
   "execution_count": null,
   "id": "2af4d1d3",
   "metadata": {},
   "outputs": [],
   "source": []
  }
 ],
 "metadata": {
  "kernelspec": {
   "display_name": "Python 3 (ipykernel)",
   "language": "python",
   "name": "python3"
  },
  "language_info": {
   "codemirror_mode": {
    "name": "ipython",
    "version": 3
   },
   "file_extension": ".py",
   "mimetype": "text/x-python",
   "name": "python",
   "nbconvert_exporter": "python",
   "pygments_lexer": "ipython3",
   "version": "3.7.9"
  },
  "varInspector": {
   "cols": {
    "lenName": 16,
    "lenType": 16,
    "lenVar": 40
   },
   "kernels_config": {
    "python": {
     "delete_cmd_postfix": "",
     "delete_cmd_prefix": "del ",
     "library": "var_list.py",
     "varRefreshCmd": "print(var_dic_list())"
    },
    "r": {
     "delete_cmd_postfix": ") ",
     "delete_cmd_prefix": "rm(",
     "library": "var_list.r",
     "varRefreshCmd": "cat(var_dic_list()) "
    }
   },
   "types_to_exclude": [
    "module",
    "function",
    "builtin_function_or_method",
    "instance",
    "_Feature"
   ],
   "window_display": false
  }
 },
 "nbformat": 4,
 "nbformat_minor": 5
}
