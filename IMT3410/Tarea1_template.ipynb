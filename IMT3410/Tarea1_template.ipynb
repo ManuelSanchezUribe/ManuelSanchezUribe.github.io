{
 "cells": [
  {
   "cell_type": "markdown",
   "id": "fb9c0971",
   "metadata": {},
   "source": [
    "<center><h1 style=\"color:#173F8A;\"> Metodos para Ecuaciones Diferenciales, IMT3410, 2024-2 </h1></center>\n",
    "<center><h2 style=\"color:#03122E;\"> Tarea 1 </h2></center>\n",
    "<h3 style=\"color:#0176DE;text-align:right;\"> Nombre estudiante. <br> </h3>\n",
    "<hr style=\"border:2px solid #03122E\"> </hr>\n",
    "\n",
    "<!-- Palette colors UC: celeste:#0176DE, azul #173F8A, azul oscuro: #03122E, amarillo: #FEC60D, amarillo oscuro: #E3AE00 -->\n",
    "<!--\n",
    "<figure>\n",
    "<img align =\"right\" src=\"IMClogo.png\" alt=\"logo\" width=\"250\" height=\"400\"><br><br><br><br><br>\n",
    "</figure>\n",
    " -->"
   ]
  },
  {
   "cell_type": "markdown",
   "id": "3d96f55a",
   "metadata": {},
   "source": [
    "## **Preguntas**\n",
    "1. [Programacion de Metodos para PVI escalar](#Pregunta-1)\n",
    "2. [Sistemas no lineales](#Pregunta-2)\n",
    "3. [Solucion por iteracion de Picard](#Pregunta-3)\n",
    "4. [Desigualdad de Gronwall](#Pregunta-4)\n",
    "5. [Demostracion RK3](#Pregunta-5)"
   ]
  },
  {
   "cell_type": "code",
   "execution_count": 2,
   "id": "6e10f0dc",
   "metadata": {},
   "outputs": [],
   "source": [
    "# imports\n",
    "import pandas as pd\n",
    "import numpy as np\n",
    "import matplotlib.pyplot as plt"
   ]
  },
  {
   "cell_type": "markdown",
   "id": "b5b497f1",
   "metadata": {},
   "source": [
    "## Pregunta 1\n",
    "### Programacion de Metodos para PVI escalar\n",
    "\n",
    "\n",
    "Programe los siguientes métodos numéricos para resolver un problema de valor inicial\n",
    "1. Euler explícito\n",
    "\n",
    "2. Método de la regla trapezoidal \n",
    "\n",
    "3.  Runge-Kutta explícito con diagrama dado por:\n",
    "$$\n",
    "\\begin{array}{c|cccc}\n",
    "0&\\\\\n",
    "2/3&2/3\\\\\n",
    "2/3&0&2/3\\\\\n",
    "\\hline\n",
    "&1/4&3/8&3/8\n",
    "\\end{array} \n",
    "$$\n",
    "\n",
    "4. Runge-Kutta explícito con diagrama dado por:\n",
    "$$\n",
    "\\begin{array}{c|ccccc}\n",
    "0&\\\\\n",
    "1/2&1/2\\\\\n",
    "1/2&0&1/2\\\\\n",
    "1 & 0 & 0 &1 \\\\\n",
    "\\hline\n",
    "&1/6&1/3&1/3&1/6\n",
    "\\end{array} \n",
    "$$\n",
    "\n",
    "5. Runge-Kutta implícito (diagonal) con diagrama dada por:\n",
    "$$\n",
    "\\begin{array}{c|ccc}\n",
    "\\gamma& \\gamma & \\\\\n",
    "1-\\gamma&1-2\\gamma& \\gamma\\\\[.5em]\n",
    "\\hline\n",
    "&1/2&1/2\n",
    "\\end{array} , \\quad \\gamma = \\frac{3+\\sqrt{3}}{6}\n",
    "$$\n",
    "\n",
    "6. Runge-Kutta implícito con diagrama dada por:\n",
    "$$\n",
    "\\begin{array}{c|ccc}\n",
    "\\displaystyle (3-\\sqrt{3})/6&\\displaystyle 1/4& \\displaystyle (3-2\\sqrt{3})/12\\\\\n",
    "\\displaystyle (3+\\sqrt{3})/6&\\displaystyle (3+2\\sqrt{3})/12&\\displaystyle 1/4\\\\\n",
    "\\hline \n",
    "&\\displaystyle 1/2&\\displaystyle 1/2\n",
    "\\end{array} \n",
    "$$\n",
    "\n",
    "7. M\\'etodo de paso m\\'ultiple de Adams-Bashforth\n",
    "\n",
    "8. M\\'etodo de paso m\\'ultiple de Adams-Moulton\n",
    "\n",
    "Testee los m\\'etodos con el siguiente problema de valor inicial\n",
    "$$\n",
    "\\dot{x} = x^{2} - \\frac{t^4 - 6t^3 + 12 t^{2} - 14 t + 9}{(1+t)^2}  ,\\qquad x(0) = 2\n",
    "$$\n",
    "\n",
    "Calcule la aproximación en [0, 2] usando los metodos num\\'ericos del 1 al 8. Muestre la convergencia de los métodos numéricos refinando el tamaño de paso $h$ y calcule la raz\\'on de convergencia aproximada $r$, esto es, complete la siguiente Tabla. Use el maximo de los errores sobre los paso de tiempo.\n",
    "\n",
    "Ademas, muestre una comparacion de los metodos en un grafico log-log para los errores versus los valores de $h$."
   ]
  },
  {
   "cell_type": "code",
   "execution_count": null,
   "id": "804e3ea3",
   "metadata": {},
   "outputs": [],
   "source": [
    "Metodos = ['Euler exp.', 'Trapezoidal','RK3', 'RK4', 'DIRK2', 'GLRK2','A-B', 'A-M']\n",
    "hvals = [ 1.0/2.0**l for l in range(1,9)]\n",
    "errorrates = [ ('','h')]\n",
    "for m in Metodos:\n",
    "    errorrates.append((m, 'error'))\n",
    "    errorrates.append((m, 'rate'))\n",
    "df = pd.DataFrame(np.zeros((8,17)), columns = errorrates)\n",
    "df.columns = pd.MultiIndex.from_tuples(df.columns, names=['Metodo',''])\n",
    "df[('','h')] = hvals\n",
    "df"
   ]
  },
  {
   "cell_type": "markdown",
   "id": "185cf5a8",
   "metadata": {},
   "source": [
    "### Solucion:"
   ]
  },
  {
   "cell_type": "code",
   "execution_count": null,
   "id": "65f5e2f2",
   "metadata": {},
   "outputs": [],
   "source": []
  },
  {
   "cell_type": "markdown",
   "id": "6fae0516",
   "metadata": {},
   "source": [
    "---\n",
    "## Pregunta 2\n",
    "### Sistemas no lineales\n",
    "\n",
    "\n",
    "Considere la siguiente lista de problemas de valores iniciales:\n",
    "1. Oscilador de van der pol.\n",
    "\\begin{alignat*}{4}\n",
    "    y_1' & = y_2,               \\quad & y_1(0) = 1/2\\\\\n",
    "    y_2' & = (1-y_1^2)y_2 - y_1,\\quad & y_2(0) = 1/2,\n",
    "\\end{alignat*}\n",
    "para $t\\in[0,10]$. Grafique $y_1\\,$vs.$\\, y_2$ y su respectiva evoluci\\'on en $t$. \n",
    "\n",
    "2. Ecuaciones de FitzHugh-Nagumo\n",
    "\\begin{alignat*}{4}\n",
    "     w' & = v + a - b w,                              \\quad & w(0) = 1/2,\\\\\n",
    "    \\tau v' & = v - \\frac{v^{3}}{3} - w + I_{\\text{ext}},\\quad & v(0) = 1/2, \n",
    "    \\end{alignat*}\n",
    "    con par\\'ametros $I_{\\text{ext}} = 0.5$, $a=0.7$, $b=0.8$ y $\\tau=12.5$, para $t\\in[0,10]$. Grafique $w\\,$vs.$\\, v$ y su respectiva evolución en $t$. \n",
    "\n",
    "3. Péndulo esférico \n",
    "Considere las coordenadas $x = \\sin(\\theta)\\cos(\\varphi)$ y $y = \\sin(\\theta)\\sin(\\varphi)$\n",
    "\\begin{alignat*}{4}\n",
    "\\ddot{\\theta}  & =  ((\\dot{\\varphi})^{2}\\cos(\\theta)  -1)\\sin(\\theta), & \\quad \\theta(0) &=1,\\,\\dot{\\theta}(0) = 0,\\\\\n",
    "\\ddot{\\varphi} & =  -2\\dot{\\theta}\\dot{\\varphi}\\cot(\\theta), &\\quad \\varphi(0) &= 0,\\,\\dot{\\varphi}(0) = 0.17.\n",
    "\\end{alignat*}\n",
    "Grafique $x\\,$vs.$\\, y$ para $t\\in[0,100]$. Además grafique la evolución de la energía del sistema\n",
    "$$\n",
    "H = \\frac{1}{2}\\left( (\\dot{\\theta})^{2} + (\\dot{\\varphi})^{2} \\right) - \\cos(\\theta)\n",
    "$$\n",
    "\n",
    "Escoja un método numérico por cada sistema no lineal y aproxime su solución. Justifique su elecci\\'on.\n"
   ]
  },
  {
   "cell_type": "markdown",
   "id": "e99d756e",
   "metadata": {},
   "source": [
    "### Solucion:"
   ]
  },
  {
   "cell_type": "markdown",
   "id": "51e10d5f",
   "metadata": {},
   "source": [
    "---\n",
    "## Pregunta 3\n",
    "### Solucion por iteracion de Picard\n",
    "\n",
    "Considere el sistema de $n$ ecuaciones diferenciales de primer orden homogéneo con coeficientes constantes\n",
    "$$\n",
    "\\dot{x}(t) = A x(t), \\quad x(0) = x_0\\in \\mathbb R^{n}\n",
    "$$\n",
    "con $A\\in \\mathbb R^{n\\times n}$. Encuentre la solución usando la iteración de Picard y escríbala en términos de la matriz exponencial."
   ]
  },
  {
   "cell_type": "markdown",
   "id": "a53d7d2f",
   "metadata": {},
   "source": [
    "### Solucion:"
   ]
  },
  {
   "cell_type": "code",
   "execution_count": null,
   "id": "335cc7ef",
   "metadata": {},
   "outputs": [],
   "source": []
  },
  {
   "cell_type": "markdown",
   "id": "12124242",
   "metadata": {},
   "source": [
    "---\n",
    "## Pregunta 4\n",
    "### Desigualdad de Gronwall\n",
    "\n",
    "Suponga que \n",
    "$$\n",
    "\\psi(t) \\leq \\alpha(t)+ \\int_{0}^{t}\\beta(s)\\psi(s)ds\n",
    "$$\n",
    "donde $\\alpha(t)\\in \\mathbb R$ y  $\\beta(t)\\geq 0$. Entonces:\n",
    "$$\n",
    "\\psi(t) \\leq \\alpha(t) + \\int_{0}^{t} \\alpha(s)\\beta(s) \\exp(\\int_{s}^{t}\\beta(r)dr)ds.\n",
    "$$\n",
    "\n",
    "Considerando la desigualdad de Gronwall, pruebe que\n",
    "1. Si $\\alpha(s)\\leq \\alpha(t)$, para $s\\leq t$, entonces\n",
    "    $$\n",
    "    \\psi(t) \\leq \\alpha(t) \\exp(\\int_{0}^{t}\\beta(s) ds), \\quad t\\in [0, T]. \n",
    "    $$\n",
    "2. Si $\\alpha\\in \\mathbb R$, $\\beta\\geq 0$, y $\\gamma \\in \\mathbb R$ son constantes, y\n",
    "    $$\n",
    "    \\psi(t) \\leq \\alpha + \\int_0^t(\\beta \\psi(s)+ \\gamma)ds, \\quad t\\in[0,T],\n",
    "    $$\n",
    "    entonces\n",
    "    $$\n",
    "    \\psi(t) \\leq \\alpha \\exp(\\beta t) + \\frac{\\gamma}{\\beta} (\\exp(\\beta t)  -1), \\quad t\\in[0,T].\n",
    "    $$"
   ]
  },
  {
   "cell_type": "markdown",
   "id": "491dc9e7",
   "metadata": {},
   "source": [
    "### Solucion:"
   ]
  },
  {
   "cell_type": "code",
   "execution_count": null,
   "id": "fbb77333",
   "metadata": {},
   "outputs": [],
   "source": []
  },
  {
   "cell_type": "markdown",
   "id": "20af3dfe",
   "metadata": {},
   "source": [
    "---\n",
    "## Pregunta 5\n",
    "### Demostracion RK3\n",
    "\n",
    "Considere alguno de el m\\'etodo dado por la siguiente tabla\n",
    "$$\n",
    "\\begin{array}{c|ccc}\n",
    "0& & \\\\\n",
    "1/3&1/3 & \\\\\n",
    "2/3 & 0 & 2/3 \\\\\n",
    "\\hline\n",
    "&1/4&0&3/4\n",
    "\\end{array} \n",
    "$$\n",
    "Pruebe que el método es convergente de orden 3.  "
   ]
  },
  {
   "cell_type": "markdown",
   "id": "5fb871fc",
   "metadata": {},
   "source": [
    "### Solucion:"
   ]
  },
  {
   "cell_type": "code",
   "execution_count": null,
   "id": "44361f29",
   "metadata": {},
   "outputs": [],
   "source": []
  }
 ],
 "metadata": {
  "kernelspec": {
   "display_name": "Python 3 (ipykernel)",
   "language": "python",
   "name": "python3"
  },
  "language_info": {
   "codemirror_mode": {
    "name": "ipython",
    "version": 3
   },
   "file_extension": ".py",
   "mimetype": "text/x-python",
   "name": "python",
   "nbconvert_exporter": "python",
   "pygments_lexer": "ipython3",
   "version": "3.7.9"
  },
  "varInspector": {
   "cols": {
    "lenName": 16,
    "lenType": 16,
    "lenVar": 40
   },
   "kernels_config": {
    "python": {
     "delete_cmd_postfix": "",
     "delete_cmd_prefix": "del ",
     "library": "var_list.py",
     "varRefreshCmd": "print(var_dic_list())"
    },
    "r": {
     "delete_cmd_postfix": ") ",
     "delete_cmd_prefix": "rm(",
     "library": "var_list.r",
     "varRefreshCmd": "cat(var_dic_list()) "
    }
   },
   "types_to_exclude": [
    "module",
    "function",
    "builtin_function_or_method",
    "instance",
    "_Feature"
   ],
   "window_display": false
  }
 },
 "nbformat": 4,
 "nbformat_minor": 5
}
