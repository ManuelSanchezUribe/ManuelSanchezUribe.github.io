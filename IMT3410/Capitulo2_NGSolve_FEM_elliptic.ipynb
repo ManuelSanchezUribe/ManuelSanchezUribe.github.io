{
 "cells": [
  {
   "cell_type": "markdown",
   "id": "125a0e44",
   "metadata": {},
   "source": [
    "## Capitulo 2: NGsolve FEM for elliptic problem\n",
    "\n",
    "Sea $\\Omega$ un dominio en $\\mathbb R^{d}$. Considere el operador diferencial $L$\n",
    "$$\n",
    "L u = - \\nabla\\cdot (\\sigma \\nabla u) + \\beta\\cdot\\nabla u + \\mu u\n",
    "$$\n",
    "donde $\\sigma:\\Omega \\to \\mathbb R^{d,d}$, $\\beta:\\Omega\\to \\mathbb R^{d}$, $\\mu\\in \\mathbb R$. Dada una funci\\'on $f:\\Omega \\to \\mathbb R$ y considere el problema\n",
    "de hallar una funci\\'on $u:\\Omega\\to \\mathbb R$ tal que\n",
    "$$\n",
    "L u =f, \\quad \\text{en }\\Omega,\\qquad \\mathcal B u =g,\\quad \\text{sobre }\\partial \\Omega.\n",
    "$$"
   ]
  },
  {
   "cell_type": "code",
   "execution_count": 16,
   "id": "9527e717",
   "metadata": {},
   "outputs": [],
   "source": [
    "from ngsolve import *\n",
    "from ngsolve.webgui import Draw"
   ]
  },
  {
   "cell_type": "code",
   "execution_count": 105,
   "id": "6c7e29d9",
   "metadata": {},
   "outputs": [],
   "source": [
    "mesh = Mesh(unit_square.GenerateMesh(maxh=0.25))\n",
    "# Draw (mesh);"
   ]
  },
  {
   "cell_type": "code",
   "execution_count": 106,
   "id": "f53ec69d",
   "metadata": {},
   "outputs": [],
   "source": [
    "def H1_ellipticSolver(mesh, order):\n",
    "    sigma = 0.1\n",
    "    beta = CF((1.0,1.0))\n",
    "    mu = 0.5\n",
    "    \n",
    "    Vh = H1(mesh, order=order, dirichlet='left|bottom|right|top')\n",
    "#     HDiv(mesh, order,'RT')\n",
    "    u = Vh.TrialFunction()\n",
    "    v = Vh.TestFunction()\n",
    "\n",
    "    f = LinearForm(Vh)\n",
    "#     f += 10*v*dx\n",
    "    f += (sigma*2*pi**2*sin(pi*x)*sin(pi*y) +\n",
    "          beta[0]*pi*cos(pi*x)*sin(pi*y)+beta[1]*pi*sin(pi*x)*cos(pi*y)+\n",
    "          mu*sin(pi*x)*sin(pi*y)) *v*dx\n",
    "\n",
    "\n",
    "    a = BilinearForm(Vh)\n",
    "    a += sigma*grad(u)*grad(v)*dx\n",
    "    a += InnerProduct(grad(u),beta* v)*dx\n",
    "    a += mu*u*v*dx\n",
    "\n",
    "    a.Assemble();f.Assemble()\n",
    "\n",
    "    gfu = GridFunction(Vh)\n",
    "    gfu.vec.data = a.mat.Inverse(Vh.FreeDofs()) * f.vec\n",
    "\n",
    "    return gfu"
   ]
  },
  {
   "cell_type": "code",
   "execution_count": 107,
   "id": "378d3fcd",
   "metadata": {
    "scrolled": true
   },
   "outputs": [
    {
     "data": {
      "application/vnd.jupyter.widget-view+json": {
       "model_id": "efa1596b7038471f977c13b20f194e72",
       "version_major": 2,
       "version_minor": 0
      },
      "text/plain": [
       "WebGuiWidget(layout=Layout(height='50vh', width='100%'), value={'gui_settings': {}, 'ngsolve_version': '6.2.23…"
      ]
     },
     "metadata": {},
     "output_type": "display_data"
    },
    {
     "data": {
      "text/plain": [
       "BaseWebGuiScene"
      ]
     },
     "execution_count": 107,
     "metadata": {},
     "output_type": "execute_result"
    }
   ],
   "source": [
    "gfu = H1_ellipticSolver(mesh, order=1)\n",
    "Draw(gfu)"
   ]
  },
  {
   "cell_type": "code",
   "execution_count": 102,
   "id": "8770762b",
   "metadata": {},
   "outputs": [],
   "source": [
    "def Convergence_Test(h0 = 0.25, nmeshes=6, order=1, metodo='H1'):\n",
    "    # solucion exacta\n",
    "    uexact = sin(pi*x)*sin(pi*y)\n",
    "\n",
    "    err_u = np.zeros(nmeshes)\n",
    "    h = np.zeros(nmeshes)\n",
    "    h_max = h0\n",
    "\n",
    "    # Creamos la malla inicial\n",
    "    mesh = Mesh(unit_square.GenerateMesh(maxh=h0))\n",
    "    h[0] = computehmax(mesh)\n",
    "    Ndof =[]\n",
    "    for j in range(nmeshes):\n",
    "        if metodo is 'CR':\n",
    "            print('Crouzeix-Raviart method!')\n",
    "            gfu = CR_ellipticSolver(mesh)\n",
    "        else: \n",
    "            gfu = H1_ellipticSolver(mesh, order)\n",
    "        err_u[j]  = sqrt( Integrate( InnerProduct( gfu - uexact, gfu -uexact), mesh))\n",
    "        \n",
    "        Ndof.append(gfu.space.ndof)\n",
    "        if j < nmeshes-1:\n",
    "            mesh.Refine()\n",
    "            h[j+1] = computehmax(mesh)\n",
    "    rate = computerate(h, err_u)\n",
    "    return h, err_u, rate, gfu, Ndof\n",
    "\n",
    "def computehmax(mesh):\n",
    "    elvol = Integrate(CoefficientFunction(1),mesh,element_wise=True)\n",
    "    hh = [(2*vol)**(1/2) for vol in elvol] # 3D\n",
    "    return max(hh)\n",
    "\n",
    "def computerate(h, error):\n",
    "    rate = np.zeros(h.size)\n",
    "    for j in range(h.size-1):\n",
    "        rate[j+1] = np.log(error[j+1]/error[j])/np.log(h[j+1]/h[j])\n",
    "    return rate"
   ]
  },
  {
   "cell_type": "code",
   "execution_count": 103,
   "id": "6e88f92f",
   "metadata": {},
   "outputs": [],
   "source": [
    "h1, err_u1, rate1, gfu1, Ndof1 = Convergence_Test(h0 = 0.25, nmeshes=6, order=1)\n",
    "h2, err_u2, rate2, gfu2, Ndof2 = Convergence_Test(h0 = 0.25, nmeshes=6, order=2)\n",
    "h3, err_u3, rate3, gfu3, Ndof3 = Convergence_Test(h0 = 0.25, nmeshes=6, order=3)"
   ]
  },
  {
   "cell_type": "code",
   "execution_count": 104,
   "id": "43d448f2",
   "metadata": {},
   "outputs": [
    {
     "data": {
      "text/html": [
       "<div>\n",
       "<style scoped>\n",
       "    .dataframe tbody tr th:only-of-type {\n",
       "        vertical-align: middle;\n",
       "    }\n",
       "\n",
       "    .dataframe tbody tr th {\n",
       "        vertical-align: top;\n",
       "    }\n",
       "\n",
       "    .dataframe thead th {\n",
       "        text-align: right;\n",
       "    }\n",
       "</style>\n",
       "<table border=\"1\" class=\"dataframe\">\n",
       "  <thead>\n",
       "    <tr style=\"text-align: right;\">\n",
       "      <th></th>\n",
       "      <th>h</th>\n",
       "      <th>Ndof k=1</th>\n",
       "      <th>error k=1</th>\n",
       "      <th>order k=1</th>\n",
       "      <th>Ndof k=2</th>\n",
       "      <th>error k=2</th>\n",
       "      <th>order k=2</th>\n",
       "      <th>Ndof k=3</th>\n",
       "      <th>error k=3</th>\n",
       "      <th>order k=3</th>\n",
       "    </tr>\n",
       "  </thead>\n",
       "  <tbody>\n",
       "    <tr>\n",
       "      <th>0</th>\n",
       "      <td>0.306736</td>\n",
       "      <td>26</td>\n",
       "      <td>0.058905</td>\n",
       "      <td>0.000000</td>\n",
       "      <td>85</td>\n",
       "      <td>3.706092e-03</td>\n",
       "      <td>0.000000</td>\n",
       "      <td>178</td>\n",
       "      <td>2.961737e-04</td>\n",
       "      <td>0.000000</td>\n",
       "    </tr>\n",
       "    <tr>\n",
       "      <th>1</th>\n",
       "      <td>0.153368</td>\n",
       "      <td>85</td>\n",
       "      <td>0.014738</td>\n",
       "      <td>1.998813</td>\n",
       "      <td>305</td>\n",
       "      <td>9.139712e-04</td>\n",
       "      <td>2.019678</td>\n",
       "      <td>661</td>\n",
       "      <td>2.567865e-05</td>\n",
       "      <td>3.527802</td>\n",
       "    </tr>\n",
       "    <tr>\n",
       "      <th>2</th>\n",
       "      <td>0.076684</td>\n",
       "      <td>305</td>\n",
       "      <td>0.003633</td>\n",
       "      <td>2.020183</td>\n",
       "      <td>1153</td>\n",
       "      <td>1.180343e-04</td>\n",
       "      <td>2.952943</td>\n",
       "      <td>2545</td>\n",
       "      <td>1.649792e-06</td>\n",
       "      <td>3.960213</td>\n",
       "    </tr>\n",
       "    <tr>\n",
       "      <th>3</th>\n",
       "      <td>0.038342</td>\n",
       "      <td>1153</td>\n",
       "      <td>0.000901</td>\n",
       "      <td>2.012055</td>\n",
       "      <td>4481</td>\n",
       "      <td>1.501218e-05</td>\n",
       "      <td>2.975000</td>\n",
       "      <td>9985</td>\n",
       "      <td>1.026949e-07</td>\n",
       "      <td>4.005848</td>\n",
       "    </tr>\n",
       "    <tr>\n",
       "      <th>4</th>\n",
       "      <td>0.019171</td>\n",
       "      <td>4481</td>\n",
       "      <td>0.000224</td>\n",
       "      <td>2.005455</td>\n",
       "      <td>17665</td>\n",
       "      <td>1.892500e-06</td>\n",
       "      <td>2.987769</td>\n",
       "      <td>39553</td>\n",
       "      <td>6.378081e-09</td>\n",
       "      <td>4.009098</td>\n",
       "    </tr>\n",
       "    <tr>\n",
       "      <th>5</th>\n",
       "      <td>0.009586</td>\n",
       "      <td>17665</td>\n",
       "      <td>0.000056</td>\n",
       "      <td>2.002540</td>\n",
       "      <td>70145</td>\n",
       "      <td>2.375376e-07</td>\n",
       "      <td>2.994065</td>\n",
       "      <td>157441</td>\n",
       "      <td>3.969659e-10</td>\n",
       "      <td>4.006035</td>\n",
       "    </tr>\n",
       "  </tbody>\n",
       "</table>\n",
       "</div>"
      ],
      "text/plain": [
       "          h  Ndof k=1  error k=1  order k=1  Ndof k=2     error k=2  \\\n",
       "0  0.306736        26   0.058905   0.000000        85  3.706092e-03   \n",
       "1  0.153368        85   0.014738   1.998813       305  9.139712e-04   \n",
       "2  0.076684       305   0.003633   2.020183      1153  1.180343e-04   \n",
       "3  0.038342      1153   0.000901   2.012055      4481  1.501218e-05   \n",
       "4  0.019171      4481   0.000224   2.005455     17665  1.892500e-06   \n",
       "5  0.009586     17665   0.000056   2.002540     70145  2.375376e-07   \n",
       "\n",
       "   order k=2  Ndof k=3     error k=3  order k=3  \n",
       "0   0.000000       178  2.961737e-04   0.000000  \n",
       "1   2.019678       661  2.567865e-05   3.527802  \n",
       "2   2.952943      2545  1.649792e-06   3.960213  \n",
       "3   2.975000      9985  1.026949e-07   4.005848  \n",
       "4   2.987769     39553  6.378081e-09   4.009098  \n",
       "5   2.994065    157441  3.969659e-10   4.006035  "
      ]
     },
     "execution_count": 104,
     "metadata": {},
     "output_type": "execute_result"
    }
   ],
   "source": [
    "import pandas as pd\n",
    "df = pd.DataFrame({'h':h1, 'Ndof k=1':Ndof1, 'error k=1':err_u1, 'order k=1':rate1,\n",
    "                  'Ndof k=2':Ndof2,'error k=2':err_u2, 'order k=2':rate2,\n",
    "                  'Ndof k=3':Ndof3,'error k=3':err_u3, 'order k=3':rate3})\n",
    "df"
   ]
  },
  {
   "cell_type": "code",
   "execution_count": 108,
   "id": "4a4a87d2",
   "metadata": {},
   "outputs": [],
   "source": [
    "def CR_ellipticSolver(mesh):\n",
    "    sigma = 1.0\n",
    "\n",
    "    Vh = FESpace(\"nonconforming\", mesh, dirichlet='left|bottom|right|top')\n",
    "    u = Vh.TrialFunction()\n",
    "    v = Vh.TestFunction()\n",
    "\n",
    "    f = LinearForm(Vh)\n",
    "\n",
    "    f += (sigma*2*pi**2*sin(pi*x)*sin(pi*y) ) *v*dx\n",
    "\n",
    "\n",
    "    a = BilinearForm(Vh)\n",
    "    a += grad(u)*grad(v)*dx\n",
    "\n",
    "    a.Assemble();f.Assemble()\n",
    "\n",
    "    gfu = GridFunction(Vh)\n",
    "    gfu.vec.data = a.mat.Inverse(Vh.FreeDofs()) * f.vec\n",
    "\n",
    "    return gfu\n"
   ]
  },
  {
   "cell_type": "code",
   "execution_count": 109,
   "id": "016e866a",
   "metadata": {},
   "outputs": [
    {
     "data": {
      "application/vnd.jupyter.widget-view+json": {
       "model_id": "23deaa0ba65048ea8c0447fd4accf1d5",
       "version_major": 2,
       "version_minor": 0
      },
      "text/plain": [
       "WebGuiWidget(layout=Layout(height='50vh', width='100%'), value={'gui_settings': {}, 'ngsolve_version': '6.2.23…"
      ]
     },
     "metadata": {},
     "output_type": "display_data"
    },
    {
     "data": {
      "text/plain": [
       "BaseWebGuiScene"
      ]
     },
     "execution_count": 109,
     "metadata": {},
     "output_type": "execute_result"
    }
   ],
   "source": [
    "gfu = CR_ellipticSolver(mesh)\n",
    "Draw(gfu)"
   ]
  },
  {
   "cell_type": "code",
   "execution_count": 73,
   "id": "5086d14a",
   "metadata": {},
   "outputs": [
    {
     "name": "stdout",
     "output_type": "stream",
     "text": [
      "Crouzeix-Raviart method!\n",
      "Crouzeix-Raviart method!\n",
      "Crouzeix-Raviart method!\n",
      "Crouzeix-Raviart method!\n",
      "Crouzeix-Raviart method!\n",
      "Crouzeix-Raviart method!\n"
     ]
    }
   ],
   "source": [
    "h1, err_uCR1, rateCR1, gfuCR1, NdofCR1 = Convergence_Test(h0 = 0.25, nmeshes=6, order=1, metodo='CR')"
   ]
  },
  {
   "cell_type": "code",
   "execution_count": 75,
   "id": "2d991c3d",
   "metadata": {},
   "outputs": [
    {
     "data": {
      "text/html": [
       "<div>\n",
       "<style scoped>\n",
       "    .dataframe tbody tr th:only-of-type {\n",
       "        vertical-align: middle;\n",
       "    }\n",
       "\n",
       "    .dataframe tbody tr th {\n",
       "        vertical-align: top;\n",
       "    }\n",
       "\n",
       "    .dataframe thead th {\n",
       "        text-align: right;\n",
       "    }\n",
       "</style>\n",
       "<table border=\"1\" class=\"dataframe\">\n",
       "  <thead>\n",
       "    <tr style=\"text-align: right;\">\n",
       "      <th></th>\n",
       "      <th>h</th>\n",
       "      <th>Ndof</th>\n",
       "      <th>error k=1</th>\n",
       "      <th>order k=1</th>\n",
       "    </tr>\n",
       "  </thead>\n",
       "  <tbody>\n",
       "    <tr>\n",
       "      <th>0</th>\n",
       "      <td>0.306736</td>\n",
       "      <td>59</td>\n",
       "      <td>0.039923</td>\n",
       "      <td>0.000000</td>\n",
       "    </tr>\n",
       "    <tr>\n",
       "      <th>1</th>\n",
       "      <td>0.153368</td>\n",
       "      <td>279</td>\n",
       "      <td>0.011170</td>\n",
       "      <td>1.837575</td>\n",
       "    </tr>\n",
       "    <tr>\n",
       "      <th>2</th>\n",
       "      <td>0.076684</td>\n",
       "      <td>1127</td>\n",
       "      <td>0.002869</td>\n",
       "      <td>1.960808</td>\n",
       "    </tr>\n",
       "    <tr>\n",
       "      <th>3</th>\n",
       "      <td>0.038342</td>\n",
       "      <td>4455</td>\n",
       "      <td>0.000723</td>\n",
       "      <td>1.988908</td>\n",
       "    </tr>\n",
       "    <tr>\n",
       "      <th>4</th>\n",
       "      <td>0.019171</td>\n",
       "      <td>17639</td>\n",
       "      <td>0.000181</td>\n",
       "      <td>1.997224</td>\n",
       "    </tr>\n",
       "    <tr>\n",
       "      <th>5</th>\n",
       "      <td>0.009586</td>\n",
       "      <td>70119</td>\n",
       "      <td>0.000045</td>\n",
       "      <td>1.999474</td>\n",
       "    </tr>\n",
       "  </tbody>\n",
       "</table>\n",
       "</div>"
      ],
      "text/plain": [
       "          h   Ndof  error k=1  order k=1\n",
       "0  0.306736     59   0.039923   0.000000\n",
       "1  0.153368    279   0.011170   1.837575\n",
       "2  0.076684   1127   0.002869   1.960808\n",
       "3  0.038342   4455   0.000723   1.988908\n",
       "4  0.019171  17639   0.000181   1.997224\n",
       "5  0.009586  70119   0.000045   1.999474"
      ]
     },
     "execution_count": 75,
     "metadata": {},
     "output_type": "execute_result"
    }
   ],
   "source": [
    "dfCR = pd.DataFrame({'h':h1, \"Ndof\":NdofCR1, 'error k=1':err_uCR1, 'order k=1':rateCR1})\n",
    "dfCR"
   ]
  },
  {
   "cell_type": "code",
   "execution_count": 92,
   "id": "57d7b5b0",
   "metadata": {},
   "outputs": [],
   "source": [
    "mesh = Mesh(unit_cube.GenerateMesh(maxh=0.1))\n",
    "Vh = FESpace(\"nonconforming\", mesh, dirichlet='front|left|back|right')\n",
    "u = Vh.TrialFunction()\n",
    "v = Vh.TestFunction()\n",
    "\n",
    "sigma=1\n",
    "f = LinearForm(Vh)\n",
    "f += (sigma*2*pi**2*sin(pi*x)*sin(pi*y) ) *v*dx\n",
    "a = BilinearForm(Vh)\n",
    "a += grad(u)*grad(v)*dx\n",
    "\n",
    "a.Assemble();f.Assemble()\n",
    "\n",
    "gfu = GridFunction(Vh)\n",
    "gfu.vec.data = a.mat.Inverse(Vh.FreeDofs()) * f.vec"
   ]
  },
  {
   "cell_type": "code",
   "execution_count": 93,
   "id": "7fcc0100",
   "metadata": {},
   "outputs": [
    {
     "data": {
      "application/vnd.jupyter.widget-view+json": {
       "model_id": "39c9084bfd784053a753dff52bc98507",
       "version_major": 2,
       "version_minor": 0
      },
      "text/plain": [
       "WebGuiWidget(layout=Layout(height='50vh', width='100%'), value={'gui_settings': {}, 'ngsolve_version': '6.2.23…"
      ]
     },
     "metadata": {},
     "output_type": "display_data"
    },
    {
     "data": {
      "text/plain": [
       "BaseWebGuiScene"
      ]
     },
     "execution_count": 93,
     "metadata": {},
     "output_type": "execute_result"
    }
   ],
   "source": [
    "Draw(gfu)"
   ]
  },
  {
   "cell_type": "code",
   "execution_count": null,
   "id": "b917835a",
   "metadata": {},
   "outputs": [],
   "source": []
  }
 ],
 "metadata": {
  "kernelspec": {
   "display_name": "Python 3 (ipykernel)",
   "language": "python",
   "name": "python3"
  },
  "language_info": {
   "codemirror_mode": {
    "name": "ipython",
    "version": 3
   },
   "file_extension": ".py",
   "mimetype": "text/x-python",
   "name": "python",
   "nbconvert_exporter": "python",
   "pygments_lexer": "ipython3",
   "version": "3.7.9"
  },
  "varInspector": {
   "cols": {
    "lenName": 16,
    "lenType": 16,
    "lenVar": 40
   },
   "kernels_config": {
    "python": {
     "delete_cmd_postfix": "",
     "delete_cmd_prefix": "del ",
     "library": "var_list.py",
     "varRefreshCmd": "print(var_dic_list())"
    },
    "r": {
     "delete_cmd_postfix": ") ",
     "delete_cmd_prefix": "rm(",
     "library": "var_list.r",
     "varRefreshCmd": "cat(var_dic_list()) "
    }
   },
   "types_to_exclude": [
    "module",
    "function",
    "builtin_function_or_method",
    "instance",
    "_Feature"
   ],
   "window_display": false
  }
 },
 "nbformat": 4,
 "nbformat_minor": 5
}
