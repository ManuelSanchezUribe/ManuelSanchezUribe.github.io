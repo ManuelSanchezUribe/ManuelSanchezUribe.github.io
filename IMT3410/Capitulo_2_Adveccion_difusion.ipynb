{
 "cells": [
  {
   "cell_type": "markdown",
   "id": "aaf902f3",
   "metadata": {},
   "source": [
    "<center><h1 style=\"color:#173F8A;\"> Metodos para Ecuaciones Diferenciales, IMT3410, 2024-2 </h1></center>\n",
    "<h3 style=\"color:#173F8A;text-align:right;\"> Instituto de Ingenieria Matematica y Computacional<br>  Pontificia Universidad Catolica de Chile <br>  </h3>\n",
    "<h3 style=\"color:#0176DE;text-align:right;\"> Profesor. Manuel A. Sanchez<br> </h3>\n",
    "<hr style=\"border:2px solid #03122E\"> </hr>\n",
    "\n",
    "<!-- Palette colors UC: celeste:#0176DE, azul #173F8A, azul oscuro: #03122E, amarillo: #FEC60D, amarillo oscuro: #E3AE00 -->\n",
    "<!--\n",
    "<figure>\n",
    "<img align =\"right\" src=\"IMClogo.png\" alt=\"logo\" width=\"250\" height=\"400\"><br><br><br><br><br>\n",
    "</figure>\n",
    " -->\n",
    " \n",
    " <h2 style=\"color:#03122E;text-align:center;\"> Capitulo 2. Metodos para Ecuaciones Diferenciales Parciales Elipticas<br> </h2>\n",
    "<h3 style=\"color:#03122E;text-align:center;\">             Metodos de Elementos Finitos <br> </h3>\n",
    "<h3 style=\"color:#03122E;text-align:center;\">             Problemas de adveccion-difusion <br> </h3>\n",
    "<hr style=\"border:2px solid #03122E\"> </hr>"
   ]
  },
  {
   "cell_type": "code",
   "execution_count": 1,
   "id": "bba1cbeb",
   "metadata": {},
   "outputs": [],
   "source": [
    "# NGSolve Libraries\n",
    "from netgen.geom2d import unit_square\n",
    "from ngsolve import *\n",
    "from ngsolve.webgui import Draw # para jupyter\n",
    "#import netgen.gui\n",
    "from netgen.geom2d import SplineGeometry\n",
    "from pandas import DataFrame"
   ]
  },
  {
   "cell_type": "markdown",
   "id": "10fedf85",
   "metadata": {},
   "source": [
    "## Adveccion-difusion\n",
    "Find $u:\\mathbb R \\mapsto \\mathbb R$ such that\n",
    "\\begin{align*}\n",
    "-\\nu \\Delta u  + \\nabla u \\cdot \\beta & = f, \\quad \\mbox{in } \\Omega, \\\\\n",
    "u & = g, \\quad \\mbox{on } \\partial \\Omega.\n",
    "\\end{align*}\n",
    "\n",
    "**Primal variational form.** Find $u\\in H_0^{1}(\\Omega)$ such that:\n",
    "\\begin{align*}\n",
    "\\int_{\\Omega} \\left( \\nu\\nabla u \\cdot \\nabla v + (\\beta\\cdot \\nabla u) v \\right) dx = \\int_{\\Omega} f v dx \n",
    "\\end{align*}\n",
    "\n",
    "Consider $\\Omega = (0,1)^{2}$ and boundary conditions:\n",
    "$$\n",
    "u = 1, \\;\\text{on } x=1,\\quad u = 0, \\;\\text{on } x = 0,\\quad \\frac{\\partial}{\\partial y}u = \\nabla u\\cdot n = 0, \\;\\text{on } y = 0,y = 1.\n",
    "$$"
   ]
  },
  {
   "cell_type": "code",
   "execution_count": 2,
   "id": "6adfc04d",
   "metadata": {},
   "outputs": [],
   "source": [
    "# parametros\n",
    "nu = CF(0.000000001)\n",
    "beta = (10.,0.)\n",
    "f = 0\n",
    "uexact = (exp(x/nu)-1.0)/(exp(1.0/nu)-1.0) \n",
    "\n",
    "h_max = 0.25"
   ]
  },
  {
   "cell_type": "code",
   "execution_count": 3,
   "id": "4a7da73d",
   "metadata": {},
   "outputs": [],
   "source": [
    "def solve_advdiff(order=1, h_max=0.1):\n",
    "    ngmesh = unit_square.GenerateMesh(maxh=h_max)\n",
    "    mesh = Mesh(ngmesh)\n",
    "    fes = H1(mesh, order=1, dirichlet='right|left')\n",
    "    u, v = fes.TnT()\n",
    "\n",
    "    a = BilinearForm(fes)\n",
    "    a += nu * grad(u)*grad(v) *dx\n",
    "    a += grad(u)*beta * v *dx\n",
    "    a.Assemble()\n",
    "\n",
    "    L = LinearForm(fes)\n",
    "    L += 0*v*dx\n",
    "    L.Assemble()\n",
    "\n",
    "    gfu = GridFunction(fes)\n",
    "    gfu.Set(1.0, definedon=mesh.Boundaries(\"right\"))\n",
    "    gfu.vec.data += a.mat.Inverse(freedofs=fes.FreeDofs()) * L.vec\n",
    "    return gfu"
   ]
  },
  {
   "cell_type": "code",
   "execution_count": 4,
   "id": "a2704f0b",
   "metadata": {},
   "outputs": [],
   "source": [
    "u1 = solve_advdiff(order=1, h_max=0.2)\n",
    "u2 = solve_advdiff(order=1, h_max=0.05)\n",
    "u3 = solve_advdiff(order=1, h_max=0.025)\n",
    "u4 = solve_advdiff(order=2, h_max=0.025)"
   ]
  },
  {
   "cell_type": "code",
   "execution_count": 5,
   "id": "c3615cfd",
   "metadata": {},
   "outputs": [
    {
     "data": {
      "application/vnd.jupyter.widget-view+json": {
       "model_id": "a52c2af044c343dabbd3e84b1311088e",
       "version_major": 2,
       "version_minor": 0
      },
      "text/plain": [
       "WebGuiWidget(layout=Layout(height='50vh', width='100%'), value={'gui_settings': {}, 'ngsolve_version': '6.2.24…"
      ]
     },
     "metadata": {},
     "output_type": "display_data"
    },
    {
     "data": {
      "application/vnd.jupyter.widget-view+json": {
       "model_id": "509501bc3bdd4d969100dc20603192c6",
       "version_major": 2,
       "version_minor": 0
      },
      "text/plain": [
       "WebGuiWidget(layout=Layout(height='50vh', width='100%'), value={'gui_settings': {}, 'ngsolve_version': '6.2.24…"
      ]
     },
     "metadata": {},
     "output_type": "display_data"
    },
    {
     "data": {
      "application/vnd.jupyter.widget-view+json": {
       "model_id": "88084746537242ac9b1f8fd138846886",
       "version_major": 2,
       "version_minor": 0
      },
      "text/plain": [
       "WebGuiWidget(layout=Layout(height='50vh', width='100%'), value={'gui_settings': {}, 'ngsolve_version': '6.2.24…"
      ]
     },
     "metadata": {},
     "output_type": "display_data"
    },
    {
     "data": {
      "application/vnd.jupyter.widget-view+json": {
       "model_id": "d9c3c82cbce6459497ade6a45dea48a5",
       "version_major": 2,
       "version_minor": 0
      },
      "text/plain": [
       "WebGuiWidget(layout=Layout(height='50vh', width='100%'), value={'gui_settings': {}, 'ngsolve_version': '6.2.24…"
      ]
     },
     "metadata": {},
     "output_type": "display_data"
    },
    {
     "data": {
      "text/plain": [
       "BaseWebGuiScene"
      ]
     },
     "execution_count": 5,
     "metadata": {},
     "output_type": "execute_result"
    }
   ],
   "source": [
    "Draw(u1);\n",
    "Draw(u2);\n",
    "Draw(u3);\n",
    "Draw(u4)"
   ]
  },
  {
   "cell_type": "code",
   "execution_count": 6,
   "id": "92c741cc",
   "metadata": {},
   "outputs": [
    {
     "data": {
      "application/vnd.jupyter.widget-view+json": {
       "model_id": "6b45d3208c0f4b2ead46aa998c8e51cc",
       "version_major": 2,
       "version_minor": 0
      },
      "text/plain": [
       "WebGuiWidget(layout=Layout(height='50vh', width='100%'), value={'gui_settings': {}, 'ngsolve_version': '6.2.24…"
      ]
     },
     "metadata": {},
     "output_type": "display_data"
    },
    {
     "data": {
      "text/plain": [
       "BaseWebGuiScene"
      ]
     },
     "execution_count": 6,
     "metadata": {},
     "output_type": "execute_result"
    }
   ],
   "source": [
    "ngmesh = unit_square.GenerateMesh(maxh=0.05)\n",
    "mesh = Mesh(ngmesh)\n",
    "V = H1(mesh, order=1, dirichlet='bottom|right|top|left')\n",
    "u, v = V.TnT()\n",
    "\n",
    "nu = 0.01 # nu = 0.00001 y h = 0.1\n",
    "beta = (1.,1.)\n",
    "a = BilinearForm(V)\n",
    "a += nu * grad(u)*grad(v) *dx\n",
    "a += grad(u)*beta * v *dx\n",
    "\n",
    "a.Assemble()\n",
    "\n",
    "f = 1.\n",
    "L = LinearForm(V)\n",
    "L += f*v*dx\n",
    "L.Assemble()\n",
    "\n",
    "gfu = GridFunction(V)\n",
    "gfu.vec.data = a.mat.Inverse(freedofs=V.FreeDofs()) * L.vec\n",
    "Draw(gfu)"
   ]
  },
  {
   "cell_type": "code",
   "execution_count": null,
   "id": "e6cbe896",
   "metadata": {},
   "outputs": [],
   "source": []
  }
 ],
 "metadata": {
  "kernelspec": {
   "display_name": "Python 3 (ipykernel)",
   "language": "python",
   "name": "python3"
  },
  "language_info": {
   "codemirror_mode": {
    "name": "ipython",
    "version": 3
   },
   "file_extension": ".py",
   "mimetype": "text/x-python",
   "name": "python",
   "nbconvert_exporter": "python",
   "pygments_lexer": "ipython3",
   "version": "3.10.11"
  },
  "varInspector": {
   "cols": {
    "lenName": 16,
    "lenType": 16,
    "lenVar": 40
   },
   "kernels_config": {
    "python": {
     "delete_cmd_postfix": "",
     "delete_cmd_prefix": "del ",
     "library": "var_list.py",
     "varRefreshCmd": "print(var_dic_list())"
    },
    "r": {
     "delete_cmd_postfix": ") ",
     "delete_cmd_prefix": "rm(",
     "library": "var_list.r",
     "varRefreshCmd": "cat(var_dic_list()) "
    }
   },
   "types_to_exclude": [
    "module",
    "function",
    "builtin_function_or_method",
    "instance",
    "_Feature"
   ],
   "window_display": false
  }
 },
 "nbformat": 4,
 "nbformat_minor": 5
}
