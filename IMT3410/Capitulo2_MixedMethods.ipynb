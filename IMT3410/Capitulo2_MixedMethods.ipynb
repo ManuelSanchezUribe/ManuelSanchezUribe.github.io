{
 "cells": [
  {
   "cell_type": "markdown",
   "metadata": {},
   "source": [
    "<center><h1 style=\"color:#173F8A;\"> Metodos para Ecuaciones Diferenciales, IMT3410, 2023-2 </h1></center>\n",
    "<h3 style=\"color:#173F8A;text-align:right;\"> Instituto de Ingenieria Matematica y Computacional<br>  Pontificia Universidad Catolica de Chile <br>  </h3>\n",
    "<h3 style=\"color:#0176DE;text-align:right;\"> Profesor. Manuel A. Sanchez<br> </h3>\n",
    "<hr style=\"border:2px solid #03122E\"> </hr>\n",
    "\n",
    "<!-- Palette colors UC: celeste:#0176DE, azul #173F8A, azul oscuro: #03122E, amarillo: #FEC60D, amarillo oscuro: #E3AE00 -->\n",
    "<!--\n",
    "<figure>\n",
    "<img align =\"right\" src=\"IMClogo.png\" alt=\"logo\" width=\"250\" height=\"400\"><br><br><br><br><br>\n",
    "</figure>\n",
    " -->"
   ]
  },
  {
   "cell_type": "markdown",
   "metadata": {},
   "source": [
    "<h2 style=\"color:#03122E;text-align:center;\"> Capitulo 2. Metodos para Ecuaciones Diferenciales Parciales Elipticas<br> </h2>\n",
    "<h3 style=\"color:#03122E;text-align:center;\">             Metodos de Elementos Finitos Mixtos (Mixed Methods) <br> </h3>\n",
    "<h3 style=\"color:#03122E;text-align:center;\">             Ecuacion de Poisson <br> </h3>\n",
    "<hr style=\"border:3px solid #E3AE00 \"> </hr>"
   ]
  },
  {
   "cell_type": "markdown",
   "metadata": {},
   "source": [
    "Consideremos el problema eliptico\n",
    "\\begin{equation}\n",
    "\\begin{array}{rclll}\n",
    "\\displaystyle\n",
    "-\\mbox{div}(c \\nabla u) & = & f & \\mbox{en} & \\Omega \\\\\n",
    "\\displaystyle u & = & u_D & \\mbox{sobre} & \\partial \\Omega_{D} \\\\\n",
    "\\displaystyle c \\nabla u\\cdot n & = & g_N & \\mbox{sobre} & \\partial \\Omega_{N} \\\\\n",
    "\\end{array}\n",
    "\\end{equation}\n",
    "\n",
    "Reescribimos la ecuacion diferencial como un sistema de primer orden introduciendo el flujo $q$, y $a = c^{-1}$\n",
    "\\begin{equation}\n",
    "\\begin{array}{rclll}\n",
    "\\displaystyle a q & = & \\nabla u & \\mbox{en} & \\Omega \\\\\n",
    "\\displaystyle\n",
    "\\mbox{div}( q ) & = & -f & \\mbox{en} & \\Omega \\\\\n",
    "\\displaystyle u & = & u_D & \\mbox{sobre} & \\partial \\Omega_{D} \\\\\n",
    "\\displaystyle q\\cdot n & = & g_N & \\mbox{sobre} & \\partial \\Omega_{N} \\\\\n",
    "\\end{array}\n",
    "\\end{equation}\n",
    "\n",
    "Ahora derivamos la formulacion variacional del sistema de primer order. Primero introducimos espacios apropiados para las funciones test\n",
    "\\begin{equation}\n",
    "\\begin{array}{rcl}\n",
    "\\displaystyle\n",
    "L_2(\\Omega) & = & \\{ w : \\int_{\\Omega} |w|^2 dx < \\infty \\} \\\\ \n",
    "H(\\mbox{div},\\Omega) &=& \\{ v\\in [L_2(\\Omega)]^{d}: \\mbox{div}(w)\\in L_2(\\Omega)\\}\n",
    "\\end{array}\n",
    "\\end{equation}\n",
    "\n",
    "Entonces la formulacion variacional mixta (busca dos soluciones) queda: Hallar $(q,u) \\in H(\\mbox{div}, \\Omega) \\times L_2(\\Omega)$ con $q\\cdot n = g_{N}$ sobre $\\partial \\Omega_{N}$ tal que\n",
    "\n",
    "\\begin{equation}\n",
    "\\begin{array}{rcl}\n",
    "\\displaystyle\n",
    "\\int_{\\Omega} a q \\cdot v\\,dx + \\int_{\\Omega} u\\,\\mbox{div}(v)\\,dx & = &\n",
    "\\displaystyle \n",
    "\\int_{\\partial \\Omega_{D}} u_{D}v \\cdot n ds \\\\\n",
    "\\displaystyle\n",
    "\\int_{\\Omega} \\mbox{div}(q)\\, w\\,dx & = & \n",
    "\\displaystyle\n",
    "- \\int_{\\Omega} f v \\,dx\n",
    "\\end{array}\n",
    "\\end{equation}\n",
    "\n",
    "para $(v,w) \\in H(div, \\Omega)\\times L_2(\\Omega)$ con $ v\\cdot n = 0$ sobre $\\partial \\Omega_{N}$.\n",
    "\n",
    "Notar que, mientras en la formulacion variacional primal la condicion de Neumann aparecia en la formulacion variacional y la condicion de Dirichlet era impueta en el espacio de funciones, en la formulacion mixta es los opuesto.\n",
    "\n",
    "Definamos la forma bilinear $b:H(\\mbox{div}, \\Omega)\\times L_2(\\Omega) \\rightarrow \\mathbb R$ y el funcional $l:H(\\mbox{div}, \\Omega)\\times L_2(\\Omega)$ \n",
    "\n",
    "\\begin{equation}\n",
    "\\begin{array}{rcl}\n",
    "\\displaystyle b((q,u), (v,w)) &:=& \n",
    "\\displaystyle \\int_{\\Omega} a q \\cdot v\\,dx + \\int_{\\Omega} u\\,\\mbox{div}(v)\\,dx +\\int_{\\Omega} \\mbox{div}(q)\\, w\\,dx \\\\\n",
    "\\displaystyle l(v,w) &:=&\n",
    "\\displaystyle \\int_{\\partial \\Omega_{D}} u_{D}v \\cdot n ds - \\int_{\\Omega} f v \\,dx\n",
    "\\end{array}\n",
    "\\end{equation}\n",
    "\n",
    "Observemos que la forma bilineal $b$ no es coerciva, por lo tanto su analisis y la eleccion de los espacios de elemetnos finitos no tan simple como en el caso de la formulacion primal y el metodo de elementos finitos standard.\n",
    "\n",
    "[Finite Element Exterior Calculus: from Hodge theory to numerical stability](https://www.ams.org/journals/bull/2010-47-02/S0273-0979-10-01278-4/S0273-0979-10-01278-4.pdf)\n"
   ]
  },
  {
   "cell_type": "code",
   "execution_count": 5,
   "metadata": {},
   "outputs": [
    {
     "data": {
      "application/vnd.jupyter.widget-view+json": {
       "model_id": "00c88be4f6e14fca8f720101fbff8985",
       "version_major": 2,
       "version_minor": 0
      },
      "text/plain": [
       "WebGuiWidget(layout=Layout(height='50vh', width='100%'), value={'gui_settings': {}, 'ngsolve_version': '6.2.23…"
      ]
     },
     "metadata": {},
     "output_type": "display_data"
    },
    {
     "data": {
      "application/vnd.jupyter.widget-view+json": {
       "model_id": "f0ecc8055ad2461c8610d6666ab4ddf0",
       "version_major": 2,
       "version_minor": 0
      },
      "text/plain": [
       "WebGuiWidget(layout=Layout(height='50vh', width='100%'), value={'gui_settings': {}, 'ngsolve_version': '6.2.23…"
      ]
     },
     "metadata": {},
     "output_type": "display_data"
    },
    {
     "name": "stdout",
     "output_type": "stream",
     "text": [
      "('bottom', 'right', 'top', 'left')\n"
     ]
    }
   ],
   "source": [
    "# NGSolve Libraries\n",
    "from netgen.geom2d import unit_square\n",
    "from ngsolve import *\n",
    "from ngsolve.webgui import Draw\n",
    "#import netgen.gui\n",
    "\n",
    "# Domain geometry\n",
    "geo = unit_square\n",
    "# Generate mesh with meshsize\n",
    "h = 0.1\n",
    "mesh = Mesh(geo.GenerateMesh(maxh=h))\n",
    "\n",
    "# Manufactured solution\n",
    "uexact = CoefficientFunction( 16*x*(1-x)*y*(1-y) )\n",
    "qexact = CoefficientFunction((-16*(1-2*x)*y*(1-y), -16*(1-2*y)*x*(1-x)  ))\n",
    "# Source according \n",
    "f      = 32*y*(1-y)+32*x*(1-x)\n",
    "Draw(uexact, mesh, 'solucion exacta u ')\n",
    "Draw(qexact, mesh, 'solucion exacta q')\n",
    "print(mesh.GetBoundaries())"
   ]
  },
  {
   "cell_type": "markdown",
   "metadata": {},
   "source": [
    "# Elementos finitos Mixtos - Formulacion primal\n",
    "\n",
    "Ahora definimos el metodos de elemntos finitos para subespacios $X_h\\subset L^2(\\Omega)^{d}$ y $M_h\\subset H_0^1(\\Omega)$. Hallar $(q_h,u_h)\\in V_h\\times W_h$ con $q_h\\cdot n = P(g_n)$ sobre $\\partial \\Omega_N$ tal que\n",
    "\n",
    "\\begin{equation}\n",
    "\\begin{array}{rcl}\n",
    "\\displaystyle\n",
    "\\int_{\\Omega} a q_h \\cdot r\\,dx + \\int_{\\Omega} \\nabla u_h\\cdot r\\,dx & = &\n",
    "\\displaystyle \n",
    "0 \\\\\n",
    "\\displaystyle\n",
    "\\int_{\\Omega} q_h\\cdot\\nabla v\\,dx & = & \n",
    "\\displaystyle\n",
    "- \\int_{\\Omega} f v \\,dx\n",
    "\\end{array}\n",
    "\\end{equation}\n",
    "para todo $(r,v)\\in X_h\\times M_h$"
   ]
  },
  {
   "cell_type": "code",
   "execution_count": 6,
   "metadata": {},
   "outputs": [
    {
     "data": {
      "application/vnd.jupyter.widget-view+json": {
       "model_id": "e122ad2e7772430d9939ec072061ec46",
       "version_major": 2,
       "version_minor": 0
      },
      "text/plain": [
       "WebGuiWidget(layout=Layout(height='50vh', width='100%'), value={'gui_settings': {}, 'ngsolve_version': '6.2.23…"
      ]
     },
     "metadata": {},
     "output_type": "display_data"
    },
    {
     "data": {
      "application/vnd.jupyter.widget-view+json": {
       "model_id": "3d1e35cbbda041f2a409d2bbf94abca9",
       "version_major": 2,
       "version_minor": 0
      },
      "text/plain": [
       "WebGuiWidget(layout=Layout(height='50vh', width='100%'), value={'gui_settings': {}, 'ngsolve_version': '6.2.23…"
      ]
     },
     "metadata": {},
     "output_type": "display_data"
    },
    {
     "data": {
      "text/plain": [
       "BaseWebGuiScene"
      ]
     },
     "execution_count": 6,
     "metadata": {},
     "output_type": "execute_result"
    }
   ],
   "source": [
    "# Mixed finite element spaces\n",
    "Vh = VectorL2(mesh, order=0)\n",
    "Wh = H1(mesh, order=1, dirichlet='bottom|right|top|left')\n",
    "\n",
    "# Mixed space\n",
    "fesm = FESpace([Vh,Wh])\n",
    "\n",
    "# variables\n",
    "q, u = fesm.TrialFunction()\n",
    "r, v = fesm.TestFunction()\n",
    "\n",
    "# bilinear form\n",
    "am = BilinearForm(fesm)\n",
    "am += (q*r  + q*grad(v) + r*grad(u))*dx\n",
    "am.Assemble()\n",
    "fm = LinearForm(fesm)\n",
    "fm += -f*v*dx \n",
    "fm.Assemble()\n",
    "\n",
    "gfm = GridFunction(fesm, name=\"gfmixed\")\n",
    "gfq, gfu = gfm.components\n",
    "\n",
    "\n",
    "fm.vec.data -= am.mat * gfm.vec\n",
    "gfm.vec.data += am.mat.Inverse(freedofs=fesm.FreeDofs()) * fm.vec\n",
    "#solvers.BVP(bf=am, lf=fm, gf=gfm)\n",
    "Draw (gfu, mesh, \"u-primal-mixed\")\n",
    "Draw(gfq, mesh, 'q-primal-mixed')"
   ]
  },
  {
   "cell_type": "markdown",
   "metadata": {},
   "source": [
    "# Elementos finitos Mixtos - formulacion dual\n",
    "\n",
    "Ahora definimos el metodos de elemntos finitos para subespacios $X_h\\subset H(\\mbox{div}, \\Omega)$ y $M_h\\subset L_2(\\Omega)$. Hallar $(q_h,u_h)\\in X_h\\times M_h$ con $q_h\\cdot n = P(g_n)$ sobre $\\partial \\Omega_N$ tal que\n",
    "\n",
    "\\begin{equation}\n",
    "\\begin{array}{rcl}\n",
    "\\displaystyle\n",
    "\\int_{\\Omega} a q_h \\cdot r\\,dx - \\int_{\\Omega} u_h\\,\\nabla \\cdot r\\,dx & = &\n",
    "\\displaystyle \n",
    "\\int_{\\partial \\Omega_{D}} u_{D}r \\cdot n ds \\\\\n",
    "\\displaystyle\n",
    "\\int_{\\Omega} \\nabla \\cdot q_h v\\,dx & = & \n",
    "\\displaystyle\n",
    "- \\int_{\\Omega} f v \\,dx\n",
    "\\end{array}\n",
    "\\end{equation}\n",
    "para todo $(r,v)\\in X_h\\times M_h$\n",
    "\n",
    "## Ejemplo de inestabilidad\n",
    "\n",
    "Escojamos dos subespacios de elementos finitos $ X_h\\subset H(\\mbox{div}, \\Omega)$ y $M_h\\in L_2(\\Omega)$. Por ejemplo, funciones continuas y lineales a trozos para $X_h$ y funciones discontinuas y constantes a trozos pra $M_h$, es decir\n",
    "\\begin{equation}\n",
    "\\begin{array}{rcl}\n",
    "X_h &=& \\{v\\in [C(\\Omega)]^{2}: v_i|_K\\in \\mathcal P_1, \\,\\forall K \\in \\mathcal T_h,\\, i=1,2\\}\\\\\n",
    "M_h &=& \\{w\\in L_2(\\Omega): w|_K \\in \\mathcal P_0, \\, \\forall K\\in \\mathcal T_h\\}\n",
    "\\end{array}\n",
    "\\end{equation}\n",
    "\n",
    "Caclumaos la solucion aproximada para el problema con solo condicion de frontera del tipo Dirichlet  $c =1$ y con solucion exacta $u(x,y) = 16 x(1-x)y(1-y)$."
   ]
  },
  {
   "cell_type": "code",
   "execution_count": 7,
   "metadata": {},
   "outputs": [
    {
     "data": {
      "application/vnd.jupyter.widget-view+json": {
       "model_id": "9bd1422401454ab089d7c3cd3b6c9ee1",
       "version_major": 2,
       "version_minor": 0
      },
      "text/plain": [
       "WebGuiWidget(layout=Layout(height='50vh', width='100%'), value={'gui_settings': {}, 'ngsolve_version': '6.2.23…"
      ]
     },
     "metadata": {},
     "output_type": "display_data"
    },
    {
     "data": {
      "application/vnd.jupyter.widget-view+json": {
       "model_id": "ec99ecec8bf84579a6256c7e703de1c4",
       "version_major": 2,
       "version_minor": 0
      },
      "text/plain": [
       "WebGuiWidget(layout=Layout(height='50vh', width='100%'), value={'gui_settings': {}, 'ngsolve_version': '6.2.23…"
      ]
     },
     "metadata": {},
     "output_type": "display_data"
    },
    {
     "data": {
      "text/plain": [
       "BaseWebGuiScene"
      ]
     },
     "execution_count": 7,
     "metadata": {},
     "output_type": "execute_result"
    }
   ],
   "source": [
    "# Mixed finite element spaces\n",
    "Vh = VectorH1(mesh, order=1)\n",
    "Wh = L2(mesh, order=0)\n",
    "\n",
    "# Mixed space\n",
    "fesm = FESpace([Vh,Wh])\n",
    "# variables\n",
    "q, u = fesm.TrialFunction()\n",
    "r, v = fesm.TestFunction()\n",
    "\n",
    "# bilinear form\n",
    "am = BilinearForm(fesm)\n",
    "am += (q*r - div(q)*v - div(r)*u)*dx\n",
    "am.Assemble()\n",
    "fm = LinearForm(fesm)\n",
    "fm += -f*v*dx \n",
    "fm.Assemble()\n",
    "\n",
    "gfm = GridFunction(fesm, name=\"gfmixed\")\n",
    "gfq, gfu = gfm.components\n",
    "\n",
    "\n",
    "fm.vec.data -= am.mat * gfm.vec\n",
    "gfm.vec.data += am.mat.Inverse(freedofs=fesm.FreeDofs()) * fm.vec\n",
    "#solvers.BVP(bf=am, lf=fm, gf=gfm)\n",
    "Draw (gfu, mesh, \"u-mixed dual \")\n",
    "Draw(gfq, mesh, 'q mixed dual')\n"
   ]
  },
  {
   "cell_type": "markdown",
   "metadata": {},
   "source": []
  },
  {
   "cell_type": "markdown",
   "metadata": {},
   "source": [
    "## Espacios de elementos finitos para $H(\\mbox{div}, \\Omega)$\n",
    "\n",
    "\n",
    "1. Espacio local de Raviart-Thomas para $K\\in \\mathcal T_h$\n",
    "\n",
    "\\begin{equation}\n",
    "\\begin{array}{rclrcl}\n",
    "\\mathcal RT_p(K)& =& \\mathcal P_p(K)^{d} + x \\mathcal P_{p}(K),& \\mbox{dim}(\\mathcal RT_p(K)) &=& d \\binom{p+d}{p} + \\binom{p+d-1}{p}\n",
    "\\end{array}\n",
    "\\end{equation}\n",
    "y espacio $\\mathcal P_p(K)$ para la variable escalar.\n",
    "\n",
    "Espacio global de Raviart-Thomas\n",
    "\n",
    "\\begin{equation}\n",
    "\\mathcal RT_{p}(\\mathcal T_h) = \\{ v\\in H(\\mbox{div}, \\Omega): v|_{K}\\in \\mathcal RT_{p}(K) \\, \\forall K\\in \\mathcal T_h \\}\n",
    "\\end{equation}\n",
    "\n",
    "#### Propiedad: $\\mbox{div}(\\mathcal RT_{p}) = \\mathcal P_{p}^{d}$\n",
    "\n",
    "2. Para $d=2$ y $p\\geq 1$ y triangulos, definimos el espacio local de Brezzi-Douglas-Marini para $K\\in \\mathcal T_h$\n",
    "\n",
    "\\begin{equation}\n",
    "\\begin{array}{rclrcl}\n",
    "\\mathcal BDM_p(K)& =& \\mathcal P_p(K)^{d},& \\mbox{dim}(\\mathcal BDM_p(K)) &=& (p+1)(p+2)\n",
    "\\end{array}\n",
    "\\end{equation}\n",
    "y espacio $\\mathcal P_{p-1}(K)$ para la variable escalar.\n",
    "\n",
    "Espacio global de Brezzi-Douglas-Marini\n",
    "\n",
    "\\begin{equation}\n",
    "\\mathcal BDM_{p}(\\mathcal T_h) = \\{ v\\in H(\\mbox{div}, \\Omega): v|_{K}\\in \\mathcal BDM_{p}(K) \\, \\forall K\\in \\mathcal T_h \\}\n",
    "\\end{equation}\n",
    "\n"
   ]
  },
  {
   "cell_type": "code",
   "execution_count": 8,
   "metadata": {},
   "outputs": [
    {
     "data": {
      "application/vnd.jupyter.widget-view+json": {
       "model_id": "397859549caa4a67a3eee534e688f335",
       "version_major": 2,
       "version_minor": 0
      },
      "text/plain": [
       "WebGuiWidget(layout=Layout(height='50vh', width='100%'), value={'gui_settings': {}, 'ngsolve_version': '6.2.23…"
      ]
     },
     "metadata": {},
     "output_type": "display_data"
    },
    {
     "data": {
      "application/vnd.jupyter.widget-view+json": {
       "model_id": "c429ad30fc614432aeb2e11a164f57d2",
       "version_major": 2,
       "version_minor": 0
      },
      "text/plain": [
       "WebGuiWidget(layout=Layout(height='50vh', width='100%'), value={'gui_settings': {}, 'ngsolve_version': '6.2.23…"
      ]
     },
     "metadata": {},
     "output_type": "display_data"
    },
    {
     "data": {
      "text/plain": [
       "BaseWebGuiScene"
      ]
     },
     "execution_count": 8,
     "metadata": {},
     "output_type": "execute_result"
    }
   ],
   "source": [
    "# Mixed finite elements spaces\n",
    "Vh = HDiv(mesh,order=0, RT=True) # Raviart-Thomas space\n",
    "#Vh = HDiv(mesh,order=0) # Brezzi-Douglas-Marini space\n",
    "Wh = L2(mesh, order=0)\n",
    "fesm = FESpace([Vh,Wh])\n",
    "# \n",
    "q, u = fesm.TrialFunction()\n",
    "r, v = fesm.TestFunction()\n",
    "\n",
    "# bilinear form\n",
    "am = BilinearForm(fesm)\n",
    "am += (q*r - div(q)*v - div(r)*u)*dx\n",
    "am.Assemble()\n",
    "fm = LinearForm(fesm)\n",
    "fm += -f*v*dx \n",
    "fm.Assemble()\n",
    "\n",
    "gfm = GridFunction(fesm, name=\"gfmixed\")\n",
    "gfq, gfu = gfm.components\n",
    "\n",
    "fm.vec.data -= am.mat * gfm.vec\n",
    "gfm.vec.data += am.mat.Inverse(freedofs=fesm.FreeDofs()) * fm.vec\n",
    "#solvers.BVP(bf=am, lf=fm, gf=gfm)\n",
    "Draw (gfu, mesh, \"u-mixed-dual\")\n",
    "Draw (gfq, mesh, 'q-mixed-dual')\n",
    "#Redraw()"
   ]
  },
  {
   "cell_type": "markdown",
   "metadata": {},
   "source": [
    "\n"
   ]
  },
  {
   "cell_type": "code",
   "execution_count": null,
   "metadata": {},
   "outputs": [],
   "source": []
  }
 ],
 "metadata": {
  "hide_input": false,
  "kernelspec": {
   "display_name": "Python 3 (ipykernel)",
   "language": "python",
   "name": "python3"
  },
  "language_info": {
   "codemirror_mode": {
    "name": "ipython",
    "version": 3
   },
   "file_extension": ".py",
   "mimetype": "text/x-python",
   "name": "python",
   "nbconvert_exporter": "python",
   "pygments_lexer": "ipython3",
   "version": "3.7.9"
  },
  "varInspector": {
   "cols": {
    "lenName": 16,
    "lenType": 16,
    "lenVar": 40
   },
   "kernels_config": {
    "python": {
     "delete_cmd_postfix": "",
     "delete_cmd_prefix": "del ",
     "library": "var_list.py",
     "varRefreshCmd": "print(var_dic_list())"
    },
    "r": {
     "delete_cmd_postfix": ") ",
     "delete_cmd_prefix": "rm(",
     "library": "var_list.r",
     "varRefreshCmd": "cat(var_dic_list()) "
    }
   },
   "types_to_exclude": [
    "module",
    "function",
    "builtin_function_or_method",
    "instance",
    "_Feature"
   ],
   "window_display": false
  }
 },
 "nbformat": 4,
 "nbformat_minor": 2
}
