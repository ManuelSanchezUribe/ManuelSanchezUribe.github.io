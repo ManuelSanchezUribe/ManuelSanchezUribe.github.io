{
 "cells": [
  {
   "cell_type": "markdown",
   "id": "864e5bcd",
   "metadata": {},
   "source": [
    "<center><h1 style=\"color:#173F8A;\"> Metodos para Ecuaciones Diferenciales, IMT3410, 2022-2 </h1></center>\n",
    "<h3 style=\"color:#173F8A;text-align:right;\"> Instituto de Ingenieria Matematica y Computacional<br>  Pontificia Universidad Catolica de Chile <br>  </h3>\n",
    "<h3 style=\"color:#0176DE;text-align:right;\"> Profesor. Manuel A. Sanchez<br> </h3>\n",
    "<hr style=\"border:2px solid #03122E\"> </hr>\n",
    "\n",
    "<!-- Palette colors UC: celeste:#0176DE, azul #173F8A, azul oscuro: #03122E, amarillo: #FEC60D, amarillo oscuro: #E3AE00 -->\n",
    "<!--\n",
    "<figure>\n",
    "<img align =\"right\" src=\"IMClogo.png\" alt=\"logo\" width=\"250\" height=\"400\"><br><br><br><br><br>\n",
    "</figure>\n",
    " -->"
   ]
  },
  {
   "cell_type": "markdown",
   "id": "ee5119a4",
   "metadata": {},
   "source": [
    "<h2 style=\"color:#03122E;text-align:center;\"> Capitulo 3. Metodos para Leyes de conservacion <br> </h2>\n",
    "\n",
    "<hr style=\"border:3px solid #E3AE00 \"> </hr>"
   ]
  },
  {
   "cell_type": "code",
   "execution_count": 1,
   "id": "032023cc",
   "metadata": {},
   "outputs": [],
   "source": [
    "# use netgen.meshing module for 1d meshes\n",
    "from ngsolve import *\n",
    "#from netgen.meshing import Mesh as Mesh1d\n",
    "#from netgen.meshing import MeshPoint,Element0D, Element1D\n",
    "from netgen.csg import *\n",
    "from ngsolve.webgui import Draw\n",
    "import numpy as np\n",
    "import matplotlib as plt\n",
    "from math import pi\n",
    "from netgen.geom2d import SplineGeometry"
   ]
  },
  {
   "cell_type": "code",
   "execution_count": 2,
   "id": "b02b7a5d",
   "metadata": {},
   "outputs": [],
   "source": [
    "class problem2D_advection:\n",
    "    def __init__(self, problemnumber=1):\n",
    "        if problemnumber==1:\n",
    "            self.problem1()\n",
    "        elif problemnumber==2:\n",
    "            self.problem2()\n",
    "            \n",
    "    def problem1(self):\n",
    "        self.geo = SplineGeometry()\n",
    "        self.geo.AddRectangle( (0, 0), (1, 1), bcs = (\"bottom\", \"right\", \"top\", \"left\"))\n",
    "        \n",
    "        self.tpar = Parameter(0.0)\n",
    "        self.b = CoefficientFunction((1,0))\n",
    "        self.ubnd = sin(2*pi*(-self.tpar))\n",
    "        self.u0 = sin(2*pi*x)\n",
    "        \n",
    "    def problem2(self):\n",
    "        self.geo = SplineGeometry()\n",
    "        self.geo.AddRectangle( (0, 0), (1, 1), bcs = (\"bottom\", \"right\", \"top\", \"left\"))\n",
    "        \n",
    "        self.b = CoefficientFunction((1+sin(4*pi*y),2))\n",
    "        self.ubnd = IfPos(x-0.125,IfPos(0.625-x,1+cos(8*pi*x),0),0)\n",
    "        self.u0 = 0\n",
    "        self.tpar = Parameter(0.0)\n",
    "    \n",
    "    def problem2(self):\n",
    "        self.geo = SplineGeometry()\n",
    "        self.geo.AddRectangle( (0, 0), (1, 1), bcs = (\"bottom\", \"right\", \"top\", \"left\"))\n",
    "        \n",
    "        self.b = CoefficientFunction((1+sin(4*pi*y),2))\n",
    "        self.ubnd = IfPos(x-0.125,IfPos(0.625-x,1+cos(8*pi*x),0),0)\n",
    "        self.u0 = 0\n",
    "        self.tpar = Parameter(0.0)\n",
    "\n",
    "        \n",
    "        \n",
    "#mesh = Mesh( geo.GerateMesh(maxh=0.125))\n",
    "#Draw(mesh)\n",
    "#order = 4"
   ]
  },
  {
   "cell_type": "code",
   "execution_count": 9,
   "id": "2da034cd",
   "metadata": {},
   "outputs": [],
   "source": [
    "def DGmethod(problem, mesh, tend=0.6, order= 3, CFL=0.25):\n",
    "    \n",
    "    # Create bilinear form\n",
    "    VT = L2(mesh,order=order)\n",
    "    u,v = VT.TnT()\n",
    "    a = BilinearForm(VT, nonassemble=True)\n",
    "    n = specialcf.normal(mesh.dim)\n",
    "    upw_flux = problem.b*n * IfPos(problem.b*n, u, u.Other(bnd=problem.ubnd))\n",
    "    dS = dx(element_boundary=True)\n",
    "    a += - problem.b * grad(v) * u * dx\n",
    "    a += upw_flux * v * dS\n",
    "    \n",
    "    # initial condition\n",
    "    #gfut = GridFunction(VT, multidim=0)\n",
    "    gfu = GridFunction(VT)\n",
    "    gfu.Set(problem.u0)\n",
    "    #gfut.AddMultiDimComponent(gfu.vec)\n",
    "    sceneu=Draw(gfu,mesh,\"u\", min=-0.5, max=2.0, animate=False, order=5)\n",
    "    \n",
    "    # time loop\n",
    "    invm = VT.Mass(1).Inverse()\n",
    "    res = gfu.vec.CreateVector()\n",
    "    \n",
    "    elvol = Integrate(CoefficientFunction(1),mesh,element_wise=True)\n",
    "    h = max([(2*vol)**(1/2) for vol in elvol]) # 2D\n",
    "    t = 0; dt = CFL*h \n",
    "    \n",
    "    while t < tend-0.5*dt:\n",
    "        res.data = invm @ a.mat * gfu.vec\n",
    "        gfu.vec.data -= dt * res\n",
    "        t += dt\n",
    "        problem.tpar.Set(t)\n",
    "        sceneu.Redraw()\n",
    "        #gfut.AddMultiDimComponent(gfu.vec)\n",
    "    return gfu"
   ]
  },
  {
   "cell_type": "code",
   "execution_count": 10,
   "id": "aa038e88",
   "metadata": {},
   "outputs": [
    {
     "data": {
      "application/vnd.jupyter.widget-view+json": {
       "model_id": "08411f0e4cca437599d581b0192d708a",
       "version_major": 2,
       "version_minor": 0
      },
      "text/plain": [
       "WebGuiWidget(layout=Layout(height='50vh', width='100%'), value={'gui_settings': {}, 'ngsolve_version': '6.2.24…"
      ]
     },
     "metadata": {},
     "output_type": "display_data"
    }
   ],
   "source": [
    "problem1 = problem2D_advection(problemnumber=1)\n",
    "mesh = Mesh( problem1.geo.GenerateMesh(maxh=0.125))\n",
    "gfut = DGmethod(problem1, mesh, tend=1.0, order= 4, CFL=0.125)"
   ]
  },
  {
   "cell_type": "code",
   "execution_count": 11,
   "id": "4c82a227",
   "metadata": {},
   "outputs": [
    {
     "data": {
      "application/vnd.jupyter.widget-view+json": {
       "model_id": "3ac6be47d4ab4fe0a10565ee15ecf4fe",
       "version_major": 2,
       "version_minor": 0
      },
      "text/plain": [
       "WebGuiWidget(layout=Layout(height='50vh', width='100%'), value={'gui_settings': {}, 'ngsolve_version': '6.2.24…"
      ]
     },
     "metadata": {},
     "output_type": "display_data"
    }
   ],
   "source": [
    "problem2 = problem2D_advection(problemnumber=2)\n",
    "mesh = Mesh( problem2.geo.GenerateMesh(maxh=0.125))\n",
    "gfut = DGmethod(problem2, mesh, tend=0.6, order= 4, CFL=1/500)"
   ]
  },
  {
   "cell_type": "code",
   "execution_count": null,
   "id": "ca5be41e",
   "metadata": {},
   "outputs": [],
   "source": []
  }
 ],
 "metadata": {
  "kernelspec": {
   "display_name": "Python 3 (ipykernel)",
   "language": "python",
   "name": "python3"
  },
  "language_info": {
   "codemirror_mode": {
    "name": "ipython",
    "version": 3
   },
   "file_extension": ".py",
   "mimetype": "text/x-python",
   "name": "python",
   "nbconvert_exporter": "python",
   "pygments_lexer": "ipython3",
   "version": "3.10.11"
  }
 },
 "nbformat": 4,
 "nbformat_minor": 5
}
