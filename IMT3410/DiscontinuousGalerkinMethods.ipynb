{
 "cells": [
  {
   "cell_type": "markdown",
   "metadata": {},
   "source": [
    "<center><h1 style=\"color:#173F8A;\"> Metodos para Ecuaciones Diferenciales, IMT3410, 2022-2 </h1></center>\n",
    "<h3 style=\"color:#173F8A;text-align:right;\"> Instituto de Ingenieria Matematica y Computacional<br>  Pontificia Universidad Catolica de Chile <br>  </h3>\n",
    "<h3 style=\"color:#0176DE;text-align:right;\"> Profesor. Manuel A. Sanchez<br> </h3>\n",
    "<hr style=\"border:2px solid #03122E\"> </hr>\n",
    "\n",
    "<!-- Palette colors UC: celeste:#0176DE, azul #173F8A, azul oscuro: #03122E, amarillo: #FEC60D, amarillo oscuro: #E3AE00 -->\n",
    "<!--\n",
    "<figure>\n",
    "<img align =\"right\" src=\"IMClogo.png\" alt=\"logo\" width=\"250\" height=\"400\"><br><br><br><br><br>\n",
    "</figure>\n",
    " -->"
   ]
  },
  {
   "cell_type": "markdown",
   "metadata": {},
   "source": [
    "<h2 style=\"color:#03122E;text-align:center;\"> Capitulo 2. Metodos para Ecuaciones Diferenciales Parciales Elipticas<br> </h2>\n",
    "<h3 style=\"color:#03122E;text-align:center;\">             Metodos de Elementos Finitos Mixtos (Mixed Methods) <br> </h3>\n",
    "<h3 style=\"color:#03122E;text-align:center;\">             Ecuacion de Poisson <br> </h3>\n",
    "<hr style=\"border:3px solid #E3AE00 \"> </hr>"
   ]
  },
  {
   "cell_type": "code",
   "execution_count": 14,
   "metadata": {},
   "outputs": [
    {
     "data": {
      "application/vnd.jupyter.widget-view+json": {
       "model_id": "b57b28e81b9e458ab5d1f2b0ec2daa0d",
       "version_major": 2,
       "version_minor": 0
      },
      "text/plain": [
       "WebGuiWidget(value={'ngsolve_version': '6.2.2203', 'mesh_dim': 2, 'order2d': 2, 'order3d': 2, 'draw_vol': Fals…"
      ]
     },
     "metadata": {},
     "output_type": "display_data"
    },
    {
     "data": {
      "application/vnd.jupyter.widget-view+json": {
       "model_id": "20f78b5d3d984a4c9e96578babae1b73",
       "version_major": 2,
       "version_minor": 0
      },
      "text/plain": [
       "WebGuiWidget(value={'ngsolve_version': '6.2.2203', 'mesh_dim': 2, 'order2d': 2, 'order3d': 2, 'draw_vol': Fals…"
      ]
     },
     "metadata": {},
     "output_type": "display_data"
    },
    {
     "data": {
      "text/plain": [
       "BaseWebGuiScene"
      ]
     },
     "execution_count": 14,
     "metadata": {},
     "output_type": "execute_result"
    }
   ],
   "source": [
    "# NGSolve Libraries\n",
    "from netgen.geom2d import unit_square\n",
    "from ngsolve import *\n",
    "from ngsolve.webgui import Draw\n",
    "#import netgen.gui\n",
    "\n",
    "# Domain geometry\n",
    "geo = unit_square\n",
    "# Generate mesh with meshsize\n",
    "h = .2\n",
    "mesh = Mesh(geo.GenerateMesh(maxh=h))\n",
    "\n",
    "# Manufactured solution\n",
    "uexact = CoefficientFunction( 16*x*(1-x)*y*(1-y) )\n",
    "qexact = CoefficientFunction((-16*(1-2*x)*y*(1-y), -16*(1-2*y)*x*(1-x)  ))\n",
    "# Source according \n",
    "f      = 32*y*(1-y)+32*x*(1-x)\n",
    "Draw(uexact, mesh, 'solucion exacta u ')\n",
    "Draw(qexact, mesh, 'solucion exacta q')\n",
    "#print(mesh.GetBoundaries())"
   ]
  },
  {
   "cell_type": "markdown",
   "metadata": {},
   "source": [
    "# DG method\n",
    "\n",
    "Consideremos el problema eliptico\n",
    "\\begin{equation}\n",
    "\\begin{array}{rclll}\n",
    "\\displaystyle\n",
    "-\\mbox{div}(c \\nabla u) & = & f & \\mbox{en} & \\Omega \\\\\n",
    "\\displaystyle u & = & u_D & \\mbox{sobre} & \\partial \\Omega_{D} \\\\\n",
    "\\displaystyle c \\nabla u\\cdot n & = & g_N & \\mbox{sobre} & \\partial \\Omega_{N} \\\\\n",
    "\\end{array}\n",
    "\\end{equation}\n",
    "\n",
    "Reescribimos la ecuacion diferencial como un sistema de primer orden introduciendo el flujo $q$, y $a = c^{-1}$\n",
    "\\begin{equation}\n",
    "\\begin{array}{rclll}\n",
    "\\displaystyle a q & = & \\nabla u & \\mbox{en} & \\Omega \\\\\n",
    "\\displaystyle\n",
    "\\mbox{div}( q ) & = & f & \\mbox{en} & \\Omega \\\\\n",
    "\\displaystyle u & = & u_D & \\mbox{sobre} & \\partial \\Omega_{D} \\\\\n",
    "\\displaystyle q\\cdot n & = & -g_N & \\mbox{sobre} & \\partial \\Omega_{N} \\\\\n",
    "\\end{array}\n",
    "\\end{equation}\n",
    "\n",
    "\n",
    "Entonces la formulacion variacional mixta (busca dos soluciones) queda: Hallar $(q,u)$ en cada elemento $K\\in \\mathcal T_h$\n",
    "\n",
    "\\begin{equation}\n",
    "\\begin{array}{rcl}\n",
    "\\displaystyle\n",
    "\\int_{K} a q \\cdot r\\,dx + \\int_{K} u\\,\\mbox{div}(r)\\,dx & = &\n",
    "\\displaystyle \n",
    "-\\int_{\\partial K} u r \\cdot n_K ds \\\\\n",
    "\\displaystyle\n",
    "\\int_{K} q\\cdot \\nabla v\\,dx & = & \n",
    "\\displaystyle\n",
    " \\int_{\\Omega} f v+\\int_{\\partial K} v q*n_K \\,ds \\,dx\n",
    "\\end{array}\n",
    "\\end{equation}\n",
    "\n",
    "Espacios de Galerkin discontinuo:\n",
    "\\begin{equation}\n",
    "V_h = \\{v\\in L^{2}(\\Omega): \\forall K\\in \\mathcal T_h, v|_{K}\\in \\mathcal P^{k}\\},\\quad\n",
    "\\Sigma_h = \\{ \\}\n",
    "\\end{equation}\n",
    "\n",
    "Formulacion de discontinuous Galerkin (mixta):\n",
    "\n"
   ]
  },
  {
   "cell_type": "code",
   "execution_count": 16,
   "metadata": {
    "scrolled": false
   },
   "outputs": [
    {
     "data": {
      "application/vnd.jupyter.widget-view+json": {
       "model_id": "6c5cb7bc8d3d41d98bc7faf27fdfd098",
       "version_major": 2,
       "version_minor": 0
      },
      "text/plain": [
       "WebGuiWidget(value={'ngsolve_version': '6.2.2203', 'mesh_dim': 2, 'order2d': 2, 'order3d': 2, 'draw_vol': Fals…"
      ]
     },
     "metadata": {},
     "output_type": "display_data"
    },
    {
     "data": {
      "application/vnd.jupyter.widget-view+json": {
       "model_id": "242da05899a641a6ac67572ba18e5655",
       "version_major": 2,
       "version_minor": 0
      },
      "text/plain": [
       "WebGuiWidget(value={'ngsolve_version': '6.2.2203', 'mesh_dim': 2, 'order2d': 2, 'order3d': 2, 'draw_vol': Fals…"
      ]
     },
     "metadata": {},
     "output_type": "display_data"
    },
    {
     "data": {
      "text/plain": [
       "BaseWebGuiScene"
      ]
     },
     "execution_count": 16,
     "metadata": {},
     "output_type": "execute_result"
    }
   ],
   "source": [
    "# Mixed form\n",
    "order = 3\n",
    "Wh = L2(mesh, order=order, dgjumps=True)\n",
    "Vh = VectorL2(mesh, order=order, dgjumps=True)\n",
    "fes = FESpace([Vh,Wh] )\n",
    "\n",
    "# Trial and test functions\n",
    "q,u = fes.TrialFunction()\n",
    "v,w = fes.TestFunction()\n",
    "\n",
    "# Numerical fluxes\n",
    "n = specialcf.normal(2)\n",
    "jump_u = (u-u.Other())*n\n",
    "jump_w = (w-w.Other())*n\n",
    "jump_q = (q-q.Other())*n\n",
    "jump_v = (v-v.Other())*n\n",
    "\n",
    "mean_u = 0.5*(u+u.Other())\n",
    "mean_w = 0.5*(w+w.Other())\n",
    "mean_q = 0.5*(q+q.Other())\n",
    "mean_v = 0.5*(v+v.Other())\n",
    "\n",
    "eta = max(4*order**2, 4)\n",
    "beta = CoefficientFunction((1.0,1.0))\n",
    "h = specialcf.mesh_size\n",
    "phi_u_i = mean_u - beta*jump_u\n",
    "phi_q_i = mean_q + beta*jump_q - eta/h*jump_u \n",
    "phi_u_b = 0\n",
    "phi_q_b = q - eta/h*u*n \n",
    "\n",
    "dS = dx(element_boundary=True)\n",
    "a_dg = BilinearForm(fes)\n",
    "# first equation\n",
    "a_dg += (q*v + u*div(v) )* dx \n",
    "a_dg += -phi_u_b * v*n*ds(skeleton=True)\n",
    "a_dg += -phi_u_i*jump_v * dx(skeleton=True)\n",
    "# second equation\n",
    "a_dg += (q*grad(w))* dx \n",
    "a_dg += -(phi_q_i*jump_w)*dx(skeleton=True)\n",
    "a_dg += -(phi_q_b*n*w)*ds(skeleton=True)\n",
    "a_dg.Assemble()\n",
    "\n",
    "fdg = LinearForm(fes)\n",
    "fdg += f*w*dx \n",
    "fdg.Assemble()\n",
    "\n",
    "gf = GridFunction(fes)\n",
    "gfq, gfu = gf.components\n",
    "gf.vec.data = a_dg.mat.Inverse() * fdg.vec\n",
    "Draw (gfu)\n",
    "Draw (gfq)"
   ]
  },
  {
   "cell_type": "code",
   "execution_count": null,
   "metadata": {},
   "outputs": [],
   "source": []
  }
 ],
 "metadata": {
  "kernelspec": {
   "display_name": "Python 3 (ipykernel)",
   "language": "python",
   "name": "python3"
  },
  "language_info": {
   "codemirror_mode": {
    "name": "ipython",
    "version": 3
   },
   "file_extension": ".py",
   "mimetype": "text/x-python",
   "name": "python",
   "nbconvert_exporter": "python",
   "pygments_lexer": "ipython3",
   "version": "3.10.4"
  },
  "toc": {
   "base_numbering": 1,
   "nav_menu": {},
   "number_sections": false,
   "sideBar": true,
   "skip_h1_title": false,
   "title_cell": "Table of Contents",
   "title_sidebar": "Contents",
   "toc_cell": false,
   "toc_position": {},
   "toc_section_display": true,
   "toc_window_display": false
  }
 },
 "nbformat": 4,
 "nbformat_minor": 4
}
