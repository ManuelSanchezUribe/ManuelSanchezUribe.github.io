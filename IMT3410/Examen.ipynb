{
 "cells": [
  {
   "cell_type": "markdown",
   "metadata": {},
   "source": [
    "<hr style=\"border:2px solid #03122E\"> </hr>\n",
    "<center>\n",
    "    <h1 style=\"color:#173F8A;\"> EXAMEN </h1>\n",
    "    <h2 style=\"color:#173F8A;\"> Metodos para Ecuaciones Diferenciales </h2> \n",
    "    <h2 style=\"color:#173F8A;\"> IMT3410 2023-II </h2>\n",
    "</center>\n",
    "<hr style=\"border:2px solid #03122E\"> </hr>\n",
    "<h3 style=\"color:#0176DE;text-align:right;\"> Prof. &nbsp;Manuel A. Sanchez<br> 14 de Diciembre de 2023<br></h3>\n",
    "<hr style=\"border:2px solid #03122E\"> </hr>\n",
    "\n",
    "\n",
    "<!-- Palette colors UC:\n",
    "Primaria: \n",
    "celeste:#0176DE, azul #173F8A, azul oscuro: #03122E, amarillo: #FEC60D, amarillo oscuro: #E3AE00 \n",
    "Secundaria\n",
    "gris oscuro: #707070\n",
    "-->"
   ]
  },
  {
   "cell_type": "markdown",
   "metadata": {},
   "source": [
    "# Nombre estudiante: COMPLETE ACA"
   ]
  },
  {
   "cell_type": "code",
   "execution_count": null,
   "metadata": {},
   "outputs": [],
   "source": [
    "import numpy as np\n",
    "import matplotlib.pyplot as plt\n",
    "from scipy import sparse as sp\n",
    "from scipy.special import roots_jacobi\n",
    "from scipy.sparse.linalg import eigs"
   ]
  },
  {
   "cell_type": "markdown",
   "metadata": {},
   "source": [
    "# Pregunta 4 (20 puntos)\n",
    "\n",
    "Considere el problema de encontrar los autovalores y las autofunciones del operador Laplaciano en el intervalo $(0,L)$, y con condiciones de Dirichlet homogeneas, es decir, encontrar el par $(u, \\lambda)$ tal que\n",
    "\\begin{align}\n",
    "\\Delta u &= \\lambda u, &&\\qquad x\\in (0,L), \\\\\n",
    "u &= 0, && x=0 \\,\\,\\text{o}\\,\\,x=L. \n",
    "\\end{align}\n",
    "\n",
    "**Pregunta 4.1.** Muestre que las autofunciones y autovalores del problema son \n",
    "\\begin{equation}\n",
    "u_{n}(x) = C\\sin\\left(\\frac{n\\pi}{L} x \\right), \\quad \\lambda_{n} = -\\left( \\frac{n \\pi}{L}\\right)^{2}, \\quad n\\in \\mathbb N,\n",
    "\\end{equation}\n",
    "donde $C$ es una constante."
   ]
  },
  {
   "cell_type": "markdown",
   "metadata": {},
   "source": [
    "**Respuesta 4.1.**\n"
   ]
  },
  {
   "cell_type": "markdown",
   "metadata": {},
   "source": [
    "**Pregunta 4.2.** Aproxime las autofunciones y autovalores usando el metodo de diferencias finitas, esto es, derive el problema de valores propios (sistema lineal) $A v = \\lambda v$, y calcule aproximaciones de las autofunciones y autovalores. Especificamente, use el metodo de diferencias finitas de 3 puntos, subdividiendo el intervalo $(0,L)$ en $N$ subintervalos de tamano de malla $h=L/N$ fijo, para $L = 7$, y aproxime los primero 8 autovalores y autofunciones. Grafique la convergencia de estos autovalores para una secuencia de mallas y muestre en una tabla el error y y razon de convergencia de cada una de las aproximaciones. Utilice el template a continuacion."
   ]
  },
  {
   "cell_type": "code",
   "execution_count": null,
   "metadata": {},
   "outputs": [],
   "source": [
    "L = 7\n",
    "def malla_findif(N):\n",
    "    ## Codigo aca\n",
    "    return x # retorna los nodos de la malla\n",
    "\n",
    "def matriz_findif(N):\n",
    "    ## Codigo aca\n",
    "    return A # retorna matriz de diferencias finitas\n",
    "\n",
    "def compute_eigs_findif(N):\n",
    "    h = L/N\n",
    "    malla= malla_findif(N)\n",
    "    A = matriz_findif(N)\n",
    "    eigval, eigvec = sp.linalg.eigsh(A, k=8, which='SM')\n",
    "    return eigval, eigvec, malla\n",
    "\n",
    "def plot_eigs(eigval,eigvec,xint):\n",
    "    figplots, axplots = plt.subplots(2,4, figsize=(16,8))\n",
    "    for j, axp in enumerate(figplots.axes):\n",
    "        axp.plot(xint, eigenvec[:,j])\n",
    "        axp.title.set_text(r'$\\lambda$=' + str(eigenval[j]))\n",
    "    plt.show()\n",
    "\n",
    "def mostrar_convergencia():\n",
    "    ## Convergencia de valores propios\n",
    "    error = []\n",
    "    Nlist = [16,32,64,128,256,512,1024,2048,4096]\n",
    "    hlist = [1.0/N for N in Nlist]\n",
    "    for i, N in enumerate(Nlist):\n",
    "        eigval, eigvec, x = compute_eigs_findif(N)\n",
    "        ## Codigo aca que calcule error de valores propios del 1...8\n",
    "    \n",
    "    figplots, axplots = plt.subplots(2,4, figsize=(16,8))\n",
    "    for j, axp in enumerate(figplots.axes):\n",
    "        axp.loglog(Nlist, error[:,j],'o--')\n",
    "        axp.title.set_text(r'$\\lambda$=' + str(eigenval[j]))\n",
    "    ## Codigo aca para calcular razones de convergencia de los autovalores\n",
    "    \n",
    "    ## imprimir tabla con h, errores, y razones de convergencia"
   ]
  },
  {
   "cell_type": "code",
   "execution_count": null,
   "metadata": {},
   "outputs": [],
   "source": [
    "# grafica de autofunciones y autovalores para N = 1024\n",
    "N = 1024\n",
    "eigval, eigvec,  x = compute_eigs_findif(N)\n",
    "plot_eigs(eigval,eigvec,x[1:N-1])\n",
    "\n",
    "# grafica de convergencia de los 8 autovalores\n",
    "mostrar_convergencia()\n",
    "# mostrar tabla con errores y razones de convergencia para los 8 primeros autovalores"
   ]
  },
  {
   "cell_type": "markdown",
   "metadata": {},
   "source": [
    "**Pregunta 4.3.** Aproxime ahora las autofunciones y autovalores usando el metodo de elementos finitos, esto es, derive el problema de valores propios generalizado(sistema lineal) $A v = \\lambda M v$, y calcule aproximaciones de las autofunciones y autovalores. Especificamente, use el metodo de elementos finitos continuos y lineales, subdividiendo el intervalo $(0,L)$ en $N$ subintervalos de tamano de malla $h=L/N$ fijo, para $L = 7$, y aproxime los primeros 8 autovalores y autofunciones. Grafique la convergencia de estos autovalores para una secuencia de mallas y muestre en una tabla el error y y razon de convergencia de cada una de las aproximaciones. Utilice el template a continuacion."
   ]
  },
  {
   "cell_type": "code",
   "execution_count": null,
   "metadata": {},
   "outputs": [],
   "source": [
    "L = 7\n",
    "def malla_finele(N):\n",
    "    ## Codigo aca\n",
    "    return Coordinates, Elements # retorna los nodos de la malla y la matriz de conectividad\n",
    "\n",
    "def matriz_finele(Coordinates, Elements):\n",
    "    ## Codigo aca\n",
    "    return A, M # retorna matriz de rigidez y la de masa\n",
    "\n",
    "def compute_eigs_finele(N):\n",
    "    h = L/N\n",
    "    Coordinates, Elements = malla_finele(N)\n",
    "    A = matriz_findif(Coordinates, Elements)\n",
    "    eigval, eigvec = sp.linalg.eigsh(A=A, M=M, k=8, which='SM')\n",
    "    return eigval, eigvec, Coordinates\n",
    "\n",
    "def mostrar_convergencia_finele():\n",
    "    ## Convergencia de valores propios\n",
    "    error = []\n",
    "    Nlist = [16,32,64,128,256,512,1024,2048,4096]\n",
    "    hlist = [1.0/N for N in Nlist]\n",
    "    for i, N in enumerate(Nlist):\n",
    "        eigval, eigvec,  x = compute_eigs_finele(N)\n",
    "        ## Codigo aca que calcule error de valores propios del 1...8\n",
    "    \n",
    "    figplots, axplots = plt.subplots(2,4, figsize=(16,8))\n",
    "    for j, axp in enumerate(figplots.axes):\n",
    "        axp.loglog(Nlist, error[:,j],'o--')\n",
    "        axp.title.set_text(r'$\\lambda$=' + str(eigenval[j]))\n",
    "    ## Codigo aca para calcular razones de convergencia de los autovalores\n",
    "    \n",
    "    ## imprimir tabla con h, errores, y razones de convergencia\n",
    "\n",
    "# grafica de autofunciones y autovalores para N = 1024\n",
    "N = 1024\n",
    "eigval, eigvec,  x = compute_eigs_finele(N)\n",
    "plot_eigs(eigval,eigvec,x[1:N-1])\n",
    "\n",
    "# grafica de convergencia de los 8 autovalores\n",
    "mostrar_convergencia_finele()\n",
    "# mostrar tabla con errores y razones de convergencia para los 8 primeros autovalores\n"
   ]
  },
  {
   "cell_type": "markdown",
   "metadata": {},
   "source": [
    "**Pregunta 4.4** Debiese observar convergencia cuadratica en ambos casos. Comente acerca de un fundamento teorico que soporte lo obtenido en estos calculos. "
   ]
  },
  {
   "cell_type": "markdown",
   "metadata": {},
   "source": [
    "**Respuesta 4.4.**"
   ]
  },
  {
   "cell_type": "code",
   "execution_count": null,
   "metadata": {},
   "outputs": [],
   "source": []
  }
 ],
 "metadata": {
  "kernelspec": {
   "display_name": "Python 3",
   "language": "python",
   "name": "python3"
  },
  "language_info": {
   "codemirror_mode": {
    "name": "ipython",
    "version": 3
   },
   "file_extension": ".py",
   "mimetype": "text/x-python",
   "name": "python",
   "nbconvert_exporter": "python",
   "pygments_lexer": "ipython3",
   "version": "3.8.5"
  },
  "toc": {
   "base_numbering": 1,
   "nav_menu": {},
   "number_sections": false,
   "sideBar": true,
   "skip_h1_title": false,
   "title_cell": "Table of Contents",
   "title_sidebar": "Contents",
   "toc_cell": false,
   "toc_position": {},
   "toc_section_display": true,
   "toc_window_display": false
  }
 },
 "nbformat": 4,
 "nbformat_minor": 5
}
