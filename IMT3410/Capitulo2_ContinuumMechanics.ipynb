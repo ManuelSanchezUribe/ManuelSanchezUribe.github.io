{
 "cells": [
  {
   "cell_type": "markdown",
   "id": "19d5608e",
   "metadata": {},
   "source": [
    "<center><h1 style=\"color:#173F8A;\"> Metodos para Ecuaciones Diferenciales, IMT3410, 2023-2 </h1></center>\n",
    "<h3 style=\"color:#173F8A;text-align:right;\"> Instituto de Ingenieria Matematica y Computacional<br>  Pontificia Universidad Catolica de Chile <br>  </h3>\n",
    "<h3 style=\"color:#0176DE;text-align:right;\"> Profesor. Manuel A. Sanchez<br> </h3>\n",
    "<hr style=\"border:2px solid #03122E\"> </hr>\n",
    "\n",
    "<!-- Palette colors UC: celeste:#0176DE, azul #173F8A, azul oscuro: #03122E, amarillo: #FEC60D, amarillo oscuro: #E3AE00 -->\n",
    "<!--\n",
    "<figure>\n",
    "<img align =\"right\" src=\"IMClogo.png\" alt=\"logo\" width=\"250\" height=\"400\"><br><br><br><br><br>\n",
    "</figure>\n",
    " -->"
   ]
  },
  {
   "cell_type": "markdown",
   "id": "4de055fa",
   "metadata": {},
   "source": [
    "<h2 style=\"color:#03122E;text-align:center;\"> Capitulo 2. Metodos para Ecuaciones Diferenciales Parciales Elipticas<br> </h2>\n",
    "<h3 style=\"color:#03122E;text-align:center;\">             Metodos de Elementos Finitos <br> </h3>\n",
    "<h3 style=\"color:#03122E;text-align:center;\">             Continuum Mechanics <br> </h3>\n",
    "<hr style=\"border:3px solid #E3AE00 \"> </hr>"
   ]
  },
  {
   "cell_type": "code",
   "execution_count": 4,
   "id": "3e4e0321",
   "metadata": {},
   "outputs": [],
   "source": [
    "# NGSolve Libraries\n",
    "from netgen.geom2d import unit_square\n",
    "from ngsolve import *\n",
    "from ngsolve.webgui import Draw # para jupyter\n",
    "#import netgen.gui\n",
    "from netgen.geom2d import SplineGeometry\n"
   ]
  },
  {
   "cell_type": "code",
   "execution_count": 38,
   "id": "ec50f50e",
   "metadata": {},
   "outputs": [],
   "source": [
    "def stress(u):\n",
    "    return lambda_par*(div(u))*Id(2) + 2*mu_par*strain(u)\n",
    "\n",
    "def strain(u):\n",
    "    return 0.5*(grad(u) + grad(u).trans)"
   ]
  },
  {
   "cell_type": "code",
   "execution_count": 34,
   "id": "77e8f9fd",
   "metadata": {},
   "outputs": [
    {
     "data": {
      "application/vnd.jupyter.widget-view+json": {
       "model_id": "af4007adff9c4dd4a9ea1687e094d389",
       "version_major": 2,
       "version_minor": 0
      },
      "text/plain": [
       "WebGuiWidget(layout=Layout(height='50vh', width='100%'), value={'gui_settings': {}, 'ngsolve_version': '6.2.23…"
      ]
     },
     "metadata": {},
     "output_type": "display_data"
    }
   ],
   "source": [
    "geo = SplineGeometry()\n",
    "\n",
    "pnts =[(0,0),(5,0),(5,1),(0,1)]\n",
    "p1,p2,p3,p4 = [geo.AppendPoint(*pnt) for pnt in pnts]\n",
    "curves = [[[\"line\",p1,p2],\"bottom\"],\n",
    "          [[\"line\",p2,p3],\"right\"],\n",
    "          [[\"line\",p3,p4],\"top\"],\n",
    "          [[\"line\",p4,p1],\"left\"]]\n",
    "[geo.Append(c,bc=bc, leftdomain=1, rightdomain=0) for c,bc in curves]\n",
    "geo.AddCircle(c=(2.5,0.5),r=0.25,maxh=0.05,bc=\"circle\",leftdomain=0,rightdomain=1)\n",
    "ngmesh = geo.GenerateMesh(maxh=0.1)\n",
    "mesh = Mesh(ngmesh)\n",
    "Draw(mesh)\n",
    "\n",
    "bdry_values = {'left': CoefficientFunction((0,0)), 'right': CoefficientFunction((1,0))}\n",
    "values_list = [bdry_values[bc]\n",
    "               if bc in bdry_values.keys() else ((0,0))\n",
    "               for bc in mesh.GetBoundaries()]\n",
    "g = CoefficientFunction(values_list)"
   ]
  },
  {
   "cell_type": "code",
   "execution_count": 35,
   "id": "4e4d1ab5",
   "metadata": {},
   "outputs": [],
   "source": [
    "# H1-conforming finite element space\n",
    "fes = VectorH1(mesh, order=1, dirichlet='left|right')\n",
    "\n",
    "# define trial- and test-functions\n",
    "u = fes.TrialFunction()\n",
    "v = fes.TestFunction()\n",
    "\n",
    "# the right hand side\n",
    "force = CoefficientFunction((0,0))\n",
    "\n",
    "lf = LinearForm(fes)\n",
    "lf += force * v * dx\n",
    "\n",
    "# the bilinear-form \n",
    "a = BilinearForm(fes, symmetric=True)\n",
    "a += lambda_par*div(u)*div(v)*dx + 2*mu_par*InnerProduct(strain(u),strain(v))*dx\n",
    "\n",
    "a.Assemble()\n",
    "lf.Assemble()\n",
    "\n",
    "# the solution field \n",
    "gfu = GridFunction(fes)\n",
    "gfu.Set(g, definedon=mesh.Boundaries('left|right'))\n",
    "r = lf.vec.CreateVector()\n",
    "r.data = lf.vec - a.mat * gfu.vec\n",
    "gfu.vec.data += a.mat.Inverse(freedofs=fes.FreeDofs()) * r\n"
   ]
  },
  {
   "cell_type": "code",
   "execution_count": 33,
   "id": "b1c9d873",
   "metadata": {},
   "outputs": [
    {
     "data": {
      "application/vnd.jupyter.widget-view+json": {
       "model_id": "de20cc2fdec44cb6955a9bc098f38cee",
       "version_major": 2,
       "version_minor": 0
      },
      "text/plain": [
       "WebGuiWidget(layout=Layout(height='50vh', width='100%'), value={'gui_settings': {}, 'ngsolve_version': '6.2.23…"
      ]
     },
     "metadata": {},
     "output_type": "display_data"
    },
    {
     "data": {
      "text/plain": [
       "BaseWebGuiScene"
      ]
     },
     "execution_count": 33,
     "metadata": {},
     "output_type": "execute_result"
    }
   ],
   "source": [
    "Draw(gfu, deformation=True)"
   ]
  },
  {
   "cell_type": "markdown",
   "id": "3fc429cb",
   "metadata": {},
   "source": [
    "# Perdida de la Coercividad"
   ]
  },
  {
   "cell_type": "code",
   "execution_count": 70,
   "id": "692ede3f",
   "metadata": {},
   "outputs": [
    {
     "data": {
      "application/vnd.jupyter.widget-view+json": {
       "model_id": "71251f572eed49a09cc25c1790963a99",
       "version_major": 2,
       "version_minor": 0
      },
      "text/plain": [
       "WebGuiWidget(layout=Layout(height='50vh', width='100%'), value={'gui_settings': {}, 'ngsolve_version': '6.2.23…"
      ]
     },
     "metadata": {},
     "output_type": "display_data"
    }
   ],
   "source": [
    "geo = SplineGeometry()\n",
    "\n",
    "pnts =[(0,0),(3,0),(3,1),(0,1)]\n",
    "p1,p2,p3,p4 = [geo.AppendPoint(*pnt) for pnt in pnts]\n",
    "curves = [[[\"line\",p1,p2],\"bottom\"],\n",
    "          [[\"line\",p2,p3],\"right\"],\n",
    "          [[\"line\",p3,p4],\"top\"],\n",
    "          [[\"line\",p4,p1],\"left\"]]\n",
    "[geo.Append(c,bc=bc, leftdomain=1, rightdomain=0) for c,bc in curves]\n",
    "geo.AddCircle(c=(1.5,0.5),r=0.25,maxh=0.025,bc=\"circle2\",leftdomain=0,rightdomain=1)\n",
    "geo.AddCircle(c=(0.625,0.5),r=0.2,maxh=0.025,bc=\"circle1\",leftdomain=0,rightdomain=1)\n",
    "geo.AddCircle(c=(2.375,0.5),r=0.2,maxh=0.025,bc=\"circle3\",leftdomain=0,rightdomain=1)\n",
    "\n",
    "ngmesh = geo.GenerateMesh(maxh=0.1)\n",
    "mesh = Mesh(ngmesh)\n",
    "Draw(mesh)\n",
    "\n",
    "bdry_values = {'left': CoefficientFunction((0,0)), 'right': CoefficientFunction((1,0))}\n",
    "values_list = [bdry_values[bc]\n",
    "               if bc in bdry_values.keys() else ((0,0))\n",
    "               for bc in mesh.GetBoundaries()]\n",
    "g = CoefficientFunction(values_list)"
   ]
  },
  {
   "cell_type": "code",
   "execution_count": 71,
   "id": "9bae3d8f",
   "metadata": {},
   "outputs": [],
   "source": [
    "lambda_par = Parameter(100.0) # Ratio lambda/mu = 100\n",
    "mu_par = Parameter(1.0)\n",
    "def stress(u):\n",
    "    return lambda_par*(div(u))*Id(2) + 2*mu_par*strain(u)\n",
    "\n",
    "def strain(u):\n",
    "    return 0.5*(grad(u) + grad(u).trans)\n",
    "# H1-conforming finite element space\n",
    "fes = VectorH1(mesh, order=1, dirichlet='left|right')\n",
    "\n",
    "# define trial- and test-functions\n",
    "u = fes.TrialFunction()\n",
    "v = fes.TestFunction()\n",
    "\n",
    "# the right hand side\n",
    "force = CoefficientFunction((0,0))\n",
    "\n",
    "lf = LinearForm(fes)\n",
    "lf += force * v * dx\n",
    "\n",
    "# the bilinear-form \n",
    "a = BilinearForm(fes, symmetric=True)\n",
    "a += lambda_par*div(u)*div(v)*dx + 2*mu_par*InnerProduct(strain(u),strain(v))*dx\n",
    "\n",
    "a.Assemble()\n",
    "lf.Assemble()\n",
    "\n",
    "# the solution field \n",
    "gfu = GridFunction(fes)\n",
    "gfu.Set(g, definedon=mesh.Boundaries('left|right'))\n",
    "r = lf.vec.CreateVector()\n",
    "r.data = lf.vec - a.mat * gfu.vec\n",
    "gfu.vec.data += a.mat.Inverse(freedofs=fes.FreeDofs()) * r\n"
   ]
  },
  {
   "cell_type": "code",
   "execution_count": 72,
   "id": "3e7ed683",
   "metadata": {},
   "outputs": [
    {
     "data": {
      "application/vnd.jupyter.widget-view+json": {
       "model_id": "79e42331077747868b7f0b456f7d5ac9",
       "version_major": 2,
       "version_minor": 0
      },
      "text/plain": [
       "WebGuiWidget(layout=Layout(height='50vh', width='100%'), value={'gui_settings': {}, 'ngsolve_version': '6.2.23…"
      ]
     },
     "metadata": {},
     "output_type": "display_data"
    },
    {
     "data": {
      "text/plain": [
       "BaseWebGuiScene"
      ]
     },
     "execution_count": 72,
     "metadata": {},
     "output_type": "execute_result"
    }
   ],
   "source": [
    "Draw(gfu, deformation=True)"
   ]
  },
  {
   "cell_type": "code",
   "execution_count": 73,
   "id": "84704e5b",
   "metadata": {},
   "outputs": [
    {
     "data": {
      "application/vnd.jupyter.widget-view+json": {
       "model_id": "2474112c5c864825a7065c12315ff07e",
       "version_major": 2,
       "version_minor": 0
      },
      "text/plain": [
       "WebGuiWidget(layout=Layout(height='50vh', width='100%'), value={'gui_settings': {}, 'ngsolve_version': '6.2.23…"
      ]
     },
     "metadata": {},
     "output_type": "display_data"
    },
    {
     "data": {
      "application/vnd.jupyter.widget-view+json": {
       "model_id": "3dbafb3db25245fab42b3ca62fd12487",
       "version_major": 2,
       "version_minor": 0
      },
      "text/plain": [
       "WebGuiWidget(layout=Layout(height='50vh', width='100%'), value={'gui_settings': {}, 'ngsolve_version': '6.2.23…"
      ]
     },
     "metadata": {},
     "output_type": "display_data"
    },
    {
     "data": {
      "application/vnd.jupyter.widget-view+json": {
       "model_id": "ddcf067bd5f3444c8cc19eb4d6d3d524",
       "version_major": 2,
       "version_minor": 0
      },
      "text/plain": [
       "WebGuiWidget(layout=Layout(height='50vh', width='100%'), value={'gui_settings': {}, 'ngsolve_version': '6.2.23…"
      ]
     },
     "metadata": {},
     "output_type": "display_data"
    },
    {
     "data": {
      "text/plain": [
       "BaseWebGuiScene"
      ]
     },
     "execution_count": 73,
     "metadata": {},
     "output_type": "execute_result"
    }
   ],
   "source": [
    "sigma = grad(gfu)#.MakeVariable()\n",
    "\n",
    "def sigma_min(sigma): # magnitude of first principal stress\n",
    "    return((sigma[0,0]+sigma[1,1])/2 - sqrt(((sigma[0,0]-sigma[1,1])/2)**2 + sigma[1,0]**2))\n",
    "\n",
    "def sigma_max(sigma): # magnitude of first principal stress\n",
    "    return((sigma[0,0]+sigma[1,1])/2 + sqrt(((sigma[0,0]-sigma[1,1])/2)**2 + sigma[1,0]**2))\n",
    "\n",
    "Draw(sigma_max(sigma), mesh)\n",
    "Draw(sigma_min(sigma), mesh)\n",
    "Tresca = sigma_max(sigma)-sigma_min(sigma)\n",
    "Draw(Tresca, mesh)\n"
   ]
  },
  {
   "cell_type": "code",
   "execution_count": 74,
   "id": "9aa88539",
   "metadata": {},
   "outputs": [
    {
     "name": "stdout",
     "output_type": "stream",
     "text": [
      "Help on function Draw in module ngsolve.webgui:\n",
      "\n",
      "Draw(mesh_or_func, mesh_or_none=None, name='function', order=2, min=None, max=None, draw_vol=True, draw_surf=True, autoscale=True, intpoints=None, deformation=False, interpolate_multidim=False, animate=False, clipping=None, vectors=None, js_code=None, eval_function=None, eval=None, filename='', objects=[], nodal_p1=False, settings={})\n",
      "\n"
     ]
    }
   ],
   "source": [
    "help(Draw)"
   ]
  },
  {
   "cell_type": "code",
   "execution_count": null,
   "id": "757ea421",
   "metadata": {},
   "outputs": [],
   "source": []
  }
 ],
 "metadata": {
  "kernelspec": {
   "display_name": "Python 3 (ipykernel)",
   "language": "python",
   "name": "python3"
  },
  "language_info": {
   "codemirror_mode": {
    "name": "ipython",
    "version": 3
   },
   "file_extension": ".py",
   "mimetype": "text/x-python",
   "name": "python",
   "nbconvert_exporter": "python",
   "pygments_lexer": "ipython3",
   "version": "3.7.9"
  }
 },
 "nbformat": 4,
 "nbformat_minor": 5
}
