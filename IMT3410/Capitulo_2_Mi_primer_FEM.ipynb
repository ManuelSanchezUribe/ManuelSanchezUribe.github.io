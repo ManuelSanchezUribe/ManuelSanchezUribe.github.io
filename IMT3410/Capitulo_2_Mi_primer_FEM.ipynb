{
 "cells": [
  {
   "cell_type": "markdown",
   "id": "cd296f3b",
   "metadata": {},
   "source": [
    "<center><h1 style=\"color:#173F8A;\"> Metodos para Ecuaciones Diferenciales, IMT3410, 2023-2 </h1></center>\n",
    "<h3 style=\"color:#173F8A;text-align:right;\"> Instituto de Ingenieria Matematica y Computacional<br>  Pontificia Universidad Catolica de Chile <br>  </h3>\n",
    "<h3 style=\"color:#0176DE;text-align:right;\"> Profesor. Manuel A. Sanchez<br> </h3>\n",
    "<hr style=\"border:2px solid #03122E\"> </hr>\n",
    "\n",
    "<!-- Palette colors UC: celeste:#0176DE, azul #173F8A, azul oscuro: #03122E, amarillo: #FEC60D, amarillo oscuro: #E3AE00 -->\n",
    "<!--\n",
    "<figure>\n",
    "<img align =\"right\" src=\"IMClogo.png\" alt=\"logo\" width=\"250\" height=\"400\"><br><br><br><br><br>\n",
    "</figure>\n",
    " -->"
   ]
  },
  {
   "cell_type": "markdown",
   "id": "875b8781",
   "metadata": {},
   "source": [
    "## Capitulo 2: Mi primer codigo de elementos finitos"
   ]
  },
  {
   "cell_type": "markdown",
   "id": "c3016c0e",
   "metadata": {},
   "source": [
    "## Problema: \n",
    "Queremos resolver la siguiente ecuacion eliptica\n",
    "$$\n",
    "-\\frac{d}{dx}\\left( p(x) \\frac{d}{dx}u(x)\\right) + r(x)u(x) = f(x),\\quad x\\in (a,b)\n",
    "$$\n",
    "con condiciones de borde $u(a) = A, u(b) = B$."
   ]
  },
  {
   "cell_type": "code",
   "execution_count": 2,
   "id": "f4517ea9",
   "metadata": {},
   "outputs": [],
   "source": [
    "import numpy as np"
   ]
  },
  {
   "cell_type": "code",
   "execution_count": 4,
   "id": "64ac17be",
   "metadata": {},
   "outputs": [],
   "source": [
    "# Datos\n",
    "class problem1delliptic:\n",
    "    def __init__(self,a,b,f,A,B,p,r,uexact=None):\n",
    "        self.a = a\n",
    "        self.b = b\n",
    "        self.f = f\n",
    "        self.A = A\n",
    "        self.B = B\n",
    "        self.p = p \n",
    "        self.r = r\n",
    "# problema ejemplo\n",
    "a = 0.0; b= 1.0\n",
    "f = lambda x: 0 +0*x\n",
    "A = 0; B = 0\n",
    "p = lambda x: 1.0+0*x\n",
    "r = lambda x: 0+0*x\n",
    "problema1 = problem1delliptic(a,b,f,A,B,p,r)"
   ]
  },
  {
   "cell_type": "code",
   "execution_count": 23,
   "id": "e7b0ebed",
   "metadata": {},
   "outputs": [],
   "source": [
    "# Triangulacion o subdivision del intervalo\n",
    "class Triangulation1d:\n",
    "    def __init__(self, Coordinates, Elements1d):\n",
    "        self.Coordinates = Coordinates\n",
    "        self.Elements = Elements1d\n",
    "        self.NN = Coordinates.size\n",
    "        self.NE = Elements1d.shape[0]\n",
    "# ejemplo de triangulacion\n",
    "npoints = 5\n",
    "x = np.random.rand(npoints-2); z = a + (b-a)*x\n",
    "Coordinates = np.concatenate( (np.array([a]),np.sort(z),np.array([b])) )\n",
    "Elements1d = np.asarray([[i, i+1] for i in range(npoints-1)])\n",
    "mesh1d = Triangulation1d(Coordinates, Elements1d)"
   ]
  },
  {
   "cell_type": "code",
   "execution_count": 28,
   "id": "68029844",
   "metadata": {},
   "outputs": [],
   "source": [
    "def myfirstfem1d(problem, mesh):\n",
    "    # Matrix \n",
    "    A = np.zeros((mesh.NN, mesh.NN), dtype=np.float64)\n",
    "    # vector\n",
    "    b = np.zeros(mesh.NN, dtype=np.float64)\n",
    "    # solution\n",
    "    uh = np.zeros(mesh.NN, dtype=np.float64)\n",
    "    # Loop over elements\n",
    "    for j in range(mesh.NE):\n",
    "        # element\n",
    "        K = mesh.Coordinates[mesh.Elements[j,:]]\n",
    "        # local stiffness matrix\n",
    "        SK = computeStiffness1d(K,problem.p)\n",
    "        # local mas matrix \n",
    "        MK = computeMass1d(K,problem.r)\n",
    "        # local assembling matrix A+= AK = SK+MK\n",
    "        \n",
    "        # load vector\n",
    "        bK = computeloadvector1d(K, problem.f)\n",
    "        # local assembling vector b += bK\n",
    "    # end loop\n",
    "    \n",
    "    # Dirichlet boundary condicion\n",
    "    uh[0] = A; uh[-1] = B\n",
    "    b = b - A.dot(uh)\n",
    "    Freenodes = np.arange(1, mesh.NN-1, dtype=int)\n",
    "    # slicing\n",
    "    AFree = A[np.ix_(Freenodes, Freenodes)]  \n",
    "    # solve linear system AFree uh[Free] = b[Free] \n",
    "    return uh\n",
    "\n",
    "def computeStiffness1d(K,p):\n",
    "    # compute integral p(x)*phi_i'*phi_j' dx\n",
    "    SK = np.zeros((2,2),dtype=np.float64)\n",
    "    return SK\n",
    "def computeMass1d(K,p):\n",
    "    # compute integral r(x)*phi_i'phi_j dx\n",
    "    MK = np.zeros((2,2),dtype=np.float64)\n",
    "    return MK\n",
    "def computeloadvector1d(K,p):\n",
    "    # compute integral f(x)*phi_i dx\n",
    "    bK = np.zeros(2,dtype=np.float64)\n",
    "    return bK"
   ]
  },
  {
   "cell_type": "code",
   "execution_count": 26,
   "id": "98d27d30",
   "metadata": {},
   "outputs": [
    {
     "name": "stdout",
     "output_type": "stream",
     "text": [
      "[[0.57510134 0.47870558 0.05778029 0.1709081  0.37071789]\n",
      " [0.16660898 0.83407496 0.84149606 0.23714954 0.78073719]\n",
      " [0.11142165 0.33446484 0.80559574 0.84589496 0.10968945]\n",
      " [0.01410765 0.12973583 0.63675083 0.24637815 0.73319625]\n",
      " [0.98142902 0.19499955 0.15112318 0.72103995 0.66692723]]\n",
      "[[0.83407496 0.84149606 0.23714954]\n",
      " [0.33446484 0.80559574 0.84589496]\n",
      " [0.12973583 0.63675083 0.24637815]]\n"
     ]
    }
   ],
   "source": [
    "A = np.random.rand( mesh1d.NN, mesh1d.NN)\n",
    "Freenodes = np.arange(1, mesh1d.NN-1, dtype=int)\n",
    "AFree = A[np.ix_(Freenodes, Freenodes)] \n",
    "print(A)\n",
    "print(AFree)"
   ]
  },
  {
   "cell_type": "code",
   "execution_count": null,
   "id": "91ccab66",
   "metadata": {},
   "outputs": [],
   "source": []
  }
 ],
 "metadata": {
  "kernelspec": {
   "display_name": "Python 3 (ipykernel)",
   "language": "python",
   "name": "python3"
  },
  "language_info": {
   "codemirror_mode": {
    "name": "ipython",
    "version": 3
   },
   "file_extension": ".py",
   "mimetype": "text/x-python",
   "name": "python",
   "nbconvert_exporter": "python",
   "pygments_lexer": "ipython3",
   "version": "3.7.9"
  }
 },
 "nbformat": 4,
 "nbformat_minor": 5
}
