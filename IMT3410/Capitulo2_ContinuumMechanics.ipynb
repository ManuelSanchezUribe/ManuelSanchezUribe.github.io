{
 "cells": [
  {
   "cell_type": "markdown",
   "id": "19d5608e",
   "metadata": {},
   "source": [
    "<center><h1 style=\"color:#173F8A;\"> Metodos para Ecuaciones Diferenciales, IMT3410, 2024-2 </h1></center>\n",
    "<h3 style=\"color:#173F8A;text-align:right;\"> Instituto de Ingenieria Matematica y Computacional<br>  Pontificia Universidad Catolica de Chile <br>  </h3>\n",
    "<h3 style=\"color:#0176DE;text-align:right;\"> Profesor. Manuel A. Sanchez<br> </h3>\n",
    "<hr style=\"border:2px solid #03122E\"> </hr>\n",
    "\n",
    "<!-- Palette colors UC: celeste:#0176DE, azul #173F8A, azul oscuro: #03122E, amarillo: #FEC60D, amarillo oscuro: #E3AE00 -->\n",
    "<!--\n",
    "<figure>\n",
    "<img align =\"right\" src=\"IMClogo.png\" alt=\"logo\" width=\"250\" height=\"400\"><br><br><br><br><br>\n",
    "</figure>\n",
    " -->"
   ]
  },
  {
   "cell_type": "markdown",
   "id": "4de055fa",
   "metadata": {},
   "source": [
    "<h2 style=\"color:#03122E;text-align:center;\"> Capitulo 2. Metodos para Ecuaciones Diferenciales Parciales Elipticas<br> </h2>\n",
    "<h3 style=\"color:#03122E;text-align:center;\">             Metodos de Elementos Finitos <br> </h3>\n",
    "<h3 style=\"color:#03122E;text-align:center;\">             Continuum Mechanics <br> </h3>\n",
    "<hr style=\"border:3px solid #E3AE00 \"> </hr>"
   ]
  },
  {
   "cell_type": "code",
   "execution_count": 1,
   "id": "3e4e0321",
   "metadata": {},
   "outputs": [],
   "source": [
    "# NGSolve Libraries\n",
    "from netgen.geom2d import unit_square\n",
    "from ngsolve import *\n",
    "from ngsolve.webgui import Draw # para jupyter\n",
    "#import netgen.gui\n",
    "from netgen.geom2d import SplineGeometry\n",
    "from pandas import DataFrame"
   ]
  },
  {
   "cell_type": "code",
   "execution_count": 2,
   "id": "ec50f50e",
   "metadata": {},
   "outputs": [],
   "source": [
    "def stress(u):\n",
    "    return lambda_par*(div(u))*Id(2) + 2*mu_par*strain(u)\n",
    "\n",
    "def strain(u):\n",
    "    return 0.5*(grad(u) + grad(u).trans)"
   ]
  },
  {
   "cell_type": "code",
   "execution_count": 3,
   "id": "77e8f9fd",
   "metadata": {},
   "outputs": [
    {
     "data": {
      "application/vnd.jupyter.widget-view+json": {
       "model_id": "766de871aed4484c9817bcad80d7bfb2",
       "version_major": 2,
       "version_minor": 0
      },
      "text/plain": [
       "WebGuiWidget(layout=Layout(height='50vh', width='100%'), value={'gui_settings': {}, 'ngsolve_version': '6.2.24…"
      ]
     },
     "metadata": {},
     "output_type": "display_data"
    }
   ],
   "source": [
    "geo = SplineGeometry()\n",
    "\n",
    "pnts =[(0,0),(5,0),(5,1),(0,1)]\n",
    "p1,p2,p3,p4 = [geo.AppendPoint(*pnt) for pnt in pnts]\n",
    "curves = [[[\"line\",p1,p2],\"bottom\"],\n",
    "          [[\"line\",p2,p3],\"right\"],\n",
    "          [[\"line\",p3,p4],\"top\"],\n",
    "          [[\"line\",p4,p1],\"left\"]]\n",
    "[geo.Append(c,bc=bc, leftdomain=1, rightdomain=0) for c,bc in curves]\n",
    "geo.AddCircle(c=(2.5,0.5),r=0.25,maxh=0.05,bc=\"circle\",leftdomain=0,rightdomain=1)\n",
    "ngmesh = geo.GenerateMesh(maxh=0.1)\n",
    "mesh = Mesh(ngmesh)\n",
    "Draw(mesh)\n",
    "\n",
    "bdry_values = {'left': CoefficientFunction((0,0)), 'right': CoefficientFunction((1,0))}\n",
    "values_list = [bdry_values[bc]\n",
    "               if bc in bdry_values.keys() else ((0,0))\n",
    "               for bc in mesh.GetBoundaries()]\n",
    "g = CoefficientFunction(values_list)\n",
    "\n",
    "lambda_par = Parameter(1.0) # Ratio lambda/mu = 1\n",
    "mu_par = Parameter(1.0)"
   ]
  },
  {
   "cell_type": "code",
   "execution_count": 4,
   "id": "4e4d1ab5",
   "metadata": {},
   "outputs": [],
   "source": [
    "# H1-conforming finite element space\n",
    "fes = VectorH1(mesh, order=1, dirichlet='left|right')\n",
    "\n",
    "# define trial- and test-functions\n",
    "u = fes.TrialFunction()\n",
    "v = fes.TestFunction()\n",
    "\n",
    "# the right hand side\n",
    "force = CoefficientFunction((0,0))\n",
    "\n",
    "lf = LinearForm(fes)\n",
    "lf += force * v * dx\n",
    "\n",
    "# the bilinear-form \n",
    "a = BilinearForm(fes, symmetric=True)\n",
    "a += lambda_par*div(u)*div(v)*dx + 2*mu_par*InnerProduct(strain(u),strain(v))*dx\n",
    "\n",
    "a.Assemble()\n",
    "lf.Assemble()\n",
    "\n",
    "# the solution field \n",
    "gfu = GridFunction(fes)\n",
    "gfu.Set(g, definedon=mesh.Boundaries('left|right'))\n",
    "r = lf.vec.CreateVector()\n",
    "r.data = lf.vec - a.mat * gfu.vec\n",
    "gfu.vec.data += a.mat.Inverse(freedofs=fes.FreeDofs()) * r\n"
   ]
  },
  {
   "cell_type": "code",
   "execution_count": 5,
   "id": "b1c9d873",
   "metadata": {},
   "outputs": [
    {
     "data": {
      "application/vnd.jupyter.widget-view+json": {
       "model_id": "1d9260ee73594fe3a36584e913d64a84",
       "version_major": 2,
       "version_minor": 0
      },
      "text/plain": [
       "WebGuiWidget(layout=Layout(height='50vh', width='100%'), value={'gui_settings': {}, 'ngsolve_version': '6.2.24…"
      ]
     },
     "metadata": {},
     "output_type": "display_data"
    },
    {
     "data": {
      "text/plain": [
       "BaseWebGuiScene"
      ]
     },
     "execution_count": 5,
     "metadata": {},
     "output_type": "execute_result"
    }
   ],
   "source": [
    "Draw(gfu, deformation=True)"
   ]
  },
  {
   "cell_type": "markdown",
   "id": "3fc429cb",
   "metadata": {},
   "source": [
    "# Perdida de la Coercividad"
   ]
  },
  {
   "cell_type": "code",
   "execution_count": 6,
   "id": "692ede3f",
   "metadata": {},
   "outputs": [
    {
     "data": {
      "application/vnd.jupyter.widget-view+json": {
       "model_id": "d00766daa87e4f7d8ef1b6bec6f56b9f",
       "version_major": 2,
       "version_minor": 0
      },
      "text/plain": [
       "WebGuiWidget(layout=Layout(height='50vh', width='100%'), value={'gui_settings': {}, 'ngsolve_version': '6.2.24…"
      ]
     },
     "metadata": {},
     "output_type": "display_data"
    }
   ],
   "source": [
    "geo = SplineGeometry()\n",
    "\n",
    "pnts =[(0,0),(3,0),(3,1),(0,1)]\n",
    "p1,p2,p3,p4 = [geo.AppendPoint(*pnt) for pnt in pnts]\n",
    "curves = [[[\"line\",p1,p2],\"bottom\"],\n",
    "          [[\"line\",p2,p3],\"right\"],\n",
    "          [[\"line\",p3,p4],\"top\"],\n",
    "          [[\"line\",p4,p1],\"left\"]]\n",
    "[geo.Append(c,bc=bc, leftdomain=1, rightdomain=0) for c,bc in curves]\n",
    "geo.AddCircle(c=(1.5,0.5),r=0.25,maxh=0.025,bc=\"circle2\",leftdomain=0,rightdomain=1)\n",
    "geo.AddCircle(c=(0.625,0.5),r=0.2,maxh=0.025,bc=\"circle1\",leftdomain=0,rightdomain=1)\n",
    "geo.AddCircle(c=(2.375,0.5),r=0.2,maxh=0.025,bc=\"circle3\",leftdomain=0,rightdomain=1)\n",
    "\n",
    "ngmesh = geo.GenerateMesh(maxh=0.1)\n",
    "mesh = Mesh(ngmesh)\n",
    "Draw(mesh)\n",
    "\n",
    "bdry_values = {'left': CoefficientFunction((0,0)), 'right': CoefficientFunction((1,0))}\n",
    "values_list = [bdry_values[bc]\n",
    "               if bc in bdry_values.keys() else ((0,0))\n",
    "               for bc in mesh.GetBoundaries()]\n",
    "g = CoefficientFunction(values_list)"
   ]
  },
  {
   "cell_type": "code",
   "execution_count": 7,
   "id": "9bae3d8f",
   "metadata": {},
   "outputs": [],
   "source": [
    "lambda_par = Parameter(100.0) # Ratio lambda/mu = 100\n",
    "mu_par = Parameter(1.0)\n",
    "def stress(u):\n",
    "    return lambda_par*(div(u))*Id(2) + 2*mu_par*strain(u)\n",
    "\n",
    "def strain(u):\n",
    "    return 0.5*(grad(u) + grad(u).trans)\n",
    "# H1-conforming finite element space\n",
    "fes = VectorH1(mesh, order=1, dirichlet='left|right')\n",
    "\n",
    "# define trial- and test-functions\n",
    "u = fes.TrialFunction()\n",
    "v = fes.TestFunction()\n",
    "\n",
    "# the right hand side\n",
    "force = CoefficientFunction((0,0))\n",
    "\n",
    "lf = LinearForm(fes)\n",
    "lf += force * v * dx\n",
    "\n",
    "# the bilinear-form \n",
    "a = BilinearForm(fes, symmetric=True)\n",
    "a += lambda_par*div(u)*div(v)*dx + 2*mu_par*InnerProduct(strain(u),strain(v))*dx\n",
    "\n",
    "a.Assemble()\n",
    "lf.Assemble()\n",
    "\n",
    "# the solution field \n",
    "gfu = GridFunction(fes)\n",
    "gfu.Set(g, definedon=mesh.Boundaries('left|right'))\n",
    "r = lf.vec.CreateVector()\n",
    "r.data = lf.vec - a.mat * gfu.vec\n",
    "gfu.vec.data += a.mat.Inverse(freedofs=fes.FreeDofs()) * r\n"
   ]
  },
  {
   "cell_type": "code",
   "execution_count": 8,
   "id": "3e7ed683",
   "metadata": {
    "scrolled": true
   },
   "outputs": [
    {
     "data": {
      "application/vnd.jupyter.widget-view+json": {
       "model_id": "c2fb4908f3b44a02867fcf6796519692",
       "version_major": 2,
       "version_minor": 0
      },
      "text/plain": [
       "WebGuiWidget(layout=Layout(height='50vh', width='100%'), value={'gui_settings': {}, 'ngsolve_version': '6.2.24…"
      ]
     },
     "metadata": {},
     "output_type": "display_data"
    },
    {
     "data": {
      "text/plain": [
       "BaseWebGuiScene"
      ]
     },
     "execution_count": 8,
     "metadata": {},
     "output_type": "execute_result"
    }
   ],
   "source": [
    "Draw(gfu, deformation=True)"
   ]
  },
  {
   "cell_type": "code",
   "execution_count": 9,
   "id": "84704e5b",
   "metadata": {},
   "outputs": [
    {
     "data": {
      "application/vnd.jupyter.widget-view+json": {
       "model_id": "57f2b040cce6448ca92a5aa97f6be47a",
       "version_major": 2,
       "version_minor": 0
      },
      "text/plain": [
       "WebGuiWidget(layout=Layout(height='50vh', width='100%'), value={'gui_settings': {}, 'ngsolve_version': '6.2.24…"
      ]
     },
     "metadata": {},
     "output_type": "display_data"
    },
    {
     "data": {
      "application/vnd.jupyter.widget-view+json": {
       "model_id": "5f9c82e97a534afe9a35d36360605870",
       "version_major": 2,
       "version_minor": 0
      },
      "text/plain": [
       "WebGuiWidget(layout=Layout(height='50vh', width='100%'), value={'gui_settings': {}, 'ngsolve_version': '6.2.24…"
      ]
     },
     "metadata": {},
     "output_type": "display_data"
    },
    {
     "data": {
      "application/vnd.jupyter.widget-view+json": {
       "model_id": "45282364cfe54f73838ce9c36cee9fd0",
       "version_major": 2,
       "version_minor": 0
      },
      "text/plain": [
       "WebGuiWidget(layout=Layout(height='50vh', width='100%'), value={'gui_settings': {}, 'ngsolve_version': '6.2.24…"
      ]
     },
     "metadata": {},
     "output_type": "display_data"
    },
    {
     "data": {
      "text/plain": [
       "BaseWebGuiScene"
      ]
     },
     "execution_count": 9,
     "metadata": {},
     "output_type": "execute_result"
    }
   ],
   "source": [
    "sigma = grad(gfu)#.MakeVariable()\n",
    "\n",
    "def sigma_min(sigma): # magnitude of first principal stress\n",
    "    return((sigma[0,0]+sigma[1,1])/2 - sqrt(((sigma[0,0]-sigma[1,1])/2)**2 + sigma[1,0]**2))\n",
    "\n",
    "def sigma_max(sigma): # magnitude of first principal stress\n",
    "    return((sigma[0,0]+sigma[1,1])/2 + sqrt(((sigma[0,0]-sigma[1,1])/2)**2 + sigma[1,0]**2))\n",
    "\n",
    "Draw(sigma_max(sigma), mesh)\n",
    "Draw(sigma_min(sigma), mesh)\n",
    "Tresca = sigma_max(sigma)-sigma_min(sigma)\n",
    "Draw(Tresca, mesh)\n"
   ]
  },
  {
   "cell_type": "markdown",
   "id": "06902d4e",
   "metadata": {},
   "source": [
    "Se grafican los esfuerzos tresca y maximos obtenidos. Se observa oscilaciones espureads de la solucion discreta, esto se conoce como **locking**. "
   ]
  },
  {
   "cell_type": "markdown",
   "id": "340c051e",
   "metadata": {},
   "source": [
    "# Planar elasticity, locking"
   ]
  },
  {
   "cell_type": "code",
   "execution_count": 29,
   "id": "978d557d",
   "metadata": {},
   "outputs": [],
   "source": [
    "def linear_elasticity_problem():\n",
    "    # Material data\n",
    "    E = 3.0 # Young's modulus\n",
    "    # nu = 0.25 # Poisson's ratio nu\n",
    "    nu = 0.4999 # Poisson's ratio nu - near incompressible\n",
    "    mu  = 1/2*(E / (1+nu)) # lame parameter mu\n",
    "    lam = E * nu / ((1+nu)*(1-2*nu))# lame parameter lambda\n",
    "    print(f\"mu = {mu}, lambda = {lam}\")\n",
    "    # exact solution\n",
    "    u1      = CoefficientFunction(-x**2*(x-1.0)**2*y*(y-1.0)*(2.0*y-1.0) )\n",
    "    u2      = -u1\n",
    "    u       = CoefficientFunction((u1, u2))\n",
    "    gradu   = 0\n",
    "    e11     = -2.0*x*y*(2.0*x**2 - 3.0*x + 1.0)*(2*y**2 - 3.0*y + 1.0)\n",
    "    e12     = -(x*(x - 1.0)*(6.0*x**2*y**2 - 6.0*x**2*y + x**2 - 8.0*x*y**3 + 6.0*x*y**2 + 2.0*x*y - x + 4.0*y**3 - 6.0*y**2 + 2.0*y))/2.0\n",
    "    e22     = x**2*(x - 1.0)**2*(6.0*y**2 - 6.0*y + 1.0)\n",
    "    epsilon = CoefficientFunction((e11,e12,e12,e22),  dims=(2,2)) # strain tensor\n",
    "    \n",
    "    # forces\n",
    "    f1      = (E*(x - 2.0*y + 18.0*x**2*y**2 - 24.0*x**2*y**3 + 12.0*x**3*y**2 + 2.0*nu*y + 6.0*x*y - 6.0*nu*x**2 + 12.0*nu*x**3 - 6.0*nu*x**4 - 6.0*nu*y**2 + 4.0*nu*y**3 - 30.0*x*y**2 + 24.0*x*y**3 - 6.0*x**4*y - 4.0*x**3 + 3.0*x**4 + 6.0*y**2 - 4.0*y**3 + 36.0*nu*x*y**2 + 24.0*nu*x**2*y - 24.0*nu*x*y**3 - 24.0*nu*x**3*y + 12.0*nu*x**4*y - 36.0*nu*x**2*y**2 + 24.0*nu*x**2*y**3 - 12.0*nu*x*y))/(2.0*nu**2 + nu - 1.0)\n",
    "    f2      = -(E*(x - y - 12.0*x**2*y**3 + 12.0*x**3*y**2 + 2*nu*y - 6*nu*x**2 + 12*nu*x**3 - 6*nu*x**4 - 6*nu*y**2 + 4*nu*y**3 - 12*x*y**2 + 12*x*y**3 + 12*x**3*y - 12*x**4*y + 3*x**2 - 10*x**3 + 6*x**4 + 3*y**2 - 2*y**3 + 36*nu*x*y**2 + 24*nu*x**2*y - 24*nu*x*y**3 - 24*nu*x**3*y + 12*nu*x**4*y - 36*nu*x**2*y**2 + 24*nu*x**2*y**3 - 12*nu*x*y))/(2.0*nu**2 + nu - 1.0)\n",
    "    \n",
    "    f       = CoefficientFunction((f1,f2))\n",
    "    uD      = u\n",
    "    \n",
    "    # wrap it up\n",
    "    material = {\"E\":E, \"nu\":nu, \"mu\":mu, \"lamb\":lam}\n",
    "    exact = {\"u\":u, \"strain\":epsilon}\n",
    "    data = {\"bodyforce\":f,\"uD\":uD}\n",
    "    \n",
    "    return exact, data, material"
   ]
  },
  {
   "cell_type": "code",
   "execution_count": 30,
   "id": "f8c3b534",
   "metadata": {},
   "outputs": [],
   "source": [
    "def epsilon(u):\n",
    "    return 0.5*(grad(u)+grad(u).trans)\n",
    "\n",
    "def sigma(u,mu,lamb):\n",
    "    return lamb * div(u)*Id(2) + mu*(grad(u) + grad(u).trans)"
   ]
  },
  {
   "cell_type": "code",
   "execution_count": 31,
   "id": "0feb1253",
   "metadata": {},
   "outputs": [],
   "source": [
    "def SetUP_linear_elasticity(mesh, data, material):\n",
    "    \n",
    "    Vh = VectorH1(mesh, order = 1, dirichlet='left|right|top|bottom')\n",
    "\n",
    "    # variables\n",
    "    u = Vh.TrialFunction()\n",
    "    v = Vh.TestFunction()\n",
    "\n",
    "    # bilinear form\n",
    "    a = BilinearForm(Vh)\n",
    "    a += (InnerProduct(sigma(u,material['mu'], material['lamb']),epsilon(v)))*dx\n",
    "    a.Assemble()\n",
    "\n",
    "    L = LinearForm(Vh)\n",
    "    L += data['bodyforce']*v*dx \n",
    "    L.Assemble()\n",
    "\n",
    "    # grid functions\n",
    "    gfu = GridFunction(Vh, name=\"uh\")\n",
    "\n",
    "    \n",
    "    return gfu, a, L\n",
    "\n",
    "def Convergence_test(last_mesh=6):\n",
    "    exact, data, material = linear_elasticity_problem()\n",
    "    output = []\n",
    "    for i in range(1, last_mesh):\n",
    "        h = 2**(-i)\n",
    "        \n",
    "        mesh = Mesh(unit_square.GenerateMesh(maxh=h))\n",
    "        \n",
    "        gfu, a, L = SetUP_linear_elasticity(mesh, data, material)\n",
    "        \n",
    "        # set Dirichlet boudanry condition\n",
    "        gfu.Set(data['uD'], BND)\n",
    "        r = gfu.vec.CreateVector()\n",
    "        r.data = L.vec - a.mat * gfu.vec\n",
    "\n",
    "        # Solve linear system\n",
    "        gfu.vec.data += a.mat.Inverse(freedofs=gfu.space.FreeDofs()) * r\n",
    "        \n",
    "        # output\n",
    "        err_u       = sqrt( Integrate( InnerProduct( gfu - exact['u'], gfu - exact['u']), mesh))\n",
    "        output.append ((h, gfu.space.ndof, err_u))\n",
    "    # end for\n",
    "    # Draw(gfu, mesh, 'displacement')\n",
    "    return output"
   ]
  },
  {
   "cell_type": "code",
   "execution_count": 32,
   "id": "cb4c17e5",
   "metadata": {},
   "outputs": [],
   "source": [
    "def print_markdown_table(errors):\n",
    "    i = 1\n",
    "    h = []\n",
    "    N = []\n",
    "    error_u = []\n",
    "    order_u = []\n",
    "\n",
    "    while i < len(errors):\n",
    "        h.append(errors[i][0])\n",
    "        N.append(errors[i][1])\n",
    "        error_u.append(errors[i][2])\n",
    "        order_u.append(log(errors[i-1][2]/errors[i][2])/log(errors[i-1][0]/errors[i][0]))\n",
    "        i += 1\n",
    "\n",
    "    # pretty print\n",
    "    df = DataFrame({\"h\": h,\"N\": N,'$$\\|u-u_h\\|_{L^2}$$': error_u,\"$$\\mbox{order } u$$\": order_u})\n",
    "    display(df)"
   ]
  },
  {
   "cell_type": "code",
   "execution_count": 34,
   "id": "8c26bf7e",
   "metadata": {},
   "outputs": [
    {
     "name": "stdout",
     "output_type": "stream",
     "text": [
      "mu = 1.0000666711114075, lambda = 4999.333288886476\n"
     ]
    },
    {
     "data": {
      "text/html": [
       "<div>\n",
       "<style scoped>\n",
       "    .dataframe tbody tr th:only-of-type {\n",
       "        vertical-align: middle;\n",
       "    }\n",
       "\n",
       "    .dataframe tbody tr th {\n",
       "        vertical-align: top;\n",
       "    }\n",
       "\n",
       "    .dataframe thead th {\n",
       "        text-align: right;\n",
       "    }\n",
       "</style>\n",
       "<table border=\"1\" class=\"dataframe\">\n",
       "  <thead>\n",
       "    <tr style=\"text-align: right;\">\n",
       "      <th></th>\n",
       "      <th>h</th>\n",
       "      <th>N</th>\n",
       "      <th>$$\\|u-u_h\\|_{L^2}$$</th>\n",
       "      <th>$$\\mbox{order } u$$</th>\n",
       "    </tr>\n",
       "  </thead>\n",
       "  <tbody>\n",
       "    <tr>\n",
       "      <th>0</th>\n",
       "      <td>0.250000</td>\n",
       "      <td>52</td>\n",
       "      <td>0.002212</td>\n",
       "      <td>inf</td>\n",
       "    </tr>\n",
       "    <tr>\n",
       "      <th>1</th>\n",
       "      <td>0.125000</td>\n",
       "      <td>178</td>\n",
       "      <td>0.001508</td>\n",
       "      <td>0.552637</td>\n",
       "    </tr>\n",
       "    <tr>\n",
       "      <th>2</th>\n",
       "      <td>0.062500</td>\n",
       "      <td>682</td>\n",
       "      <td>0.001565</td>\n",
       "      <td>-0.053185</td>\n",
       "    </tr>\n",
       "    <tr>\n",
       "      <th>3</th>\n",
       "      <td>0.031250</td>\n",
       "      <td>2530</td>\n",
       "      <td>0.001571</td>\n",
       "      <td>-0.005263</td>\n",
       "    </tr>\n",
       "    <tr>\n",
       "      <th>4</th>\n",
       "      <td>0.015625</td>\n",
       "      <td>9798</td>\n",
       "      <td>0.001105</td>\n",
       "      <td>0.506730</td>\n",
       "    </tr>\n",
       "    <tr>\n",
       "      <th>5</th>\n",
       "      <td>0.007812</td>\n",
       "      <td>38426</td>\n",
       "      <td>0.000491</td>\n",
       "      <td>1.169706</td>\n",
       "    </tr>\n",
       "    <tr>\n",
       "      <th>6</th>\n",
       "      <td>0.003906</td>\n",
       "      <td>152724</td>\n",
       "      <td>0.000154</td>\n",
       "      <td>1.671378</td>\n",
       "    </tr>\n",
       "  </tbody>\n",
       "</table>\n",
       "</div>"
      ],
      "text/plain": [
       "          h       N  $$\\|u-u_h\\|_{L^2}$$  $$\\mbox{order } u$$\n",
       "0  0.250000      52             0.002212                  inf\n",
       "1  0.125000     178             0.001508             0.552637\n",
       "2  0.062500     682             0.001565            -0.053185\n",
       "3  0.031250    2530             0.001571            -0.005263\n",
       "4  0.015625    9798             0.001105             0.506730\n",
       "5  0.007812   38426             0.000491             1.169706\n",
       "6  0.003906  152724             0.000154             1.671378"
      ]
     },
     "metadata": {},
     "output_type": "display_data"
    }
   ],
   "source": [
    "output = Convergence_test( last_mesh=9)\n",
    "print_markdown_table(output)"
   ]
  },
  {
   "cell_type": "code",
   "execution_count": 19,
   "id": "5d15d4ec",
   "metadata": {},
   "outputs": [
    {
     "data": {
      "text/plain": [
       "0"
      ]
     },
     "execution_count": 19,
     "metadata": {},
     "output_type": "execute_result"
    }
   ],
   "source": [
    "from netgen.csg import *\n",
    "\n",
    "wi = 0.2\n",
    "le = 1.0\n",
    "geo = CSGeometry()\n",
    "left  = Plane (Pnt(0,0.5*wi,0.5*wi), Vec(-1,0,0) ).bc('fix')\n",
    "right = Plane (Pnt(1*le,0.5*wi,0.5*wi), Vec( 1,0,0) ).bc('free')\n",
    "front = Plane (Pnt(0.5*le,0,0.5*wi), Vec(0,-1,0) ).bc('free')\n",
    "back  = Plane (Pnt(0.5*le,1*wi,0.5*wi), Vec(0, 1,0) ).bc('free')\n",
    "bot   = Plane (Pnt(0.5*le,0.5*wi,0), Vec(0,0,-1) ).bc('free')\n",
    "top   = Plane (Pnt(0.5*le,0.5*wi,1*wi), Vec(0,0, 1) ).bc('free')\n",
    "\n",
    "beam = left * right * front * back * bot * top \n",
    "geo.Add (beam)"
   ]
  },
  {
   "cell_type": "code",
   "execution_count": 20,
   "id": "a8fea784",
   "metadata": {},
   "outputs": [],
   "source": [
    "mesh = Mesh(geo.GenerateMesh(maxh=0.1))\n",
    "# Draw (mesh)\n",
    "\n",
    "mu = 1\n",
    "rho = 1\n",
    "delta = wi/le\n",
    "gamma = 0.4*delta**2\n",
    "beta = 1.25\n",
    "lamb = beta\n",
    "g = gamma\n",
    "\n",
    "bodyforce = CoefficientFunction((0,0,-rho*g))\n",
    "uD = CoefficientFunction((0,0,0)) "
   ]
  },
  {
   "cell_type": "code",
   "execution_count": 21,
   "id": "c1d7b4b0",
   "metadata": {},
   "outputs": [],
   "source": [
    "def epsilon(u):\n",
    "    return 0.5*(grad(u) + grad(u).trans)\n",
    "\n",
    "def sigma(u):\n",
    "    return lamb * div(u)*Id(mesh.dim) + mu*(grad(u) + grad(u).trans)\n",
    "Vh = VectorH1(mesh, order = 1, dirichlet='fix')\n",
    "\n",
    "# variables\n",
    "u = Vh.TrialFunction()\n",
    "v = Vh.TestFunction()\n",
    "\n",
    "# bilinear form\n",
    "a = BilinearForm(Vh)\n",
    "a += (InnerProduct(sigma(u),epsilon(v)))*dx\n",
    "a.Assemble()\n",
    "\n",
    "L = LinearForm(Vh)\n",
    "L += bodyforce*v*dx \n",
    "L.Assemble()\n",
    "\n",
    "# grid functions\n",
    "gfu = GridFunction(Vh, name=\"uh\")\n",
    "\n",
    "# set Dirichlet boudanry condition\n",
    "gfu.Set(uD, BND)\n",
    "L.vec.data -= a.mat * gfu.vec\n",
    "\n",
    "# Solve linear system\n",
    "solvers.BVP(bf=a, lf=L, gf=gfu)"
   ]
  },
  {
   "cell_type": "code",
   "execution_count": 22,
   "id": "040ea5f2",
   "metadata": {},
   "outputs": [
    {
     "data": {
      "application/vnd.jupyter.widget-view+json": {
       "model_id": "bfde1e6709e24558b10b9e41229af60a",
       "version_major": 2,
       "version_minor": 0
      },
      "text/plain": [
       "WebGuiWidget(layout=Layout(height='50vh', width='100%'), value={'gui_settings': {}, 'ngsolve_version': '6.2.23…"
      ]
     },
     "metadata": {},
     "output_type": "display_data"
    },
    {
     "data": {
      "text/plain": [
       "BaseWebGuiScene"
      ]
     },
     "execution_count": 22,
     "metadata": {},
     "output_type": "execute_result"
    }
   ],
   "source": [
    "Draw(gfu, mesh)\n"
   ]
  },
  {
   "cell_type": "code",
   "execution_count": null,
   "id": "c04f6fd1",
   "metadata": {},
   "outputs": [],
   "source": []
  }
 ],
 "metadata": {
  "kernelspec": {
   "display_name": "Python 3 (ipykernel)",
   "language": "python",
   "name": "python3"
  },
  "language_info": {
   "codemirror_mode": {
    "name": "ipython",
    "version": 3
   },
   "file_extension": ".py",
   "mimetype": "text/x-python",
   "name": "python",
   "nbconvert_exporter": "python",
   "pygments_lexer": "ipython3",
   "version": "3.10.11"
  },
  "varInspector": {
   "cols": {
    "lenName": 16,
    "lenType": 16,
    "lenVar": 40
   },
   "kernels_config": {
    "python": {
     "delete_cmd_postfix": "",
     "delete_cmd_prefix": "del ",
     "library": "var_list.py",
     "varRefreshCmd": "print(var_dic_list())"
    },
    "r": {
     "delete_cmd_postfix": ") ",
     "delete_cmd_prefix": "rm(",
     "library": "var_list.r",
     "varRefreshCmd": "cat(var_dic_list()) "
    }
   },
   "types_to_exclude": [
    "module",
    "function",
    "builtin_function_or_method",
    "instance",
    "_Feature"
   ],
   "window_display": false
  }
 },
 "nbformat": 4,
 "nbformat_minor": 5
}
