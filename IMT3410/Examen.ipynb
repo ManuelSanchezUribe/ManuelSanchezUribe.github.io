{
 "cells": [
  {
   "cell_type": "markdown",
   "id": "f6164c9e",
   "metadata": {},
   "source": [
    "<hr style=\"border:2px solid #03122E\"> </hr>\n",
    "<center>\n",
    "    <h1 style=\"color:#173F8A;\"> EXAMEN </h1>\n",
    "    <h2 style=\"color:#173F8A;\"> Metodos para Ecuaciones Diferenciales </h2> \n",
    "    <h2 style=\"color:#173F8A;\"> IMT3410 2023-II </h2>\n",
    "</center>\n",
    "<hr style=\"border:2px solid #03122E\"> </hr>\n",
    "<h3 style=\"color:#0176DE;text-align:right;\"> Prof. &nbsp;Manuel A. Sanchez<br> 14 de Diciembre de 2023<br></h3>\n",
    "<hr style=\"border:2px solid #03122E\"> </hr>\n",
    "\n",
    "\n",
    "<!-- Palette colors UC:\n",
    "Primaria: \n",
    "celeste:#0176DE, azul #173F8A, azul oscuro: #03122E, amarillo: #FEC60D, amarillo oscuro: #E3AE00 \n",
    "Secundaria\n",
    "gris oscuro: #707070\n",
    "-->"
   ]
  },
  {
   "cell_type": "code",
   "execution_count": 1,
   "id": "379099bd",
   "metadata": {},
   "outputs": [],
   "source": [
    "import numpy as np\n",
    "import matplotlib.pyplot as plt\n",
    "from scipy import sparse as sp\n",
    "from scipy.special import roots_jacobi\n",
    "from scipy.sparse.linalg import eigs"
   ]
  },
  {
   "cell_type": "markdown",
   "id": "210485d7",
   "metadata": {},
   "source": [
    "# Pregunta 4 (20 puntos)\n",
    "\n",
    "Considere el problema de encontrar los autovalores y las autofunciones del operador Laplaciano en el intervalo $(0,L)$, y con condiciones de Dirichlet homogeneas, es decir, encontrar el par $(u, \\lambda)$ tal que\n",
    "\\begin{align}\n",
    "\\Delta u &= \\lambda u, &&\\qquad x\\in (0,L), \\\\\n",
    "u &= 0, && x=0 \\,\\,\\text{o}\\,\\,x=L. \n",
    "\\end{align}\n",
    "\n",
    "**Pregunta 4.1.** Muestre que las autofunciones y autovalores del problema son \n",
    "\\begin{equation}\n",
    "u_{n}(x) = C\\sin\\left(\\frac{n\\pi}{L} x \\right), \\quad \\lambda_{n} = -\\left( \\frac{n \\pi}{L}\\right)^{2}, \\quad n\\in \\mathbb N,\n",
    "\\end{equation}\n",
    "donde $C$ es una constante."
   ]
  },
  {
   "cell_type": "markdown",
   "id": "23d6471a",
   "metadata": {},
   "source": [
    "**Respuesta 4.1.**\n"
   ]
  },
  {
   "cell_type": "markdown",
   "id": "58866a99",
   "metadata": {},
   "source": [
    "**Pregunta 4.2.** Aproxime las autofunciones y autovalores usando el metodo de diferencias finitas, esto es, derive el problema de valores propios (sistema lineal) $A v = \\lambda v$, y calcule aproximaciones de las autofunciones y autovalores. Especificamente, use el metodo de diferencias finitas de 3 puntos, subdividiendo el intervalo $(0,L)$ en $N$ subintervalos de tamano de malla $h=L/N$ fijo. \n"
   ]
  },
  {
   "cell_type": "code",
   "execution_count": 2,
   "id": "b18f7319",
   "metadata": {},
   "outputs": [],
   "source": [
    "def mall_dif_fin(N):\n",
    "    ## Codigo aca\n",
    "    return x\n",
    "def matriz_dif_fin(N):\n",
    "    ## Codigo aca\n",
    "    return A\n"
   ]
  },
  {
   "cell_type": "markdown",
   "id": "ef7e5c06",
   "metadata": {},
   "source": [
    "**Pregunta 4.3.**"
   ]
  },
  {
   "cell_type": "code",
   "execution_count": null,
   "id": "1c1df897",
   "metadata": {},
   "outputs": [],
   "source": []
  }
 ],
 "metadata": {
  "kernelspec": {
   "display_name": "Python 3 (ipykernel)",
   "language": "python",
   "name": "python3"
  },
  "language_info": {
   "codemirror_mode": {
    "name": "ipython",
    "version": 3
   },
   "file_extension": ".py",
   "mimetype": "text/x-python",
   "name": "python",
   "nbconvert_exporter": "python",
   "pygments_lexer": "ipython3",
   "version": "3.7.9"
  }
 },
 "nbformat": 4,
 "nbformat_minor": 5
}
