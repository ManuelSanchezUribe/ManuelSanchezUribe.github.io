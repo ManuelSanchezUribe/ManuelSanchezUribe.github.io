{
 "cells": [
  {
   "cell_type": "markdown",
   "metadata": {},
   "source": [
    "<center><h1 style=\"color:#173F8A;\"> Metodos para Ecuaciones Diferenciales, IMT3410, 2024-2 </h1></center>\n",
    "<h3 style=\"color:#173F8A;text-align:right;\"> Instituto de Ingenieria Matematica y Computacional<br>  Pontificia Universidad Catolica de Chile <br>  </h3>\n",
    "<h3 style=\"color:#0176DE;text-align:right;\"> Profesor. Manuel A. Sanchez<br> </h3>\n",
    "<hr style=\"border:2px solid #03122E\"> </hr>\n",
    "\n",
    "<!-- Palette colors UC: celeste:#0176DE, azul #173F8A, azul oscuro: #03122E, amarillo: #FEC60D, amarillo oscuro: #E3AE00 -->\n",
    "<!--\n",
    "<figure>\n",
    "<img align =\"right\" src=\"IMClogo.png\" alt=\"logo\" width=\"250\" height=\"400\"><br><br><br><br><br>\n",
    "</figure>\n",
    " -->"
   ]
  },
  {
   "cell_type": "markdown",
   "metadata": {},
   "source": [
    "<h2 style=\"color:#03122E;text-align:center;\"> Capitulo 2. Metodos para Ecuaciones Diferenciales Parciales Elipticas<br> </h2>\n",
    "<h3 style=\"color:#03122E;text-align:center;\">             Discontinuous Galerkin Methods (DG Methods) <br> </h3>\n",
    "<h3 style=\"color:#03122E;text-align:center;\">             Ecuacion de Poisson <br> </h3>\n",
    "<hr style=\"border:3px solid #E3AE00 \"> </hr>"
   ]
  },
  {
   "cell_type": "code",
   "execution_count": 1,
   "metadata": {},
   "outputs": [
    {
     "name": "stdout",
     "output_type": "stream",
     "text": [
      "importing NGSolve-6.2.2204\n"
     ]
    },
    {
     "data": {
      "application/vnd.jupyter.widget-view+json": {
       "model_id": "9bf0125e3298494e9f3c4e412634d2b8",
       "version_major": 2,
       "version_minor": 0
      },
      "text/plain": [
       "WebGuiWidget(layout=Layout(height='50vh', width='100%'), value={'gui_settings': {}, 'ngsolve_version': '6.2.22…"
      ]
     },
     "metadata": {},
     "output_type": "display_data"
    },
    {
     "data": {
      "application/vnd.jupyter.widget-view+json": {
       "model_id": "2a9ade9d63bf4bfab1381aa0f794d5d0",
       "version_major": 2,
       "version_minor": 0
      },
      "text/plain": [
       "WebGuiWidget(layout=Layout(height='50vh', width='100%'), value={'gui_settings': {}, 'ngsolve_version': '6.2.22…"
      ]
     },
     "metadata": {},
     "output_type": "display_data"
    },
    {
     "data": {
      "text/plain": [
       "BaseWebGuiScene"
      ]
     },
     "execution_count": 1,
     "metadata": {},
     "output_type": "execute_result"
    }
   ],
   "source": [
    "# NGSolve Libraries\n",
    "from netgen.geom2d import unit_square\n",
    "from ngsolve import *\n",
    "from ngsolve.webgui import Draw\n",
    "#import netgen.gui\n",
    "\n",
    "# Domain geometry\n",
    "geo = unit_square\n",
    "# Generate mesh with meshsize\n",
    "hh = .1\n",
    "mesh = Mesh(geo.GenerateMesh(maxh=hh))\n",
    "\n",
    "# Manufactured solution\n",
    "uexact = CoefficientFunction( 16*x*(1-x)*y*(1-y) )\n",
    "qexact = CoefficientFunction((-16*(1-2*x)*y*(1-y), -16*(1-2*y)*x*(1-x)  ))\n",
    "# Source according \n",
    "f      = 32*y*(1-y)+32*x*(1-x)\n",
    "Draw(uexact, mesh, 'solucion exacta u ')\n",
    "Draw(qexact, mesh, 'solucion exacta q')\n",
    "#print(mesh.GetBoundaries())"
   ]
  },
  {
   "cell_type": "markdown",
   "metadata": {},
   "source": [
    "# DG method\n",
    "\n",
    "Consideremos el problema eliptico\n",
    "\\begin{equation}\n",
    "\\begin{array}{rclll}\n",
    "\\displaystyle\n",
    "-\\Delta u & = & f & \\mbox{en} & \\Omega \\\\\n",
    "\\displaystyle u & = & 0 & \\mbox{sobre} & \\partial \\Omega \n",
    "\\end{array}\n",
    "\\end{equation}\n",
    "\n",
    "Reescribimos la ecuacion diferencial como un sistema de primer orden introduciendo el flujo $q$, y $a = c^{-1}$\n",
    "\\begin{equation}\n",
    "\\begin{array}{rclll}\n",
    "\\displaystyle  \\sigma & = & \\nabla u & \\mbox{en} & \\Omega \\\\\n",
    "\\displaystyle\n",
    "-\\nabla\\cdot( \\sigma ) & = & f & \\mbox{en} & \\Omega \\\\\n",
    "\\displaystyle u & = & 0 & \\mbox{sobre} & \\partial \\Omega \n",
    "\\end{array}\n",
    "\\end{equation}\n",
    "\n",
    "\n",
    "Entonces la formulacion variacional mixta (busca dos soluciones) queda: Hallar $(\\sigma_h,u_h)\\in \\Sigma_h\\times W_h$\n",
    "\n",
    "\\begin{equation}\n",
    "\\begin{array}{r}\n",
    "& \\displaystyle \\int_{\\Omega} \\sigma_h \\cdot \\tau\\,dx = - \\int_{\\Omega} u_h\\,\\nabla_h\\cdot \\tau\\,dx + \\sum_{K\\in\\mathcal T_h}\\int_{\\partial K} \\phi_{u} \\tau\\cdot n\\,ds \\\\\n",
    "&\\displaystyle \\int_{\\Omega} \\sigma_h \\cdot \\nabla_h v\\,dx - \\sum_{K\\in \\mathcal T_h}\\int_{\\partial K} v \\phi_{\\sigma} \\cdot n \\,ds = \n",
    " \\int_{\\Omega} f v\\,dx\n",
    "\\end{array}\n",
    "\\end{equation}\n",
    "\n",
    "Espacios de Galerkin discontinuo:\n",
    "\\begin{equation}\n",
    "\\Sigma_h = \\{r\\in L^{1}(\\Omega)^{d}: (\\tau_i)|_{K}\\in \\mathcal P_{k},\\,\\forall K\\in \\mathcal T_h,\\,i=1,...,d\\},\\quad W_h = \\{v\\in L^{1}(\\Omega): v|_{K}\\in \\mathcal P_{k},\\,\\forall K\\in \\mathcal T_h\\}\n",
    "\\end{equation}\n",
    "\n",
    "# Formulacion Mixta Local Discontinuous Galerkin\n",
    "\n",
    "\\begin{equation}\n",
    "\\phi_{u}(u_h) = \\begin{cases}\n",
    "\\{u_h\\} - \\beta\\cdot [u_h],&\\quad\\text{sobre } \\mathcal F_h^{i}, \\\\\n",
    "0 ,&\\quad\\text{sobre } \\mathcal F_h^{\\partial}, \n",
    "\\end{cases}\n",
    "\\end{equation}\n",
    "\\begin{equation}\n",
    "\\phi_{\\sigma}(u_h,\\sigma_h) = \\begin{cases}\n",
    "\\{\\sigma_h\\} + \\beta [\\sigma_h] - \\eta_{F} h_{F}^{-1}[u_h],&\\quad\\text{sobre } \\mathcal F_h^{i}, \\\\\n",
    "\\sigma_h - \\eta_F h_F^{-1} u_h n ,&\\quad\\text{sobre } \\mathcal F_h^{\\partial}, \n",
    "\\end{cases}\n",
    "\\end{equation}\n"
   ]
  },
  {
   "cell_type": "code",
   "execution_count": 12,
   "metadata": {
    "scrolled": true
   },
   "outputs": [
    {
     "data": {
      "application/vnd.jupyter.widget-view+json": {
       "model_id": "151335e62bb54eaea265cb25e860f945",
       "version_major": 2,
       "version_minor": 0
      },
      "text/plain": [
       "WebGuiWidget(layout=Layout(height='50vh', width='100%'), value={'gui_settings': {}, 'ngsolve_version': '6.2.23…"
      ]
     },
     "metadata": {},
     "output_type": "display_data"
    },
    {
     "data": {
      "application/vnd.jupyter.widget-view+json": {
       "model_id": "8e7ae831f5c1490c84b2be49ac2ebd2d",
       "version_major": 2,
       "version_minor": 0
      },
      "text/plain": [
       "WebGuiWidget(layout=Layout(height='50vh', width='100%'), value={'gui_settings': {}, 'ngsolve_version': '6.2.23…"
      ]
     },
     "metadata": {},
     "output_type": "display_data"
    },
    {
     "data": {
      "text/plain": [
       "BaseWebGuiScene"
      ]
     },
     "execution_count": 12,
     "metadata": {},
     "output_type": "execute_result"
    }
   ],
   "source": [
    "# Domain geometry\n",
    "geo = unit_square\n",
    "# Generate mesh with meshsize\n",
    "hh = .25\n",
    "mesh = Mesh(geo.GenerateMesh(maxh=hh))\n",
    "# Mixed form\n",
    "order = 1\n",
    "Wh = L2(mesh, order=order, dgjumps=True)\n",
    "Vh = VectorL2(mesh, order=order, dgjumps=True)\n",
    "fes = FESpace([Vh,Wh] )\n",
    "\n",
    "# Trial and test functions\n",
    "sigma, u = fes.TrialFunction()\n",
    "tau, v = fes.TestFunction()\n",
    "\n",
    "# Numerical fluxes\n",
    "n = specialcf.normal(2)\n",
    "jump_u = (u-u.Other())*n\n",
    "jump_v = (v-v.Other())*n\n",
    "jump_s = (sigma-sigma.Other())*n\n",
    "jump_t = (tau-tau.Other())*n\n",
    "\n",
    "mean_u = 0.5*(u+u.Other())\n",
    "mean_v = 0.5*(v+v.Other())\n",
    "mean_s = 0.5*(sigma+sigma.Other())\n",
    "mean_t = 0.5*(tau+tau.Other())\n",
    "\n",
    "eta = max(4*order**2, 4)\n",
    "beta = CoefficientFunction((1.0,1.0))\n",
    "h = specialcf.mesh_size\n",
    "# LDG fluxes\n",
    "phi_u_i = mean_u - beta*jump_u\n",
    "phi_s_i = mean_s + beta*jump_s - eta/h*jump_u \n",
    "phi_u_b = 0\n",
    "phi_s_b = sigma - eta/h*u*n \n",
    "\n",
    "dS = dx(element_boundary=True)\n",
    "dFhi = dx(skeleton=True)\n",
    "dFhb = ds(skeleton=True)\n",
    "\n",
    "a_dg = BilinearForm(fes)\n",
    "# first equation\n",
    "a_dg += (sigma*tau + u*div(tau) )* dx -phi_u_i*(jump_t)*dFhi- phi_u_b*(tau*n)*dFhb \n",
    "# second equation\n",
    "a_dg += (sigma*grad(v))* dx - (phi_s_i*jump_v)*dFhi - (phi_s_b*v*n)*dFhb\n",
    "a_dg.Assemble()\n",
    "\n",
    "fdg = LinearForm(fes)\n",
    "fdg += f*v*dx \n",
    "fdg.Assemble()\n",
    "\n",
    "gf = GridFunction(fes)\n",
    "gfq, gfu = gf.components\n",
    "gf.vec.data = a_dg.mat.Inverse() * fdg.vec\n",
    "Draw (gfu)\n",
    "Draw (gfq)"
   ]
  },
  {
   "cell_type": "markdown",
   "metadata": {},
   "source": [
    "## Primal form"
   ]
  },
  {
   "cell_type": "code",
   "execution_count": 10,
   "metadata": {},
   "outputs": [
    {
     "data": {
      "application/vnd.jupyter.widget-view+json": {
       "model_id": "6a8a080bffa7418896f2ce5af5328bf1",
       "version_major": 2,
       "version_minor": 0
      },
      "text/plain": [
       "WebGuiWidget(layout=Layout(height='50vh', width='100%'), value={'gui_settings': {}, 'ngsolve_version': '6.2.23…"
      ]
     },
     "metadata": {},
     "output_type": "display_data"
    },
    {
     "data": {
      "text/plain": [
       "BaseWebGuiScene"
      ]
     },
     "execution_count": 10,
     "metadata": {},
     "output_type": "execute_result"
    }
   ],
   "source": [
    "order = 1\n",
    "Wh = L2(mesh, order=order, dgjumps=True)\n",
    "\n",
    "# Trial and test functions\n",
    "u = Wh.TrialFunction()\n",
    "v = Wh.TestFunction()\n",
    "\n",
    "# Numerical fluxes\n",
    "n = specialcf.normal(2)\n",
    "jump_u = (u-u.Other())*n\n",
    "jump_v = (v-v.Other())*n\n",
    "jump_gradu = (grad(u)-grad(u.Other()) )*n\n",
    "jump_gradv = (grad(v)-grad(v.Other()) )*n\n",
    "\n",
    "mean_u = 0.5*(u+u.Other())\n",
    "mean_v = 0.5*(v+v.Other())\n",
    "mean_gradu = 0.5*(grad(u)+grad(u.Other()) )\n",
    "mean_gradv = 0.5*(grad(v)+grad(v.Other()) )\n",
    "\n",
    "eta = max(4*order**2, 4)\n",
    "beta = CoefficientFunction((1.0,1.0))\n",
    "h = specialcf.mesh_size\n",
    "# LDG fluxes\n",
    "phi_u_i = mean_u - beta*jump_u\n",
    "phi_s_i = mean_gradu + beta*jump_gradu - eta/h*jump_u \n",
    "phi_u_b = 0\n",
    "phi_s_b = grad(u) - eta/h*u*n \n",
    "\n",
    "dS = dx(element_boundary=True)\n",
    "dFhi = dx(skeleton=True)\n",
    "dFhb = ds(skeleton=True)\n",
    "\n",
    "a_dg = BilinearForm(Wh)\n",
    "# first equation\n",
    "a_dg += InnerProduct(grad(u),grad(v))* dx \n",
    "a_dg += -InnerProduct(jump_u,mean_gradv )*dFhi\n",
    "a_dg += -InnerProduct((u*n),(grad(v)))*dFhb\n",
    "a_dg += -phi_s_i * jump_v *  dFhi\n",
    "a_dg += -phi_s_i * (v*n) * dFhb\n",
    "a_dg += (phi_u_i-mean_u)*jump_gradv*dFhi\n",
    "a_dg.Assemble()\n",
    "\n",
    "fdg = LinearForm(Wh)\n",
    "fdg += f*v*dx \n",
    "fdg.Assemble()\n",
    "\n",
    "gfu = GridFunction(Wh)\n",
    "gfu.vec.data = a_dg.mat.Inverse() * fdg.vec\n",
    "Draw (gfu)"
   ]
  },
  {
   "cell_type": "markdown",
   "metadata": {},
   "source": [
    "# Formulacion primal e Non-symmetric Interior Penalty Method\n",
    "\n",
    "\n",
    "\\begin{equation}\n",
    "a_{h}(u_h,v) = \\int_{\\Omega}\\nabla_h u_h\\cdot\\nabla v_h + \\int_{\\mathcal F_h} \\eta_F h_F^{-1}[u_h]\\cdot[ v] +[u_h]\\cdot\\{\\nabla_h v\\} - \\{\\nabla_h u_h\\}[v]\n",
    "\\end{equation}\n",
    "para $u_h,v\\in W_h = \\{v\\in L^{1}(\\Omega):\\,v|_{K}\\in \\mathcal P_k,\\,\\forall K\\in \\mathcal T_h\\}$"
   ]
  },
  {
   "cell_type": "code",
   "execution_count": 56,
   "metadata": {},
   "outputs": [
    {
     "data": {
      "application/vnd.jupyter.widget-view+json": {
       "model_id": "8ca6b9bd3c084357a57325f7ccbf5902",
       "version_major": 2,
       "version_minor": 0
      },
      "text/plain": [
       "WebGuiWidget(layout=Layout(height='50vh', width='100%'), value={'gui_settings': {}, 'ngsolve_version': '6.2.23…"
      ]
     },
     "metadata": {},
     "output_type": "display_data"
    },
    {
     "data": {
      "text/plain": [
       "BaseWebGuiScene"
      ]
     },
     "execution_count": 56,
     "metadata": {},
     "output_type": "execute_result"
    }
   ],
   "source": [
    "# NIPG\n",
    "order = 4\n",
    "Wh = L2(mesh, order=order, dgjumps=True)\n",
    "u,v = Wh.TnT()\n",
    "\n",
    "\n",
    "\n",
    "jumpn_u = n*(u-u.Other())\n",
    "jumpn_v = n*(v-v.Other())\n",
    "n = specialcf.normal(2)\n",
    "mean_du = 0.5 * (grad(u)+grad(u.Other()))\n",
    "mean_dv = 0.5 * (grad(v)+grad(v.Other()))\n",
    "\n",
    "# jump_u = u-u.Other()\n",
    "# jump_v = v-v.Other()\n",
    "# mean_dudn = 0.5*n * (grad(u)+grad(u.Other()))\n",
    "# mean_dvdn = 0.5*n * (grad(v)+grad(v.Other()))\n",
    "\n",
    "\n",
    "etaF = 4*(order+1)**2\n",
    "alpha = etaF\n",
    "h = specialcf.mesh_size\n",
    "ah = BilinearForm(Wh)\n",
    "ah += grad(u)*grad(v) * dx\n",
    "ah += etaF/h*jumpn_u*jumpn_v*dx(skeleton=True)\n",
    "ah += jumpn_u*mean_dv*dx(skeleton=True)\n",
    "ah += -mean_du*jumpn_v*dx(skeleton=True)\n",
    "ah += etaF/h*u*n*v*n*ds(skeleton=True)\n",
    "ah += u*n*grad(v)*ds(skeleton=True)\n",
    "ah += -grad(u)*v*n*ds(skeleton=True)\n",
    "\n",
    "ah.Assemble()\n",
    "\n",
    "lf = LinearForm(f*v*dx).Assemble()\n",
    "\n",
    "gfu = GridFunction(Wh, name=\"uDG\")\n",
    "gfu.vec.data = ah.mat.Inverse() * lf.vec\n",
    "Draw (gfu)"
   ]
  },
  {
   "cell_type": "markdown",
   "metadata": {},
   "source": [
    "## Advection diffusion equation\n",
    "\n",
    "$$ \\beta \\cdot \\nabla u - \\epsilon \\Delta u = 0 $$\n"
   ]
  },
  {
   "cell_type": "code",
   "execution_count": 2,
   "metadata": {},
   "outputs": [],
   "source": [
    "from netgen.geom2d import SplineGeometry\n",
    "geo = SplineGeometry()\n",
    "\n",
    "pnts =[(0,0),(5,0),(5,1),(0,1)]\n",
    "p1,p2,p3,p4 = [geo.AppendPoint(*pnt) for pnt in pnts]\n",
    "curves = [[[\"line\",p1,p2],\"bottom\"],\n",
    "          [[\"line\",p2,p3],\"right\"],\n",
    "          [[\"line\",p3,p4],\"top\"],\n",
    "          [[\"line\",p4,p1],\"left\"]]\n",
    "[geo.Append(c,bc=bc) for c,bc in curves]\n",
    "ngmesh = geo.GenerateMesh(maxh=0.05)\n",
    "mesh = Mesh(ngmesh)"
   ]
  },
  {
   "cell_type": "code",
   "execution_count": 4,
   "metadata": {},
   "outputs": [
    {
     "data": {
      "application/vnd.jupyter.widget-view+json": {
       "model_id": "700f5acd616f44b0a1a8f65ace85b942",
       "version_major": 2,
       "version_minor": 0
      },
      "text/plain": [
       "WebGuiWidget(layout=Layout(height='50vh', width='100%'), value={'gui_settings': {}, 'ngsolve_version': '6.2.22…"
      ]
     },
     "metadata": {},
     "output_type": "display_data"
    },
    {
     "data": {
      "application/vnd.jupyter.widget-view+json": {
       "model_id": "a20fdd2535f845ecb5ab9b859776dc87",
       "version_major": 2,
       "version_minor": 0
      },
      "text/plain": [
       "WebGuiWidget(layout=Layout(height='50vh', width='100%'), value={'gui_settings': {}, 'ngsolve_version': '6.2.22…"
      ]
     },
     "metadata": {},
     "output_type": "display_data"
    },
    {
     "data": {
      "text/plain": [
       "BaseWebGuiScene"
      ]
     },
     "execution_count": 4,
     "metadata": {},
     "output_type": "execute_result"
    }
   ],
   "source": [
    "f = 0\n",
    "epsilon=0.1\n",
    "# Mixed form\n",
    "order = 1\n",
    "Wh = L2(mesh, order=order, dgjumps=True)\n",
    "Vh = VectorL2(mesh, order=order, dgjumps=True)\n",
    "fes = FESpace([Vh,Wh] )\n",
    "\n",
    "# Trial and test functions\n",
    "sigma, u = fes.TrialFunction()\n",
    "tau, v = fes.TestFunction()\n",
    "\n",
    "# Numerical fluxes\n",
    "n = specialcf.normal(2)\n",
    "jump_u = (u-u.Other())*n\n",
    "jump_v = (v-v.Other())*n\n",
    "jump_s = (sigma-sigma.Other())*n\n",
    "jump_t = (tau-tau.Other())*n\n",
    "\n",
    "mean_u = 0.5*(u+u.Other())\n",
    "mean_v = 0.5*(v+v.Other())\n",
    "mean_s = 0.5*(sigma+sigma.Other())\n",
    "mean_t = 0.5*(tau+tau.Other())\n",
    "\n",
    "eta = max(4*order**2, 4)\n",
    "beta = CoefficientFunction((1.0,1.0))\n",
    "h = specialcf.mesh_size\n",
    "# LDG fluxes\n",
    "phi_u_i = mean_u - beta*jump_u\n",
    "phi_s_i = mean_s + beta*jump_s - eta/h*jump_u \n",
    "phi_u_b = 0\n",
    "phi_s_b = sigma - eta/h*u*n \n",
    "\n",
    "dS = dx(element_boundary=True)\n",
    "dFhi = dx(skeleton=True)\n",
    "dFhb_dir = ds(skeleton=True, definedon='top|left|bottom')\n",
    "dFhb_neu = ds(skeleton=True, definedon='right')\n",
    "a_advdiff = BilinearForm(fes)\n",
    "# first equation\n",
    "a_dg = (sigma*tau + u*div(tau) )* dx -phi_u_i*(jump_t)*dFhi- phi_u_b*(tau*n)*dFhb_dir \n",
    "a_dg += u*(tau*n)*dFhb_neu\n",
    "# second equation\n",
    "a_dg += (sigma*grad(v))* dx - (phi_s_i*jump_v)*dFhi - (phi_s_b*v*n)*dFhb_dir\n",
    "a_dg += - (sigma*n*v)*dFhb_neu\n",
    "\n",
    "b = CoefficientFunction((4*y*(1-y), 0))\n",
    "a_adv  = b * sigma*v*dx\n",
    "a_advdiff += epsilon*a_dg + a_adv\n",
    "a_advdiff.Assemble()\n",
    "\n",
    "fdg = LinearForm(fes)\n",
    "# fdg += f*v*dx \n",
    "fdg += (1.0)*(tau*n)*ds(skeleton=True,definedon='bottom|top')\n",
    "fdg.Assemble()\n",
    "\n",
    "gf = GridFunction(fes)\n",
    "gfq, gfu = gf.components\n",
    "gf.vec.data = a_advdiff.mat.Inverse() * fdg.vec\n",
    "Draw (gfu)\n",
    "Draw (gfq)"
   ]
  },
  {
   "cell_type": "code",
   "execution_count": null,
   "metadata": {},
   "outputs": [],
   "source": []
  }
 ],
 "metadata": {
  "kernelspec": {
   "display_name": "Python 3 (ipykernel)",
   "language": "python",
   "name": "python3"
  },
  "language_info": {
   "codemirror_mode": {
    "name": "ipython",
    "version": 3
   },
   "file_extension": ".py",
   "mimetype": "text/x-python",
   "name": "python",
   "nbconvert_exporter": "python",
   "pygments_lexer": "ipython3",
   "version": "3.8.5"
  },
  "toc": {
   "base_numbering": 1,
   "nav_menu": {},
   "number_sections": false,
   "sideBar": true,
   "skip_h1_title": false,
   "title_cell": "Table of Contents",
   "title_sidebar": "Contents",
   "toc_cell": false,
   "toc_position": {},
   "toc_section_display": true,
   "toc_window_display": false
  },
  "varInspector": {
   "cols": {
    "lenName": 16,
    "lenType": 16,
    "lenVar": 40
   },
   "kernels_config": {
    "python": {
     "delete_cmd_postfix": "",
     "delete_cmd_prefix": "del ",
     "library": "var_list.py",
     "varRefreshCmd": "print(var_dic_list())"
    },
    "r": {
     "delete_cmd_postfix": ") ",
     "delete_cmd_prefix": "rm(",
     "library": "var_list.r",
     "varRefreshCmd": "cat(var_dic_list()) "
    }
   },
   "types_to_exclude": [
    "module",
    "function",
    "builtin_function_or_method",
    "instance",
    "_Feature"
   ],
   "window_display": false
  }
 },
 "nbformat": 4,
 "nbformat_minor": 4
}
