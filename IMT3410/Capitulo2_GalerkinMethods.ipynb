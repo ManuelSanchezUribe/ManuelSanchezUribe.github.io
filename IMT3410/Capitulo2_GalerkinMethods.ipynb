{
 "cells": [
  {
   "cell_type": "markdown",
   "id": "b5eeac98",
   "metadata": {},
   "source": [
    "<center><h1 style=\"color:#173F8A;\"> Metodos para Ecuaciones Diferenciales, IMT3410, 2022-2 </h1></center>\n",
    "<h3 style=\"color:#173F8A;text-align:right;\"> Instituto de Ingenieria Matematica y Computacional<br>  Pontificia Universidad Catolica de Chile <br>  </h3>\n",
    "<h3 style=\"color:#0176DE;text-align:right;\"> Profesor. Manuel A. Sanchez<br> </h3>\n",
    "<hr style=\"border:2px solid #03122E\"> </hr>\n",
    "\n",
    "<!-- Palette colors UC: celeste:#0176DE, azul #173F8A, azul oscuro: #03122E, amarillo: #FEC60D, amarillo oscuro: #E3AE00 -->\n",
    "<!--\n",
    "<figure>\n",
    "<img align =\"right\" src=\"IMClogo.png\" alt=\"logo\" width=\"250\" height=\"400\"><br><br><br><br><br>\n",
    "</figure>\n",
    " -->"
   ]
  },
  {
   "cell_type": "markdown",
   "id": "5db8d848",
   "metadata": {},
   "source": [
    "<h2 style=\"color:#03122E;text-align:center;\"> Capitulo 2. Metodos para Ecuaciones Diferenciales Parciales Elipticas<br> </h2>\n",
    "<h3 style=\"color:#03122E;text-align:center;\">             Metodo de Galerkin <br> </h3>\n",
    "<hr style=\"border:3px solid #E3AE00 \"> </hr>"
   ]
  },
  {
   "cell_type": "code",
   "execution_count": 32,
   "id": "7fcb7ef3",
   "metadata": {},
   "outputs": [],
   "source": [
    "import numpy as np\n",
    "import pandas as pd\n",
    "import matplotlib.pyplot as plt\n",
    "import scipy.sparse as sps\n",
    "from scipy.sparse.linalg import spsolve\n",
    "from scipy.integrate import quadrature\n",
    "from numpy import sin, cos, pi"
   ]
  },
  {
   "cell_type": "markdown",
   "id": "2d216904",
   "metadata": {},
   "source": [
    "Resolvemos el problema de Poisson en una dimension:\n",
    "\\begin{equation}\n",
    "\\begin{array}{rclrl}\n",
    "-\\frac{d}{dx}(c \\frac{d}{dx}u) &=& f(x)&\\mbox{en} & (a,b) \\\\\n",
    "u &=&u_D&\\mbox{sobre}& \\{a,b\\}\n",
    "\\end{array}\n",
    "\\end{equation}\n",
    "Usando el metodo de Galerkin con subespacio de dimension finita $V_N\\subset V$"
   ]
  },
  {
   "cell_type": "code",
   "execution_count": 10,
   "id": "c8cfa5f9",
   "metadata": {},
   "outputs": [],
   "source": [
    "# One dimensional solution\n",
    "ufun1D = lambda x: sin(pi*x)\n",
    "g1D = lambda x: ufun1D(x)\n",
    "f1D = lambda x: (pi)**2*sin(pi*x)"
   ]
  },
  {
   "cell_type": "markdown",
   "id": "c3091d2d",
   "metadata": {},
   "source": [
    "# Ejemplo 1: \n",
    "\\begin{equation}\n",
    "V_N = \\text{span}\\{x^{i}(1-x): 1\\leq i\\leq N  \\}.\n",
    "\\end{equation}"
   ]
  },
  {
   "cell_type": "code",
   "execution_count": 28,
   "id": "410871d1",
   "metadata": {},
   "outputs": [],
   "source": [
    "def Ejemplo1(N):\n",
    "    A1 = np.zeros((N,N),dtype=np.float64)\n",
    "    b1 = np.zeros(N,dtype=np.float64)\n",
    "    for i in range(N):\n",
    "        for j in range(N):\n",
    "            A1[i,j] = (i+1)*(j+1)/(i+j+1)+(i+2)*(j+2)/(i+j+3)-( (i+1)*(j+2) +(i+2)*(j+1))/(i+j+2)\n",
    "        b1[i],_ = quadrature(lambda x: x**(i+1)*(1-x)*f1D(x), 0,1)\n",
    "    ui = np.linalg.solve(A1,b1)\n",
    "    return ui, A1, b1"
   ]
  },
  {
   "cell_type": "code",
   "execution_count": 57,
   "id": "e5630c9d",
   "metadata": {},
   "outputs": [
    {
     "data": {
      "image/png": "[encoded data removed]",
      "text/plain": [
       "<Figure size 504x288 with 1 Axes>"
      ]
     },
     "metadata": {
      "needs_background": "light"
     },
     "output_type": "display_data"
    }
   ],
   "source": [
    "N = 100\n",
    "ui, A1, b1 = Ejemplo1(N)\n",
    "ufun = lambda x: sum([ui[i]*x**(i+1)*(1-x) for i in range(N)])\n",
    "x = np.linspace(0,1,N+2)\n",
    "\n",
    "fig1, ax1 = plt.subplots(1,1,figsize=(7,4))\n",
    "ax1.plot(x,ufun(x))\n",
    "plt.show()"
   ]
  },
  {
   "cell_type": "code",
   "execution_count": 52,
   "id": "3415979b",
   "metadata": {},
   "outputs": [
    {
     "data": {
      "image/png": "[encoded data removed]",
      "text/plain": [
       "<Figure size 504x504 with 1 Axes>"
      ]
     },
     "metadata": {
      "needs_background": "light"
     },
     "output_type": "display_data"
    },
    {
     "data": {
      "text/html": [
       "<div>\n",
       "<style scoped>\n",
       "    .dataframe tbody tr th:only-of-type {\n",
       "        vertical-align: middle;\n",
       "    }\n",
       "\n",
       "    .dataframe tbody tr th {\n",
       "        vertical-align: top;\n",
       "    }\n",
       "\n",
       "    .dataframe thead th {\n",
       "        text-align: right;\n",
       "    }\n",
       "</style>\n",
       "<table border=\"1\" class=\"dataframe\">\n",
       "  <thead>\n",
       "    <tr style=\"text-align: right;\">\n",
       "      <th></th>\n",
       "      <th>N</th>\n",
       "      <th>cond(A)</th>\n",
       "    </tr>\n",
       "  </thead>\n",
       "  <tbody>\n",
       "    <tr>\n",
       "      <th>0</th>\n",
       "      <td>3</td>\n",
       "      <td>1.757214e+02</td>\n",
       "    </tr>\n",
       "    <tr>\n",
       "      <th>1</th>\n",
       "      <td>4</td>\n",
       "      <td>3.389383e+03</td>\n",
       "    </tr>\n",
       "    <tr>\n",
       "      <th>2</th>\n",
       "      <td>5</td>\n",
       "      <td>7.291699e+04</td>\n",
       "    </tr>\n",
       "    <tr>\n",
       "      <th>3</th>\n",
       "      <td>6</td>\n",
       "      <td>1.687336e+06</td>\n",
       "    </tr>\n",
       "    <tr>\n",
       "      <th>4</th>\n",
       "      <td>7</td>\n",
       "      <td>4.115105e+07</td>\n",
       "    </tr>\n",
       "    <tr>\n",
       "      <th>5</th>\n",
       "      <td>8</td>\n",
       "      <td>1.044280e+09</td>\n",
       "    </tr>\n",
       "    <tr>\n",
       "      <th>6</th>\n",
       "      <td>9</td>\n",
       "      <td>2.733862e+10</td>\n",
       "    </tr>\n",
       "    <tr>\n",
       "      <th>7</th>\n",
       "      <td>10</td>\n",
       "      <td>7.336996e+11</td>\n",
       "    </tr>\n",
       "    <tr>\n",
       "      <th>8</th>\n",
       "      <td>11</td>\n",
       "      <td>2.015913e+13</td>\n",
       "    </tr>\n",
       "    <tr>\n",
       "      <th>9</th>\n",
       "      <td>12</td>\n",
       "      <td>7.617225e+14</td>\n",
       "    </tr>\n",
       "    <tr>\n",
       "      <th>10</th>\n",
       "      <td>13</td>\n",
       "      <td>4.885351e+15</td>\n",
       "    </tr>\n",
       "  </tbody>\n",
       "</table>\n",
       "</div>"
      ],
      "text/plain": [
       "     N       cond(A)\n",
       "0    3  1.757214e+02\n",
       "1    4  3.389383e+03\n",
       "2    5  7.291699e+04\n",
       "3    6  1.687336e+06\n",
       "4    7  4.115105e+07\n",
       "5    8  1.044280e+09\n",
       "6    9  2.733862e+10\n",
       "7   10  7.336996e+11\n",
       "8   11  2.015913e+13\n",
       "9   12  7.617225e+14\n",
       "10  13  4.885351e+15"
      ]
     },
     "execution_count": 52,
     "metadata": {},
     "output_type": "execute_result"
    }
   ],
   "source": [
    "NN = [3,4,5,6,7,8,9,10,11,12,13]\n",
    "K2 = []\n",
    "for N in NN:\n",
    "    ui, A, b =  Ejemplo1(N)\n",
    "    K2.append(np.linalg.cond(A))\n",
    "ej1df = pd.DataFrame({'N':NN, 'cond(A)':K2})\n",
    "fig2, ax2 = plt.subplots(1,1,figsize=(7,7))\n",
    "ax2.spy(A, markersize=2)\n",
    "plt.show()\n",
    "ej1df"
   ]
  },
  {
   "cell_type": "markdown",
   "id": "3f034004",
   "metadata": {},
   "source": [
    "# Ejemplo 2:\n",
    "\\begin{equation}\n",
    "V_N = \\text{span}\\{\\sin(i \\pi x): 1\\leq i \\leq N \\}\n",
    "\\end{equation}"
   ]
  },
  {
   "cell_type": "markdown",
   "id": "d5804757",
   "metadata": {},
   "source": [
    "# Ejemplo 3:\n",
    "\\begin{equation}\n",
    "V_N = \\text{span}\\{v\\in V: v|_{K}\\in \\mathcal P^{1}(K), K = [x_i, x_{i+1}], \\text{for } 1\\leq i\\leq N \\} \n",
    "\\end{equation}"
   ]
  },
  {
   "cell_type": "code",
   "execution_count": 53,
   "id": "5aeb8cca",
   "metadata": {},
   "outputs": [
    {
     "data": {
      "image/png": "[encoded data removed]",
      "text/plain": [
       "<Figure size 504x504 with 1 Axes>"
      ]
     },
     "metadata": {
      "needs_background": "light"
     },
     "output_type": "display_data"
    },
    {
     "data": {
      "text/html": [
       "<div>\n",
       "<style scoped>\n",
       "    .dataframe tbody tr th:only-of-type {\n",
       "        vertical-align: middle;\n",
       "    }\n",
       "\n",
       "    .dataframe tbody tr th {\n",
       "        vertical-align: top;\n",
       "    }\n",
       "\n",
       "    .dataframe thead th {\n",
       "        text-align: right;\n",
       "    }\n",
       "</style>\n",
       "<table border=\"1\" class=\"dataframe\">\n",
       "  <thead>\n",
       "    <tr style=\"text-align: right;\">\n",
       "      <th></th>\n",
       "      <th>N</th>\n",
       "      <th>cond(A)</th>\n",
       "    </tr>\n",
       "  </thead>\n",
       "  <tbody>\n",
       "    <tr>\n",
       "      <th>0</th>\n",
       "      <td>2</td>\n",
       "      <td>3.000000e+00</td>\n",
       "    </tr>\n",
       "    <tr>\n",
       "      <th>1</th>\n",
       "      <td>4</td>\n",
       "      <td>9.472136e+00</td>\n",
       "    </tr>\n",
       "    <tr>\n",
       "      <th>2</th>\n",
       "      <td>8</td>\n",
       "      <td>3.216344e+01</td>\n",
       "    </tr>\n",
       "    <tr>\n",
       "      <th>3</th>\n",
       "      <td>16</td>\n",
       "      <td>1.164612e+02</td>\n",
       "    </tr>\n",
       "    <tr>\n",
       "      <th>4</th>\n",
       "      <td>32</td>\n",
       "      <td>4.406886e+02</td>\n",
       "    </tr>\n",
       "    <tr>\n",
       "      <th>5</th>\n",
       "      <td>64</td>\n",
       "      <td>1.711661e+03</td>\n",
       "    </tr>\n",
       "    <tr>\n",
       "      <th>6</th>\n",
       "      <td>128</td>\n",
       "      <td>6.743677e+03</td>\n",
       "    </tr>\n",
       "    <tr>\n",
       "      <th>7</th>\n",
       "      <td>256</td>\n",
       "      <td>2.676798e+04</td>\n",
       "    </tr>\n",
       "    <tr>\n",
       "      <th>8</th>\n",
       "      <td>512</td>\n",
       "      <td>1.066577e+05</td>\n",
       "    </tr>\n",
       "    <tr>\n",
       "      <th>9</th>\n",
       "      <td>1024</td>\n",
       "      <td>4.258016e+05</td>\n",
       "    </tr>\n",
       "    <tr>\n",
       "      <th>10</th>\n",
       "      <td>2048</td>\n",
       "      <td>1.701547e+06</td>\n",
       "    </tr>\n",
       "  </tbody>\n",
       "</table>\n",
       "</div>"
      ],
      "text/plain": [
       "       N       cond(A)\n",
       "0      2  3.000000e+00\n",
       "1      4  9.472136e+00\n",
       "2      8  3.216344e+01\n",
       "3     16  1.164612e+02\n",
       "4     32  4.406886e+02\n",
       "5     64  1.711661e+03\n",
       "6    128  6.743677e+03\n",
       "7    256  2.676798e+04\n",
       "8    512  1.066577e+05\n",
       "9   1024  4.258016e+05\n",
       "10  2048  1.701547e+06"
      ]
     },
     "execution_count": 53,
     "metadata": {},
     "output_type": "execute_result"
    }
   ],
   "source": [
    "def Ejemplo3(N):\n",
    "    h = 1/(N+1)\n",
    "    A3 = (1.0/h)*(2.0*np.diag(np.ones(N)) - np.diag(np.ones(N-1),-1) -  np.diag(np.ones(N-1),1)) \n",
    "    return A3\n",
    "A3 = Ejemplo3(N=10)\n",
    "NN = [2**i for i in range(1, 12)]\n",
    "K2 = []\n",
    "for N in NN:\n",
    "    A=  Ejemplo3(N)\n",
    "    K2.append(np.linalg.cond(A))\n",
    "ej3df = pd.DataFrame({'N':NN, 'cond(A)':K2})\n",
    "\n",
    "fig3, ax3 = plt.subplots(1,1,figsize=(7,7))\n",
    "ax3.spy(A, markersize=2)\n",
    "plt.show()\n",
    "ej3df"
   ]
  },
  {
   "cell_type": "code",
   "execution_count": null,
   "id": "0091754e",
   "metadata": {},
   "outputs": [],
   "source": []
  }
 ],
 "metadata": {
  "kernelspec": {
   "display_name": "Python 3 (ipykernel)",
   "language": "python",
   "name": "python3"
  },
  "language_info": {
   "codemirror_mode": {
    "name": "ipython",
    "version": 3
   },
   "file_extension": ".py",
   "mimetype": "text/x-python",
   "name": "python",
   "nbconvert_exporter": "python",
   "pygments_lexer": "ipython3",
   "version": "3.10.4"
  }
 },
 "nbformat": 4,
 "nbformat_minor": 5
}
