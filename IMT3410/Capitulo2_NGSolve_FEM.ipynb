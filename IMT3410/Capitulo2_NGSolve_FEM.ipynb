{
 "cells": [
  {
   "cell_type": "markdown",
   "metadata": {},
   "source": [
    "<center><h1 style=\"color:#173F8A;\"> Metodos para Ecuaciones Diferenciales, IMT3410, 2022-2 </h1></center>\n",
    "<h3 style=\"color:#173F8A;text-align:right;\"> Instituto de Ingenieria Matematica y Computacional<br>  Pontificia Universidad Catolica de Chile <br>  </h3>\n",
    "<h3 style=\"color:#0176DE;text-align:right;\"> Profesor. Manuel A. Sanchez<br> </h3>\n",
    "<hr style=\"border:2px solid #03122E\"> </hr>\n",
    "\n",
    "<!-- Palette colors UC: celeste:#0176DE, azul #173F8A, azul oscuro: #03122E, amarillo: #FEC60D, amarillo oscuro: #E3AE00 -->\n",
    "<!--\n",
    "<figure>\n",
    "<img align =\"right\" src=\"IMClogo.png\" alt=\"logo\" width=\"250\" height=\"400\"><br><br><br><br><br>\n",
    "</figure>\n",
    " -->"
   ]
  },
  {
   "cell_type": "markdown",
   "metadata": {},
   "source": [
    "<h2 style=\"color:#03122E;text-align:center;\"> Capitulo 2. Metodos para Ecuaciones Diferenciales Parciales Elipticas<br> </h2>\n",
    "\n",
    "<hr style=\"border:3px solid #E3AE00 \"> </hr>"
   ]
  },
  {
   "cell_type": "markdown",
   "metadata": {},
   "source": [
    "## Ecuacion de 2do orden eliptica\n",
    "\n",
    "\n",
    "Queremos resolver la siguiente ecuacion eliptica\n",
    "$$\n",
    "-\\frac{d}{dx}\\left( p(x) \\frac{d}{dx}u(x)\\right) + q(x)\\frac{d}{dx}u(x)+ r(x)u(x) = f(x),\\quad x\\in (a,b)\n",
    "$$\n",
    "con condiciones de borde $u(a) = A, u(b) = B$.\n",
    "\n"
   ]
  },
  {
   "cell_type": "code",
<<<<<<< HEAD
   "execution_count": 1,
   "id": "51b0ddb2",
=======
   "execution_count": 25,
>>>>>>> 4bc8adfd3f6576a7d21aa316891e9464c44ffd52
   "metadata": {},
   "outputs": [],
   "source": [
    "# use netgen.meshing module for 1d meshes\n",
    "from ngsolve import *\n",
    "from netgen.meshing import Mesh as Mesh1d\n",
    "from netgen.meshing import MeshPoint,Element0D, Element1D\n",
    "from netgen.geom2d import SplineGeometry\n",
    "from netgen.csg import *\n",
    "from ngsolve.webgui import Draw #\n",
    "import numpy as np\n",
    "import matplotlib.pyplot as plt"
   ]
  },
  {
   "cell_type": "code",
<<<<<<< HEAD
   "execution_count": 2,
   "id": "5e417766",
=======
   "execution_count": 30,
>>>>>>> 4bc8adfd3f6576a7d21aa316891e9464c44ffd52
   "metadata": {},
   "outputs": [],
   "source": [
    "# Problem data\n",
    "## New problem\n",
    "a = 0.0; b= 1.0\n",
    "f = 1.0 \n",
    "A = .0; B = .0\n",
    "p = 1.0\n",
    "r = 10.0\n",
    "q = 20.0"
   ]
  },
  {
   "cell_type": "code",
<<<<<<< HEAD
   "execution_count": 3,
   "id": "f562703f",
=======
   "execution_count": 31,
>>>>>>> 4bc8adfd3f6576a7d21aa316891e9464c44ffd52
   "metadata": {},
   "outputs": [],
   "source": [
    "from ngsolve import *\n",
    "def uniform_1d_mesh(a=0.0,b=1.0,N=10, material='material'):\n",
    "    \"\"\" returns a mesh of interval (a,b) with nel elements\n",
    "    \"\"\"\n",
    "    #m = Mesh()\n",
    "    m = Mesh1d(dim=1)\n",
    "    pnums = []\n",
    "    for i in range(0, N+1):\n",
    "        xi = (b-a)*i/N\n",
    "        pnums.append (m.Add (MeshPoint (Pnt(xi, 0, 0))))\n",
    "    idx = m.AddRegion(\"material\", dim=1)\n",
    "    for i in range(0,N):\n",
    "        m.Add (Element1D ([pnums[i],pnums[i+1]], index=idx))\n",
    "\n",
    "    idx_left = m.AddRegion(\"left\", dim=0)\n",
    "    idx_right = m.AddRegion(\"right\", dim=0)\n",
    "\n",
    "    m.Add (Element0D (pnums[0], index=idx_left))\n",
    "    m.Add (Element0D (pnums[N], index=idx_right))\n",
    "\n",
    "    return m, pnums\n"
   ]
  },
  {
   "cell_type": "code",
<<<<<<< HEAD
   "execution_count": 4,
   "id": "4fa89b12",
=======
   "execution_count": 32,
>>>>>>> 4bc8adfd3f6576a7d21aa316891e9464c44ffd52
   "metadata": {},
   "outputs": [],
   "source": [
    "m, pnums = uniform_1d_mesh(a=a,b=b,N=20)\n",
    "mesh = Mesh(m)"
   ]
  },
  {
   "cell_type": "code",
<<<<<<< HEAD
   "execution_count": 5,
   "id": "79aa810c",
=======
   "execution_count": 34,
>>>>>>> 4bc8adfd3f6576a7d21aa316891e9464c44ffd52
   "metadata": {},
   "outputs": [],
   "source": [
    "# Finite Element Space\n",
    "Vh = H1(mesh, order=1, dirichlet=\"left|right\")\n",
    "uh, v = Vh.TnT()\n",
    "# bilinear form\n",
    "abf = BilinearForm(Vh)\n",
    "abf += p*grad(uh)*grad(v)*dx\n",
    "abf += q*grad(uh)*v*dx\n",
    "abf += r*uh*v*dx\n",
    "abf.Assemble()\n",
    "# linear form\n",
    "flf = LinearForm(Vh)\n",
    "flf += f*v*dx\n",
    "flf.Assemble()\n",
    "\n",
    "gf = GridFunction(Vh,\"u\")\n",
    "gf.Set(0, BND)\n",
    "rhs = flf.vec.CreateVector()\n",
    "rhs.data = flf.vec - abf.mat * gf.vec\n",
    "gf.vec.data += abf.mat.Inverse(Vh.FreeDofs()) * rhs"
   ]
  },
  {
   "cell_type": "markdown",
   "metadata": {},
   "source": [
    "## Grafica de la solucion en dimension 1"
   ]
  },
  {
   "cell_type": "code",
<<<<<<< HEAD
   "execution_count": 6,
   "id": "462eed31",
=======
   "execution_count": 35,
>>>>>>> 4bc8adfd3f6576a7d21aa316891e9464c44ffd52
   "metadata": {},
   "outputs": [
    {
     "data": {
      "image/png": "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\n",
      "text/plain": [
       "<Figure size 640x480 with 1 Axes>"
      ]
     },
     "metadata": {},
     "output_type": "display_data"
    }
   ],
   "source": [
    "import numpy as np\n",
    "import matplotlib.pyplot as plt\n",
    "#plt.rc('text', usetex=True)\n",
    "# mesh\n",
    "\n",
    "xx  = [v.point[0] for v in mesh.vertices] \n",
    "u0 = [0          for v in mesh.vertices]\n",
    "\n",
    "fig, ax = plt.subplots(1,1)\n",
    "uhplot = []\n",
    "subdiv = 1\n",
    "for el in mesh.Elements(VOL):\n",
    "    xvlocal = np.linspace( mesh[el.vertices[0]].point[0]+10**-5, mesh[el.vertices[1]].point[0]-10**-5, subdiv+1)\n",
    "    uhlocal = []\n",
    "    for xlocal in xvlocal:\n",
    "        mip = mesh(xlocal)\n",
    "        uhlocal.append(gf(mip))\n",
    "    line_uh, = ax.plot(xvlocal, uhlocal, color='C0')\n",
    "line_uh.set_label(r'$u_h$')\n",
    "\n",
    "plt.show()"
   ]
  },
  {
   "cell_type": "markdown",
   "metadata": {},
   "source": [
    "## Ecuacion de Poisson \n",
    "\n",
    "Resolvemos el problema de Poisson en dimension 2:\n",
    "\\begin{equation}\n",
    "\\begin{array}{rclrl}\n",
    "-\\nabla \\cdot( \\nabla u(x,y))&=& f(x,y)&\\mbox{en} & (a,b) \\\\\n",
    "u &=&u_D&\\mbox{sobre}& \\{a,b\\}\n",
    "\\end{array}\n",
    "\\end{equation}"
   ]
  },
  {
   "cell_type": "code",
<<<<<<< HEAD
   "execution_count": 7,
   "id": "b6b0440e",
=======
   "execution_count": 37,
>>>>>>> 4bc8adfd3f6576a7d21aa316891e9464c44ffd52
   "metadata": {
    "scrolled": true
   },
   "outputs": [
    {
     "data": {
      "application/vnd.jupyter.widget-view+json": {
       "model_id": "9eb9e047fece43bf8bcb15081364176a",
       "version_major": 2,
       "version_minor": 0
      },
      "text/plain": [
       "WebGuiWidget(layout=Layout(height='50vh', width='100%'), value={'gui_settings': {}, 'ngsolve_version': '6.2.23…"
      ]
     },
     "metadata": {},
     "output_type": "display_data"
    },
    {
     "data": {
      "application/vnd.jupyter.widget-view+json": {
       "model_id": "bd6509fb4fdc49dca4b96b59972f2386",
       "version_major": 2,
       "version_minor": 0
      },
      "text/plain": [
       "WebGuiWidget(layout=Layout(height='50vh', width='100%'), value={'gui_settings': {}, 'ngsolve_version': '6.2.23…"
      ]
     },
     "metadata": {},
     "output_type": "display_data"
    },
    {
     "data": {
      "text/plain": [
       "BaseWebGuiScene"
      ]
     },
     "execution_count": 7,
     "metadata": {},
     "output_type": "execute_result"
    }
   ],
   "source": [
    "from ngsolve import * # libreria de NGVolve\n",
    "from netgen.geom2d import unit_square # dominio\n",
    "from ngsolve.webgui import Draw # comando para graficar en jupyter\n",
    "\n",
    "ngsglobals.msg_level = 1\n",
    "\n",
    "# generate a triangular mesh of mesh-size 0.2\n",
    "mesh = Mesh(unit_square.GenerateMesh(maxh=0.075))\n",
    "\n",
    "# H1-conforming finite element space\n",
    "fes = H1(mesh, order=1, dirichlet=[1,2,3,4])\n",
    "\n",
    "# define trial- and test-functions\n",
    "u = fes.TrialFunction()\n",
    "v = fes.TestFunction()\n",
    "\n",
    "# the right hand side\n",
    "force = IfPos(x-0.15,IfPos(0.35-x,IfPos(0.35-y,IfPos(y-0.15,1,0),0),0),0) + IfPos(x-0.65,IfPos(0.85-x,IfPos(0.85-y,IfPos(y-0.65,1,0),0),0),0) + IfPos(x-0.65,IfPos(0.85-x,IfPos(0.35-y,IfPos(y-0.15,1,0),0),0),0) + IfPos(x-0.15,IfPos(0.35-x,IfPos(0.85-y,IfPos(y-0.65,1,0),0),0),0)\n",
    "\n",
    "f = LinearForm(fes)\n",
    "f += force * v * dx\n",
    "\n",
    "# the bilinear-form \n",
    "a = BilinearForm(fes, symmetric=True)\n",
    "a += grad(u)*grad(v)*dx\n",
    "\n",
    "a.Assemble()\n",
    "f.Assemble()\n",
    "\n",
    "# the solution field \n",
    "gfu = GridFunction(fes)\n",
    "gfu.vec.data = a.mat.Inverse(fes.FreeDofs(), inverse=\"sparsecholesky\") * f.vec\n",
    "# print (u.vec)\n",
    "\n",
    "\n",
    "# plot the solution (netgen-gui only)\n",
    "Draw(force, mesh)\n",
    "Draw (gfu)\n",
    "#Draw (-grad(gfu), mesh, \"Flux\")\n"
   ]
  },
  {
   "cell_type": "markdown",
   "id": "51a301f3",
   "metadata": {},
   "source": [
    "# Ejemplos de Ern & Guermond (3.2.5 Numerical illustrations).\n",
    "\n",
    "Considere la ecuacion de Laplace $-\\Delta u = f$ en el dominio $\\Omega = (0,1)\\times (0,1)$ y un par\\'ametro positivo $\\alpha$. Elija el lado derecho $f$ y la condici\\'on de Dirichlet no homogenea tal que la soluci\\'on exacta es $u(x,y) = (x^2+y^2)^{\\alpha/2}$. Obeserve que:\n",
    "- $u\\in H^{1}(\\Omega)$ si $0 < \\alpha \\leq 1$.\n",
    "- $u\\in H^{2}(\\Omega)$ si $1<\\alpha \\leq 2$.\n",
    "- $u\\in H^{3}(\\Omega)$ si $2<\\alpha\\leq 3$\n"
   ]
  },
  {
   "cell_type": "code",
   "execution_count": 8,
   "id": "13094639",
   "metadata": {},
   "outputs": [],
   "source": [
    "from ngsolve import * # libreria de NGVolve\n",
    "from netgen.geom2d import unit_square # dominio\n",
    "from ngsolve.webgui import Draw # comando para graficar en jupyter\n",
    "\n",
    "\n",
    "def Solve_Poisson_Dirichlet(mesh, f, uD, boundary=\"bottom|right|top|left\", order=1):\n",
    "    # H1-conforming finite element space\n",
    "    fes = H1(mesh, order=order, dirichlet=boundary)\n",
    "    # define trial- and test-functions\n",
    "    u = fes.TrialFunction()\n",
    "    v = fes.TestFunction()\n",
    "    # the right hand side\n",
    "    lf = LinearForm(fes)\n",
    "    lf += f * v * dx\n",
    "    # the bilinear-form \n",
    "    a = BilinearForm(fes, symmetric=True)\n",
    "    a += grad(u)*grad(v)*dx\n",
    "    a.Assemble()\n",
    "    lf.Assemble()\n",
    "\n",
    "    # the solution field \n",
    "    gfu = GridFunction(fes)\n",
    "    gfu.Set(uD, BND)\n",
    "    r = lf.vec.CreateVector()\n",
    "    r.data = lf.vec - a.mat * gfu.vec\n",
    "    gfu.vec.data += a.mat.Inverse(freedofs=fes.FreeDofs()) * r  \n",
    "    return gfu\n",
    "\n",
    "def Convergence_Test_alpha(h0 = 0.25, nmeshes=4, alpha=2.25, order=1):\n",
    "    # solucion exacta\n",
    "    uexact = (x**2+y**2)**(alpha/2.0)\n",
    "    f =  -(x**2 + y**2)**(-1 + alpha/2) *alpha**2\n",
    "\n",
    "    # generate a triangular mesh\n",
    "    mesh = Mesh(unit_square.GenerateMesh(maxh=h0))\n",
    "    err_u = np.zeros(nmeshes)\n",
    "    h = np.zeros(nmeshes)\n",
    "    h[0] = computehmax(mesh)\n",
    "    for j in range(nmeshes):\n",
    "        gfu = Solve_Poisson_Dirichlet(mesh, f, uD=uexact, order=order)\n",
    "        err_u[j]  = sqrt( Integrate( InnerProduct( gfu - uexact, gfu -uexact), mesh))\n",
    "        if j < nmeshes-1:\n",
    "            mesh.Refine()\n",
    "            h[j+1] = computehmax(mesh)\n",
    "    rate = computerate(h, err_u)\n",
    "    return h, err_u, rate, gfu\n",
    "\n",
    "def computehmax(mesh):\n",
    "    elvol = Integrate(CoefficientFunction(1),mesh,element_wise=True)\n",
    "    hh = [(2*vol)**(1/2) for vol in elvol] # 3D\n",
    "    return max(hh)\n",
    "\n",
    "def computerate(h, error):\n",
    "    rate = np.zeros(h.size-1)\n",
    "    for j in range(h.size-1):\n",
    "        rate[j] = np.log(error[j+1]/error[j])/np.log(h[j+1]/h[j])\n",
    "    return rate\n"
   ]
  },
  {
   "cell_type": "code",
   "execution_count": 9,
   "id": "63134c05",
   "metadata": {},
   "outputs": [],
   "source": [
    "alpha = 2.25\n",
    "h1, err_u1, rate1, gfu1 = Convergence_Test_alpha(nmeshes=6, alpha=alpha, order = 1)\n",
    "h2, err_u2, rate2, gfu2 = Convergence_Test_alpha(nmeshes=6, alpha=alpha, order = 2)\n",
    "h3, err_u3, rate3, gfu3 = Convergence_Test_alpha(nmeshes=6, alpha=alpha, order = 3)\n"
   ]
  },
  {
   "cell_type": "code",
   "execution_count": 11,
   "id": "a5bf9a33",
   "metadata": {},
   "outputs": [
    {
     "name": "stdout",
     "output_type": "stream",
     "text": [
      "[1.62475038 2.02918457 2.02192524 2.01240208 2.00666125] [2.13627788 2.93254901 2.95806759 2.97397345 2.98407806] [3.83218318 3.34824263 3.29038697 3.26707865 3.25627971]\n"
     ]
    }
   ],
   "source": [
    "print(rate1, rate2, rate3)"
   ]
  },
  {
   "cell_type": "code",
   "execution_count": 10,
   "id": "48ec0bb8",
   "metadata": {},
   "outputs": [
    {
     "data": {
      "image/png": "iVBORw0KGgoAAAANSUhEUgAAAi8AAAG4CAYAAACNXwciAAAAOXRFWHRTb2Z0d2FyZQBNYXRwbG90bGliIHZlcnNpb24zLjUuMywgaHR0cHM6Ly9tYXRwbG90bGliLm9yZy/NK7nSAAAACXBIWXMAAA9hAAAPYQGoP6dpAABkjUlEQVR4nO3deXhV1dn38W/mOSEjEEgIUwIkQIBAUERAsWgVp6o4EhKwfX1KraWlr7bP077t1dpWraVPbWsrkFARxXloFQdkUECGIJgwJIQpTJlD5vGc/f6xw4kRhwQSdk7O73NdXJq19znnTggnd+611r3cDMMwEBEREXES7lYHICIiItIVSl5ERETEqSh5EREREaei5EVEREScipIXERERcSpKXkRERMSpKHkRERERp6LkRURERJyKkhcRERFxKkpeRERExKkoeRERp7Fz504WL15MYmIiAQEBxMbGcscdd5Cfn99tj924cSNubm5f+ueTTz7pqU9NRLrA0+oAREQ66w9/+ANbtmzh9ttvZ9y4cRQVFfHUU08xceJEPvnkE5KSkrrtsQ8++CCTJ0/uMDZixIge+bxEpGvcdDCjiDiLrVu3kpKSgre3t2Ps0KFDjB07lttuu43Vq1df9GM3btzIrFmzeOmll7jtttt67pMRkQumaSMRuSBr165l4sSJ+Pn5MXr0aD744AMMwyAxMZHf/va3PfKal19+eYfkA2DkyJEkJiZy4MCBbn9sTU0Nra2tFxe0iHQ7JS8i0mX//d//zZ133sn48eN54oknsNlszJ8/n7fffpuTJ0+yePHi8x7T0tJCWVlZp/7Y7fZOx2IYBsXFxURERHT58/i6x6anpxMcHIyvry+zZs1i165dXX5+EekZWvMiIl3y0Ucf8dvf/pb/+3//L7///e8BGDBgALfddhsPP/wwDzzwACEhIec9bsuWLcyaNatTr3H06FHi4uI6de9zzz3HqVOn+PWvf93pz+HrHuvt7c13vvMdvv3tbxMREcH+/ft54oknmD59Olu3bmXChAldfh0R6V5a8yIiXXLbbbfx4YcfUlhYSGBgIADZ2dmkpKTg6+vLsWPH6N+//3mPq6ysJDs7u1OvccUVV+Dr6/uN9x08eJDU1FQSExP56KOP8PDw6PTn0ZXHFhQUMG7cOK688krWrVvX6dcQkZ6hyouIdJrNZuO9995j7ty5jsTl89LT0780cQEIDQ1l9uzZ3RZLUVER119/PSEhIbz88stdSly6+tgRI0Zw00038eqrr2Kz2br0WiLS/ZS8iEinHTlyhJqaGiZOnNhhvLS0FIDvf//7X/nY5uZmKioqOvU6kZGRX5sgVFVVcd1113H27Fk++ugjoqOjO/W8F/PYmJgYmpubqaurIzg4uNOvJyLdT8mLiHTauSTliwtcf/e7333p+Odt3bq1W9a8NDY2MnfuXPLz8/nggw8YM2ZMp57zYh975MgRfH19v7TiJCKXlpIXEem0cwtxc3NzHWNr1qxh8+bNgJkcfJXx48fz/vvvd+p1BgwY8KXjNpuNefPmsW3bNt544w0uu+yyL72vvr6ewsJCIiIiHAlVZx9bWlpKZGRkh7G9e/fy5ptvct111+Hurk2aIlbTgl0R6TS73c6IESM4deoUDz/8MO7u7vz+97/nxhtv5MUXX2TBggUsWbKEsWPH9sjrP/TQQ/z5z39m7ty53HHHHeddv/fee4H2RnO//OUv+X//7/916bFXXXUVfn5+XH755URFRbF//37++c9/4uXlxbZt2xg9enSPfG4i0gWGiEgXfPrpp8bUqVMNHx8fIzQ01Pj5z39u2O12IyMjw/D09DSysrJ67LVnzJhhAF/555wNGzYYgPHLX/6yy4/985//bEyZMsUICwszPD09jYEDBxr33nuvcejQoR77vESka1R5EREREaeiyVsRERFxKkpeRERExKkoeRERERGnouRFREREnIqSFxEREXEqSl5ERETEqfS5Drt2u53Tp08TFBSEm5ub1eGIiIhIJxiGQU1NDdHR0d/YybrPJS+nT58mJibG6jBERETkApw4cYLBgwd/7T19LnkJCgoCzE9eJ7+KiIg4h+rqamJiYhw/x79On0tezk0VBQcHK3kRERFxMp1Z8qEFuyIiIuJUlLyIiIiIU1HyIiIiIk6lz6156SybzUZLS4vVYbg0b2/vb9wOJyIi8kUul7wYhkFRURFnz561OhSX5+7uztChQ/H29rY6FBERcSIul7ycS1yioqLw9/dXIzuLnGsmeObMGWJjY/X3ICIineZSyYvNZnMkLuHh4VaH4/IiIyM5ffo0ra2teHl5WR2OiIg4CZdacHBujYu/v7/FkQjgmC6y2WwWRyIiIs7EpZKXczRF0Tvo70FERC6ESyYvIiIi4ryUvLigmTNn8tBDD1kdhoiIyAVR8iLd6sEHH2TSpEn4+PiQnJxsdTgiItIHKXnpowzDoLW1tUee22azYbfbv/J6RkYG8+bN65HXFhER69jtBvnFNRwtq7M0DiUvTqKpqYkHH3yQqKgofH19ueKKK9i5c6fj+saNG3Fzc+Odd95xVD4+/vhj6urqmD9/PoGBgQwcOJA//vGPX/rcP/nJTxg0aBABAQGkpqayceNGx/WsrCz69evHm2++yZgxY/Dx8aGwsPBL4/zf//1fvv/97zNs2LBu/xqIiMil1dBsY9vhcp768BALMneQ/Ov3+NafNrP8oyOWxuVSfV6+jGEYNLRc+q26fl4eXdpt89Of/pRXXnmFVatWMWTIEB577DHmzJlDQUEBYWFhjvsefvhhnnjiCYYNG0ZoaChLly5l06ZNvPHGG0RFRfGzn/2M3bt3d5jSWbx4Mfv37+eFF14gOjqa1157jWuvvZacnBxGjhwJQH19PX/4wx9Yvnw54eHhREVFddvXQkREeoeS6kZ2Ha9k17FKso9XsO90Na12o8M9fl4e2A3jK57h0nD55KWhxcaYX7x7yV93/6/n4O/duS9/XV0df//738nKyuK6664D4JlnnuH9999nxYoVLF261HHvr3/9a6655hoAamtrWbFiBatXr+bqq68GYNWqVQwePNhxf2FhIZmZmRQWFhIdHQ3AT37yE9atW0dmZiaPPvooYPbI+dvf/sb48eMv/pMXERHL2dqmgHYdr2T38Up2Ha/gREXDeff1D/YhZUgYk4aEkhIXyuiBwXh5WDtx4/LJizM4fPgwLS0tTJs2zTHm5eXFlClTOHDgQId7U1JSOjyuubmZ1NRUx1hYWBgJCQmOj3NycrDZbMTHx3d4nqampg5diL29vRk3bly3fU4iInJp1Te3sqfwrFlZOV7Jp8crqWnquDbSzQ1GDQgmpS1RmRgbyuBQv17Xl8vlkxc/Lw/2/3qOJa/bEwICArp0f21tLR4eHmRnZ+Ph0TGmwMBAx//7+fW+b14REflqRVWN7Dpe0TYFVMn+M9XYvjAF5O/twYTYfkwaEkbKkFAmxPYjyLf3H9fi8smLm5tbp6dvrDJ8+HC8vb3ZsmULQ4YMAcxpnJ07d35tv5bhw4fj5eXF9u3biY2NBaCyspL8/HxmzJgBwIQJE7DZbJSUlDB9+vQe/1xERKT72ewGB4uqyXasV6nk1Nnzp4AGhvia0z9DQkmJC2PUgCA8LZ4CuhC9+6e2AGY15YEHHmDp0qWEhYURGxvLY489Rn19PQsXLvzKxwUGBrJw4UKWLl3qWGT785//HHf39m/U+Ph47rnnHubPn88f//hHJkyYQGlpKevXr2fcuHFcf/31XYq1oKCA2tpaioqKaGhoYM+ePQCMGTPGcZaRiIhcnNqmc1NAFWQfr+TTwrPUfmEKyN0NRg80p4AmxZmVleh+fhZF3L2UvDiJ3//+99jtdu677z5qampISUnh3XffJTQ09Gsf9/jjj1NbW8vcuXMJCgrixz/+MVVVVR3uyczM5De/+Q0//vGPOXXqFBEREUydOpUbbrihy3EuWrSITZs2OT6eMGECAEePHiUuLq7LzyciInD6bAO7jleSfayCXccrOXCmmi/MABHo49k2BRRKypAwkmP7EejTN3/MuxmGxfudull1dTUhISFUVVURHBzc4VpjYyNHjx5l6NCh+Pr6WhShnKO/DxGR87Xa7BwsqmHXsQqyC8+SfayC01WN5903qJ8fKXHmFNDEIaGMGhCMh7vzrk38up/fX9Q3UzIREREnUdPYwqdtu4Cyj1ewp/Asdc0d+495uLsxZmCwY7tyypAwBoS47i99Sl5EREQuEcMwOHW2wbGwdtfxSvKKzp8CCvL1ZGJsqGNx7fiYfgT00SmgC6GvhIiISA9ptdnZf6ba3AFUWEn2sUqKqs+fAooJ8+vQCG5kVJBTTwH1NCUvIiIi3aS6sYXdxysdlZU9J86edwSNp7sbidHBZm+VtjUrUcGuOwV0IZS8iIiIXADDMDhZ2dChEVxecQ1f3AYT7OvZVlEJY2JsKMkx/fDz7plGpa5CyYuIiEgntNjs7Dtdbe4CaquulNQ0nXffkHB/x3bllLhQRkQG4q4poG6l5EVERORLVNW3sLuw0lFZ2XvyLI0t9g73eHm4kRgd0n4W0JBQooI0BdTTlLyIiIjLMwyDwop6xw6g7OMV5BfXnndfP38vJsWGMqltu/K4wSH49tBZdfLVlLyIiIjLaW61k3u6iuxjlW0t9s9SVnv+FNDQiIDPnQUUyrAITQH1BkpeXNDMmTNJTk5m2bJlVociInJJnK1vNncAHTe3K+89eZam1o5TQN4e7owdHMKkIaGOPxGBPhZFLF9HyYt0m7179/L73/+ejz/+mLKyMuLi4vg//+f/8MMf/tDq0ETEhRiGwbHyesfC2l3HKykoOX8KKNTfq8N25aRBmgJyFkpe+ijDMLDZbHh6dv9fsc1mw83NrcPp1ADZ2dlERUWxevVqYmJi2Lp1K9/97nfx8PBg8eLF3R6HiAiY73f7z1SzpaDMsWW5vK75vPuGRQaY0z9DwpgUF8qwiADc3DQF5Izcv/kW6Q2ampp48MEHiYqKwtfXlyuuuIKdO3c6rm/cuBE3NzfeeecdJk2ahI+PDx9//DF1dXXMnz+fwMBABg4cyB//+Mcvfe6f/OQnDBo0iICAAFJTU9m4caPjelZWFv369ePNN99kzJgx+Pj4UFhYeN7zZGRk8Oc//5kZM2YwbNgw7r33XtLT03n11Vd75GsiIq6rurGFd3LO8H9f/oypv1vP9f/7MY++fZD39hdTXteMt6c7k+NC+T8zhrN8fgq7/+caPvzxTB67bTx3TI5heGSgEhcnpsqLYUBL/aV/XS9/6MI/nJ/+9Ke88sorrFq1iiFDhvDYY48xZ84cCgoKCAsLc9z38MMP88QTTzBs2DBCQ0NZunQpmzZt4o033iAqKoqf/exn7N69m+TkZMdjFi9ezP79+3nhhReIjo7mtdde49prryUnJ4eRI0cCUF9fzx/+8AeWL19OeHg4UVFRnYq7qqqqQ3wiIhfCMAzyimvYmFfKhoMlZB+vpPVzBwL5eXlw+fBwUoeFMWlIGEmDgvHx1BRQX6XkpaUeHo2+9K/7s9PgHdCpW+vq6vj73/9OVlYW1113HQDPPPMM77//PitWrGDp0qWOe3/9619zzTXXAFBbW8uKFStYvXo1V199NQCrVq1i8ODBjvsLCwvJzMyksLCQ6Gjz6/CTn/yEdevWkZmZyaOPPgpAS0sLf/vb3xg/fnynP8WtW7eydu1a/vOf/3T6MSIi59Q2tbKloIyNeaVszCvhTFXHM4GGRQYwKyGKWQlRTB4aqmTFhSh5cQKHDx+mpaWFadOmOca8vLyYMmUKBw4c6HBvSkpKh8c1NzeTmprqGAsLCyMhIcHxcU5ODjabjfj4+A7P09TURHh4uONjb29vxo0b1+mYc3Nzuemmm/jlL3/Jt771rU4/TkRcl2EYFJTUmtWVvBJ2HqugxdZeXfH1cufy4RHMTIhkZnwUseH+FkYrVlLy4uVvVkGseN0eEBDQuWrOObW1tXh4eJCdnY2HR8ffWgIDAx3/7+fn1+n54f3793P11Vfz3e9+l//+7//uUjwi4lrqm1vZWlDOxvwSNhws5dTZhg7X48L9mZkQxcyESKYOC9duIAGUvJjrTjo5fWOV4cOH4+3tzZYtWxgyZAhgTuPs3LmThx566Gsf5+Xlxfbt24mNjQWgsrKS/Px8ZsyYAcCECROw2WyUlJQwffr0i4513759XHXVVaSlpfHb3/72op9PRPoWwzA4WlbHhrapoO1HKmi2tfdb8fZ0Z+qwcGYlRDIzIYqhEb37/VmsoeTFCQQEBPDAAw+wdOlSwsLCiI2N5bHHHqO+vp6FCxd+5eMCAwNZuHAhS5cudSyy/fnPf95hi3N8fDz33HMP8+fP549//CMTJkygtLSU9evXM27cOK6//vpOx5mbm8tVV13FnDlzWLJkCUVFRQB4eHgQGRl54V8AEXFqDc02PjlSzsa8EjbklVJY0XGTREyYH7PaqiuXDYvQicvyjZS8OInf//732O127rvvPmpqakhJSeHdd98lNDT0ax/3+OOPU1tby9y5cwkKCuLHP/4xVVVVHe7JzMzkN7/5DT/+8Y85deoUERERTJ06lRtuuKFLMb788suUlpayevVqVq9e7RgfMmQIx44d69JziYhzO15ex4aDJWzML2Xb4fIO3Wy9PdyZMjSMmQmRzBoVpX4r0mVuhmEY33yb86iuriYkJISqqiqCg4M7XGtsbOTo0aMMHToUX1+d+mk1/X2I9B2NLTa2H61gY14JG/NKOVpW1+H6oH5+5kLbhCguHx5OgI9+d5aOvu7n9xfpu0dERC7IiYp6R7Ky9XA5DS02xzVPdzcmx4Uxa5SZsIyMUlM46T5KXkREpFOaWm3sOlbpmA764nlBA4J9HdWVaSPCCfL1sihS6euUvIiIyFc6dbbBUV3ZUlBGfXN7dcXD3Y1JQ0Idi21HDQhSdUUuCSUvIiLi0GKzs+tYZdvOoBLyiztWVyKDfJgZby60nTYighA/VVfk0lPyIiLi4oqqGh3VlY8LyqhtanVcc3eDibGhzBoVxYz4SMYMDMbdXdUVsZaSFxERF9Nqs7O78Cwb2hKWA2eqO1yPCPTmyvhIZiVEMX1kBP38vS2KVOTLKXkREXEBJTWNbMorZWNeKZsPlVLT2F5dcXOD5Jh+zIyPYtaoSJKiQ1RdkV5NyYuISB9ksxvsOVHJhoOlbMwvIfdUx+pKWIA3V46MYNaoKKaPjCQsQNUVcR5KXkRE+oiy2iY255eyIa+UzfmlVDW0dLg+fnAIMxKimJUQybjB/fBQdUWclJIXFzRz5kySk5NZtmyZ1aGIyEWw2Q0+O3mWDXmlbMor4bNTVXy+Z3qIn1fb2pVIroyPJCLQx7pgRbqRkhfpNuXl5dxzzz189tlnlJeXExUVxU033cSjjz76ja2eRaRzKuua2XyolA0HS9h8qIyKuuYO15MGBTvWrowf3A9PD/eveCYR59XrkpezZ88ye/ZsWltbaW1t5Yc//CH333+/1WE5HcMwsNlseHp2/1+xzWbDzc2tw+nUAO7u7tx000385je/ITIykoKCAr7//e9TUVHBmjVruj0OEVdgtxvknq5iY14pG/JK2HPibIfqSpCvJ1eOjGRGQiQz4yOJCtY5YdL39bqUPCgoiM2bN7Nnzx62b9/Oo48+Snl5udVhWa6pqYkHH3yQqKgofH19ueKKK9i5c6fj+saNG3Fzc+Odd95h0qRJ+Pj48PHHH1NXV8f8+fMJDAxk4MCB/PGPf/zS5/7JT37CoEGDCAgIIDU1lY0bNzquZ2Vl0a9fP958803GjBmDj48PhYWF5z1PaGgoDzzwACkpKQwZMoSrr76a//qv/+Kjjz7qka+JSF9VVd/CW3tPs+TFPUx59ANufGoLT76fz6eFZuIyemAwD8wczovfu4zd/3MNf71nInekxChxEZfR6yovHh4e+Pv7A+YPVcMw6MmDrw3DoKG1ocee/6v4efp1qY32T3/6U1555RVWrVrFkCFDeOyxx5gzZw4FBQWEhYU57nv44Yd54oknGDZsGKGhoSxdupRNmzbxxhtvEBUVxc9+9jN2795NcnKy4zGLFy9m//79vPDCC0RHR/Paa69x7bXXkpOTw8iRIwGor6/nD3/4A8uXLyc8PJyoqKhvjPn06dO8+uqrzJgxo/NfGBEXZBgG+05XsynfnA7aXViJ/XNve4E+nlwxIoJZoyKZER/FgBAlKeLaupy8bN68mccff5zs7GzOnDnDa6+9xs0339zhnr/+9a88/vjjFBUVMX78eP7yl78wZcqUTr/G2bNnmTFjBocOHeLxxx8nIiKiq2F2WkNrA6lrUnvs+b/K9ru34+/l36l76+rq+Pvf/05WVhbXXXcdAM888wzvv/8+K1asYOnSpY57f/3rX3PNNdcAUFtby4oVK1i9ejVXX301AKtWrWLw4MGO+wsLC8nMzKSwsJDo6GgAfvKTn7Bu3ToyMzN59NFHAWhpaeFvf/sb48eP/8Z477rrLt544w0aGhqYO3cuy5cv79TnKeJKqhtb+PhQGRsOlrApv5SSmqYO1xP6BzkOOZw0JBRvz15XKBexTJeTl7q6OsaPH09GRga33nrredfXrl3LkiVLePrpp0lNTWXZsmXMmTOHvLw8x2/rycnJtLa2nvfY9957j+joaPr168fevXspLi7m1ltv5bbbbqN///4X8On1DYcPH6alpYVp06Y5xry8vJgyZQoHDhzocG9KSkqHxzU3N5Oa2p6chYWFkZCQ4Pg4JycHm81GfHx8h+dpamoiPDzc8bG3tzfjxo3rVLx/+tOf+OUvf0l+fj6PPPIIS5Ys4W9/+1vnPlmRPsowDA4W1TjWrmQfr8T2ufKKv7cH00ZEOBKWQf38LIxWpHfrcvJy3XXXOX77/zJPPvkk999/P+np6QA8/fTT/Oc//2HlypU8/PDDAOzZs6dTr9W/f3/Gjx/PRx99xG233fal9zQ1NdHU1P4bS3V19Zfe91X8PP3Yfvf2Lj2mO/h59swbU0BAQJfur62txcPDg+zsbDw8PDpcCwwMdPy/n1/np7kGDBjAgAEDGDVqFGFhYUyfPp3/+Z//YeDAgV2KTcTZ1TS2sKWgnE35JWw4WEpRdWOH68MjA9pOZI5i8tBQfDw9vuKZROTzunXNS3NzM9nZ2TzyyCOOMXd3d2bPns22bds69RzFxcX4+/sTFBREVVUVmzdv5oEHHvjK+3/3u9/xq1/96oJjdnNz6/T0jVWGDx+Ot7c3W7ZsYciQIYA5jbNz504eeuihr32cl5cX27dvJzY2FoDKykry8/Md61AmTJiAzWajpKSE6dOnd3vsdrsdoEOCKdJXGYZBfnGt40TmXccqaf1cdcXXy51pw9urKzFhvfu9R6S36tbkpaysDJvNdt4UT//+/Tl48GCnnuP48eN897vfdSzU/cEPfsDYsWO/8v5z0xLnVFdXExMTc2GfQC8VEBDAAw88wNKlSwkLCyM2NpbHHnuM+vp6Fi5c+JWPCwwMZOHChSxdutSxyPbnP/95hy3O8fHx3HPPPcyfP58//vGPTJgwgdLSUtavX8+4ceO4/vrrOx3n22+/TXFxMZMnTyYwMJB9+/axdOlSpk2bRlxc3MV8CUR6rdqmVrYUlLGxrVHc6aqO1ZWhEQHMiI9k1qgoUoeG4eul6orIxep1u42mTJnS6WklAB8fH3x8+n7XyN///vfY7Xbuu+8+ampqSElJ4d133yU0NPRrH/f4449TW1vL3LlzCQoK4sc//jFVVVUd7snMzOQ3v/kNP/7xjzl16hQRERFMnTqVG264oUsx+vn58cwzz/CjH/2IpqYmYmJiuPXWWx3ThSJ9gWEYHCoxqysb80rZeayCFlt7dcXH053Lhoe3TQdFMiS8a1O5IvLN3IyL2Ifs5ubWYbdRc3Mz/v7+vPzyyx12IKWlpXH27FneeOONi433G1VXVxMSEkJVVdV5XV0bGxs5evQoQ4cOxddXWw2tpr8PcRZ156or+aVsyivl1NmO7RXiwv2Z2ZasTB0WruqKyAX4up/fX9StlRdvb28mTZrE+vXrHcmL3W5n/fr1LF68uDtfSkSkxxiGQUFJLRvzzBOZdx6tpNlmd1z38XRn6rBwx9qVoRGqrohcSl1OXmpraykoKHB8fPToUfbs2eNYi7FkyRLS0tJISUlhypQpLFu2jLq6OsfuIxGR3qiuqZWth8sd00FfrK7EhvkzKyGSmaOimDo0HD9vVVdErNLl5GXXrl3MmjXL8fG5xbJpaWlkZWUxb948SktL+cUvfkFRURHJycmsW7fOpfu0iEjvYxgGh0vrHMnKjqMVHaor3ueqK/GRzEyIZGhEQJe6YotIz+ly8jJz5sxvbNe/ePFiTROJSK9T39zKtsPlbGhLWE5WdqyuxIT5ORbaXjYsQtUVkV6q1+02uhR68qwk6Tz9PUhPMwyDI2V15tqVvBK2H/lCdcXDndRhYY7FtsNUXRFxCi6VvHh5eQHmIYN+fmq9bbXm5maA8zr7ilyMhmYb246UOdrwn6joWF0ZHPq56srwcPy9XeptUKRPcKl/tR4eHvTr14+SkhIA/P399VuWRex2O6Wlpfj7++Pp6VLfhtLNDMPg6LnqSn4pnxwpp7m1Y3VlytAwx86g4ZGqrog4O5f7qTFgwAAARwIj1nF3dyc2NlY/SKTLGpptfHKkbWdQfinHy+s7XB/Uz4+ZCZHMSojisuHhBPi43FudSJ/mcv+i3dzcGDhwIFFRUbS0tFgdjkvz9vbucFSByNcxqyvmQttPjpTT9LnqipeHm1ldiY9i1qhIhkcGKikW6cNcLnk5x8PDQ2stRHqxxhYb246Us6ltse2xL6muzEiIZGZ8JJePiCBQ1RURl6F/7SLSaxw7V13JL2Xb4fOrK5Pj2teujIxSdUXEVSl5ERHLNLbY2H60gg0HS9iUX8rRsroO1weG+Dq2MU9TdUVE2uidQEQuqcLyejbml7DhYAnbjpTT2NJeXfF0dyMlLrRtK3MU8f1VXRGR8yl5EZEe1dhiY8fRCkejuCNfqK4MCPZ1TAVNGxFOkK+XRZGKiLNQ8iIi3e5ERT0b80rYkGeuXWlosTmuebq7MWlIKDMTzJ1BCf2DVF0RkS5R8iIiF62ptb26siGvhCOlHasr/YN9mBnftnZlZATBqq6IyEVQ8iIiF+RERT0b80vZlFfCloKO1RUPR3UlkpnxUYweqOqKiHQfJS8i0ilNrTZ2Hq10bGUuKKntcD0qyOdza1ciCPFTdUVEeoaSFxH5Sicr69sW2pay9XAZ9c0dqysTY/s5tjKPGRis6oqIXBJKXkTEobnVzq5jFWxoa8N/6AvVlcggH2bGm9WVK0aquiIi1lDyIuLiTp1tcJwZtLWgjLrPVVfc3WBibKhjOmjMwGDc3VVdERFrKXkRcTHnqisb882+K/nFHasrEYE+zIiPZGZCJNNHRtDP39uiSEVEvpySFxEX8E3VlQmxoY7poMRoVVdEpHdT8iLSBzW12th1rNKRsHxx7UpEoDdXtiUrV6q6IiJORsmLSB/xdTuDVF0Rkb5EyYuIk/qmvitauyIifZWSFxEn8vmutlsPl59XXdHOIBFxBUpeRHqxz58ZtDGvhMNfODPoXN+VGQmRTB8RSYi/+q6ISN+n5EWklzl3IrO5duVLzgyKDWVGQqS62orIpWdrgeNbISAC+idaFoaSFxGLNbbY2H60go15JWzKK+VIWcfqis4MEhFLNVRCwXrIexsOfQBNVTBxPtz4F8tCUvIiYoHj5XWOqaBtR8ppbLE7rulEZhGxXMURyHvH/HN8KxjtFWD8I8C3n2WhgZIXkUuiscXGJ0fK2ZhXyqb8Uo5+obrSP9iHmfHmAYfTRkYQ7KvqiohcQnYbnNzZnrCU5XW8HjkaEq6FhG/DoEng7mFNnG2UvIj0kGNldY5tzJ98obri6aiumAnLqAGqrojIJdZUC4c/NJOVQ+9CfXn7NXdPGHK5mazEXwthQ62L80soeRHpJo0tNrYdKWdT23TQsfL6DtcHBPu2rV2J5PIRqq6IiAWqTrZXV459BLbm9mu+ITDyW2ayMmI2+PWzLMxvouRF5CIcPVddyTOrK02tHasrKXHt1ZWE/qquiMglZrfDmT1mspL/DhTldLweOtSsriRcB7FTwcM5fqlS8iLSBQ3N59aumNNBx79QXRkYYlZXZsRHMW1EOEGqrojIpdbSAEc2mclK3jqoLWq/5uYOg6eYyUrCdRARD074S5WSF5GvYRhGW3WllI35pWz/QnXFy8ONlCFhjq3M8f0DVV0RkUuvphjy15l/Dm+A1ob2a96BMPwqs8Iy8lsQEG5dnN1EyYvIFzQ029h2pMxxyGFhRcfqSnSILzPapoKmjYgg0Ef/jETkEjMMKN7XVl15B05ld7wePLitunItxE0HTx9r4uwhetcVl2cYBkfK2vuubD9aQfMXqiuT49qrKyOjVF0REQu0NsPxj9sW3K6DqsKO16Mntk8H9U9yyumgzlLyIi6pvrmVbYfL26aDSjhR0dDh+qB+fm1rV8ydQaquiIgl6ivg0Htmd9uCD6G5pv2apy8Mm2kmKyPnQPBAy8K81PSOLC7BMAwOl9Y6poJ2HK2g2dZeXfH2cGfK0DDHVubhkaquiIhFyg6ZyUreOjjxCRjt71UE9of4ORB/nZm4ePtbFqaVlLxIn1XX1MrWw+bOoE35pZys7FhdGRzq52jBf9nwcAJUXRERK9hazSTlXP+VisMdr/dPMqsr8ddB9ARwd7cmzl5E79bSZxiGQUFJrWMqaOfRyvOqK6nDwpgRb65dGR4ZoOqKiFijsartsMN3zGmhxrPt19y9YOh0M1lJuBb6xVoWZm+l5EWcWl1TK1sKytiYX8qmvFJOne1YXYkJ83OcGXTZ8HD8vfUtLyIWqTxmTgXlvwPHPgZ7a/s1vzBzG3PCdea2Zt9gy8J0BnonF6diGAaHSmodXW13HqugxWY4rnt7upM6NMzR1XZYhKorImIRu93cwpz3ttl/pWR/x+vhI9t3Bw2eAh76kdxZ+kpJr1d7rrqSV8rm/POrK7Fh/o6FtlOHqboiIhZqrjObxOW/A/nvQl1p+zU3D4i9rD1hCR9uXZxOTu/y0usYhkF+cXt1Zdfx86srU4eFMzPeTFiGqroiIlaqPm1WVvLeMdvy25rar/kEm4ccJlxn/tc/zLo4+xAlL9Ir1DS2sKWgnE35JWzKK+V0VWOH60PC/duSlSimDgvHz9vDokhFxOUZBhR91r476Myejtf7xX7usMPLwdPbkjD7MiUvYgnDMDhYVOPoapt9vJJWe3t1xedcdaWtq+3QiAALoxURl9fSCMc+alu/8i5Un/rcRTcYnNK+nTlqdJ/ubtsbKHmRS6aqoaVt7YrZd6W4uqnD9aERAW3bmM21K75eqq6IiIVqS+HQu2Z15fAGaKlrv+blb+4Kir/WbBoXGGVdnC5IyYv0GMMw2He6mk35ZnVld+FZbJ+rrvh6uXP58AhHG/4h4aquiIiFDANKD7ZPB53cCbS/ZxE00ExWEr5t9mHx8rMsVFen5EW6VVV9C5sPlbIp3/xTWtOxujI8MoAZbX1XpgwNU3VFRKxla4HjW81kJf8dsxfL5w0Y17Z+5VoYmKzpoF5CyYtcFLvdIPd0FZvyStmYX8qnhZV8rriCv7cHlw+PYEZCJDPjI4kJc81zOESkF2mohEMfmMnKoQ+gqar9mocPDL2ybf3KtRAyyLo45SspeZEuq6xrNqsreaVsPlRKWW1zh+sjowIdC21T4kLx8VR1RUQsVn64rbqyzqy0GLb2a/4RbdNB18KwWeATaF2c0ilKXuQb2ewGOaeqHH1X9p48i/G56kqAtwfTRkQwMyGKGQmRDOqneWARsZjdBid2mNWVvHegLL/j9cjRZrKS8G0YNAnc9UuWM1HyIl+qvLaJzYdK2ZhXykeHyqio61hdGTUgqG0qKIpJQ0Lx9tQppyJisaYaOPxh+2GH9eXt19w9YcjlZrISfy2EDbUuTrloSl4EMKsre06cZVPbNubPTlV1qK4E+XhyxUhzZ9CV8ZEMDFF1RUR6AcOAwm2w4xk4+G+wfe4XLd8Q87DD+GvN7rZ+/SwLU7qXkhcXVlrT5NgV9NGhUs7Wt3S4PmZgsGOh7cQhoXh5qLoiIr1EUw18thZ2ruh44GHYsPbqSuxU8PCyLkbpMUpeXEirzc6nJ8627QwqIfdUdYfrwb6eTI83e67MjI8kKtjXokhFRL5CyQEzYdn7AjTXmGOefjDudkhZCAPHazuzC1Dy0seVVDeyMd/cGfTRoVKqG1s7XE8aFMzMtr4ryTH98FR1RUR6G1uLOSW0c4XZov+c8BEweRGMv0tTQi5GyUsf02Kzs/t4JRvzzcW2B850rK708/di+kizsnJlfCSRQT4WRSoi8g2qT0P2KsjOgtoic8zN3ZwWmrwIhs4Ad/3C5YqUvPQBZ6oazKmgvFK2FJRR09ReXXFzg3GDQpiRYFZXxg/uh4e7Sqoi0ksZhlld2bkcDvy7vR9LQBRMSoNJCyBksKUhivWUvDih5lY7u45XsCnPXGx7sKimw/WwAG+uHGl2tb1yZCThgaquiEgv11gFe9eaSUtZXvt47OUweSGMvhE8va2LT3oVJS9O4tTZBvM05rbqSl1ze3dINzdIjunXdiJzFGMHhai6IiLOoSjXTFg+e7H91GavABg/z1yAOyDJ2vikV1Ly0ks1tdrYdazS0dX2UElth+vhAd7MiI90VFdCA/QbiYg4idZmOPCmmbQUbmsfj0iAKffDuHngG2xdfNLrKXnpRU5U1LftDCph6+Fy6j9XXXF3gwmxocxsq64kRgfjruqKiDiTsyfMxbe7V0FdqTnm5gGjb4DJ90PcFdrmLJ2i5MVCjS02dhytYGNb35UjpXUdrkcG+bRNBUVyxYgI+vmruiIiTsZuh6MbzW3OeW+DYTfHAwdASjpMTIPggZaGKM5Hycsldry8zkxW8krYdqScxha745qHuxuTYkOZkWA2ihszUNUVEXFSDZWw53lzaqjicPt43HRzm/Oo69X91gnZDTvvHnuXcZHjGBQ4yLI4lLz0sMYWG9uOlDt2Bh0t61hd6R/sw8x48zTmaSMiCPHTP2YRcWJn9prnDOW8DK0N5ph3ECTfZS7AjRplbXxywbaf2c6T2U+yv3w/Nwy7gd9N/51lsSh56WaGYXC0zKyubMov5ZMj5TS1tldXPN3dSIkLZUZbV9tRA4Jw0xyviDizlkbY/7pZZTm5s308KtHc5jxuHvgEWhaeXJy8ijz+tPtPbDm1BQB/T3/iguMwDMOyn19KXrpBfXMrnxwpb5sOKqWwor7D9YEhvsxMiGRGfBTTRoQT5Kvqioj0AZXHYFcmfPos1JebY+5eMOZGcwFu7FQtwHViZ2rP8NSep3jr8FsYGHi6eXJ7wu18b9z3CPcLtzQ2JS8XwDAMDpfWmX1X8kvZfrSC5s9VV7w83JgcF8bMBHNn0MioQFVXRKRvsNvh8HqzypL/LmCY48GDzAW4E+ZDUH9LQ5SLU9VUxfKc5aw5sIZmezMAc+Lm8OCEB4kNjrU4OpOSl06qa2pl6+FyR8JysrKhw/VB/fwcycplw8MJ9NGXVkT6kPoK+HQ17FphVlzOGTbLXIAbfy146H3PmTXZmlhzYA3P5DxDTduJ3ZMHTGbJpCUkRfSuZoH6TuukNdsL+e3bBxwfe3u4kzoszLGVeXikqisi0gedyja3Oee+Aq2N5phPCEy4B1IyIGKktfHJRbPZbfz7yL95as9TFNWZB2CO6DeCH036EdMHTe+VP9uUvHTSzIRInv3keNvalUguGx6Ov7e+fCLSB7U0QO6rsPMZOP1p+/iAseZalrG3gXeAdfFJtzAMg49Pfcyfdv+JQ5WHAOjv35/FExYzd9hcPNw9LI7wq/XKn75xcXEEBwfj7u5OaGgoGzZssDokRkQFsmnpzF6ZgYqIdIuKI2aV5dPV0HjWHPPwhsRbzKRlcIoW4PYR+8r28WT2k+wo2gFAkFcQi8Yt4u5Rd+Pr6WtxdN+sVyYvAFu3biUwsPdsrVPSIiJ9kt0Gh94zF+AWfNA+HhILkzNgwn0QEGFdfNKtTlSf4M+f/pl3j70LgJe7F3ePupv7x91PiE+IxdF1Xq9NXkREpAfVlcHuf5lbnasK28dHzDarLCOvgV48bSBdU95Qzj8++wcv5b1Eq9GKG27cMOwGFk9YTHRgtNXhdZl7Vx+wefNm5s6dS3R0NG5ubrz++uvn3fPXv/6VuLg4fH19SU1NZceOHV16DTc3N2bMmMHkyZN57rnnuhqiiIh8GcOAEzvg1e/Ck6Nh/a/MxMUvFC7/ATz4Kdz7CiRcq8Slj6hvqefpvU9z/WvX8/zB52k1WpkWPY2X5r7Eo9MfdcrEBS6g8lJXV8f48ePJyMjg1ltvPe/62rVrWbJkCU8//TSpqaksW7aMOXPmkJeXR1RUFADJycm0trae99j33nuP6OhoPv74YwYNGsSZM2eYPXs2Y8eOZdy4cRfw6YmICM11Zrv+ncuh6LP28eiJ5jbnpFvBy8+6+KTbtdpbefXQq/x9798paygDYHTYaJakLGHqwKkWR3fx3AzDMC74wW5uvPbaa9x8882OsdTUVCZPnsxTTz0FgN1uJyYmhh/84Ac8/PDDXX6NpUuXkpiYyIIFC770elNTE01NTY6Pq6uriYmJoaqqiuDg4C6/nohIn1FWYCYse9ZAU5U55ukLSd8x2/YPmmRtfNLtDMPgw8IPWbZ7GceqjwEwKHAQP5z4Q+bEzcHdrcsTLpdMdXU1ISEhnfr53a1rXpqbm8nOzuaRRx5xjLm7uzN79my2bdvWqeeoq6vDbrcTFBREbW0tH374IXfcccdX3v+73/2OX/3qVxcdu4hIn2Brhfx15jbnIxvbx0PjzIMRJ9wL/mFWRSc96NOST3ly15PsKd0DQKhPKN8b/z3uiL8Drz52gne3Ji9lZWXYbDb69+/YGrp///4cPHiwU89RXFzMLbfcAoDNZuP+++9n8uTJX3n/I488wpIlSxwfn6u8iIi4lNoSyF4F2ZlQfapt0M3sfDt5EQy/Ctx772/dcuGOnD3Cst3L2HDCbCvi6+HLfWPuIz0pnSDvIIuj6xm9brfRsGHD2Lt3b6fv9/HxwcfHpwcjEhHppQwDCreZU0P73wR7iznuHw4T58OkdAgdYm2M0mNK6kv4256/8VrBa9gNO+5u7twy4hb+K/m/iPKPsjq8HtWtyUtERAQeHh4UFxd3GC8uLmbAgAHd+VIiIq6rqQY+e9FsKFeyr3188BSzyjLmJvDq/Y3G5MLUNteyMnclz+5/lkabeWTDrJhZPDTxIYb1G2ZxdJdGtyYv3t7eTJo0ifXr1zsW8drtdtavX8/ixYu786VERFxPyUHzYMQ9z0PbwXl4+sG42831LNHJloYnPavF1sKL+S/yj73/oLKpEoDxkeNZMmkJE/tPtDi6S6vLyUttbS0FBQWOj48ePcqePXsICwsjNjaWJUuWkJaWRkpKClOmTGHZsmXU1dWRnp7erYGLiLgEWwsc/I85NXTso/bxsOFmlSX5LrNPi/RZdsPOu8fe5X93/y8na08CEBccx0MTH+Kq2KtcsgN8l5OXXbt2MWvWLMfH5xbLpqWlkZWVxbx58ygtLeUXv/gFRUVFJCcns27duvMW8YqIyNeoPgO7V0F2FtScMcfc3CHh22bSMnSGFuC6gO1ntvNk9pPsL98PQIRfBA+Mf4BbR96Kp3uvW7Z6yVxUn5feqCv7xEVEehXDMKsrO5fDgX+DYTPHA6JgUhpMWgAhgy0NUS6NvIo8/rT7T2w5tQUAf09/0pPSmT9mPv5e/hZH1zMs6/MiIiIXoLEa9r5gJi1lee3jsZeZVZbRN4Knt3XxySVzpvYMT+15ircOv4WBgaebJ7cn3M73xn2PcL9wq8PrNZS8iIhYpXifmbDsXQstdeaYVwCMn2cuwB2QZG18cslUNVWxPGc5aw6sodneDMCcuDk8OOFBYoNjLY6u91HyIiJyKbU2w4E3zW3OhVvbxyMSzCrL+DvBV1PerqLJ1sSaA2t4JucZatp2kE0ZMIUfTfoRSRFKXr+KkhcRkUuh6qS5+DZ7FdSVmGNuHjD6BjNpiZsOLrhrxFXZ7Db+feTfPLXnKYrqigAYGTqSH038EVcMusIldxB1hZIXEZGeYhjm+UI7l0Pe22DYzfHAAebi20lpEBxtZYRyiRmGwcenPuZPu//EocpDAAwIGMDi5MXcMOwGPNw9LI7QOSh5ERHpbo1VZiO5ncuh/FD7eNx0s8oy6nroYwflyTfbV7aPJ7OfZEfRDgCCvIO4f+z93DXqLnw91RG5K5S8iIh0l+L95mnOn1+A6x0I4+8yk5aoUdbGJ5Y4UX2CP3/6Z9499i4A3u7e3D36bhaNXUSIT4jF0TknJS8iIhfD1gIH3jKrLMe3tI9HJMCU+80FuD5982Rf+XrlDeX847N/8FLeS7Qarbjhxtzhc/l+8veJDtR04cVQ8iIiciFqitoW4GZ9rgOuhzklNOV+LcB1YfUt9fxr/7/I2pdFXVsFbtqgafxo4o9ICEuwOLq+QcmLiEhnGQYUboMdz5jbne2t5rijA246hAyyNkaxTKu9lVcPvcrf9/6dsoYyAMaEj2HJpCWkDky1OLq+RcmLiMg3aa6Dz140p4aKc9vHY6aaVRZ1wHVphmHwYeGHLNu9jGPVxwAYHDiYByc+yJy4Obi76Qyq7qbkRUTkq5QVmAnLnjXQVGWOefrBuNth8v0wcJy18YnlPi35lCd3Pcme0j0AhPqE8r3x3+OO+Dvw0o6yHqPkRUTk8+w2yH/X3DV0+MP28dChZpUl+W7wC7UuPukVjpw9wrLdy9hwYgMAvh6+3DfmPjKSMgj0DrQ4ur5PyYuICEBdOXz6L9i5EqoK2wbdIH6OWWUZfhW4q/zv6krqS/jbnr/xWsFr2A07Hm4e3DLyFh4Y/wBR/lFWh+cylLyIiGs7mW1WWXJfBVuTOeYXChPug8kLITTO0vCkd6htrmVl7kqe3f8sjbZGAK6KuYofTvohw0KGWRyd61HyIiKup6UR9r1q7ho6vbt9fGAyTPkuJN0KXn6WhSe9R4uthRfzX+Qfe/9BZVMlAMmRySxJWcKEqAkWR+e6lLyIiOuoPA67VsDuZ6Ghwhzz8IbEW831LIMmqTeLAGA37Lx77F3+d/f/crL2JABxwXE8NOkhroq5SgcnWkzJi4j0bXY7HPkQdiyH/HWAYY6HxEBKOkxMg4AIS0OU3mX7me08mf0k+8v3AxDhF8F/Jf8Xt4y4BU93/djsDfS3ICJ9U8NZc4vzzuVQcbh9fNgss8oSfy3oBF/5nLyKPP60+09sOWUe8xDgFUB6Yjr3jbkPfy9/i6OTz1PyIiJ9S1GOuZYl5yVoqTfHfILNLc6TF0HESGvjk17nTO0ZntrzFG8dfgsDA093T+6Iv4Pvjf8eYb5hVocnX0LJi4g4v9Zms13/zuVm+/5zosaYVZaxd4CPem9IR1VNVSzPWc6aA2totjcDcG3ctTw44UFigmMsjk6+jpIXEXFe1afbD0esLTbH3D1h9FyzN8uQy7UAV87TZGtizYE1PJPzDDXNNQBMGTCFH036EUkRSRZHJ52h5EVEnIthwLGPzd4sB/4Nhs0cDxwAkxaYf4IHWhmh9FI2u41/H/k3T+15iqK6IgBGho7kRxN/xBWDrtAOIiei5EVEnENTDXy21tw1VHqgfXzINHMty+i5oLNk5EsYhsFHpz5i2e5lHKo8BMCAgAEsTl7MDcNuwEMLt52OkhcR6d1K880qy57noa3Ej5c/jJtnrmfpn2htfNKr5Zbl8mT2k+ws2glAkHcQ94+9n7tH342Ph4/F0cmFUvIiIr2PrRXy3zF3DR3d1D4ePsJcy5J8F/iGWBef9Honqk/w50//zLvH3gXA292be0bfw8KxCwnx0feOs1PyIiK9R20p7F4FuzKh2uxqips7xF8HUxbB0Jk6HFG+VnlDOf/47B+8lPcSrUYrbrgxd/hcFicvZmCg1kL1FUpeRMRahgEnd5lTQ/teA5u5ZRX/cJg4H1IyoF+stTFKr1ffUs+z+58lc18mdS11AFwx6AoemvgQCWEJFkcn3U3Ji4hYo6UBcl42k5Yze9vHB00yD0ccczN4+VoWnjiHs41nWXNwDc8deI7q5moAEsMTWTJpCVMGTrE4OukpSl5E5NKqOGoejvjpamgwT+nFwwfG3mbuGho00dr4xCkU1xXzr/3/4qX8l2hobQDMgxO/n/x9vhX3LdzdNL3Ylyl5EZGeZ7fD4fWw459w6H0chyP2i4WUhTDhPggItzREcQ6F1YWszF3Jm4ffpMXeAsDosNEsGruIq2Ov1rZnF6HkRUR6Tn0F7HkOdq6AyqPt4yNmm7uGRl6jwxGlU/Iq8lies5z3jr+H3bADMKn/JO4fez+XR1+uBnMuRsmLiHS/M3vbDkd8GdpK+viGQPK9MHkhhA+3Nj5xGruLd7M8ZzkfnfrIMTZj8AwWjV1EclSydYGJpZS8iEj3aG2C/W+YScvJHe3j/ce2HY54G3gHWBefOA3DMNhyegvPfPYMu0t2A+Du5s6cuDksTFqo3UOi5EVELlLVSbMvy+5VUFdqjrl7wZibzKQlJlWHI0qn2Ow23i98n5U5KzlQYR4B4eXuxU0jbiI9MZ3YYG2ZF5OSFxHpOsOAo5vNbc4H324/HDEoGlLSYWIaBPW3NkZxGi22Ft468hYrc1dyvPo4AH6eftwRfwfzE+cT5R9lcYTS2yh5EZHOa6yGvS/AzuVQltc+HjfdrLIkfFuHI0qn1bfU88qhV8jal0VJfQkAIT4h3DPqHu4adRf9fPtZG6D0WkpeROSblRw0qyx7X4DmWnPMOxDG32n2ZokabW184lSqmqp4/uDzPHfgOc42nQUgyi+K+YnzuT3+dvy9/K0NUHo9JS8i8uVsrZD3H3MB7rH2nR5ExJvbnMffCb7B1sUnTqe0vpRn9z/L2ry11LfWAxATFENGUgY3Dr8Rbw9viyMUZ6HkRUQ6qiluPxyx5rQ55uYOo643k5ahV2oBrnTJiZoTZOZm8kbBGzTbzbOr4kPjWTR2EdcMuQZPd/0okq7Rd4yImAtwT2w3qyz734C2zqUERJqLb1PSIWSwtTGK08mvzGdFzgrWHVvnaCw3IWoCi8YuYvqg6WosJxdMyYuIK2uug5yXYMdyKM5pHx88pe1wxBvB08e6+MQp7S3dy/LPlrPx5EbH2LRB07h/7P1M6j/JusCkz1DyIuKKyg/DrpXw6bPQWGWOefqZjeSm3A8Dx1sbnzgdwzDYdnoby3OXs7NoJwBuuHHNkGtYNHYRo8O1qFu6j5IXEVdht0PBB+bhiAXvt4+Hxpk7hpLvAf8wy8IT52Q37KwvXM/ynOXsL98PgKe7JzcOv5H0xHTiQuKsDVD6JCUvIn1dQyV8+pzZm8VxOKKbeSji5PvNQxLd3S0NUZxPi72F/xz5DytzV3K0yvy+8vP04zsjv0NaYhoDAgZYHKH0ZUpeRPqqohyzyvLZSx0PR5xwH6Rk6HBEuSANrQ28euhVsvZlUVRXBECQdxB3j7qbe0bfQ6hvqMURiitQ8iLSl7Q2w8G3zF1Dhdvaxx2HI94O3moAJl1X3VzN2oNrWX1gNRWNFQCE+4aTlpjG7fG3E+gdaHGE4kqUvIj0BTVFkJ1l9mapNX8bxt0TRt9o7hqKnareLHJByhrKWL1/NWvz1lLbYnZXHhQ4iIykDG4acRM+HtqNJpeekhcRZ2UYUPiJOTV04E2wt5rjgf1hUjpMWgDBAy0NUZzXqdpTZOZm8nrB6zTZmgAY0W8EC8cu5Nq4a9VYTiyl7z4RZ9Nc39ab5ZmOvVliLzOnhkbNBU+1WZcLc/jsYVbkrODto29jazstfFzkOBYlLWJGzAzc3bS4W6yn5EXEWVQcgZ0rzu/NMu52c9fQwHHWxidOLac0h+U5y/nwxIeOscsGXsb94+4npX+KuuFKr6LkRaQ3s9vh8HpzaujQ+4Bhjqs3i3QDwzDYXrSd5TnL2X5mO2A2lrs69moWjV1EYkSixRGKfDklLyK9UUMl7FljTg05erMAI64xF+CqN4tcBLthZ8OJDazIWUFOmTn16OnmybeHfZuFSQsZ1m+YxRGKfD0lLyK9SVGOmbB89mJ7bxafEJhwL0xeqN4sclFa7C2sO7qOFTkrOFx1GAAfDx9HY7nowGiLIxTpHCUvIlaztcCBc71ZtraPRyWaC3DH3QHeAdbFJ06vsbWR1wteJ2tfFqdqTwEQ6BXInaPu5N7R9xLuF25xhCJdo+RFxCo1RZC9yjwgsUNvlrltvVkuU28WuSi1zbWszVvLs/ufpbyxHIAw3zDuG3Mf8xLmEeQdZHGEIhdGyYvIpWQYcGK7uQB3/xvtvVkCoiDlXG8Wle7l4pQ3lPPcged44eAL1LTUADAwYCDpSencMuIWfD19LY5Q5OIoeRG5FM71Ztn5jLmu5ZyYqebU0Ogb1ZtFLtqZ2jNk7cvi1UOv0mhrBGBYyDAWjl3IdUOvw8vdy+IIRbqHkheRnlRx1DzN+dPV0HjWHPP0Nc8YmnI/DBxvaXjSNxypOsLKnJX858h/aDXMal5SeBKLxi5iVuwsNZaTPkfJi0h3s9vh8IdtvVnew9Gbpd8QszfLhHvVm0W6xb7yfazIWcEHxz/AaPs+Sx2QysKxC5k6cKoay0mfpeRFpLs0nIU9z5mVlooj7eMjZn+uN4uHZeFJ32AYBruKd7E8ZzlbT7fvTpsVM4tFYxcxLlKdlqXvU/IicrGKcs21LJ+9CC315phPCEy4x6y0qDeLdAO7YWfzyc08k/MMn5V+BoCHmwfXDb2OjKQMRoaOtDhCkUtHyYvIhbC1wMF/m71Zjm9pH48aY65lGXsH+ARaF5/0Ga32Vt499i7Lc5ZTcLYAAG93b24ZeQsLEhcwOGiwxRGKXHpKXkS6oqYYsrMgOxNqzphjbh7tvVmGXK7eLNItmmxNvFHwBpm5mZysPQlAgFcA8xLmcd+Y+4jwi7A4QhHrKHkR+SaGASd2fK43S4s5HhAJk9LN/izqzSLdpK6ljpfyXmLV/lWUNZQBEOoTyj2j7+HOUXcS4hNicYQi1lPyIvJVmush92Vzaqjos/bxwVPMKsuYG8HTx7r4pE+pbKzkuQPP8fzB56lurgagv39/R2M5fy9/iyMU6T2UvIh8UcVR2LUCdj/7hd4st8Hk+yE62cropI8pqiti1b5VvHLoFRraDuOMC44jIymDG4bdgJeHGsuJfJGSFxEwe7Mc+dCssuS/S3tvlti23iz3qTeLdKvj1cdZmbuSNw+/SWvbMRGjw0azaOwiro69Gg9tqxf5SkpexLU1nIU9a8ytzp/vzTL8anPX0MhvqTeLdKuDFQdZnrOc94+/j92wA5DSP4VFYxdxefTlaiwn0glKXsQ1Fe8zqyyfrf1cb5ZgSG7rzRIxwtr4pM/JLs5mec5yPj71sWNsxuAZLBq7iOSoZOsCE3FCSl7Eddha4OB/2nqztP8AIXK0WWUZN0+9WaRbGYbBR6c+YkXOCnaX7AbA3c2dOXFzWJi0kISwBIsjFHFOvS55ycvLY968eR0+fv7557n55putC0qcW00x7F4Fu1Z+oTfLDeYC3Lgr1JtFulWLvYV1R9exMnelo7Gcl7sXN424ifTEdGKDYy2OUMS59brkJSEhgT179gBQW1tLXFwc11xzjbVBifMxDDi50+zNsu/1L/RmWWD2ZwkZZGWE0gfVt9TzWsFrrNq3ijN1ZqLs7+nP7fG3Mz9xPlH+URZHKNI39Lrk5fPefPNNrr76agICAqwORZxFSwPkvGwmLR16s0xu681yk3qzSLc723iW5w8+z5qDazjbdBaAMN8w7h19L3ck3KHGciLdrMvJy+bNm3n88cfJzs7mzJkzvPbaa+dN6fz1r3/l8ccfp6ioiPHjx/OXv/yFKVOmdDm4F198kfnz53f5ceKCKo/BzhXw6bPQUGmOefjA2NthyiKInmBpeNI3nak9w7/2/6tDj5bBgYNZkLiAm0bchK+nr8URivRNXU5e6urqGD9+PBkZGdx6663nXV+7di1Llizh6aefJjU1lWXLljFnzhzy8vKIijJLpsnJybS2tp732Pfee4/oaLPNenV1NVu3buWFF17oaojiKux2OLKhrTfLOhy9WUJiYfJCszdLQLilIUrfdKjyEJm5mbxz9B1aDfO9bFTYKBYmLWT2kNl4uvfqoraI03MzDMO44Ae7uZ1XeUlNTWXy5Mk89dRTANjtdmJiYvjBD37Aww8/3OnnfvbZZ3n33XdZvXr1197X1NREU1OT4+Pq6mpiYmKoqqoiODi4a5+QOIfGKrM3y45noOJw+/iwWebUUPwc9WaRHrG7eDcrc1ey6eQmx1jqgFQykjK4LPoy9WgRuQjV1dWEhIR06ud3t/560NzcTHZ2No888ohjzN3dndmzZ7Nt27YuPdeLL77Id7/73W+873e/+x2/+tWvuhyrOKHi/WYzub1roaXOHPMOggnnerOMtDY+6ZPshp3NJzezMncln5Z8CoAbbsweMpuMpAySIpIsjlDE9XRr8lJWVobNZqN///4dxvv378/Bgwc7/TxVVVXs2LGDV1555RvvfeSRR1iyZInj43OVF+kjzvVm2bkcjn3UPh456nO9WYKsi0/6rBZ7C+8cfYfM3MwO251vHH4jCxIXEBcSZ22AIi6sV07MhoSEUFxc3Kl7fXx88PHR7pE+p7YEss/1Zjltjrl5wKjrzakh9WaRHlLfUs8rh17hX/v/RVFdEQABXgHckXAH946+V9udRXqBbk1eIiIi8PDwOC/xKC4uZsCAAd35UtIXGQac3NXWm+W19t4s/hFmb5aUdAgZbGmI0ndVNlay5uAanj/4PFVNVQCE+4Zz7xhzu3Owt9bQifQW3Zq8eHt7M2nSJNavX+9YxGu321m/fj2LFy/uzpeSvqSlEXJfMZOWM3vaxwelmFWWxJvVm0V6zOna06zat4pXD71Ko60RgJigGNKT0rlx+I34eOh7T6S36XLyUltbS0FBgePjo0ePsmfPHsLCwoiNjWXJkiWkpaWRkpLClClTWLZsGXV1daSnp3dr4NIHnC00p4WyV0FDhTnm4QNJ3zF7swyaZG180qflVeSRuS+TdUfXYTNsAIwOG83CsQuZHTsbD+1YE+m1upy87Nq1i1mzZjk+PrdYNi0tjaysLObNm0dpaSm/+MUvKCoqIjk5mXXr1p23iFdclGHA0U3mNue8t8Gwm+PBg83eLBPnQ0CEtTFKn2UYBtnF2azMXclHp9oXgE8dOJWMpAymDpyq7c4iTuCi+rz0Rl3ZJy6XUFMN7H3BTFrK8trHh17Z1pvlOvDolevHpQ+wG3Y2ntjIitwVfFZqHhvh7ubO7NjZZIzNIDE80doARcS6Pi8i5yk7ZCYse9ZAc4055hUAyXeZJzpHjbI2PunTWmwt/Ofof8jMzeRI1REAvN29uWnETSxIXKDTnUWclJIX6X52Gxx6z1yAe/jD9vGw4WaVJfku8NVBddJz6lrqeDn/ZZ7d/yzF9ebux0CvQOYlzOPeMfcS4aepSRFnpuRFuk99hXkw4s7l5mJcANwg/lqzodywWeDubmmI0reVN5Q7tjvXtFX6Iv0iuXfMvdwefztB3mpoKNIXKHmRi3fmM7PKkvMStJpbTfHtBxPvM9v2h8ZZGZ24gJM1J8nal8XrBa/TZDPPOosLjmNB4gLmDp+Lt4e3xRGKSHdS8iIXprUZDrxprmc58Un7eP+xkPpdSLoNvP2ti09cQl5FHityV/Desfcc252TwpPIGJvBVTFXabuzSB+l5EW6pqYIsrNgVybUmq3TcfeE0Tea61lip6ptv/QowzDYVbyLFbkr2HJqi2P88ujLyUjKYMqAKdruLNLHKXmRb2YYcGIH7PgH7H8D7K3meGB/mJRutu4PHmhpiNL32Q07Gwo3sCJ3BTllOYC53XnOkDmkJ6UzOny0xRGKyKWi5EW+WksD5Lxsrmcp+qx9PCbVrLKMvhE8tZZAelazrZl/H/k3mbmZHKs+BoCPhw83j7iZtDFpxATrFHkRV6PkRc5XedzcMfTps9BQaY55+sLY28zeLNHJloYnrqG2udax3bmkoQSAIO8g7ky4k7tH363tziIuTMmLmAwDjmxoa9v/DtDWeLlfrLljaMJ94B9maYjiGsoaynjuwHOsPbiWmhZzu3OUXxTzE+dzW/xtBHgFWByhiFhNyYura6yGvc+bSUv5ofbxYbPa2vbPAe3YkEvgRPUJx3bnZnszYG53zkjK4Pph12u7s4g4KHlxVaV5ZsKy93lorjXHvAMh+W5zaigy3tr4xGUcKD/AytyVvHf8PextB3WOixhHxtgMZsXMwt1NjQ1FpCMlL67EboP8dbD9H+bJzudExJtVlnHzwFeHWUrPMwyDHUU7WJm7kq2ntzrGpw2axsKkhaT0T9F2ZxH5SkpeXEFdOXz6L9i5Eqra2va7uZsnOad+F4bOUG8WuSRsdhvrC9ezMncl+8r3AeZ252vjriUjKYOEsASLIxQRZ6DkpS87vaetbf/L0NYyHb9QmJgGKRkQOsTS8MR1NNuaefPwm2Tty+J49XHA3O58y4hbSEtMY3DQYIsjFBFnouSlr2ltNhvJ7fgnnNzRPj5wPEz5HiTdCl5+1sUnLqWmuYaX8l/i2f3PUtZQBkCwdzB3jbqLu0ffTZivdrCJSNcpeekrqs9AdqbZtr/O7ImBuxck3myuZxk8WVNDcsmU1pey+sBqXsx7kdoWc0F4f//+zB9jbnf299K5VyJy4ZS8ODPDgMJtZpXlwFvtbfuDBprTQhPTIKi/tTGKSzlefZysfVm8UfAGLfYWAIaFDCM9KZ3rh16Pl4eXxRGKSF+g5MUZNddDzkvmVufinPbx2Mthyv0wei7oh4RcQvvK9rEidwUfHP8Ao63B4fjI8WQkZTAzZqa2O4tIt1Ly4kwqjra37W+sMsc8/WDc7ebU0ICx1sYnLsUwDD458wkrclew/cx2x/iVg68kIymDiVETtd1ZRHqEkpfezm6HIx/C9n/Cofdob9s/xKyyJN+jtv1ySdnsNt4vfJ+VOSs5UHEAAA83D64beh3pSenEh6rBoYj0LCUvvVVjFexZY04NVRxuHx9+NaR+D0bMVtt+uaSabE28UfAGWfuyOFFzAgBfD19uHXkr8xPnMyhwkMURioirUPLS25QcaGvb/wK01JljPsFmhWXyIogYYW184nKqm6t5Me9FVu9fTXljOQAhPiHcPepu7hp1F6G+oRZHKCKuRslLb2Brhby3zV1Dxz5qH48cbU4NjZsHPoHWxScuqaS+hNX7V/Ni/ovUtSXSAwIGkDYmjVtH3qrtziJiGSUvVqorg92rzLb91SfNMTd3GHW9uQA3brp6s8gld6zqGFn7snjz8JuO7c4j+o0gPSmd64Zeh5e7drKJiLWUvFjhVLY5NZT7CtiazTH/cJi0ACalQ78YS8MT15RTmsPK3JWsL1zv2O48IWoCC5MWMn3wdG13FpFeQ8nLpdLaBPteN6eGTu1qH4+eYLbtT7wFvHwtC09ck2EYbD29lZW5K9lR1H6cxMzBM8kYm8GEqAkWRici8uWUvPS0qlOwayVkZ0G9ebYLHt5msjLlezB4kqXhiWtqtbfy/vH3WZm7koMVBwHwdPPk28O+TXpiOiNCtTBcRHovJS89wTDg+Ja2tv3/BsNmjgdFw+S2tv2BUdbGKC6pobWB1wteZ9W+VZyqPQWAn6cf3xn5HeaPmc/AwIEWRygi8s2UvHSn5jr4bK25nqVkf/t43HRz11DC9eChL7lcemcbz/J83vM8f+B5KpsqAQj1CeWu0XdxV8Jd9PPtZ22AIiJdoJ+k3aH8MOxcAZ+uhqa2tv1e/uYW5yn3Q/9Ea+MTl3W69jT/2v8vXj30Kg2tDQAMChxEWmIaN4+4GT9PP4sjFBHpOiUvF8puh4IPzKmhgvfbx8OGweT7Iflu8OtnWXji2vIq8sjcl8m6o+uwtU1bjg4bTXpSOtcMuQZPd/3TFxHnpXewrmo4C3ueM6eGKo+2DbrByGvM3izDrwZ3bSmVS88wDHYW7WRl7kq2nN7iGJ86cCrpSelcNvAyHZQoIn2CkpfOKs2DT/4Gn70ILfXmmE8ITLwPUjIgfLi18YnLstltrC9cT2ZuJrnluQC4u7nzrSHfYkHSAhLDNW0pIn2LkpfOOvaRud0ZICqxrW3/HeAdYGlY4rrOHZS4at8qCmsKAfDx8OHmETeTNiaNmGA1OxSRvknJS2eNuxNO7DC3OQ+5XG37xTJVTVXmQYkHVlPRWAFAsHcwd426i7tG3UW4X7jFEYqI9CwlL53lEwi3/tPqKMSFFdUV8ez+Z3k5/2XqW82py4EBA5k/Zr4OShQRl6LkRaSXK6gsIHNfJm8feZtWoxWAkaEjSU9M59qh1+qgRBFxOUpeRHohwzDYXbKbzNxMNp3c5BifPGAy6YnpXDHoCu0cEhGXpeRFpBexG3Y2nNhAZm4me0v3AuCGG7OHzGZB4gLGRY6zOEIREespeRHpBZptzfz7yL/JzM3kWPUxALzcvbhpxE2kjUkjLiTO0vhERHoTJS8iFqppruGl/JdYvX81pQ2lAAR5BTFv1DzuGX0PEX4RFkcoItL7KHkRsUBpfSnPHniWl/JeoralFoAo/yjmj5nPd0Z+h0DvQIsjFBHpvZS8iFxCR6qOsGrfKt46/BYt9hYAhoUMIz0pneuHXo+Xh3YOiYh8EyUvIpfAnpI9ZOZmsuHEBgwMACZETSAjKYMrB1+Ju5vOwxIR6SwlLyI9xG7Y+ejkR6zMXcnukt2O8ZkxM8lIymBC1AQLoxMRcV5KXkS6WYuthbePvk3WviwKzhYA4Onuydxhc1mQuIBh/YZZHKGIiHNT8iLSTepa6ng5/2We3f8sxfXFAAR4BXBH/B3cM/oe+gf0tzhCEZG+QcmLyEUqayhjzYE1vJD3AjXNNQBE+EVw7+h7uT3hdoK9gy2OUESkb1HyInKBCqsLydqXxRsFb9BsbwYgLjiOBYkLuGH4Dfh4+FgcoYhI36TkRaSLcstyWZm7kg+Of+DYOTQuYhwZSRnMjJmJh7uHxRGKiPRtSl5EOsEwDLac3kJmbiY7inY4xq8cfCXpielM6j9JByWKiFwiSl5EvkarvZV1x9aRmZtJfmU+AJ5unnx72LdJS0wjPjTe4ghFRFyPkheRL1HfUs9rBa/xr33/4nTdaQD8PP24Lf427ht9HwMDB1ocoYiI61LyIvI5lY2VrDm4hucPPk9VUxUAYb5h3DP6HuYlzCPEJ8TiCEVERMmLCHCy5iSr9q3i9YLXabQ1AhATFMOCxAXcOPxGfD19LY5QRETOUfIiLu1A+QEyczN59/i72A07AGPCx5CRlMHs2NnaOSQi0gspeRGXYxgG24u2szJnJdvObHOMT4ueRnpSOlMGTNHOIRGRXkzJi7iMVnsrHxR+QGZuJvvL9wPg4ebBnLg5pCelMypslMURiohIZyh5kT6vsbWRNwreIGtfFidrTwLg6+HLLSNvYf6Y+QwOGmxxhCIi0hVKXqTPqmqq4oWDL7Dm4BoqGisA6OfTj7tG3cVdo+4i1DfU4ghFRORCKHmRPudM7Rn+tf9fvHLoFRpaGwCIDohmfuJ8bhlxC/5e/hZHKCIiF0PJi/QZ+ZX5ZOZm8s7Rd7AZNgASQhPISMrgW3HfwtNd3+4iIn2B3s3FqRmGwa7iXazMXcnHpz52jKcOSCUjKYPLoi/TziERkT5GyYs4JZvdxoYTG1iZu5KcshwA3N3cmR07m4ykDBIjEi2OUEREeoqSF3EqTbYm3jr8Fqv2reJY9TEAvN29uXnEzaQlphEbHGttgCIi0uOUvIhTqG6u5sW8F3nuwHOUNZQBEOQdxJ0Jd3L36LuJ8IuwOEIREblUlLxIr1ZcV8zqA6t5Kf8l6lrqABgQMID5Y+Zz68hbCfAKsDhCERG51JS8SK90+OxhMnMz+c/R/9BqbwVgRL8RZCRlcO3Qa/Fy97I4QhERsYqSF+lVPi35lJU5K9l4cqNjbFL/SWQkZTB90HTtHBIRESUvYj27YWfjiY1k5mayp3QPAG64cVXsVaQnpTM+cryl8YmISO/SK5OXJ554gszMTNzc3Hj44Ye59957rQ5JekCzrZl/H/k3mbmZjp1DXu5e3Dj8RtIS0xgaMtTaAEVEpFfqdclLTk4Oa9asITs7G8MwmDVrFjfccAP9+vWzOjTpJjXNNY6dQ6UNpQAEeQUxb9Q87h51N5H+kRZHKCIivVmvS14OHDjAZZddhq+vLwDjx49n3bp13HnnnRZHJheruK6Y5w48x4v5Lzp2DkX5RzF/zHxui79NO4dERKRT3Lv6gM2bNzN37lyio6Nxc3Pj9ddfP++ev/71r8TFxeHr60tqaio7duzo9PMnJSWxceNGzp49S2VlJRs3buTUqVNdDVN6kcNnD/M/W/6Ha1+9lsx9mdS11DGi3wh+M+03rLt1HWmJaUpcRESk07pceamrq2P8+PFkZGRw6623nnd97dq1LFmyhKeffprU1FSWLVvGnDlzyMvLIyoqCoDk5GRaW1vPe+x7773HmDFjePDBB7nqqqsICQlh6tSpeHh4XMCnJlYyDINPSz4lMzfzS3cOXTHoCtzdupw7i4iI4GYYhnHBD3Zz47XXXuPmm292jKWmpjJ58mSeeuopAOx2OzExMfzgBz/g4Ycf7vJrLFq0iFtuuYXrr7/+S683NTXR1NTk+Li6upqYmBiqqqoIDg7u8uvJxbEbdjac2EBmbiZ7S/cC5s6hq2OvZkHSAu0cEhGRL1VdXU1ISEinfn5365qX5uZmsrOzeeSRRxxj7u7uzJ49m23btnX6eUpKSoiKiiIvL48dO3bw9NNPf+W9v/vd7/jVr351UXHLxWu2NfPW4bfI2pfV4cyhG0fcSNqYNOJC4iyNT0RE+o5uTV7Kysqw2Wz079+/w3j//v05ePBgp5/npptuoqqqioCAADIzM/H0/OowH3nkEZYsWeL4+FzlRS4NnTkkIiKXWq/bbQR0qUrj4+ODj49PD0YjX6aorojnDjzX4cyh/v79mT9mPt+J/44W4IqISI/p1uQlIiICDw8PiouLO4wXFxczYMCA7nwpsUhBZQFZ+7LOO3MoPSmd6+Kuw8tDZw6JiEjP6tbkxdvbm0mTJrF+/XrHIl673c769etZvHhxd76UXEKGYbC7ZDeZuZlsOrnJMZ7SP4X0pHSdOSQiIpdUl5OX2tpaCgoKHB8fPXqUPXv2EBYWRmxsLEuWLCEtLY2UlBSmTJnCsmXLqKurIz09vVsDl55nN+xsKNzAyn0r+az0M8DcOTR7yGwWJC5gXOQ4iyMUERFX1OXkZdeuXcyaNcvx8bnFsmlpaWRlZTFv3jxKS0v5xS9+QVFREcnJyaxbt+68RbzSezXZmnjr8Fus2reqw86hm0bcRFpiGkOCh1gboIiIuLSL6vPSG3Vln7h0pJ1DIiJiFcv6vIhzKqorYvX+1byU/xL1rfWAdg6JiEjvpeTFhR2qPETWvizePvI2rUb7zqGMpAyuHXotXu7aOSQiIr2PkhcXYxgG2cXZZO7LZPPJzY7xyQMmk56YzhWDrtDOIRER6dWUvLgIm93mOHPos7KOO4fSE9MZGznW4ghFREQ6R8lLH9dka+LNw2+yat8qjlcfB8ydQzePuJn5ifO1c0hERJyOkpc+qqqpipfyX2L1/tWUN5YDEOwdzJ2j7uSuUXdp55CIiDgtJS99TFFdEc/uf5aX81927BwaEDDA3Dk08jv4e/lbHKGIiMjFUfLSR3zZzqGRoSNJT0zXziEREelTlLw4McMw2FW8i8zcTD469ZFjfPKAyWQkZTAtepp2DomISJ+j5MUJ2ew2PjzxIZm5meSU5QDaOSQiIq5DyYsT+bqdQ2mJacQGx1ocoYiISM9T8uIEqpqqeDHvRVYfWE1FYwWgnUMiIuK6lLz0Ymdqz/DsAXPnUENrAwADAwYyf8x8bh15q3YOiYiIS1Ly0gvlV+aTlZvFO0ffcewcig+NJz0pnTlxc7RzSEREXJqSl17i3M6hlbkr+fjUx47xKQOmkJGUweXRl2vnkIiICEpeLGez21hfuJ7M3Exyy3MBcHdzZ3bsbNKT0kmKSLI4QhERkd5FyYtFGlsbefPwm2Tty+JEzQkAfDx8zDOHxszXziEREZGvoOTlEqtqquKFgy+w5uCaDjuH7hp1F3eNuotwv3CLIxQREendlLxcImdqz/Cv/f/ilUOvdNg5lJaYxi0jbtHOIRERkU5S8tLD8iryyNpn7hyyGTYAEkITSE9K51tx39LOIRERkS5S8tIDDMNgZ9FOVu5byZZTWxzjqQNSSU9K184hERGRi6DkpRvZ7DY+KPyAzNxM9pXvA8ydQ9cMuYb0xHQSIxItjlBERMT5KXnpBo2tjbxR8Aar9q86b+dQ2pg0YoJjLI5QRESk71DychHONp7lhbwXeP7g846dQyE+IY6dQ2G+YRZHKCIi0vcoebkAp2tP8+z+ZzvsHIoOiGZ+4nztHBIREelhSl66IK8ij8x9maw7uq7DzqGMpAy+FfctPN315RQREelp+mnbSav2reKJXU84Pk4dmEpGYgaXRV+mnUMiIiKXkJKXTpoWPY0/uf2Ja4Zcw4KkBSSGa+eQiIiIFZS8dNKI0BF8cPsHRPhFWB2KiIiIS3O3OgBnosRFRETEekpeRERExKkoeRERERGnouRFREREnIqSFxEREXEqSl5ERETEqSh5EREREaei5EVEREScipIXERERcSpKXkRERMSpKHkRERERp6LkRURERJyKkhcRERFxKkpeRERExKl4Wh1AdzMMA4Dq6mqLIxEREZHOOvdz+9zP8a/T55KXmpoaAGJiYiyORERERLqqpqaGkJCQr73HzehMiuNE7HY7p0+fJigoCDc3t6+9d/LkyezcubNLz19dXU1MTAwnTpwgODj4YkKVb3Ahfz+9XW/8nKyIqadfs7ufvzue72Kfo6uP13vVpdUb/21fDCs+H8MwqKmpITo6Gnf3r1/V0ucqL+7u7gwePLhT93p4eFzwP+rg4GC9IfSwi/n76a164+dkRUw9/Zrd/fzd8XwX+xwX+ni9V10avfHf9sWw6vP5porLOS69YPf73/++1SHI1+iLfz+98XOyIqaefs3ufv7ueL6LfY7e+L0j7fra309v/3z63LRRT6uuriYkJISqqqo+lWWLSN+i9yrpy1y68nIhfHx8+OUvf4mPj4/VoYiIfCW9V0lfpsqLiIiIOBVVXkRERMSpKHkRERERp6LkRURERJyKkhcRERFxKkpeesiJEyeYOXMmY8aMYdy4cbz00ktWhyQi8pVuueUWQkNDue2226wOReQbabdRDzlz5gzFxcUkJydTVFTEpEmTyM/PJyAgwOrQRETOs3HjRmpqali1ahUvv/yy1eGIfC1VXnrIwIEDSU5OBmDAgAFERERQUVFhbVAiIl9h5syZBAUFWR2GSKe4bPKyefNm5s6dS3R0NG5ubrz++uvn3fPXv/6VuLg4fH19SU1NZceOHRf0WtnZ2dhsNp10LSIX5FK+X4k4A5dNXurq6hg/fjx//etfv/T62rVrWbJkCb/85S/ZvXs348ePZ86cOZSUlDjuSU5OJikp6bw/p0+fdtxTUVHB/Pnz+ec//9njn5OI9E2X6v1KxFlozQvg5ubGa6+9xs033+wYS01NZfLkyTz11FMA2O12YmJi+MEPfsDDDz/cqedtamrimmuu4f777+e+++7ridBFxMX01PsVmOtennrqKa15kV7PZSsvX6e5uZns7Gxmz57tGHN3d2f27Nls27atU89hGAYLFizgqquuUuIiIj2mO96vRJyNkpcvUVZWhs1mo3///h3G+/fvT1FRUaeeY8uWLaxdu5bXX3+d5ORkkpOTycnJ6YlwRcSFdcf7FcDs2bO5/fbbefvttxk8eLASH+nVPK0OoK+64oorsNvtVochItIpH3zwgdUhiHSaKi9fIiIiAg8PD4qLizuMFxcXM2DAAIuiEhE5n96vxBUpefkS3t7eTJo0ifXr1zvG7HY769ev57LLLrMwMhGRjvR+Ja7IZaeNamtrKSgocHx89OhR9uzZQ1hYGLGxsSxZsoS0tDRSUlKYMmUKy5Yto66ujvT0dAujFhFXpPcrkS8wXNSGDRsM4Lw/aWlpjnv+8pe/GLGxsYa3t7cxZcoU45NPPrEuYBFxWXq/EulIfV5ERETEqWjNi4iIiDgVJS8iIiLiVJS8iIiIiFNR8iIiIiJORcmLiIiIOBUlLyIiIuJUlLyIiIiIU1HyIiIiIk5FyYuIiIg4FSUvIiIi4lSUvIiIiIhTUfIiIiIiTkXJi4iIiDiV/w9tflimQFhsNwAAAABJRU5ErkJggg==\n",
      "text/plain": [
       "<Figure size 640x480 with 1 Axes>"
      ]
     },
     "metadata": {},
     "output_type": "display_data"
    }
   ],
   "source": [
    "plt.loglog(h1,err_u1, label='order 1')\n",
    "plt.loglog(h2,err_u2, label='order 2')\n",
    "plt.loglog(h3,err_u3, label='order 3')\n",
    "plt.legend()\n",
    "plt.title(r'$\\alpha=2.25$')\n",
    "plt.show()"
   ]
  },
  {
   "cell_type": "code",
   "execution_count": 12,
   "id": "09fc79c0",
   "metadata": {},
   "outputs": [
    {
     "name": "stdout",
     "output_type": "stream",
     "text": [
      "[2.40936059 1.89544989 1.93069136 1.95498234 1.96949487]\n",
      "[3.13381537 2.29458636 2.29678713 2.2692992  2.25732978]\n",
      "[3.48707707 2.2721881  2.25326186 2.25032716 2.25002906]\n"
     ]
    }
   ],
   "source": [
    "alpha = 1.25\n",
    "h1, err_u1, rate1, gfu1 = Convergence_Test_alpha(nmeshes=6, alpha=alpha, order = 1)\n",
    "h2, err_u2, rate2, gfu2 = Convergence_Test_alpha(nmeshes=6, alpha=alpha, order = 2)\n",
    "h3, err_u3, rate3, gfu3 = Convergence_Test_alpha(nmeshes=6, alpha=alpha, order = 3)\n",
    "print(rate1)\n",
    "print(rate2)\n",
    "print(rate3)"
   ]
  },
  {
   "cell_type": "code",
   "execution_count": 13,
   "id": "be1fe9c7",
   "metadata": {},
   "outputs": [
    {
     "data": {
      "image/png": "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\n",
      "text/plain": [
       "<Figure size 640x480 with 1 Axes>"
      ]
     },
     "metadata": {},
     "output_type": "display_data"
    }
   ],
   "source": [
    "plt.loglog(h1,err_u1, label='order 1')\n",
    "plt.loglog(h2,err_u2, label='order 2')\n",
    "plt.loglog(h3,err_u3, label='order 3')\n",
    "plt.legend()\n",
    "plt.title(r'$\\alpha=1.25$')\n",
    "plt.show()"
   ]
  },
  {
   "cell_type": "code",
   "execution_count": 14,
   "id": "09a3aaab",
   "metadata": {},
   "outputs": [
    {
     "name": "stdout",
     "output_type": "stream",
     "text": [
      "[1.57588711 1.17440161 1.22495976 1.24142962 1.24677201]\n",
      "[1.66905892 1.25289857 1.25039102 1.2500121  1.24999731]\n",
      "[1.57569449 1.24974467 1.24994063 1.24998291 1.24999563]\n"
     ]
    }
   ],
   "source": [
    "alpha = 0.25\n",
    "h1, err_u1, rate1, gfu1 = Convergence_Test_alpha(nmeshes=6, alpha=alpha, order = 1)\n",
    "h2, err_u2, rate2, gfu2 = Convergence_Test_alpha(nmeshes=6, alpha=alpha, order = 2)\n",
    "h3, err_u3, rate3, gfu3 = Convergence_Test_alpha(nmeshes=6, alpha=alpha, order = 3)\n",
    "print(rate1)\n",
    "print(rate2)\n",
    "print(rate3)"
   ]
  },
  {
   "cell_type": "code",
   "execution_count": 15,
   "id": "e516f5cb",
   "metadata": {},
   "outputs": [
    {
     "data": {
      "image/png": "iVBORw0KGgoAAAANSUhEUgAAAi8AAAG4CAYAAACNXwciAAAAOXRFWHRTb2Z0d2FyZQBNYXRwbG90bGliIHZlcnNpb24zLjUuMywgaHR0cHM6Ly9tYXRwbG90bGliLm9yZy/NK7nSAAAACXBIWXMAAA9hAAAPYQGoP6dpAABjOElEQVR4nO3dd3hUdf638Ts9IQmBEEISCCWFDgk1IL246ioWxLYqCCgSBHQRdrGv/uzlWSyRLqDo6lpAXbsgvYP0mgKhJfRU0mbO88eEwUjQVE5m8n5dF9flnEz5DMjMzfecOeNiGIaBiIiIiINwNXsAERERkfJQvIiIiIhDUbyIiIiIQ1G8iIiIiENRvIiIiIhDUbyIiIiIQ1G8iIiIiENRvIiIiIhDUbyIiIiIQ1G8iIiIiENRvIiIQ8nPz+ef//wnYWFh+Pj4EBcXx08//fSnt9u4cSPjx4+nXbt2+Pr60rRpU26//Xb2799f4nrLli3DxcWl1F/r1q2rrqclIuXgbvYAIiLlcd999/HZZ5/xyCOPEB0dzfz58/nrX//KL7/8Qu/evS97u1deeYXVq1dz22230bFjR9LS0njnnXfo3Lkz69ato3379iWuP3HiRLp161ZiW1RUVLU8JxEpHxd9MaOIOIoNGzYQFxfHa6+9xuTJkwHIy8ujffv2BAcHs2bNmsveds2aNXTt2hVPT0/7tgMHDtChQweGDRvGwoULAdvKy4ABA/j0008ZNmxY9T4hEakQ7TYSkQr55JNP6Ny5Mz4+PrRp04aff/4ZwzBo164dL7zwQrU85meffYabmxtjxoyxb/P29mb06NGsXbuWw4cPX/a2V111VYlwAYiOjqZdu3bs2bOn1NtkZWVRVFRUNcOLSJVRvIhIuT355JPceeedxMTE8Prrr2OxWBg+fDjffvstR44cYfz48ZfcprCwkFOnTpXpl9VqLfVxf/31V1q2bEndunVLbO/evTsAW7duLdfzMAyD9PR0goKCLvnZyJEjqVu3Lt7e3gwYMIBNmzaV675FpPromBcRKZeVK1fywgsv8M9//pOXX34ZgJCQEIYNG8bUqVOJj48nICDgktutXr2aAQMGlOkxUlJSaN68+SXbjx8/Tmho6CXbL2w7duxYOZ4JfPjhhxw9epTnnnvOvs3T05Nbb72Vv/71rwQFBbF7925ef/11+vTpw5o1a+jUqVO5HkNEqp6OeRGRchk2bBhLly4lNTUVPz8/ADZv3kzXrl3x9vbm4MGDNGrU6JLbnT17ls2bN5fpMXr37o23t/cl2yMjI2nVqhXffvttie3JyclERkby73//m0ceeaRMj7F3717i4uJo164dK1euxM3N7bLXTUxMpGPHjvTt25fvv/++TPcvItVHKy8iUmYWi4Uff/yRIUOG2MPlt0aOHFlquADUr1+fwYMHV+rxfXx8yM/Pv2R7Xl6e/edlkZaWxvXXX09AQID9OJo/EhUVxU033cQXX3yBxWL50+uLSPVSvIhImSUnJ5OVlUXnzp1LbD958iQADz300GVvW1BQwJkzZ8r0OA0bNiw1EEJDQzl69Ogl248fPw5AWFjYn953RkYG1113HefOnWPlypVlug1AeHg4BQUF5OTkXHLMjYhcWYoXESmzC5Hy+wNcX3rppVK3/9aaNWsqfcxLbGwsv/zyC5mZmSUCYv369faf/5G8vDyGDBnC/v37+fnnn2nbtm2Z5gFbuHl7e5e64iQiV5biRUTK7MKBuDt37rRv++ijj1ixYgVwcfdNaWJiYsp0JlywHQBcmmHDhvH6668za9Ys+3le8vPzmTdvHnFxcYSHhwOQm5tLamoqQUFB9qCyWCzccccdrF27li+//JKePXuW+hgnT56kYcOGJbZt27aNr776iuuuuw5XV31IU8RsOmBXRMrMarUSFRXF0aNHmTp1Kq6urrz88svceOON/Pe//+W+++5j0qRJdOjQodpmuP3221m0aBF///vfiYqKYsGCBWzYsIElS5bQt29f4OKJ5p555hn+9a9/AfDII4/w5ptvMmTIEG6//fZL7veee+4BYODAgfj4+HDVVVcRHBzM7t27mTVrFh4eHqxdu5Y2bdpU23MTkTIyRETK4ddffzV69OhheHl5GfXr1zeeeOIJw2q1GqNGjTLc3d2N+fPnV+vjnz9/3pg8ebIREhJieHl5Gd26dTO+//77Etf55ZdfDMB45pln7Nv69etnAJf9dcGbb75pdO/e3QgMDDTc3d2N0NBQ45577jEOHDhQrc9LRMpOKy8iIiLiULTzVkRERByK4kVEREQciuJFREREHIriRURERByK4kVEREQciuJFREREHIrTnWHXarVy7Ngx/P39cXFxMXscERERKQPDMMjKyiIsLOxPz2TtdPFy7Ngx+ynCRURExLEcPnyYJk2a/OF1nC5e/P39AduT1ze/ioiIOIbMzEzCw8Pt7+N/xOni5cKuorp16ypeREREHExZDvnQAbsiIiLiUBQvIiIi4lAULyIiIuJQnO6Yl7KyWCwUFhaaPUat5uHhgZubm9ljiIiIg6l18WIYBmlpaZw7d87sUQSoV68eISEhOiePiIiUWa2LlwvhEhwcTJ06dfSmaRLDMMjNzeXEiRMAhIaGmjyRiIg4iloVLxaLxR4uDRo0MHucWs/HxweAEydOEBwcrF1IIiJSJrXqgN0Lx7jUqVPH5Enkggt/Fjr+SEREyqpWxcsF2lVUc+jPQkREyqtWxouIiIg4LsVLLdS/f38eeeQRs8cQERGpEMWLVKmJEyfSpUsXvLy8iI2NNXscERFxQooXJ2UYBkVFRdVy3xaLBavVetmfjxo1ijvuuKNaHltERMy1Nuk06Zl5ps6geHEQ+fn5TJw4keDgYLy9venduzcbN260/3zZsmW4uLjw3Xff2Vc+Vq1aRU5ODsOHD8fPz4/Q0FDeeOONUu978uTJNG7cGF9fX+Li4li2bJn95/Pnz6devXp89dVXtG3bFi8vL1JTU0ud86233uKhhx4iIiKiyn8PRETEPGdzCpj86Tbumr2OZ7/eZeosteo8L6UxDIPzhZYr/rg+Hm7l+qTNP/7xDz7//HMWLFhAs2bNePXVV7nmmmtITEwkMDDQfr2pU6fy+uuvExERQf369ZkyZQrLly/nyy+/JDg4mMcff5wtW7aU2KUzfvx4du/ezccff0xYWBiLFi3i2muvZceOHURHRwOQm5vLK6+8wpw5c2jQoAHBwcFV9nshIiI1l2EYLPr1KM9/s4czOQW4uECgrydFFivubuasgdT6eDlfaKHt0z9c8cfd/dw11PEs229/Tk4O06dPZ/78+Vx33XUAzJ49m59++om5c+cyZcoU+3Wfe+45rr76agCys7OZO3cuCxcuZNCgQQAsWLCAJk2a2K+fmprKvHnzSE1NJSwsDIDJkyfz/fffM2/ePF588UXAdh6Wd999l5iYmMo/eRERcQgHT+Xw5OKdrEo8BUCrRv68OLQDXZrVN3WuWh8vjiApKYnCwkJ69epl3+bh4UH37t3Zs2dPiet27dq1xO0KCgqIi4uzbwsMDKRVq1b2yzt27MBisdCyZcsS95Ofn1/iLMSenp507Nixyp6TiIjUXAVFVmavTOatJQfIL7Li5e7KxEHRjOkbgYdJqy2/VevjxcfDjd3PXWPK41YHX1/fcl0/OzsbNzc3Nm/efMnp+f38/Oz/7ePjoxPKiYjUApsPneHxL3ayLz0LgN5RQbxwS3uaNSjf+0t1qvXx4uLiUubdN2aJjIzE09OT1atX06xZM8C2G2fjxo1/eL6WyMhIPDw8WL9+PU2bNgXg7Nmz7N+/n379+gHQqVMnLBYLJ06coE+fPtX+XEREpGbKOF/Iq9/v5aMNqRiG7biWp25ow82xjWvcP15r9ru2ALbVlPj4eKZMmUJgYCBNmzbl1VdfJTc3l9GjR1/2dn5+fowePZopU6bYD7J94okncHW9uOTXsmVL7r77boYPH84bb7xBp06dOHnyJEuWLKFjx45cf/315Zo1MTGR7Oxs0tLSOH/+PFu3bgWgbdu2eHp6Vuj5i4hI9TEMg293pPGvr3dxMisfgNu6NOHxv7ahvm/NfN2ucfFy+PBh7r33Xk6cOIG7uztPPfUUt912m9ljme7ll1/GarVy7733kpWVRdeuXfnhhx+oX/+PD5p67bXXyM7OZsiQIfj7+/Poo4+SkZFR4jrz5s3j+eef59FHH+Xo0aMEBQXRo0cPbrjhhnLPef/997N8+XL75U6dOgGQkpJC8+bNy31/IiJSfY6czeXpL3exdO8JACKCfHnhlg70jGzwJ7c0l4thGIbZQ/zW8ePHSU9PJzY2lrS0NLp06cL+/fvLfCxHZmYmAQEBZGRkULdu3RI/y8vLIyUlhRYtWuDt7V0d40s56c9EROTKK7JYmb/mIG/8uJ/zhRY83FyI7x/FuP6ReFfTMZl/5o/ev3+vxq28hIaGEhoaCkBISAhBQUGcOXOm3AeiioiIyKV2HMngsUXb2Xk0E4DuzQN5cWh7ooL9TZ6s7Mr9eacVK1YwZMgQwsLCcHFxYfHixZdcJyEhgebNm+Pt7U1cXBwbNmyo0HCbN2/GYrEQHh5eoduLiIiITU5+Ec99vZubElax82gmAT4evHJrBz4e08OhwgUqsPKSk5NDTEwMo0aNYujQoZf8/JNPPmHSpEnMmDGDuLg4pk2bxjXXXMO+ffvsZ2WNjY0t9Xt3fvzxR/uJ0s6cOcPw4cOZPXt2eUcUERGR3/h5dzpPf7mTYxm27yS6KTaMJ69vS0N/L5Mnq5hyx8t1111nP8traf7f//t/PPDAA4wcORKAGTNm8M033/Dee+8xdepUAPsnUC4nPz+fm2++malTp3LVVVf96XXz8/PtlzMzM8v4TERERJxbemYe//pqF9/tTAMgPNCH52/uQL+WDU2erHKq9DR5BQUFbN68mcGDB198AFdXBg8ezNq1a8t0H4ZhcN999zFw4EDuvffeP73+Sy+9REBAgP2XdjGJiEhtZ7UafLD2IIPfWM53O9Nwc3VhbL9Ifnykn8OHC1RxvJw6dQqLxUKjRo1KbG/UqBFpaWlluo/Vq1fzySefsHjxYmJjY4mNjWXHjh2Xvf5jjz1GRkaG/dfhw4cr9RxEREQc2d60TG6dsYanvtxFVn4RMeH1+Hp8b6Ze1xofT3M+SVTVatynjXr37o3Vai3z9b28vPDycsx9diIiIlUlr9DCm0sOMHtFMkVWAz8vd6Zc04p7ejTDzbVmnSG3sqo0XoKCgnBzcyM9Pb3E9vT0dEJCQqryoURERKTYygMneWLRTlLP5AJwTbtGPHtje0ICnPP8WVW628jT05MuXbqwZMkS+zar1cqSJUvo2bNnVT6UiIhIrXcqO59HPv6Ve+duIPVMLqEB3sy6twsz7+3qtOECFVh5yc7OJjEx0X45JSWFrVu32r9zZ9KkSYwYMYKuXbvSvXt3pk2bRk5Ojv3TR2K+/v37Exsby7Rp08weRUREKsAwDD7ddIQXvt1DxvlCXFxgRM/mTL6mFX5eNe6IkCpX7me4adMmBgwYYL88adIkAEaMGMH8+fO54447OHnyJE8//TRpaWnExsby/fffX3IQb1VLSEggISEBi8VSrY8jl7dt2zZefvllVq1axalTp2jevDljx47l4YcfNns0ERGnkXQym8e/2MH6lDMAtA2ty0tDOxATXs/cwa6gcsdL//79+bOvQxo/fjzjx4+v8FAV8dBDD/HQQw/ZvxuhtjMMA4vFgrt71Re4xWLBxcWlxLdTg+2MyMHBwSxcuJDw8HDWrFnDmDFjcHNzu+L/P4iIOJv8IgvTlyXx7i9JFFis+Hi4Menqlozs1Rx3tyo9CqTGq13P1oHl5+czceJEgoOD8fb2pnfv3mzcuNH+82XLluHi4sJ3331Hly5d8PLyYtWqVeTk5DB8+HD8/PwIDQ3ljTfeKPW+J0+eTOPGjfH19SUuLo5ly5bZfz5//nzq1avHV199Rdu2bfHy8iI1NfWS+xk1ahRvvvkm/fr1IyIignvuuYeRI0fyxRdfVMvviYhIbbE++TR/fXMl034+QIHFyoBWDfnx7315oG9ErQsXqIEflb7iDAMKc6/843rUAZeyf3TtH//4B59//jkLFiygWbNmvPrqq1xzzTUkJiYSGBhov97UqVN5/fXXiYiIoH79+kyZMoXly5fz5ZdfEhwczOOPP86WLVuIjY2132b8+PHs3r2bjz/+mLCwMBYtWsS1117Ljh07iI6OBiA3N5dXXnmFOXPm0KBBA/tXPfyZjIyMEvOJiEjZncst4KVv9/LJJts5zIL8vPjXjW25vkMoLuV4D3E2ipfCXHgx7Mo/7uPHwLNs35Sdk5PD9OnTmT9/vv2rGWbPns1PP/3E3LlzmTJliv26zz33HFdffTVgO7h67ty5LFy4kEGDBgGwYMECmjRpYr9+amoq8+bNIzU11f69UpMnT+b7779n3rx5vPjiiwAUFhby7rvvEhMTU+anuGbNGj755BO++eabMt9GRERsu/6/2naM//vfbk5lFwDwt7im/PPa1gT4eJg8nfkULw4gKSmJwsJCevXqZd/m4eFB9+7d2bNnT4nrdu3atcTtCgoKiIuLs28LDAykVatW9ss7duzAYrHQsmXLEveTn59PgwYN7Jc9PT3p2LFjmWfeuXMnN910E8888wx/+ctfynw7EZHaLvV0Lk8s3sHKA6cAiA7246WhHejaXKvYFzhNvFT400YedWyrIFeaR51quVtf37Kt5lyQnZ2Nm5sbmzdvxs2t5Gmj/fz87P/t4+NT5iXK3bt3M2jQIMaMGcOTTz5ZrnlERGqrQouVOStTeHPJfvIKrXi6uzJxYBRj+kbi6V77jmv5I04TLxX+tJGLS5l335glMjIST09PVq9eTbNmzQDbbpyNGzfyyCOP/OHtPDw8WL9+PU2bNgXg7Nmz7N+/n379+gHQqVMnLBYLJ06coE+fPpWeddeuXQwcOJARI0bwwgsvVPr+RERqg19Tz/LYFzvYm5YFwFWRDXjhlg60CKrZ709mcZp4cWa+vr7Ex8czZcoU+8kAX331VXJzcxk9evRlb+fn58fo0aOZMmWK/SDbJ554osRHnFu2bMndd9/N8OHDeeONN+jUqRMnT55kyZIldOzYkeuvv77Mc+7cuZOBAwdyzTXXMGnSJPuXcbq5udGwoeN/i6mISFXLyivktR/28cG6QxgG1K/jwZPXt2Vo58a1+oDcP6N4cRAvv/wyVquVe++9l6ysLLp27coPP/xA/fr1//B2r732GtnZ2QwZMgR/f38effRRMjIySlxn3rx5PP/88zz66KMcPXqUoKAgevTowQ033FCuGT/77DNOnjzJwoULWbhwoX17s2bNOHjwYLnuS0TEmRmGwQ+70njmq12kZ+YDcGvnJjxxfRsCfT1Nnq7mczH+7IxzDubCbqOMjAzq1q1b4md5eXmkpKTQokULvL2d9zsfHIn+TESktjl27jxPf7mTn/ecAKB5gzq8eEsHrooKMnkyc/3R+/fvaeVFRETkCrBYDeavOcgbP+4jt8CCh5sLY/tF8tCAKLw93P78DsRO8SIiIlLNdh7N4LEvdrDjqG23fddm9XlxaAdaNvI3eTLH5DTxoi9mFBGRmiYnv4h//7Sf91anYDXA39udx65rw53dwnF11QG5FeU08aIvZhQRkZpk6d50nlq8i6PnzgNwQ8dQnh7SlmB/Hd9XWU4TLyIiIjXBicw8nv16N9/sOA5A43o+PH9Lewa0Ktt3wsmfU7yIiIhUAavV4KMNqbzy/V6y8opwc3VhdO8WPDI4mjqeerutSvrdFBERqaT96Vk89sUONh86C0DHJgG8NLQD7cJ0GEN1ULyIiIhUUF6hhXeWJjJzRRKFFgNfTzcmX9OK4T2b46YDcquN4kVERKQCViee4olFOzh4OheAq9s24tkb2xFWz8fkyZyf4qUW6t+/P7GxsUybNs3sUUREHM7p7Hxe+HYPX2w5CkCjul48e2N7rm0fYvJktYfTfMd2QkICbdu2pVu3bmaPUmudPn2aa6+9lrCwMLy8vAgPD2f8+PFkZmaaPZqISKUZhsGnmw4z+P8t54stR3FxgRE9m/HzpH4KlyvMaVZedJ6XkgzDwGKx4O5e9X/EFosFFxeXEt9ODeDq6spNN93E888/T8OGDUlMTOShhx7izJkzfPTRR1U+h4jIlZJ8MpsnFu1kbfJpAFqH+PPS0A50avrHX44r1cNpVl6cXX5+PhMnTiQ4OBhvb2969+7Nxo0b7T9ftmwZLi4ufPfdd3Tp0gUvLy9WrVpFTk4Ow4cPx8/Pj9DQUN54441S73vy5Mk0btwYX19f4uLiWLZsmf3n8+fPp169enz11Ve0bdsWLy8vUlNTL7mf+vXrEx8fT9euXWnWrBmDBg1i3LhxrFy5slp+T0REqltBkZW3lhzg2jdXsjb5NN4erky9rjVfT+itcDGR06y8VJRhGJwvOn/FH9fH3QcXl7Ifif6Pf/yDzz//nAULFtCsWTNeffVVrrnmGhITEwkMDLRfb+rUqbz++utERERQv359pkyZwvLly/nyyy8JDg7m8ccfZ8uWLcTGxtpvM378eHbv3s3HH39MWFgYixYt4tprr2XHjh1ER0cDkJubyyuvvMKcOXNo0KABwcF/frKlY8eO8cUXX9CvX7+y/8aIiNQQGw+e4bEvdpB4IhuAvi0b8vxN7WnaoI7Jk0mtj5fzReeJ+yjuij/u+r+tp45H2f4C5OTkMH36dObPn891110HwOzZs/npp5+YO3cuU6ZMsV/3ueee4+qrrwYgOzubuXPnsnDhQgYNGgTAggULaNKkif36qampzJs3j9TUVMLCwgCYPHky33//PfPmzePFF18EoLCwkHfffZeYmJg/nfeuu+7iyy+/5Pz58wwZMoQ5c+aU6XmKiNQEGbmFvPz9Hv6z4TAAQX6ePHVDW26MCSvXPzql+mi3kQNISkqisLCQXr162bd5eHjQvXt39uzZU+K6Xbt2LXG7goIC4uIuxllgYCCtWrWyX96xYwcWi4WWLVvi5+dn/7V8+XKSkpLs1/P09KRjx45lmvff//43W7Zs4csvvyQpKYlJkyaV+zmLiFxphmHw1bZjDPp/y+3hcme3cH6e1I+bYhsrXGqQWr/y4uPuw/q/rTflcauDr69vua6fnZ2Nm5sbmzdvxs3NrcTP/Pz87P/t41P23VwhISGEhITQunVrAgMD6dOnD0899RShoaHlmk1E5Eo5fCaXJxfvZPn+kwBENvTlpaEd6d4i8E9uKWao9fHi4uJS5t03ZomMjMTT05PVq1fTrFkzwLYbZ+PGjTzyyCN/eDsPDw/Wr19P06ZNATh79iz79++3H4fSqVMnLBYLJ06coE+fPlU+u9VqBWwHBYuI1DRFFitzV6Xw75/3k1doxdPNlYcGRDG2fwRe7m5/fgdiilofL47A19eX+Ph4pkyZQmBgIE2bNuXVV18lNzeX0aNHX/Z2fn5+jB49milTptgPsn3iiSdKfMS5ZcuW3H333QwfPpw33niDTp06cfLkSZYsWULHjh25/vrryzznt99+S3p6Ot26dcPPz49du3YxZcoUevXqRfPmzSvzWyAiUuW2HT7H1C92sOe47VxUPSICeeGWDkQ29PuTW4rZnCZeEhISSEhIwGKxmD1KtXj55ZexWq3ce++9ZGVl0bVrV3744Qfq1//jj+q99tprZGdnM2TIEPz9/Xn00UfJyMgocZ158+bx/PPP8+ijj3L06FGCgoLo0aMHN9xwQ7lm9PHxYfbs2fz9738nPz+f8PBwhg4dytSpU8v9fEVEqkt2fhGv/7CPBWsPYhhQr44Hj/+1Dbd1aaLjWhyEi2EYhtlDVKULJ6nLyMigbt26JX6Wl5dHSkoKLVq0wNvb26QJ5bf0ZyIiV9IPu9J45stdpGXmAXBLp8Y8eX0bGvh5mTyZ/NH79+85zcqLiIjI5RzPOM8zX+7ix93pADRrUIfnb25Pn+iGJk8mFaF4ERERp2WxGnyw9iCv/7if7Pwi3F1dGNM3gomDovH20AG5FZJxFOo0AA/zVssVLyIi4pR2H8vksUU72Hb4HACdm9bjxaEdaB3yx7sk5DIMA35dCD88Dt1Gw+B/mTaK4kVERJxKbkERb/58gDmrUrBYDfy93PnHda25u3tTXF11QG6FZByFrydC4s+2y4fWgqUI3MzJiFoZL052jLJD05+FiFSlZftO8OTinRw5a/vOuus7hPL0kLY0qqsPBFTIb1db8jPBzQsGPgE9x4OrebvdalW8eHh4ALYvGfTxqZ4z3Er55ObmAhf/bEREKuLI2Vxe+X4fX287BkDjej48d1M7BrVpZPJkDizjCHz98MXVlsZd4eZ3oWGrP77dFVCr4sXNzY169epx4sQJAOrUqaPP9JvEMAxyc3M5ceIE9erVu+SrCUREymJfWhYzlyfx5bZjWKwGri4wslcLJl3dEl+vWvUWV3UMA379AH54okattvxWrfuTDQkJAbAHjJirXr169j8TEZGy2nzoDNOXJfHznouv5b2iGjD12jZ0aBJg4mQOLuMIfDURkpbYLjfpBje9Cw1bmjvX79S6eHFxcSE0NJTg4GAKCwvNHqdW8/Dw0IqLiJSZYRgs23eS6cuS2HDwDAAuLnBd+xDG9oukY5N65g7oyEpdbXkSej5UY1ZbfqvWxcsFbm5ueuMUEXEARRYr3+w4zvRlSexNywLAw82FWzs3YUzfCCL0XUSVc+6w7ZNESUttl2voastvOU28OPt3G4mI1DZ5hRY+3XSYmSuS7Z8e8vV04+4ezRjVqwUhAfoEUaUYBmx537baUpAF7t621ZYe42rkastv1arvNhIRkZov43whC9cd4r1VKZzOKQCgga8nI3s1594ezQmoo08nVtolqy3dbZ8kCoo2bSR9t5GIiDic9Mw83luVwofrU8nOLwJsH3l+sF8Et3UJx8ezZq8GOAQHXm35LcWLiIiYKuVUDrNWJPH55qMUWKwAtGrkT3z/SK7vGIqHm6vJEzqJGrjaUlGKFxERMcWOIxnMWJ7EtzuPc+EAhm7N6xPfP5IBrYJ1Hq6qYhiwZQH88KRDr7b8luJFRESuGMMwWJN0mhnLk1h54JR9+6DWwYztH0m35oEmTueEzh2GryZA8i+2y+FxcFOCQ662/JbiRUREqp3FavDjrjSmL09i+5EMANxcXbgxJowH+0Xom56rWqmrLU9Bj3iHXW35LcWLiIhUm/wiC4t/PcrM5ckkn8oBwMvdlTu7hXN/nwjCA+uYPKETOpdqO0uuk622/JbiRUREqlx2fhEfb0hlzsoU0jLzAKjr7c6Iq5oz4qrmBPl5mTyhEzIM2Dwffnzq4mrLoKchbqxTrLb8luJFRESqzOnsfOavOciCNQfJzLN93LlRXS8e6BPBnd2b4qcvS6we51KLj21ZZrscHmc7S25QlKljVRf9XyQiIpV2+Ewuc1Ym88mmw+QV2j7uHBHky9h+kdzUKQwvd+f6l3+NUYtWW35L8SIiIhW2Ly2LGcuT+GrbMSxW2+edOzYJYFz/SK5uG4Kbqz7uXG0uWW3pYTtvS4NIU8e6EhQvIiJSbpsOnmH6siSW7D1h39YnOoj4fpH0jGygc7RUJ8OAzfOKV1uya81qy28pXkREpEwMw+CXfSeYviyJjQfPAuDiAn9tH8rYfpF0aBJg8oS1wLlU+HI8pCy3Xa5Fqy2/pXgREZE/VGSx8r/tx5mxPIm9aVkAeLq5cmuXxjzQJ4KIhn4mT1gLXLLa4lO82vJgrVlt+S2niZeEhAQSEhKwWCxmjyIi4hTOF1j4dPNhZq1I5sjZ8wD4erpxT49mjOrdgkZ1vU2esJY4e8h2bMuF1ZamPW3nballqy2/5WIYF75RwjmU5yu1RUTkUhm5hXyw7iDzVh/kdE4BAA18PRnVuwX3xDUjoI6HyRPWEoYBm96Dn56+uNoy+Bno/iC4Ot+XVZbn/dtpVl5ERKRy0jPzmLsqhQ/XHSKnwLaK3aS+Dw/2jeC2ruF4e9S+3ROmOXsIvhoPKStsl7XaUoLiRUSklks+mc2sFcl8seUoBRbbOVpah/gT3z+S6zuE4u7mfP/Kr7GsVtj8Hvz4NBTmOP1qS0UpXkREaqntR84xY3kS3+1M48IBBN2bBxLfP5L+rRrq485X2iWrLVfBTe9otaUUihcRkVrEMAxWJ55m+vJEVieetm8f3CaYsf0i6do80MTpaqlSV1v+Bd3HaLXlMhQvIiK1gMVq8MOuNKYvS2LH0QwA3FxduCkmjAf7RdIqxN/kCWupswdt5205uNJ2WastZaJ4ERFxYvlFFhb/epSZy5NJPpUDgLeHK3d2a8r9fVrQpH4dkyespbTaUimKFxERJ5SdX8RH6w8xd1UK6Zn5AAT4eDDiquaM6NmMBn5eJk9Yi/1+taVZL7jxba22lIPiRUTEiZzKzmf+6oO8v/YgmXlFAITU9eb+Pi24q3tTfL30sm8aqxU2zYWfnrGttnjUsa22dHtAqy3lpP+LRUScwOEzucxemcwnGw+TX2T7uHNEQ1/G9ovk5tjGeLrrzdFUpa223PQOBEaYOpajUryIiDiwvWmZzFiWxNfbj2Ox2j7vHNMkgPj+UfylbSNcXfVxZ1NptaVaKF5ERBzQxoNnmL4siaV7T9i39YkOIr5/JD0jGugcLTWBVluqjeJFRMRBWK0Gv+w7wfRlSWw6dBYAVxe4rkMo8f0iad84wOQJBbjMasuz0O1+rbZUEcWLiEgNV2ix8r/tx5ixLJl96VkAeLq5cmuXJozpG0GLIF+TJxS7Mym2b4C2r7b0hpve1mpLFVO8iIjUUOcLLPx302FmrUjm6LnzAPh5uXN3j6aM7tWC4LreJk8odqWttlz9HHQdrdWWaqB4ERGpYTJyC3l/7UHmrTnImZwCAIL8PBnZqwX39GhGgI+HyRNKCWdSbMe2HFplu9ysd/GxLS3MncuJKV5ERGqItIw85q5K5qP1qeQUWAAID/RhTN9IbuvSBG8PN5MnlBKsVtg4B35+BgpzwcMXrn5Wqy1XgOJFRMRkSSezmbU8mS9+PUKhxfZx59Yh/sT3j+T6DqG4u+mNsMY5kwxfTri42tK8j+0suVptuSIULyIiJtl2+Bwzlifx/a40DFuz0L1FIPH9I+nfsqE+7lwTWa2wcTb8/C+ttphI8SIicgUZhsHqxNO8uyyRNUmn7dsHt2lEfP8IujQLNHE6+UNabakxnCZeEhISSEhIwGKxmD2KiMglLFaDH3alMX1ZEjuOZgDg7urCTbGNGdsvguhG/iZPKJel1ZYax8UwLixWOofMzEwCAgLIyMigbt26Zo8jIrVcfpGFRVuOMnNFMimncgDw8XDjzu7h3N8ngsb1fEyeUP7QmeTiTxKttl1u3sf2SaL6zU0dy0wFlgLcXNxwc63aA8jL8/7tNCsvIiI1SV6hhf9sSGXm8mTSMvMACPDx4L6rmjPiquYE+nqaPKH8odJWW/7yHHQZVatXWzambeS5tc9xZ+s7ubvN3abNoXgREalCOflFfLj+ELNWpHAqOx+AkLrePNA3gju7hePrpZfdGu90ku0suVptscvIz+CNTW+wKHERAP/Z+x/uaHUH7q7m/P+sv0UiIlUgK6+Q99ceYs7KZM7mFgLQuJ4P4wZEMqxLE7zcdY6WGs9qhQ2zbKstRee12oLtAPNvUr7htY2vcSbvDADDWg7jkc6PmBYuoHgREamUjNxC5q1J4b1VKWTmFQHQrEEdHhoQxS2dGuOhc7Q4htNJtmNbUtfYLrfoCze+A/WbmTuXiQ5nHub59c+z5pjt9yQyIJKnez5N50adTZ5M8SIiUiFncgqYuyqZ99ccIivfFi2RDX0ZPzCKIR3DdGI5R2G1woaZ8POzttUWTz/bdxJ1GVlrV1sKrYUs2LWAGdtmkG/Jx9PVkwdjHmRku5F4uNWMr6ZQvIiIlMPJrHxmr0xm4bpD5Bafwr91iD/jB0ZxXftQ3Fx1YjmHodWWS2w7uY1n1z7LgbMHAIgLieOpnk/RrG7N+j1RvIiIlEFaRh4zlifxnw2p5BdZAWjfuC4TBkZzdZtGuCpaHMflVlu6joJaelbjrIIs3tzyJv/d918MDOp51WNKtykMiRhSI8/0rHgREfkDR87mMmN5Ev/deIQCiy1aYsPr8fCgaPq30in8Hc7pJPjyIUhda7vcop/tLLm1dLXFMAx+Tv2Zl9a/xMnzJwG4MfJGJnedTH3v+iZPd3mKFxGRUhw6ncO7vyTx+ZYjFFlt5/Ls3jyQCYOi6B0VpGhxNFYrrJ8BS567uNryl/+zHdtSS/8sj2cf58X1L7LsyDIAmvo35emeTxMXGmfuYGWgeBER+Y2kk9kkLE3ky23HsBRHS6+oBkwYGE2PiAYmTycVotWWEixWCx/t/Yi3f32b80XncXd1Z1T7UYzpOAYvNy+zxysTxYuICLAvLYu3lx7gmx3H7d/w3L9VQyYMjKZLs5q7fC5/QKstl9h9ejfPrn2W3ad3A9ApuBNP93iaqPpRJk9WPooXEanVdh7N4J2liXy/K82+7eq2jZgwMIqOTeqZN5hUzu9XWyL621Zb6jU1dSyz5BbmkrA1gYV7FmI1rPh7+PNIl0cY1nIYri6O95FwxYuI1EpbD5/j7SUHWLL3BGD7h/h17UMYPyCatmH6UleHZbX8ZrUlr3i15Xnocl+tXW1ZcWQFz697nuM5xwG4tvm1/LP7PwnyCTJ5sopTvIhIrbLx4BneWnKAlQdOAeDqAkNiwhg/IIroRv4mTyeVcjoJFo+Dw+tsl2v5asvJ3JO8tOElfjr0EwBhvmE82eNJ+jTpY/Jklad4ERGnZxgGa5NP8/aSRNYmnwbAzdWFWzo1Zlz/SCIa+pk8oVRK7hlY+w6sTShebfGHa56HziNq5WqL1bDy6b5PmbZlGtmF2bi5uHFv23uJj4mnjkcds8erEooXEXFahmGw4sAp3l5ygE2HzgLg4ebCsC7hjOsfSXigc7yQ11oXomX9TCjItm2LGFC82hJu7mwmOXD2AM+ufZZtJ7cB0K5BO/511b9oHdja5MmqluJFRJyOYRgs2XOCt39JZNvhcwB4urtyZ7dwxvaLJKyej7kDSuWUFi0hHaDfP6H1DbVytSWvKI+Z22cyf+d8iowi6rjXYWLnidzZ6k7cXJ3vG80VLyLiNKxWgx92pfH20kR2H88EwNvDlbvjmjGmbwSN6nqbPKFUymWjZSq0vr5WRgvA2mNr+b91/8fhrMMADAgfwONxjxPiG2LyZNVH8SIiDs9iNfhmx3HeWXqA/em2NzVfTzfu7dmc+/u0IMjPMU68JZehaCnVmbwzvLbxNf6X/D8Agn2CeTzucQY1G2TyZNVP8SIiDqvIYuXLrcdIWJZI8skcAPy93Rl5VXNG9mpBfV9PkyeUSlG0lMowDBYnLuaNzW+QkZ+BCy7c2fpOJnaaiJ9n7Tj4XPEiIg6noMjKF1uO8O6yJFLP5AIQ4OPB6N4tGHFVcwJ8PEyeUCpF0XJZKRkp/N+6/2Nj2kYAWtZvyTM9n6Fjw44mT3ZlKV5ExGHkFVr4dNNhZixP5ui58wA08PXk/j4R3NuzGX5eeklzaIqWyyqwFDB351xmb59NobUQbzdv4mPjubftvXi41r5Y1990EanxzhdY+M+GVGauSCI9Mx+Ahv5ePNg3gr/FNaWOp17KHJqi5Q9tTt/Ms2ufJSUjBYBeYb14sseTNPFvYvJk5tHfeBGpsXLyi1i47hCzVyZzKrsAgNAAb+L7R3J713C8PZzvI6C1iqLlD2XkZ/Dvzf/m8wOfAxDoHcg/u/2T61pch0st/71RvIhIjZOZV8j7aw4yd1UKZ3MLAWhS34dx/aO4tUtjvNwVLQ5N0fKHDMPgu5TveGXjK5zJOwPArdG38vcufyfAK8Dk6WoGxYuI1BgZuYW8tzqFeatTyMwrAqBFkC/j+kdyc6fGeLg53rffym8oWv7UkawjPL/ueVYfWw1Ai4AWPNPzGbo06mLyZDWL4kVETHcmp4A5K5N5f+0hsvNt0RIV7MeEgVFc3yEUd0WLY1O0/KlCayEf7P6A6Vunk2fJw8PVgzEdxzCq/Sg83fSR/99TvIiIaU5k5TF7RTIL16VyvtACQOsQfyYOiubadiG4uupNzaEpWspk+8ntPLv2Wfaf3Q9At5BuPN3jaZoHNDd3sBqsxsXLuXPnGDx4MEVFRRQVFfHwww/zwAMPmD2WiFSh4xnnmbk8mf9sSCW/yApAh8YBTBgYxeA2jRQtjk7RUibZBdm8ueVNPtn3CQYGAV4BTO46mZsib6r1B+T+mRoXL/7+/qxYsYI6deqQk5ND+/btGTp0KA0aNDB7NBGppCNnc5m+LIlPNx2hwGKLls5N6zFhUDT9WzbUC7ajU7SU2ZJDS3hx/YucOH8CgCERQ5jcbTKB3oEmT+YYaly8uLm5UaeO7Wvq8/PzMQwDwzBMnkpEKuPgqRzeXZbIF1uOUmS1/X2OaxHIxEHRXBXZQNHi6BQtZZaWk8aL61/kl8O/ABDuH85TPZ6iZ1hPkydzLOU+Cm7FihUMGTKEsLAwXFxcWLx48SXXSUhIoHnz5nh7exMXF8eGDRvK9Rjnzp0jJiaGJk2aMGXKFIKCgso7pojUAIknsvn7J1sZ+MYy/rvpCEVWg95RQXwypgefPNiTXlFBChdHlnsGljwH0zrAyjds4RLSAe78CB5cCW1uULgUs1gtfLjnQ25afBO/HP4Fdxd3HujwAF/c+IXCpQLKvfKSk5NDTEwMo0aNYujQoZf8/JNPPmHSpEnMmDGDuLg4pk2bxjXXXMO+ffsIDg4GIDY2lqKioktu++OPPxIWFka9evXYtm0b6enpDB06lGHDhtGoUaMKPD0RMcPetEzeXprItzuOc2HhdECrhkwYFE3npvXNHU4q73IrLf0fg1Z/VbD8zt4ze3l2zbPsPL0TgJiGMTzT8xmi60ebPJnjcjEqsU/GxcWFRYsWcfPNN9u3xcXF0a1bN9555x0ArFYr4eHhTJgwgalTp5b7McaNG8fAgQMZNmxYqT/Pz88nPz/ffjkzM5Pw8HAyMjKoW7duuR9PRCpu59EM3l56gB92pdu3/aVtIyYMjKZDE51cy+EpWsoltzCX6dum88HuD7AYFvw9/HmkyyMMazkMVxd9/P/3MjMzCQgIKNP7d5Ue81JQUMDmzZt57LHH7NtcXV0ZPHgwa9euLdN9pKenU6dOHfz9/cnIyGDFihXEx8df9vovvfQSzz77bKVnF5GK+zX1LG8vTWTpXtvBhy4u8NcOoYwfEEWbUP0jwuEpWsptxZEVvLDuBY7lHAPgL83+wtTuU2lYp6HJkzmHKo2XU6dOYbFYLtnF06hRI/bu3Vum+zh06BBjxoyxH6g7YcIEOnTocNnrP/bYY0yaNMl++cLKi4hUvw0pZ3h76QFWHjgFgKsL3BgTxviBUUQF+5s8nVSaoqXcTp0/xcsbXuaHgz8AEOobypM9nqRvk74mT+Zcatynjbp3787WrVvLfH0vLy+8vLyqbyARKcEwDNYmneatpQdYl2z73hV3Vxdu6dSYcQOiaBHka/KEUmmKlnKzGlY+2/8Z0zZPI6swC1cXV+5pcw8PxT5EHY86Zo/ndKo0XoKCgnBzcyM9Pb3E9vT0dEJCQqryoUTkCjMMg+X7T/L20kQ2HzoLgIebC7d1DSe+XyThgXqBdniKlgpJPJvIc+ue49cTvwLQtkFbnun5DG0btDV5MudVpfHi6elJly5dWLJkif0gXqvVypIlSxg/fnxVPpSIXCGGYfDznhO8s/QA245kAODp7spd3cJ5sF8kYfV8TJ5QKk3RUiH5lnxmbpvJvF3zKLIW4ePuw4ROE7ir9V24u9a4HRtOpdy/u9nZ2SQmJtovp6SksHXrVgIDA2natCmTJk1ixIgRdO3ale7duzNt2jRycnIYOXJklQ7+ewkJCSQkJGCxWKr1cURqC6vV4Ptdaby9NJE9xzMB8PFw4+64pozpG0FwXW+TJ5RKU7RU2Prj63lu7XOkZqUC0L9Jfx6Pe5xQv1CTJ6sdyv1R6WXLljFgwIBLto8YMYL58+cD8M477/Daa6+RlpZGbGwsb731FnFxcVUy8J8pz0etRORSFqvB/7YfI+GXRPan297QfD3dGH5Vc+7v3YIGfjrGzOEpWirsbN5ZXt/0Ol8lfQVAQ5+GPBb3GIObDtYJFyupPO/flTrPS02keBGpmCKLlcVbj/HuL4kkn8oBwN/bnZG9WjCqV3Pq1fE0eUKpNEVLhRmGwVdJX/H6ptc5l38OF1y4o9UdTOw8EX9PfbKuKph2nhcRcTwFRVY+33KEd5clcvjMeQDq1fFgdK8WjOjVnLreHiZPKJWmaKmUQ5mH+L+1/8f6tPUARNeP5pmezxDTMMbkyWovxYtILZVXaOHTTYeZviyJYxl5AAT5eXJ/nwju6dEMPy+9PDg8RUulFFoKeW/ne8zaPosCawFebl7Ex8QzvN1wPFwV9WbSq5NILZNXaOE/G1KZsTyJ9EzbV2sE+3vxYL9I/ta9KT6ebiZPKJWmaKm0LelbeG7tcyRlJAHQM7QnT/V4ivC6OglqTeA08aJPG4n8sfMFFj4qjpaTWbZoCQvwZmz/SG7vGo63h6LF4SlaKi0jP4NpW6bx2f7PAAj0DmRKtylc3+J6HZBbg+iAXREnl1tQxIfrUpm5IplT2bZoaVzPh4cGRHFrl8Z4uStaHJ6ipdIMw+CHgz/w8oaXOZ13GoBbom7h0a6PEuClLxW9EnTAroiQk1/EwnWHmLUimdM5BQA0qe/D+AFRDO3cBE93fautw1O0VIkjWUd4Yf0LrDq6CoDmdZvzdM+n6RbSzeTJ5HIULyJOJju/iPfXHmTOyhTOFEdL08A6jB8QxS2dG+PhpmhxeIqWKlFkLeKD3R/w7tZ3ybPk4eHqwQMdHmB0h9F4uunUADWZ4kXESWTlFfL+2kPMWZnM2dxCAJo3qMP4gdHcFBumaHEGipYqs/PUTv615l/sO7sPgK6NuvJUz6eICIgweTIpC8WLiIPLzCtkweqDzFmVQsZ5W7REBPkyfmAUN8aE4a5ocXyKliqTU5jDW1ve4j97/4OBQV3PukzuOpmbo27WAbkORPEi4qAyzhcyb3UK761KITOvCICIhr5MHBjNkJgw3Fz1QuzwFC1VaknqEl5c/yInck8AcH3E9UzpOoUGPg1MnkzKy2niRR+VltoiI7eQuatTmLc6haziaIkK9mPCwChu6KhocQqKliqVlpPGS+tfYunhpQA08WvCUz2e4qrGV5k8mVSUPiot4iDO5RYwd1UK81cfJCvfFi0tG/kxcVA0f20fiquixfEpWqqUxWrh430f8/avb5NTmIO7izsj2o3gwZgH8XH3MXs8+R19VFrEiZzJKWDOymQWrDlIToFtZbF1iD8TB0VzbbsQRYszULRUuX1n9vHs2mfZcWoHAB0bduSZns/Qsn5LkyeTqqB4EamhTmfnM3tlCu+vPUhucbS0Da3LxEHR/KVtI0WLM1C0VLncwlxmbJvB+7vfx2JY8PPw4+HOD3N7q9txddHB685C8SJSw5zKzmfWimQ+WHuI84W2aGkXVpeHB0VzddtG+kSEM1C0VItVR1fx/LrnOZp9FICrm13N1O5TCa4TbPJkUtUULyI1xImsPGYtT2bh+kPkFVoB6NgkgIkDoxnUJljR4gwULdVi28ltTN82ndVHVwMQ4hvCE3FP0D+8v7mDSbVRvIiY7ERmHjOWJ/Ph+kPkF9miJSa8Ho8MiqZ/q4aKFmegaKkWv48WNxc37mp9FxM6TaCORx2Tp5PqpHgRMUlaRh4zlifxnw2p9mjp1LQeDw+Kpl9LRYtTyDlti5YNsxQtVWjria3M2DaD1ccuRsuQyCGM6TCG8LrhJk8nV4LTxIvO8yKO4njGeaYvS+LjjYcpKI6WLs3q8/CgaPpEBylanIGipVpsPbGV6dums+bYGkDRUpvpPC8iV8jRc+eZviyR/248QoHFFi3dmwfy8OBoropsoGhxBjmnYe3bsH4WFObYtoV0hP5TFS2VUFq03Bh5Iw90eEDR4kR0nheRGuTwmVzeXZbEZ5sPU2ix/VshroUtWnpGKFqcwmWj5TFodZ2ipYJ+PfEr07dOZ+3xtYAtWm6Kuon7O9xPuL+ipTZTvIhUk8Nnckn4JZHPNh+hyGqLlp4RDXh4cDQ9IvRdKk4h5xSseRs2zL4YLaExtmhpea2ipYJ+PfEr7259l3XH1wHg7uLOjVE3KlrETvEiUsUOnc4h4ZdEvthy1B4tvaOCmDgomu4tAk2eTqpEzilY8xZsmPObaIktjpZrFC0VtCV9C9O3TS8RLRdWWpr4NzF5OqlJFC8iVSTlVA7vLE1k8dajWIqjpU90EI8MjqZLM0WLU7BHy2wozLVtU7RU2ub0zUzfNp31x9cDF6PlgY4P0NivscnTSU2keBGppKST2SQUR0txs9CvZUMeHhxN56b1zR1Oqkb2SVu0bJxzMVrCOtmiJfovipYK2py+melbp7M+TdEi5aN4EamgxBPZvL30AF9vO2aPloGtg5k4KJrY8HqmziZVRNFSLTalbWLGthklouXm6Ju5v8P9ihYpE8WLSDkdSM/iraWJ/G/7MS6caGBwG1u0dGxSz9TZpIpkn4Q1b8LGub+Jls7F0XK1oqWCNqZtZMa2GWxI2wCAu6s7t0Tdwv0d7ifML8zk6cSRKF5EymhfWhZvLT3AtzuO26Pl6raNeHhQNO0bB5g7nFQNRUu12Ji2kenbprMxbSOgaJHKc5p40Rl2pbrsOZ7JW0sO8N3ONPu2a9uFMGFQFO3CFC1OIfsErC6OlqLztm2Nu9iiJWqwoqWCSouWoVFDub/D/YT6hZo8nTgynWFX5DJ2HcvgrSUH+GFXun3bXzuEMGFgNG1C9f+WU1C0VIuNaRt5d+u7bErfBNii5dboWxndfrSiRS5LZ9gVqYSdRzOY9vMBft5jixYXF7i+QygTBkbTKsTf5OmkSmSlFx+I+9to6VocLYMULRVgGIYtWra9y+b0zQB4uHowNHqookWqnOJFpNj2I+d48+cDLNl7ArC9fw3pGMaEgVFEN1K0OAVFS5UzDIMNaRuYvm36JdFyf4f7CfENMXlCcUaKF6n1th4+x5s/7+eXfScBcHWBG2PCGD8wmqhgP5OnkyqRlW7bPbRpLhTl2bY17goDHoNIRUtFXIiWd7e+y5YTWwBbtNwafSujO4xWtEi1UrxIrbX50FneXHKAFfsvRsvNnRozfkAUEQ0VLU6htGhp0s32Lc+KlgoxDIP1aeuZvnW6okVMo3iRWmfTwTO8ueQAKw+cAsDN1YVbiqOleZCvydNJlchKK46W934XLY9B5EBFSwUYhsG64+uYsW1GiWgZ1nIYo9qPUrTIFaV4kVpjffJp3lxygDVJpwFwd3VhaOfGPDQgimYNFC1OodRo6V680qJoqYgL0TJ923R+PfErAJ6unvZoaeTbyOQJpTZSvIjTW5t0mjeX7Gdd8hnAFi23dW3CuP5RhAfWMXk6qRJZabBqGmyedzFawuNs0RIxQNFSAYZhsPb4WqZvnc7Wk1sBRYvUHIoXcUqGYbA26TTTlhxgQ4otWjzcXLitazjj+kfSpL6ixSlkHofV02DTPLDk27aFx9l2D0X0V7RUgGEYrD22lunbSkbLba1uY1T7UQTXCTZ3QBEUL+JkDMNgVeIp3lpygI0HzwLg6ebK7d2aEN8/isb1fEyeUKpEqdHSo3ilpb+ipQIuRMu7295l28ltgC1abm91OyPbj1S0SI3iNPGirweo3QzDYMWBU7z58362pJ4DwNPdlbu6hTO2fyShAYoWp5B5rHj30PyS0TLgMWjRT9FSAYZhsObYGt7d9i7bT24HwMvNi9ta3qZokRpLXw8gDs0wDJbtP8mbPx9g6+FzAHi5u3JX96aM7RdJSIC3uQNK1SgtWpr2tK20KFoqxDAMVh9bzfRt0y+JllHtR9GwTkOTJ5TaRl8PIE7PMAyW7j3BW0sOsO1IBgDeHq7cHdeMB/tGEFxX0eIUMo/Bqn/D5gW/i5bHoEVfRUsF2KNl63S2n7oYLbe3up2R7UYqWsQhKF7EoRiGwc97bNGy4+jFaLm3RzMe6BtBsL+ixSnYo2U+WAps25peVbzSomipCMMwWHV0FdO3TWfHqR0AeLt5249pCfIJMnlCkbJTvIhDsFoNftydzltLDrD7eCYAPh5uDO9pi5YgPy+TJ5QqkXHUFi1bFpSMlgGPQfM+ipYKMAyDlUdXMmPbDEWLOA3Fi9RoVqvBD7vSeHPJAfamZQFQx9ON4T2b80CfFjRQtDiH0qKlWS/bSouipUIuRMv0rdPZeXonYIuWO1rdwX3t71O0iENTvEiNZLUafLczjbeXXowWPy93RlzVjNG9Iwj09TR5QqkSGUeKo+X930XLY9Cij7mzOagL0fLu1nfZdXoXYIuWO1vfyYh2IxQt4hQUL1KjWKwG3+44zttLD7A/PRsAfy937uvVnNG9W1CvjqLFKZQaLb2Lj2lRtFSEYRisOLKC6dumK1rE6SlepEawWA3+t/0Yby9NJPFEcbR4uzOyVwtG92pBQB0PkyeUKpFxBFb+P/j1g4vR0rwP9PunoqWCLkTLu9veZffp3QD4uPtwZytbtDTwaWDyhCJVT/EiproQLW8tOUDSyRwA6nq7M6p3C0b2akGAj6LFKVyIli3vg7XQtk3RUimGYbD8yHKmb5teMlpa38mItooWcW6KFzGFxWrw9bZjvLX0AMm/iZb7+0RwX6/m1PVWtDiFc4dh1f+DLR+UjJb+U6F5b3Nnc1CGYbDs8DKmb5vOnjN7gIvRcl+7+wj0DjR3QJErQPEiV1SRxcpX247xztJEkk/ZoiXAx4P7e7dghKLFeShaqtzlouWu1ncxot0IRYvUKooXuSKKLFa+3HqMd35JJKU4WurV8eCBPhEM79kMf0WLcziXWnxMy8KL0dKiL/SbCs17mTubgzIMg18O/8KMbTNKRMvfWv+NEe1GUN+7vskTilx5ihepVkUWK4u3HuOdpQc4eDoXgPp1PLi/TwQjrmqOn5f+F3QK51Jh5Rvw64e/iZZ+tpWWZleZO5uDMgyDpYeXMmPbDPae2QsoWkQu0DuHVIsii5VFvx7lnV8SOfSbaHmgbwTDeypanIaipcqVFi113OvwtzZ/Y3jb4YoWEZwoXhISEkhISMBisZg9Sq1WaLGyaIstWlLP2KIl0NeTMX0juLdHM3wVLc7h7CFbtGz9EKxFtm0R/W27h5r1NHU0R2U1rPyS+gvTt01n39l9gC1a7m5zN8PbDqeedz1zBxSpQVwMwzDMHqIqlecrtaXqFFqsfLHlCO/8ksjhM+cBaFAcLfcoWpyHoqXKWQ0rS1OXMn3bdPaf3Q8oWqR2Ks/7t95RpFIKii5Gy5GztmgJ8rsYLXU89b+YUzh7sDhaPvpNtAyw7R5q2sPU0RxVadHi6+HL31r/TdEi8if0ziIVUlBk5bPNR0j4JZGj5y5Gy4N9I7m7R1NFi7NQtFQ5q2FlSeoSpm+bzoGzBwBbtFxYaQnwCjB5QpGaT+8wUi4FRVY+3XyYd39J+k20eDG2XwR3xzXDx9PN5AmlSpw9CCteh23/uRgtkQNtu4eaxpk6mqOyGlZ+PvQz07dNJ/FcIqBoEakoxYuUSX6RhU83HeHdXxI5lpEHQEN/L8b2i+Rv3ZsqWpzFmRTbSouipcqUFi1+Hn7c3eZu7m17r6JFpAIUL/KH8oss/Lc4Wo4XR0vwhWiJa4q3h6LFKZxJgZWvw9b/gFH8ib3IQbbdQ+HdzZ3NQVkNKz8d+okZ22aUiJZ72t7DPW3uUbSIVILiRUqVV2jhv5sOM31ZUoloGdc/kju7K1qchqKlylkNKz8e+pGZ22YqWkSqieJFSsgrtPDJRlu0pGXaoiWkrjfx/SO5o1u4osVZnEmGFcW7hy5ES9Rg2+6h8G7mzuagSosWfw9/7ml7D3e3uVvRIlKFFC8C2KLl4w2pTF+eRHpmPmCLlnEDIrm9q6LFaZxOKj6m5WNFSxWxWC323UNJGUmALVrubXsvd7e9m7qeOt+USFVTvNRyeYUWPlqfyozlSZzIskVLaIA34/pHcnu3cLzcFS1OodRouRr6/VPRUkEWq8W+0qJoEbmyFC+1VF6hhQ+Lo+VkcbSEBXgzbkAUt3VtomhxFqeTbB953v7JxWiJ/ottpaVJF3Nnc1AXomXGthkkZyQD4O9ZHC1tFC0iV4LipZY5X2Dhw/WHmLki2R4tjev5MG5AJMO6KFqchqKlylmsFn44+AMzts8gJSMFsEXL8LbDubvN3fh7+ps8oUjtoXipJXILivhwXSozVyRzKvtitDw0IIphXZrg6e5q8oRSJU4nwYrXiqPFatsWfY1t95CipUIULSI1j+LFyeUWFLFw3SFmrUjmVHYBAE3q+zB+QBRDOytanMapRFu07PhvyWjp/09orGipCIvVwvcHv2fm9pklomVE2xH8rc3fFC0iJlK8OKncgiI+WGuLltM5F6NlwkBbtHi4KVqcQmnR0vJa6PcPRUsFWawWvjv4HTO3zeRg5kEA6nrWZXjb4YoWkRpC8eJkcvKL+KB4peVMcbQ0DazD+AFR3NK5saLFWZw6UBwtn/4mWq4rjpbO5s7moC4XLSPajeBvrf+Gn6efuQOKiJ3ixUlk5xfx/tqDzFmZYo+WZg3q8NCAKG7ppGhxGpeLlv7/hLBO5s7moIqsRXyX8h2zts+yR0uAVwAj2o7grtZ3KVpEaiDFi4PLzi9iwZqDzFmZzNncQsAWLRMGRnNzbBjuihbncHK/LVp2fnYxWlr91bbSomipEEWLiONSvDiorLxC3l97iNkrkzlXHC0tgnwZPyCKmxQtzuPkfljxKuz4DDBs2xQtlXIhWmZun8mhzEOALVrua3cfd7W+C18PX5MnFJE/o3hxMFl5hcxffZA5q1LIOG+LloggX8YPjOLGGEWL0yg1Wq4vjpZYMydzWEXWIr5N+ZaZ22aSmpUKQD2veoxoN0LRIuJgnCZeEhISSEhIwGKxmD1Ktcgsjpa5v4uWiYOiGRIThpuri8kTSpU4uQ+Wvwo7P8ceLa1vsEVLaIypozkqRYuI83ExDMMwe4iqlJmZSUBAABkZGdSt6/in6c44fyFaksnMKwIgoqEvDw+K5oaOihanoWipckXWIr5J/oZZ22eViJb72t3Hna3vVLSI1DDlef92mpUXZ5NxvpB5q1OYuyqFrOJoiQr2Y8LAKEWLMzmx17Z7aOcXlIyWf0JoR1NHc1RF1iL+l/w/Zm2fxeGswwDU96pvX2mp41HH5AlFpLIULzVMRm4hc1enMG/1xWiJDvZj4qBo/tohVNHiLE7ssa207FqEoqVqXC5a7mt/H3e2ulPRIuJEFC81xLncAt5blcK81QfJyrdFS8tGxdHSPhRXRYtzKC1a2gyxRUtIB1NHc1SF1kL+l2SLliPZRwBbtIxsP5I7Wt2haBFxQooXk53LLWBucbRkF0dLq0b+TBwUzXXtQxQtzuLEHlj+CuxazMVoubE4WtqbOZnDUrSI1F6KF5OczSlgzqpkFqw5ZI+W1iG2aLm2naLFaaTvtkXL7i9RtFSNC9Eyc/tMjmYfBSDQO5CR7UZye6vbFS0itYDi5Qo7k1PAnJXJLFhzkJwC28e6W4f488jgaP7SVtHiNOzRsvjitrY3Qd9/KFoqqNBayNdJXzNr+6wS0TKq/Shua3mbokWkFlG8XCFncgqYvTKZ938TLW1C6/LwoGj+0raRosVZpO/6zUpLsbY32z7y3KidaWM5MkWLiPye4qWanc7OZ/bKFN5fe5Dc4mhpG1qXhwdHc3UbRYvTULRUuUJLIV8lfcXsHbMviZbbW92Oj7uPyROKiFkUL9XkVHY+s1ck88G6Q/ZoaRdWl0cGt2Rwm2BcXBQtTiFtpy1a9nxVvMEF2t1s2z3UqK2ZkzmsQkshXyZ9yeztszmWcwyABt4NGNl+pKJFRADFS5U7lZ3PrBXJfLD2EOcLbdHSvnFdHhnUkkGKFueRtqM4Wr4u3qBoqazLRcuo9qO4rdVtihYRsVO8VJGTWfnMWpHEB+sOkVdoBaBjkwAeHhTNwNaKFqdRarTcYts9FNzG1NEcVaGlkMVJi5m9fTbHc44DtmgZ3WE0w1oOU7SIyCUUL5V0IiuPmcuT+XD9xWiJaRLAw4OjGdBK0eI0jm+3Rcve/xVvcIH2Q20rLcGtTR3NURVaClmUuIg5O+bYoyXIJ4hR7UcpWkTkDyleKuhEZh4ziqMlv6g4WsLr8cjgaPq3bKhocRaKlip3uWgZ3d620uLt7m3yhCJS0yleyulEZh7Tlyfx0fpUe7TEFkdLP0WL8zi+zXYa/xLRciv0naJoqaACSwGLExcze8ds0nLSAGjo05DRHUZza/StihYRKTPFSxmlZ+YxfVkSH21IpaA4Wjo3rcfDg1vSNzpI0eIsjm+DZa/Avm+KNxRHS79/QMNWpo7mqBQtIlLVFC9ltGzfCeavOQhAl2b1eWRwNL2jFC1Oo7Ro6TDMttKiaKmQAksBiw4sYvaO2aTnpgOKFhGpGoqXMhrauQkrD5zizm5N6RXVQNHiLI5ttR3Tsu9b22UXV2h/IVpamjqaoyqwFPDFgS+Ys2OOPVqCfYIZ1cF2IK6Xm5fJE4qIo1O8lJGHmyvv/K2z2WNIVVG0VLnLRcvoDqO5teWtihYRqTKKF6ldjv1q2z20/zvbZRdX6HCbLVqCos2dzUHlW/Lt0XIi9wQAwXWCub/D/QyNHqpoEZEqp3iR2uHoFttKy/7vbZcVLZWWb8nn8/2fM3fnXEWLiFxRihdxbqVGy+3F0RJl7mwOyh4tO+Zy4vzFaHmgwwPcEn2LokVEqp3iRZzT0c223UMHfrBddnGFjndAn8mKlgrKt+Tz2f7PeG/He/ZoaVSnkX2lxdPN0+QJRaS2ULyIczmyGZa/DAd+tF2+EC19p0CDSHNnc1CXi5YLKy2KFhG50hQv4hwuiRa34miZrGipoLyiPD4/YNs9dPL8SQBCfEN4oMMD3Bx1s6JFREyjeBHHdmQTLHsZEn+yXXZxg5g7oc+jipYKyivK47P9nzF351xOnT8FKFpEpGZRvIhjUrRUOUWLiDgKxYs4lsMbbbuHEn+2XXZxg5i7oO+jEBhh7mwOKq8oj0/3f8p7O9+zR0uobygPdHyAmyNvxsPNw+QJRURKUryIYzi8wbbSkrTEdlnRUmnni87bDsRVtIiIg6mx8ZKbm0ubNm247bbbeP31180eR8xSWrTE3mXbPaRoqZDzRef5dJ9tpeV03mkAwnzDeKDjA9wUeZOiRURqvBobLy+88AI9evQwewwxy+ENsOwlSFpqu+ziBrF/K46WFubO5qDOF53nv/v+y7yd8xQtIuLQamS8HDhwgL179zJkyBB27txp9jhyJaWutx3TciFaXN1tu4cULRV2IVre2/keZ/LOANDYrzEPdHiAGyNvVLSIiMNxLe8NVqxYwZAhQwgLC8PFxYXFixdfcp2EhASaN2+Ot7c3cXFxbNiwoVyPMXnyZF566aXyjiaOLHUdvH8zvPcXW7i4ukPn4TBhM9z0jsKlAnILc1mwawHXfn4tr296nTN5Z2js15hnr3qWr2/5mltb3qpwERGHVO6Vl5ycHGJiYhg1ahRDhw695OeffPIJkyZNYsaMGcTFxTFt2jSuueYa9u3bR3BwMACxsbEUFRVdctsff/yRjRs30rJlS1q2bMmaNWsq8JTEoaSus+0eSl5mu+zqfnH3UP3mZk7msHILc227h3bNK7HSMqbjGIZEDsHDVcEiIo7NxTAMo8I3dnFh0aJF3HzzzfZtcXFxdOvWjXfeeQcAq9VKeHg4EyZMYOrUqX96n4899hgLFy7Ezc2N7OxsCgsLefTRR3n66adLvX5+fj75+fn2y5mZmYSHh5ORkUHdunUr+tSkuh1aa9s9VCJa7i6OlmamjuaoLhctD3Z8kBsib1C0iEiNlpmZSUBAQJnev6v0mJeCggI2b97MY489Zt/m6urK4MGDWbt2bZnu46WXXrLvMpo/fz47d+68bLhcuP6zzz5bucHlyjm01rbSkrLcdtnVHTrdA70nKVoqKLcwl0/2fcL8XfPt0dLErwljOo5RtIiIU6rSeDl16hQWi4VGjRqV2N6oUSP27t1blQ9l99hjjzFp0iT75QsrL1LDHFpTHC0rbJcVLZWmaBGR2qpGftrogvvuu+9Pr+Pl5YWXl1f1DyMVc3C1bfeQPVo8bNHSZxLUa2rubA4qtzCXj/d9zPyd8zmbfxaAcP9wxnQcw/UR1ytaRMTpVWm8BAUF4ebmRnp6eont6enphISEVOVDSU13cLVtpeXgSttlVw/ofK9tpaWeVsYqIrcwl//s/Q8Ldi0oES0PdnyQ6yOux921Rv9bRESkylTpq52npyddunRhyZIl9oN4rVYrS5YsYfz48VX5UFJTHVxlOyOuoqXKXIiW+bvmcy7/HKBoEZHardyvetnZ2SQmJtovp6SksHXrVgIDA2natCmTJk1ixIgRdO3ale7duzNt2jRycnIYOXJklQ4uNUzKSlj+yu+iZTj0/ruipYJyCnPsKy0XoqWpf1MejHmQv7b4q6JFRGqtcr/6bdq0iQEDBtgvXzhYdsSIEcyfP5877riDkydP8vTTT5OWlkZsbCzff//9JQfxVrWEhAQSEhKwWCzV+jjyOykrbSsth1bZLrt5Qqd7FS2VUFq0NKvbjDEdxyhaRESo5HleaqLyfE5cKqG0aLmw0hLQxNzZHNSFaJm/az4Z+RmALVoe7Pgg17W4TtEiIk7NtPO8iJMzDNtuoWUvw6HVtm1untB5RHG0NDZ3PgeVXZBtW2nZvUDRIiJSBnpVlD9nGLaPOi9/RdFShUqLluZ1mzOm4xhFi4jIH9Cro1zehWhZ9jKkFn/PlJsndLkPej2iaKmg7IJsPtr7EQt2LSCzIBOwRcuDMQ9yXfPrcHN1M3lCEZGaTfEilzIM2+n7l70MqcVf6+DmZYuW3o9A3TAzp3NY2QXZfLjnQ97f/X6JaBkbM5Zrm1+raBERKSOniRd92qgKKFqqRVZBFh/t+UjRIiJSRfRpI7FFS/IyW7QcXmfb5uYFXUfadg/VDTVzOoeVVZBlX2nJKsgCoEVAC8Z2HMs1za9RtIiI/IY+bSRlYxiQ/EtxtKy3bVO0VFpp0RIREMHYmLH8pdlfFC0iIpWkeKmNSosWd2/oMhJ6PaxoqaCsgiwW7lnIB7s/ULSIiFQjxUttYhiQtNQWLUc22La5e0PXUbZo8deXZ1ZEZkEmH+7+kA/2lIyW+Jh4rm52taJFRKSKKV5qA8OApCWw7BVFSxWyR8vuD8gqtEVLZEAkY2PGKlpERKqR4sWZ2aPlZTiy0bbN3Ru6joZeExUtFZRZkMnC3QtZuHthyWiJte0ecnVxNXlCERHn5jTxoo9K/4ZhQOISWPYSHN1k2+buA91Gw1UTwb96vyTTWZUWLVH1ouwrLYoWEZErQx+VdiaKlmqRkZ/Bwj22aMkuzAYULSIiVU0fla5tDAMSfy6Ols22bReipdfD4Bds7nwOKiM/gw92f8CHez4sES3xMfEMbjZY0SIiYhLFiyMzDDjwky1ajm2xbVO0VFpp0RJdP5r4mHgGNR2kaBERMZnixRFdLlq632/bPaRoqZCM/Aze3/0+H+75kJzCHEDRIiJSEyleHIlhwIEfi6PlV9s2jzrQ7UK0NDR3PgdVWrS0rN+S+Jh4BjYdqGgREalhFC+OwDBg/w+w/GVFSxU6l3eO93e/z0d7P1K0iIg4EMVLTXYhWpa9BMe32rZ51IHuD0DPCYqWCroQLR/u+ZDcolwAWtVvRXxMPAOaDlC0iIjUcE4TL051nhfDgP3f204uZ48WX1u0XDUBfINMHc9RXTZaYuMZEK5oERFxFDrPS01iGLDvO9vuoePbbNsULZV2Nu+sbffQno/s0dI6sDVjY8YqWkREagid58XRXIiWZS9B2nbbNg9fiBtj2z3k28Dc+RzU2byzLNi1gP/s/U+JaImPsa20uLi4mDyhiIhUhOLFTIYB+7617R66EC2efhePaVG0VMiFaPlo70ecLzoPQJvANsTHxNM/vL+iRUTEwSlezHDZaBkDPccrWiroTN4Z+0qLokVExHkpXq4kw4C939iOaUnbYdvm6QdxD9qipU6gufM5qMtFy7jYcfRr0k/RIiLiZBQvV4LVCvu+gWWvQLqipaqcyTvD/F3z+Xjvx/ZoadugLeNixtG3SV9Fi4iIk1K8VKdSo8W/OFoeUrRU0Onzp1mwawEf71O0iIjURoqX6mC1wt7/wfJXIH2nbZunP/QYCz3GKVoqqLRoadegHeNix9GncR9Fi4hILeE08VIjTlJntcLer2H5q4qWKnT6/Gnm75rPJ/s+sUdL+wbtiY+NV7SIiNRCOkldVbgQLctegRO7bNs8/aFHvO2XoqVCFC0iIrWHTlJ3pVitsOcr2+6hE7tt27zqQtxYRUslnDp/ivk7bdGSZ8kDoENQB+Jj4unduLeiRUSkllO8VMTlouXCSotPfXPnc1Cnzp9i3s55/HfffxUtIiJyWYqX8rBaYc+XtmNaSkTLONtxLYqWCiktWjoGdSQ+Np5eYb0ULSIiUoLipaxSVsC3/4CTe2yXvQKKV1oULRV16vwp3tv5Hv/d91/yLfmALVrGxY7jqrCrFC0iIlIqxUt5nNxji5ae42zHtfjUM3sih3Qy9yTv7XyPT/d/ejFaGnZkXIyiRURE/pzipaya94Eb34Y2NypaKuhy0fJQzEP0DOupaBERkTJRvJSViwt0Hm72FA6ptGiJaRjDuJhxihYRESk3xYtUm9KiJbZhLPGx8fQMVbSIiEjFKF6kyp3IPWGLln2fUmAtAGzRMi52HD1CeyhaRESkUhQvUmXSc9J5b+d7fLb/M3u0dAruRHxMvKJFRESqjNPES434bqNaqrRo6RzcmfjYeOJC4hQtIiJSpfTdRlJh6TnpzN05l8/3f14iWsbFjqN7SHdFi4iIlJm+20iqVVpOGnN3zOXzA59TaC0EFC0iInLlKF6kzEqLli6NujAuZhzdQropWkRE5IpQvMifSstJY86OOXxx4IsS0fJQ7EN0C+lm8nQiIlLbKF7kskqLlq6NujIudpyiRURETKN4kUuUFi3dQroRHxOvaBEREdMpXsTuePZxW7QkfkGRtQhQtIiISM2jeJFSo6V7SHfGxoxVtIiISI2jeKnFjmUfY86OOSxKXGSPlriQOMbGjKVrSFeTpxMRESmd4qUWOpZ9jNk7ZrM4cbGiRUREHI7ipRYpNVpC44iPiadLoy4mTyciIlI2ipda4Gj2UWZvn82XiV9SZNiipUdoD+Jj4uncqLPJ04mIiJSP4sWJKVpERMQZKV6c0JGsI8zZMadEtPQM7Ul8bDydgjuZPJ2IiEjlOE28JCQkkJCQgMViMXsU0xzJOsLsHbP5KvErRYuIiDgtF8MwDLOHqErl+UptZ3E46zBzdswpES1XhV1FfEw8scGx5g4nIiJSBuV5/3aalZfa6HDWYWZvn81XSV9hMWwrTr3CejE2ZqyiRUREnJbixQEdzjzMrB2z+Drpa0WLiIjUOooXB1JqtDTuRXxMPDENY0yeTkRE5MpQvDiA1MxUZm2fxf+S/2ePlt6NexMfE0/Hhh1Nnk5EROTKUrzUYIoWERGRSyleaqDUzFRmbp/JN8nf2KOlT+M+xMfE06FhB5OnExERMZfipQY5lHnIvtJiNayAokVEROT3FC81QGnR0rdJX+Jj4mkf1N7k6URERGoWxYuJDmYcZNb2WXyT8o09Wvo16cfYmLGKFhERkctQvJggJSOFWdtn8W3KtyWiJT4mnnZB7UyeTkREpGZTvFxBpUVL/yb9GRszVtEiIiJSRoqXKyAlI4WZ22fyXcp3F6MlvDhaGihaREREykPxUo2SM5KZtX2WokVERKQKKV6qQXJGMjO32VZaDGxf2j0gfABjY8bStkFbk6cTERFxbIqXKpR8LpkZ22fwfcr3ihYREZFqonipAqVFy8DwgYyNGUubBm1Mnk5ERMS5KF4qIelcEjO3zeT7gxejZVDTQYyNGUvrwNYmTyciIuKcFC8VkHg2kZnbZ/LDwR8ULSIiIleY4qUcSouWwU0HMzZmLK0CW5k8nYiISO3gNPGSkJBAQkICFoulWu7/8/2f8+zaZ+3RcnWzq3mw44OKFhERkSvMxTAMw+whqlJmZiYBAQFkZGRQt27dKrvf49nHuWHRDfQL76doERERqWLlef92mpWX6hbqF8oPw34gyCfI7FFERERqNVezB3AkChcRERHzKV5ERETEoSheRERExKEoXkRERMShKF5ERETEoSheRERExKEoXkRERMShKF5ERETEoSheRERExKEoXkRERMShKF5ERETEoSheRERExKEoXkRERMShKF5ERETEobibPUBVMwwDgMzMTJMnERERkbK68L594X38jzhdvGRlZQEQHh5u8iQiIiJSXllZWQQEBPzhdVyMsiSOA7FarRw7dgx/f39cXFz+8LrdunVj48aN5br/zMxMwsPDOXz4MHXr1q3MqPInKvLnU9PVxOdkxkzV/ZhVff9VdX+VuR+9XtVsNfHvdmWY8XwMwyArK4uwsDBcXf/4qBanW3lxdXWlSZMmZbqum5tbhf9C161bVy8G1awyfz41VU18TmbMVN2PWdX3X1X3V5n70etVzVYT/25XhlnP589WXC6o1QfsPvTQQ2aPIH/AGf98auJzMmOm6n7Mqr7/qrq/ytxPTfx/Ry5ytj+fmv58nG63UXXLzMwkICCAjIwMp6psEXE+er0SZ1WrV14qwsvLi2eeeQYvLy+zRxER+UN6vRJnpZUXERERcShaeRERERGHongRERERh6J4EREREYeieBERERGHonipJocPH6Z///60bduWjh078umnn5o9kojIZd1yyy3Ur1+fYcOGmT2KyJ/Sp42qyfHjx0lPTyc2Npa0tDS6dOnC/v378fX1NXs0EZFLLFu2jKysLBYsWMBnn31m9jgif0grL9UkNDSU2NhYAEJCQggKCuLMmTPmDiUichn9+/fH39/f7DFEyqTWxsuKFSsYMmQIYWFhuLi4sHjx4kuuk5CQQPPmzfH29iYuLo4NGzZU6LE2b96MxWLRN12LSIVcydcrEUdQa+MlJyeHmJgYEhISSv35J598wqRJk3jmmWfYsmULMTExXHPNNZw4ccJ+ndjYWNq3b3/Jr2PHjtmvc+bMGYYPH86sWbOq/TmJiHO6Uq9XIo5Cx7wALi4uLFq0iJtvvtm+LS4ujm7duvHOO+8AYLVaCQ8PZ8KECUydOrVM95ufn8/VV1/NAw88wL333lsdo4tILVNdr1dgO+7lnXfe0TEvUuPV2pWXP1JQUMDmzZsZPHiwfZurqyuDBw9m7dq1ZboPwzC47777GDhwoMJFRKpNVbxeiTgaxUspTp06hcVioVGjRiW2N2rUiLS0tDLdx+rVq/nkk09YvHgxsbGxxMbGsmPHjuoYV0Rqsap4vQIYPHgwt912G99++y1NmjRR+EiN5m72AM6qd+/eWK1Ws8cQESmTn3/+2ewRRMpMKy+lCAoKws3NjfT09BLb09PTCQkJMWkqEZFL6fVKaiPFSyk8PT3p0qULS5YssW+zWq0sWbKEnj17mjiZiEhJer2S2qjW7jbKzs4mMTHRfjklJYWtW7cSGBhI06ZNmTRpEiNGjKBr1650796dadOmkZOTw8iRI02cWkRqI71eifyOUUv98ssvBnDJrxEjRtiv8/bbbxtNmzY1PD09je7duxvr1q0zb2ARqbX0eiVSks7zIiIiIg5Fx7yIiIiIQ1G8iIiIiENRvIiIiIhDUbyIiIiIQ1G8iIiIiENRvIiIiIhDUbyIiIiIQ1G8iIiIiENRvIiIiIhDUbyIiIiIQ1G8iIiIiENRvIiIiIhDUbyIiIiIQ/n/3PRK3aLjDM8AAAAASUVORK5CYII=\n",
      "text/plain": [
       "<Figure size 640x480 with 1 Axes>"
      ]
     },
     "metadata": {},
     "output_type": "display_data"
    }
   ],
   "source": [
    "plt.loglog(h1,err_u1, label='order 1')\n",
    "plt.loglog(h2,err_u2, label='order 2')\n",
    "plt.loglog(h3,err_u3, label='order 3')\n",
    "plt.legend()\n",
    "plt.title(r'$\\alpha=0.25$')\n",
    "plt.show()"
   ]
  },
  {
   "cell_type": "markdown",
   "id": "a8e53d9d",
   "metadata": {},
   "source": [
    "## Ecuacion de Adveccion - difusion\n",
    "\n",
    "Considere un fljo en dos dimensiones a traves de una tuberia calentada. La velocidad del flujo se asume conocida y queremos evaluar la temperatura $u$ dentro de la tuberia en estado estacionario. La temperatura es gobernada por la ecuacion de adveccion-difusion \n",
    "\\begin{equation*}\n",
    "\\beta \\cdot \\nabla u - \\epsilon \\Delta u = 0\n",
    "\\end{equation*}\n",
    "\n",
    "La tuberia es modelada por un dominio rectangular $\\Omega$ con lados enumerados del 1 al 4 en sentido del reloj, comenzando desde el lado mas a la izquierda. Los flujos entran la tuberia desde $\\partial \\Omega_1$ y fluyen hacian $\\partial \\Omega_3$ mientras los lados $\\partial \\Omega_2$ y $\\partial \\Omega_4$ son fronteras solidas. Las condiciones de frontera para la temperatura son $u=0$ sobre $\\partial \\Omega_1$ (flujo helado entrante), $u=1$ sobre $\\partial \\Omega_2$ y $\\partial \\Omega_4$ (fronteras calentadas) y $\\nabla u * n = 0$ sobre $\\partial \\Omega_3$ (condicion de outflow). La velocidad de flujo es tomada como $\\beta = (4 y (1-y) , 0 )^\\top$ "
   ]
  },
  {
   "cell_type": "code",
   "execution_count": 16,
   "id": "8bf29c51",
   "metadata": {},
   "outputs": [],
   "source": [
    "def Solve_Heated_Pipe(mesh, beta, epsilon,g, order=1):\n",
    "    # H1-conforming finite element space\n",
    "    fes = H1(mesh, order=order, dirichlet=\"top|left|bottom\")\n",
    "    # define trial- and test-functions\n",
    "    u = fes.TrialFunction()\n",
    "    v = fes.TestFunction()\n",
    "    # the right hand side\n",
    "    lf = LinearForm(fes)\n",
    "    lf += 0 * v * dx\n",
    "    # the bilinear-form \n",
    "    a = BilinearForm(fes)\n",
    "    a += (beta*grad(u))*v*dx + epsilon*grad(u)*grad(v)*dx\n",
    "    a.Assemble()\n",
    "    lf.Assemble()\n",
    "\n",
    "    # the solution field \n",
    "    gfu = GridFunction(fes)\n",
    "    gfu.Set(g, definedon=mesh.Boundaries('top|left|bottom'))\n",
    "    r = lf.vec.CreateVector()\n",
    "    r.data = lf.vec - a.mat * gfu.vec\n",
    "    gfu.vec.data += a.mat.Inverse(freedofs=fes.FreeDofs()) * r  \n",
    "    return gfu"
   ]
  },
  {
   "cell_type": "code",
   "execution_count": 17,
   "id": "5c9f2bb8",
   "metadata": {
    "scrolled": true
   },
   "outputs": [],
   "source": [
    "geo = SplineGeometry()\n",
    "\n",
    "pnts =[(0,0),(5,0),(5,1),(0,1)]\n",
    "p1,p2,p3,p4 = [geo.AppendPoint(*pnt) for pnt in pnts]\n",
    "curves = [[[\"line\",p1,p2],\"bottom\"],\n",
    "          [[\"line\",p2,p3],\"right\"],\n",
    "          [[\"line\",p3,p4],\"top\"],\n",
    "          [[\"line\",p4,p1],\"left\"]]\n",
    "[geo.Append(c,bc=bc) for c,bc in curves]\n",
    "ngmesh = geo.GenerateMesh(maxh=0.1)\n",
    "mesh = Mesh(ngmesh)\n",
    "\n",
    "bdry_values = {'bottom': 1, 'top': 1, 'left': 0}\n",
    "values_list = [bdry_values[bc]\n",
    "               if bc in bdry_values.keys() else 0\n",
    "               for bc in mesh.GetBoundaries()]\n",
    "g = CoefficientFunction(values_list)\n",
    "gfun = GridFunction(H1(mesh), name='bdry')\n",
    "gfun.Set(g, definedon=mesh.Boundaries('top|left|bottom'))\n",
    "# Draw(gfun, max=1, min=0)\n",
    "\n"
   ]
  },
  {
   "cell_type": "code",
   "execution_count": 18,
   "id": "c4370d58",
   "metadata": {},
   "outputs": [
    {
     "data": {
      "application/vnd.jupyter.widget-view+json": {
       "model_id": "a57f80dddc954e978d59598f572b5593",
       "version_major": 2,
       "version_minor": 0
      },
      "text/plain": [
       "WebGuiWidget(layout=Layout(height='50vh', width='100%'), value={'gui_settings': {}, 'ngsolve_version': '6.2.23…"
      ]
     },
     "metadata": {},
     "output_type": "display_data"
    },
    {
     "data": {
      "text/plain": [
       "BaseWebGuiScene"
      ]
     },
     "execution_count": 18,
     "metadata": {},
     "output_type": "execute_result"
    }
   ],
   "source": [
    "epsilon = 0.1 # diffussion dominated\n",
    "beta =CoefficientFunction((4*y*(1-y),0))\n",
    "gfu = Solve_Heated_Pipe(mesh, beta, epsilon,g, order=3)\n",
    "Draw(gfu, max=1, min=0)"
   ]
  },
  {
   "cell_type": "code",
   "execution_count": 19,
   "id": "d721c8d1",
   "metadata": {},
   "outputs": [
    {
     "data": {
      "application/vnd.jupyter.widget-view+json": {
       "model_id": "cf97a36d71f74a41b5b6c0de13603f0b",
       "version_major": 2,
       "version_minor": 0
      },
      "text/plain": [
       "WebGuiWidget(layout=Layout(height='50vh', width='100%'), value={'gui_settings': {}, 'ngsolve_version': '6.2.23…"
      ]
     },
     "metadata": {},
     "output_type": "display_data"
    },
    {
     "data": {
      "text/plain": [
       "BaseWebGuiScene"
      ]
     },
     "execution_count": 19,
     "metadata": {},
     "output_type": "execute_result"
    }
   ],
   "source": [
    "epsilon = 0.001 # advection dominated\n",
    "beta =CoefficientFunction((4*y*(1-y),0))\n",
    "gfu = Solve_Heated_Pipe(mesh, beta, epsilon,g, order=3)\n",
    "Draw(gfu, max=1, min=0)"
   ]
  },
  {
   "cell_type": "markdown",
   "id": "4146a9f3",
   "metadata": {},
   "source": [
    "# 3D pipe"
   ]
  },
  {
   "cell_type": "code",
   "execution_count": 20,
   "id": "48d7cd3b",
   "metadata": {},
   "outputs": [],
   "source": [
    "from netgen.occ import *\n",
    "from netgen.webgui import Draw as DrawGeo\n"
   ]
  },
  {
   "cell_type": "code",
   "execution_count": 21,
   "id": "8a0208fc",
   "metadata": {},
   "outputs": [
    {
     "data": {
      "application/vnd.jupyter.widget-view+json": {
       "model_id": "c0cabeea5b344d8c82945c8b75bc25e5",
       "version_major": 2,
       "version_minor": 0
      },
      "text/plain": [
       "WebGuiWidget(layout=Layout(height='50vh', width='100%'), value={'gui_settings': {}, 'ngsolve_version': '6.2.23…"
      ]
     },
     "metadata": {},
     "output_type": "display_data"
    },
    {
     "data": {
      "text/plain": [
       "BaseWebGuiScene"
      ]
     },
     "execution_count": 21,
     "metadata": {},
     "output_type": "execute_result"
    }
   ],
   "source": [
    "cyl = Cylinder(Pnt(0,0.5,0.5), X, r=0.5, h=5)\n",
    "ngmesh = OCCGeometry(cyl).GenerateMesh(maxh=0.5)\n",
    "ngmesh.SetBCName(0,'top')\n",
    "ngmesh.SetBCName(2,'left')\n",
    "ngmesh.SetBCName(1,'right')\n",
    "mesh= Mesh(ngmesh).Curve(3)\n",
    "Draw(mesh)"
   ]
  },
  {
   "cell_type": "code",
   "execution_count": 22,
   "id": "aa2a7efb",
   "metadata": {},
   "outputs": [],
   "source": [
    "def Solve_Heated_Pipe3D(mesh, beta, epsilon,g, order=1):\n",
    "    # H1-conforming finite element space\n",
    "    fes = H1(mesh, order=order, dirichlet=\"top|left\")\n",
    "    # define trial- and test-functions\n",
    "    u = fes.TrialFunction()\n",
    "    v = fes.TestFunction()\n",
    "    # the right hand side\n",
    "    lf = LinearForm(fes)\n",
    "    lf += 0 * v * dx\n",
    "    # the bilinear-form \n",
    "    a = BilinearForm(fes)\n",
    "    a += (beta*grad(u))*v*dx + epsilon*grad(u)*grad(v)*dx\n",
    "    a.Assemble()\n",
    "    lf.Assemble()\n",
    "\n",
    "    # the solution field \n",
    "    gfu = GridFunction(fes)\n",
    "    gfu.Set(g, definedon=mesh.Boundaries('top|left'))\n",
    "    r = lf.vec.CreateVector()\n",
    "    r.data = lf.vec - a.mat * gfu.vec\n",
    "    gfu.vec.data += a.mat.Inverse(freedofs=fes.FreeDofs()) * r  \n",
    "    return gfu"
   ]
  },
  {
   "cell_type": "code",
   "execution_count": 23,
   "id": "251d4ef2",
   "metadata": {},
   "outputs": [],
   "source": [
    "bdry_values = {'top': 1, 'left': 0}\n",
    "values_list = [bdry_values[bc]\n",
    "               if bc in bdry_values.keys() else 0\n",
    "               for bc in mesh.GetBoundaries()]\n",
    "g = CoefficientFunction(values_list)\n",
    "gfun = GridFunction(H1(mesh), name='bdry')\n",
    "gfun.Set(g, definedon=mesh.Boundaries('top|left'))\n",
    "# Draw(gfun)"
   ]
  },
  {
   "cell_type": "code",
   "execution_count": 27,
   "id": "29b97838",
   "metadata": {},
   "outputs": [],
   "source": [
    "epsilon = 0.1 # convection dominated\n",
    "beta =CoefficientFunction((4*y*(1-y),0,0))\n",
    "gfu = Solve_Heated_Pipe(mesh, beta, epsilon,g, order=1)\n",
    "# Draw(gfu, max=1, min=0)"
   ]
  },
  {
   "cell_type": "code",
   "execution_count": 28,
   "id": "e6a99cb8",
   "metadata": {},
   "outputs": [
    {
     "data": {
      "application/vnd.jupyter.widget-view+json": {
       "model_id": "324b3a357db54729a07a6c37c769ee7a",
       "version_major": 2,
       "version_minor": 0
      },
      "text/plain": [
       "WebGuiWidget(layout=Layout(height='50vh', width='100%'), value={'gui_settings': {}, 'ngsolve_version': '6.2.23…"
      ]
     },
     "metadata": {},
     "output_type": "display_data"
    },
    {
     "data": {
      "text/plain": [
       "BaseWebGuiScene"
      ]
     },
     "execution_count": 28,
     "metadata": {},
     "output_type": "execute_result"
    }
   ],
   "source": [
    "epsilon = 0.001 # convection dominated\n",
    "beta =CoefficientFunction((4*y*(1-y),0,0))\n",
    "gfu = Solve_Heated_Pipe(mesh, beta, epsilon,g, order=3)\n",
    "Draw(gfu, max=1, min=0)"
   ]
  },
  {
   "cell_type": "code",
   "execution_count": null,
<<<<<<< HEAD
   "id": "eed3454c",
=======
>>>>>>> 4bc8adfd3f6576a7d21aa316891e9464c44ffd52
   "metadata": {},
   "outputs": [],
   "source": []
  }
 ],
 "metadata": {
  "kernelspec": {
   "display_name": "Python 3",
   "language": "python",
   "name": "python3"
  },
  "language_info": {
   "codemirror_mode": {
    "name": "ipython",
    "version": 3
   },
   "file_extension": ".py",
   "mimetype": "text/x-python",
   "name": "python",
   "nbconvert_exporter": "python",
   "pygments_lexer": "ipython3",
   "version": "3.8.5"
  },
  "toc": {
   "base_numbering": 1,
   "nav_menu": {},
   "number_sections": true,
   "sideBar": true,
   "skip_h1_title": false,
   "title_cell": "Table of Contents",
   "title_sidebar": "Contents",
   "toc_cell": false,
   "toc_position": {},
   "toc_section_display": true,
   "toc_window_display": false
  }
 },
 "nbformat": 4,
 "nbformat_minor": 5
}
