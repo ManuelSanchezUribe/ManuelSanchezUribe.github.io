{
 "cells": [
  {
   "cell_type": "markdown",
   "metadata": {},
   "source": [
    "# 1. Conceptos basicos\n",
    "\n",
    "## Aritmetica de punto flotante\n",
    "\n",
    "Calcular $\\varepsilon$ maquina"
   ]
  },
  {
   "cell_type": "code",
   "execution_count": 2,
   "metadata": {},
   "outputs": [],
   "source": [
    "# numerical python library\n",
    "import numpy as np\n",
    "# see numpy.finfo"
   ]
  },
  {
   "cell_type": "code",
   "execution_count": 3,
   "metadata": {},
   "outputs": [],
   "source": [
    "def compute_epsilon_machine():\n",
    "    epsilon = 1.0\n",
    "    while 1+epsilon > 1:\n",
    "        epsilon = epsilon/2.0\n",
    "    return 2*epsilon"
   ]
  },
  {
   "cell_type": "code",
   "execution_count": 4,
   "metadata": {},
   "outputs": [
    {
     "name": "stdout",
     "output_type": "stream",
     "text": [
      "* epsilon maquina calculado por funcion es: 2.220446049250313e-16\n"
     ]
    }
   ],
   "source": [
    "epsilon = compute_epsilon_machine()\n",
    "print(\"* epsilon maquina calculado por funcion es:\", epsilon)\n"
   ]
  },
  {
   "cell_type": "code",
   "execution_count": 5,
   "metadata": {},
   "outputs": [
    {
     "name": "stdout",
     "output_type": "stream",
     "text": [
      "* epsilon maquina calculado por numpy es  : 2.220446049250313e-16\n"
     ]
    }
   ],
   "source": [
    "print(\"* epsilon maquina calculado por numpy es  :\", np.finfo(float).eps)"
   ]
  },
  {
   "cell_type": "code",
   "execution_count": 6,
   "metadata": {},
   "outputs": [],
   "source": [
    "def compute_epsilon_machine_negative():\n",
    "    epsilon = -1.0\n",
    "    while 1+epsilon < 1:\n",
    "        epsilon = epsilon/2.0\n",
    "    return 2*abs(epsilon)"
   ]
  },
  {
   "cell_type": "code",
   "execution_count": 7,
   "metadata": {},
   "outputs": [
    {
     "name": "stdout",
     "output_type": "stream",
     "text": [
      "* epsilon maquina calculado por funcion es: 1.1102230246251565e-16\n",
      "* epsilon maquina calculado por numpy es  : 1.1102230246251565e-16\n"
     ]
    }
   ],
   "source": [
    "epsilon_n = compute_epsilon_machine_negative()\n",
    "print(\"* epsilon maquina calculado por funcion es:\", epsilon_n)\n",
    "print(\"* epsilon maquina calculado por numpy es  :\", np.finfo(float).epsneg)"
   ]
  },
  {
   "cell_type": "markdown",
   "metadata": {},
   "source": [
    "### Rango de maquina\n",
    "\n",
    "El numero mas grande:\n",
    "$$\n",
    "(-1)^0  2^{2046-1023}(1+f)\n",
    "$$\n",
    "numero mantisa mas grande\n",
    "$$\n",
    "f = 1- 2^{-52}\n",
    "$$"
   ]
  },
  {
   "cell_type": "code",
   "execution_count": 8,
   "metadata": {},
   "outputs": [
    {
     "name": "stdout",
     "output_type": "stream",
     "text": [
      " * rango de maquina ( -1.7976931348623157e+308 ,  1.7976931348623157e+308 )\n",
      "1.7976931348623157e+308\n",
      "inf\n"
     ]
    }
   ],
   "source": [
    "print(\" * rango de maquina (\",np.finfo(float).min, \", \", np.finfo(float).max,\")\")\n",
    "print(2**1023*(2-2**(-52)))\n",
    "print(1.8*10**308)"
   ]
  },
  {
   "cell_type": "code",
   "execution_count": 9,
   "metadata": {},
   "outputs": [
    {
     "name": "stdout",
     "output_type": "stream",
     "text": [
      " * rango de maquina aproximado ( 2e- 1024 , 2e 1024 )\n"
     ]
    }
   ],
   "source": [
    "print(\" * rango de maquina aproximado ( 2e-\",np.finfo(float).maxexp, \", 2e\", np.finfo(float).maxexp,\")\")"
   ]
  },
  {
   "cell_type": "code",
   "execution_count": 10,
   "metadata": {},
   "outputs": [
    {
     "name": "stdout",
     "output_type": "stream",
     "text": [
      " * menor numero positivo posible representable 2.2250738585072014e-308\n",
      " * menor numero positivo posible representable 2e -1022\n"
     ]
    }
   ],
   "source": [
    "print(\" * menor numero positivo posible representable\",np.finfo(float).tiny)\n",
    "print(\" * menor numero positivo posible representable 2e\", np.finfo(float).minexp)"
   ]
  },
  {
   "cell_type": "code",
   "execution_count": 11,
   "metadata": {},
   "outputs": [
    {
     "name": "stdout",
     "output_type": "stream",
     "text": [
      " * digitos significativos de precision 15\n"
     ]
    }
   ],
   "source": [
    "print(\" * digitos significativos de precision\",np.finfo(float).precision)"
   ]
  },
  {
   "cell_type": "code",
   "execution_count": 12,
   "metadata": {},
   "outputs": [
    {
     "name": "stdout",
     "output_type": "stream",
     "text": [
      " * numero de digitos en la mantisa m: 52\n"
     ]
    }
   ],
   "source": [
    "print(\" * numero de digitos en la mantisa m:\",np.finfo(float).nmant)"
   ]
  },
  {
   "cell_type": "code",
   "execution_count": 13,
   "metadata": {},
   "outputs": [
    {
     "name": "stdout",
     "output_type": "stream",
     "text": [
      " * numero de bits ocupados por punto flotante 64\n",
      " * numero de bits ocupados por el exponente de la representacion de punto flotante 11\n"
     ]
    }
   ],
   "source": [
    "print(\" * numero de bits ocupados por punto flotante\", np.finfo(float).bits)\n",
    "print(\" * numero de bits ocupados por el exponente de la representacion de punto flotante\",np.finfo(float).iexp)"
   ]
  },
  {
   "cell_type": "markdown",
   "metadata": {},
   "source": [
    "## Numeros binarios\n",
    "\n",
    "http://www.binaryconvert.com/result_double.html?decimal=048046049"
   ]
  },
  {
   "cell_type": "code",
   "execution_count": 14,
   "metadata": {},
   "outputs": [
    {
     "data": {
      "text/plain": [
       "'0b11111111111'"
      ]
     },
     "execution_count": 14,
     "metadata": {},
     "output_type": "execute_result"
    }
   ],
   "source": [
    "bin(2047)"
   ]
  },
  {
   "cell_type": "markdown",
   "metadata": {},
   "source": [
    "## Numeros de maquina decimales"
   ]
  },
  {
   "cell_type": "code",
   "execution_count": 41,
   "metadata": {},
   "outputs": [
    {
     "name": "stdout",
     "output_type": "stream",
     "text": [
      "floating point representation of x with 5 digits:  0.71429\n",
      "floating point representation of y with 5 digits:  0.33333\n"
     ]
    }
   ],
   "source": [
    "x = 5.0/7.0; y = 1.0/3.0\n",
    "prec = 5\n",
    "flx = round(x,prec); fly = round(y,prec)\n",
    "print(\"floating point representation of x with 5 digits: \",flx)\n",
    "print(\"floating point representation of y with 5 digits: \",fly)"
   ]
  },
  {
   "cell_type": "code",
   "execution_count": 39,
   "metadata": {},
   "outputs": [
    {
     "data": {
      "text/html": [
       "<div>\n",
       "<style scoped>\n",
       "    .dataframe tbody tr th:only-of-type {\n",
       "        vertical-align: middle;\n",
       "    }\n",
       "\n",
       "    .dataframe tbody tr th {\n",
       "        vertical-align: top;\n",
       "    }\n",
       "\n",
       "    .dataframe thead th {\n",
       "        text-align: right;\n",
       "    }\n",
       "</style>\n",
       "<table border=\"1\" class=\"dataframe\">\n",
       "  <thead>\n",
       "    <tr style=\"text-align: right;\">\n",
       "      <th></th>\n",
       "      <th>Op.</th>\n",
       "      <th>fl. op.</th>\n",
       "      <th>exact</th>\n",
       "      <th>error abs</th>\n",
       "      <th>error rel.</th>\n",
       "    </tr>\n",
       "  </thead>\n",
       "  <tbody>\n",
       "    <tr>\n",
       "      <th>0</th>\n",
       "      <td>+</td>\n",
       "      <td>1.04762</td>\n",
       "      <td>1.047619</td>\n",
       "      <td>9.523810e-07</td>\n",
       "      <td>9.090909e-07</td>\n",
       "    </tr>\n",
       "    <tr>\n",
       "      <th>1</th>\n",
       "      <td>-</td>\n",
       "      <td>0.38096</td>\n",
       "      <td>0.380952</td>\n",
       "      <td>7.619048e-06</td>\n",
       "      <td>2.000000e-05</td>\n",
       "    </tr>\n",
       "    <tr>\n",
       "      <th>2</th>\n",
       "      <td>*</td>\n",
       "      <td>0.23809</td>\n",
       "      <td>0.238095</td>\n",
       "      <td>5.238095e-06</td>\n",
       "      <td>2.200000e-05</td>\n",
       "    </tr>\n",
       "    <tr>\n",
       "      <th>3</th>\n",
       "      <td>/</td>\n",
       "      <td>2.14289</td>\n",
       "      <td>2.142857</td>\n",
       "      <td>3.285714e-05</td>\n",
       "      <td>1.533333e-05</td>\n",
       "    </tr>\n",
       "  </tbody>\n",
       "</table>\n",
       "</div>"
      ],
      "text/plain": [
       "  Op.  fl. op.     exact     error abs    error rel.\n",
       "0   +  1.04762  1.047619  9.523810e-07  9.090909e-07\n",
       "1   -  0.38096  0.380952  7.619048e-06  2.000000e-05\n",
       "2   *  0.23809  0.238095  5.238095e-06  2.200000e-05\n",
       "3   /  2.14289  2.142857  3.285714e-05  1.533333e-05"
      ]
     },
     "execution_count": 39,
     "metadata": {},
     "output_type": "execute_result"
    }
   ],
   "source": [
    "import pandas as pd\n",
    "column1 = [round(flx+fly,prec), round(flx-fly,prec), round(flx*fly,prec), round(flx/fly,prec)]\n",
    "column2 = [x+y, x-y,x*y, x/y]\n",
    "column3 = [np.abs(column1[i]-column2[i]) for i in range(4)]\n",
    "column4 = [column3[i]/np.abs(column2[i]) for i in range(4)]\n",
    "df = pd.DataFrame({\"Op.\":[\"+\",\"-\",\"*\",\"/\"], \"fl. op.\":column1, \"exact\":column2, \"error abs\":column3, \"error rel.\":column4})\n",
    "df"
   ]
  },
  {
   "cell_type": "code",
   "execution_count": 44,
   "metadata": {},
   "outputs": [],
   "source": [
    "def truncate(n, precision):\n",
    "    return int(n * 10**precision) / 10**precision"
   ]
  },
  {
   "cell_type": "code",
   "execution_count": 45,
   "metadata": {},
   "outputs": [
    {
     "name": "stdout",
     "output_type": "stream",
     "text": [
      "floating point representation of x with 5 digits:  0.71428\n",
      "floating point representation of y with 5 digits:  0.33333\n"
     ]
    }
   ],
   "source": [
    "x = 5.0/7.0; y = 1.0/3.0\n",
    "prec = 5\n",
    "flx = truncate(x,prec); fly = truncate(y,prec)\n",
    "print(\"floating point representation of x with 5 digits: \",flx)\n",
    "print(\"floating point representation of y with 5 digits: \",fly)"
   ]
  },
  {
   "cell_type": "code",
   "execution_count": 46,
   "metadata": {},
   "outputs": [
    {
     "data": {
      "text/html": [
       "<div>\n",
       "<style scoped>\n",
       "    .dataframe tbody tr th:only-of-type {\n",
       "        vertical-align: middle;\n",
       "    }\n",
       "\n",
       "    .dataframe tbody tr th {\n",
       "        vertical-align: top;\n",
       "    }\n",
       "\n",
       "    .dataframe thead th {\n",
       "        text-align: right;\n",
       "    }\n",
       "</style>\n",
       "<table border=\"1\" class=\"dataframe\">\n",
       "  <thead>\n",
       "    <tr style=\"text-align: right;\">\n",
       "      <th></th>\n",
       "      <th>Op.</th>\n",
       "      <th>fl. op.</th>\n",
       "      <th>exact</th>\n",
       "      <th>error abs</th>\n",
       "      <th>error rel.</th>\n",
       "    </tr>\n",
       "  </thead>\n",
       "  <tbody>\n",
       "    <tr>\n",
       "      <th>0</th>\n",
       "      <td>+</td>\n",
       "      <td>1.04761</td>\n",
       "      <td>1.047619</td>\n",
       "      <td>0.000009</td>\n",
       "      <td>0.000009</td>\n",
       "    </tr>\n",
       "    <tr>\n",
       "      <th>1</th>\n",
       "      <td>-</td>\n",
       "      <td>0.38095</td>\n",
       "      <td>0.380952</td>\n",
       "      <td>0.000002</td>\n",
       "      <td>0.000006</td>\n",
       "    </tr>\n",
       "    <tr>\n",
       "      <th>2</th>\n",
       "      <td>*</td>\n",
       "      <td>0.23809</td>\n",
       "      <td>0.238095</td>\n",
       "      <td>0.000005</td>\n",
       "      <td>0.000022</td>\n",
       "    </tr>\n",
       "    <tr>\n",
       "      <th>3</th>\n",
       "      <td>/</td>\n",
       "      <td>2.14286</td>\n",
       "      <td>2.142857</td>\n",
       "      <td>0.000003</td>\n",
       "      <td>0.000001</td>\n",
       "    </tr>\n",
       "  </tbody>\n",
       "</table>\n",
       "</div>"
      ],
      "text/plain": [
       "  Op.  fl. op.     exact  error abs  error rel.\n",
       "0   +  1.04761  1.047619   0.000009    0.000009\n",
       "1   -  0.38095  0.380952   0.000002    0.000006\n",
       "2   *  0.23809  0.238095   0.000005    0.000022\n",
       "3   /  2.14286  2.142857   0.000003    0.000001"
      ]
     },
     "execution_count": 46,
     "metadata": {},
     "output_type": "execute_result"
    }
   ],
   "source": [
    "column1 = [round(flx+fly,prec), round(flx-fly,prec), round(flx*fly,prec), round(flx/fly,prec)]\n",
    "column2 = [x+y, x-y,x*y, x/y]\n",
    "column3 = [np.abs(column1[i]-column2[i]) for i in range(4)]\n",
    "column4 = [column3[i]/np.abs(column2[i]) for i in range(4)]\n",
    "df = pd.DataFrame({\"Op.\":[\"+\",\"-\",\"*\",\"/\"], \"fl. op.\":column1, \"exact\":column2, \"error abs\":column3, \"error rel.\":column4})\n",
    "df"
   ]
  },
  {
   "cell_type": "code",
   "execution_count": 56,
   "metadata": {},
   "outputs": [],
   "source": [
    "from decimal import *\n",
    "getcontext().prec = 5\n",
    "DefaultContext.rounding = ROUND_DOWN"
   ]
  },
  {
   "cell_type": "code",
   "execution_count": 61,
   "metadata": {},
   "outputs": [],
   "source": [
    "x = Decimal(5.0/7.0); "
   ]
  },
  {
   "cell_type": "code",
   "execution_count": 62,
   "metadata": {},
   "outputs": [
    {
     "data": {
      "text/plain": [
       "Decimal('0.71428571428571430157461463750223629176616668701171875')"
      ]
     },
     "execution_count": 62,
     "metadata": {},
     "output_type": "execute_result"
    }
   ],
   "source": [
    "x"
   ]
  },
  {
   "cell_type": "code",
   "execution_count": null,
   "metadata": {},
   "outputs": [],
   "source": []
  }
 ],
 "metadata": {
  "hide_input": false,
  "kernelspec": {
   "display_name": "Python 3 (ipykernel)",
   "language": "python",
   "name": "python3"
  },
  "language_info": {
   "codemirror_mode": {
    "name": "ipython",
    "version": 3
   },
   "file_extension": ".py",
   "mimetype": "text/x-python",
   "name": "python",
   "nbconvert_exporter": "python",
   "pygments_lexer": "ipython3",
   "version": "3.10.11"
  }
 },
 "nbformat": 4,
 "nbformat_minor": 4
}
