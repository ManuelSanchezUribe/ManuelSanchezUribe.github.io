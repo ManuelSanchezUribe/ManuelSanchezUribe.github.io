{
 "cells": [
  {
   "cell_type": "markdown",
   "metadata": {},
   "source": [
    "<center><h1 style=\"color:#173F8A;\"> Metodos para Ecuaciones Diferenciales, IMT3410, 2022-2 </h1></center>\n",
    "<h3 style=\"color:#173F8A;text-align:right;\"> Instituto de Ingenieria Matematica y Computacional<br>  Pontificia Universidad Catolica de Chile <br>  </h3>\n",
    "<h3 style=\"color:#0176DE;text-align:right;\"> Profesor. Manuel A. Sanchez<br> </h3>\n",
    "<hr style=\"border:2px solid #03122E\"> </hr>\n",
    "\n",
    "<!-- Palette colors UC: celeste:#0176DE, azul #173F8A, azul oscuro: #03122E, amarillo: #FEC60D, amarillo oscuro: #E3AE00 -->\n",
    "<!--\n",
    "<figure>\n",
    "<img align =\"right\" src=\"IMClogo.png\" alt=\"logo\" width=\"250\" height=\"400\"><br><br><br><br><br>\n",
    "</figure>\n",
    " -->"
   ]
  },
  {
   "cell_type": "markdown",
   "metadata": {},
   "source": [
    "<h2 style=\"color:#03122E;text-align:center;\"> Capitulo 2. Metodos para Ecuaciones Diferenciales Parciales Elipticas<br> </h2>\n",
    "<h3 style=\"color:#03122E;text-align:center;\">             Discontinuous Galerkin Methods (DG Methods) <br> </h3>\n",
    "<h3 style=\"color:#03122E;text-align:center;\">             Ecuacion de Poisson <br> </h3>\n",
    "<hr style=\"border:3px solid #E3AE00 \"> </hr>"
   ]
  },
  {
   "cell_type": "code",
   "execution_count": 51,
   "metadata": {},
   "outputs": [
    {
     "data": {
      "application/vnd.jupyter.widget-view+json": {
       "model_id": "27457c4021324bb4975747eb7ba8a3f2",
       "version_major": 2,
       "version_minor": 0
      },
      "text/plain": [
       "WebGuiWidget(layout=Layout(height='50vh', width='100%'), value={'gui_settings': {}, 'ngsolve_version': '6.2.23…"
      ]
     },
     "metadata": {},
     "output_type": "display_data"
    },
    {
     "data": {
      "application/vnd.jupyter.widget-view+json": {
       "model_id": "7ffe791ad6c74c50affad73e35c2b77c",
       "version_major": 2,
       "version_minor": 0
      },
      "text/plain": [
       "WebGuiWidget(layout=Layout(height='50vh', width='100%'), value={'gui_settings': {}, 'ngsolve_version': '6.2.23…"
      ]
     },
     "metadata": {},
     "output_type": "display_data"
    },
    {
     "data": {
      "text/plain": [
       "BaseWebGuiScene"
      ]
     },
     "execution_count": 51,
     "metadata": {},
     "output_type": "execute_result"
    }
   ],
   "source": [
    "# NGSolve Libraries\n",
    "from netgen.geom2d import unit_square\n",
    "from ngsolve import *\n",
    "from ngsolve.webgui import Draw\n",
    "#import netgen.gui\n",
    "\n",
    "# Domain geometry\n",
    "geo = unit_square\n",
    "# Generate mesh with meshsize\n",
    "hh = .1\n",
    "mesh = Mesh(geo.GenerateMesh(maxh=hh))\n",
    "\n",
    "# Manufactured solution\n",
    "uexact = CoefficientFunction( 16*x*(1-x)*y*(1-y) )\n",
    "qexact = CoefficientFunction((-16*(1-2*x)*y*(1-y), -16*(1-2*y)*x*(1-x)  ))\n",
    "# Source according \n",
    "f      = 32*y*(1-y)+32*x*(1-x)\n",
    "Draw(uexact, mesh, 'solucion exacta u ')\n",
    "Draw(qexact, mesh, 'solucion exacta q')\n",
    "#print(mesh.GetBoundaries())"
   ]
  },
  {
   "cell_type": "markdown",
   "metadata": {},
   "source": [
    "# DG method\n",
    "\n",
    "Consideremos el problema eliptico\n",
    "\\begin{equation}\n",
    "\\begin{array}{rclll}\n",
    "\\displaystyle\n",
    "-\\Delta u & = & f & \\mbox{en} & \\Omega \\\\\n",
    "\\displaystyle u & = & 0 & \\mbox{sobre} & \\partial \\Omega \n",
    "\\end{array}\n",
    "\\end{equation}\n",
    "\n",
    "Reescribimos la ecuacion diferencial como un sistema de primer orden introduciendo el flujo $q$, y $a = c^{-1}$\n",
    "\\begin{equation}\n",
    "\\begin{array}{rclll}\n",
    "\\displaystyle  q & = & -\\nabla u & \\mbox{en} & \\Omega \\\\\n",
    "\\displaystyle\n",
    "\\mbox{div}( q ) & = & f & \\mbox{en} & \\Omega \\\\\n",
    "\\displaystyle u & = & 0 & \\mbox{sobre} & \\partial \\Omega \n",
    "\\end{array}\n",
    "\\end{equation}\n",
    "\n",
    "\n",
    "Entonces la formulacion variacional mixta (busca dos soluciones) queda: Hallar $(q,u)\\in V_h\\times W_h$\n",
    "\n",
    "\\begin{equation}\n",
    "\\begin{array}{rcl}\n",
    "\\displaystyle\n",
    "\\int_{\\Omega} q_h \\cdot r\\,dx - \\int_{\\Omega} u_h\\,\\nabla_h\\cdot r\\,dx + \\sum_{K\\in\\mathcal T_h}\\int_{\\partial K} \\phi_{u} r\\cdot n\\,ds & = &\n",
    "0 \\\\\n",
    "\\displaystyle\n",
    "-\\int_{\\Omega} q_h \\cdot \\nabla_h v\\,dx + \\sum_{K\\in \\mathcal T_h}\\int_{\\partial K} v \\phi_{q} \\cdot n \\,ds & = & \n",
    "\\displaystyle\n",
    " \\int_{\\Omega} f v\\,dx\n",
    "\\end{array}\n",
    "\\end{equation}\n",
    "\n",
    "Espacios de Galerkin discontinuo:\n",
    "\\begin{equation}\n",
    "V_h = \\{r\\in L^{1}(\\Omega)^{d}: (r_i)|_{K}\\in \\mathcal P_{k},\\,\\forall K\\in \\mathcal T_h,\\,i=1,...,d\\},\\quad W_h = \\{v\\in L^{1}(\\Omega): v|_{K}\\in \\mathcal P_{k},\\,\\forall K\\in \\mathcal T_h\\}\n",
    "\\end{equation}\n",
    "\n",
    "# Formulacion Mixta Local Discontinuous Galerkin\n",
    "\n",
    "\\begin{equation}\n",
    "\\phi_{u}(u_h) = \\begin{cases}\n",
    "\\{u_h\\} - \\beta\\cdot [u_h],&\\quad\\text{sobre } \\mathcal F_h^{i}, \\\\\n",
    "0 ,&\\quad\\text{sobre } \\mathcal F_h^{\\partial}, \n",
    "\\end{cases}\n",
    "\\end{equation}\n",
    "\\begin{equation}\n",
    "\\phi_{q}(u_h,q_h) = \\begin{cases}\n",
    "\\{q_h\\} + \\beta [q_h] - \\eta_{F} h_{F}^{-1}[u_h],&\\quad\\text{sobre } \\mathcal F_h^{i}, \\\\\n",
    "q_h - \\eta_F h_F^{-1} u_h n ,&\\quad\\text{sobre } \\mathcal F_h^{\\partial}, \n",
    "\\end{cases}\n",
    "\\end{equation}\n"
   ]
  },
  {
   "cell_type": "code",
   "execution_count": 53,
   "metadata": {
    "scrolled": false
   },
   "outputs": [
    {
     "data": {
      "application/vnd.jupyter.widget-view+json": {
       "model_id": "c1efceecdaec4fd9bfb6a8d88b7c5d56",
       "version_major": 2,
       "version_minor": 0
      },
      "text/plain": [
       "WebGuiWidget(layout=Layout(height='50vh', width='100%'), value={'gui_settings': {}, 'ngsolve_version': '6.2.23…"
      ]
     },
     "metadata": {},
     "output_type": "display_data"
    },
    {
     "data": {
      "application/vnd.jupyter.widget-view+json": {
       "model_id": "59f0b2e2a6b64be3b62c869ca937805d",
       "version_major": 2,
       "version_minor": 0
      },
      "text/plain": [
       "WebGuiWidget(layout=Layout(height='50vh', width='100%'), value={'gui_settings': {}, 'ngsolve_version': '6.2.23…"
      ]
     },
     "metadata": {},
     "output_type": "display_data"
    },
    {
     "data": {
      "text/plain": [
       "BaseWebGuiScene"
      ]
     },
     "execution_count": 53,
     "metadata": {},
     "output_type": "execute_result"
    }
   ],
   "source": [
    "# Mixed form\n",
    "order = 3\n",
    "Wh = L2(mesh, order=order, dgjumps=True)\n",
    "Vh = VectorL2(mesh, order=order, dgjumps=True)\n",
    "fes = FESpace([Vh,Wh] )\n",
    "\n",
    "# Trial and test functions\n",
    "q, u = fes.TrialFunction()\n",
    "r, v = fes.TestFunction()\n",
    "\n",
    "# Numerical fluxes\n",
    "n = specialcf.normal(2)\n",
    "jump_u = (u-u.Other())*n\n",
    "jump_v = (v-v.Other())*n\n",
    "jump_q = (q-q.Other())*n\n",
    "jump_r = (r-r.Other())*n\n",
    "\n",
    "mean_u = 0.5*(u+u.Other())\n",
    "mean_v = 0.5*(v+v.Other())\n",
    "mean_q = 0.5*(q+q.Other())\n",
    "mean_r = 0.5*(r+r.Other())\n",
    "\n",
    "eta = max(4*order**2, 4)\n",
    "beta = CoefficientFunction((1.0,1.0))\n",
    "h = specialcf.mesh_size\n",
    "# LDG fluxes\n",
    "phi_u_i = mean_u - beta*jump_u\n",
    "phi_q_i = mean_q + beta*jump_q - eta/h*jump_u \n",
    "phi_u_b = 0\n",
    "phi_q_b = q - eta/h*u*n \n",
    "\n",
    "dS = dx(element_boundary=True)\n",
    "a_dg = BilinearForm(fes)\n",
    "# first equation\n",
    "a_dg += (q*r - u*div(r) )* dx \n",
    "a_dg += phi_u_b*(r*n)*ds(skeleton=True)\n",
    "a_dg += phi_u_i*jump_r*dx(skeleton=True)\n",
    "# second equation\n",
    "a_dg += -(q*grad(v))* dx \n",
    "a_dg += (phi_q_i*jump_v)*dx(skeleton=True)\n",
    "a_dg += (phi_q_b*v*n)*ds(skeleton=True)\n",
    "a_dg.Assemble()\n",
    "\n",
    "fdg = LinearForm(fes)\n",
    "fdg += f*v*dx \n",
    "fdg.Assemble()\n",
    "\n",
    "gf = GridFunction(fes)\n",
    "gfq, gfu = gf.components\n",
    "gf.vec.data = a_dg.mat.Inverse() * fdg.vec\n",
    "Draw (gfu)\n",
    "Draw (gfq)"
   ]
  },
  {
   "cell_type": "markdown",
   "metadata": {},
   "source": [
    "# Formulacion primal e Non-symmetric Interior Penalty Method\n",
    "\n",
    "\n",
    "\\begin{equation}\n",
    "a_{h}(u_h,v) = \\int_{\\Omega}\\nabla_h u_h\\cdot\\nabla v_h + \\int_{\\mathcal F_h} \\eta_F h_F^{-1}[u_h]\\cdot[ v] +[u_h]\\cdot\\{\\nabla_h v\\} - \\{\\nabla_h u_h\\}[v]\n",
    "\\end{equation}\n",
    "para $u_h,v\\in W_h = \\{v\\in L^{1}(\\Omega):\\,v|_{K}\\in \\mathcal P_k,\\,\\forall K\\in \\mathcal T_h\\}$"
   ]
  },
  {
   "cell_type": "code",
   "execution_count": 56,
   "metadata": {},
   "outputs": [
    {
     "data": {
      "application/vnd.jupyter.widget-view+json": {
       "model_id": "8ca6b9bd3c084357a57325f7ccbf5902",
       "version_major": 2,
       "version_minor": 0
      },
      "text/plain": [
       "WebGuiWidget(layout=Layout(height='50vh', width='100%'), value={'gui_settings': {}, 'ngsolve_version': '6.2.23…"
      ]
     },
     "metadata": {},
     "output_type": "display_data"
    },
    {
     "data": {
      "text/plain": [
       "BaseWebGuiScene"
      ]
     },
     "execution_count": 56,
     "metadata": {},
     "output_type": "execute_result"
    }
   ],
   "source": [
    "# NIPG\n",
    "order = 4\n",
    "Wh = L2(mesh, order=order, dgjumps=True)\n",
    "u,v = Wh.TnT()\n",
    "\n",
    "\n",
    "\n",
    "jumpn_u = n*(u-u.Other())\n",
    "jumpn_v = n*(v-v.Other())\n",
    "n = specialcf.normal(2)\n",
    "mean_du = 0.5 * (grad(u)+grad(u.Other()))\n",
    "mean_dv = 0.5 * (grad(v)+grad(v.Other()))\n",
    "\n",
    "# jump_u = u-u.Other()\n",
    "# jump_v = v-v.Other()\n",
    "# mean_dudn = 0.5*n * (grad(u)+grad(u.Other()))\n",
    "# mean_dvdn = 0.5*n * (grad(v)+grad(v.Other()))\n",
    "\n",
    "\n",
    "etaF = 4*(order+1)**2\n",
    "alpha = etaF\n",
    "h = specialcf.mesh_size\n",
    "ah = BilinearForm(Wh)\n",
    "ah += grad(u)*grad(v) * dx\n",
    "ah += etaF/h*jumpn_u*jumpn_v*dx(skeleton=True)\n",
    "ah += jumpn_u*mean_dv*dx(skeleton=True)\n",
    "ah += -mean_du*jumpn_v*dx(skeleton=True)\n",
    "ah += etaF/h*u*n*v*n*ds(skeleton=True)\n",
    "ah += u*n*grad(v)*ds(skeleton=True)\n",
    "ah += -grad(u)*v*n*ds(skeleton=True)\n",
    "\n",
    "ah.Assemble()\n",
    "\n",
    "lf = LinearForm(f*v*dx).Assemble()\n",
    "\n",
    "gfu = GridFunction(Wh, name=\"uDG\")\n",
    "gfu.vec.data = ah.mat.Inverse() * lf.vec\n",
    "Draw (gfu)"
   ]
  },
  {
   "cell_type": "code",
   "execution_count": null,
   "metadata": {},
   "outputs": [],
   "source": []
  }
 ],
 "metadata": {
  "kernelspec": {
   "display_name": "Python 3 (ipykernel)",
   "language": "python",
   "name": "python3"
  },
  "language_info": {
   "codemirror_mode": {
    "name": "ipython",
    "version": 3
   },
   "file_extension": ".py",
   "mimetype": "text/x-python",
   "name": "python",
   "nbconvert_exporter": "python",
   "pygments_lexer": "ipython3",
   "version": "3.7.9"
  },
  "toc": {
   "base_numbering": 1,
   "nav_menu": {},
   "number_sections": false,
   "sideBar": true,
   "skip_h1_title": false,
   "title_cell": "Table of Contents",
   "title_sidebar": "Contents",
   "toc_cell": false,
   "toc_position": {},
   "toc_section_display": true,
   "toc_window_display": false
  }
 },
 "nbformat": 4,
 "nbformat_minor": 4
}
