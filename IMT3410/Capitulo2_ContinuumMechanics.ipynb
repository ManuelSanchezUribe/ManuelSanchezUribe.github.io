{
 "cells": [
  {
   "cell_type": "markdown",
   "id": "19d5608e",
   "metadata": {},
   "source": [
    "<center><h1 style=\"color:#173F8A;\"> Metodos para Ecuaciones Diferenciales, IMT3410, 2023-2 </h1></center>\n",
    "<h3 style=\"color:#173F8A;text-align:right;\"> Instituto de Ingenieria Matematica y Computacional<br>  Pontificia Universidad Catolica de Chile <br>  </h3>\n",
    "<h3 style=\"color:#0176DE;text-align:right;\"> Profesor. Manuel A. Sanchez<br> </h3>\n",
    "<hr style=\"border:2px solid #03122E\"> </hr>\n",
    "\n",
    "<!-- Palette colors UC: celeste:#0176DE, azul #173F8A, azul oscuro: #03122E, amarillo: #FEC60D, amarillo oscuro: #E3AE00 -->\n",
    "<!--\n",
    "<figure>\n",
    "<img align =\"right\" src=\"IMClogo.png\" alt=\"logo\" width=\"250\" height=\"400\"><br><br><br><br><br>\n",
    "</figure>\n",
    " -->"
   ]
  },
  {
   "cell_type": "markdown",
   "id": "4de055fa",
   "metadata": {},
   "source": [
    "<h2 style=\"color:#03122E;text-align:center;\"> Capitulo 2. Metodos para Ecuaciones Diferenciales Parciales Elipticas<br> </h2>\n",
    "<h3 style=\"color:#03122E;text-align:center;\">             Metodos de Elementos Finitos <br> </h3>\n",
    "<h3 style=\"color:#03122E;text-align:center;\">             Continuum Mechanics <br> </h3>\n",
    "<hr style=\"border:3px solid #E3AE00 \"> </hr>"
   ]
  },
  {
   "cell_type": "code",
   "execution_count": 1,
   "id": "3e4e0321",
   "metadata": {},
   "outputs": [],
   "source": [
    "# NGSolve Libraries\n",
    "from netgen.geom2d import unit_square\n",
    "from ngsolve import *\n",
    "from ngsolve.webgui import Draw # para jupyter\n",
    "#import netgen.gui\n",
    "from netgen.geom2d import SplineGeometry\n",
    "from pandas import DataFrame"
   ]
  },
  {
   "cell_type": "code",
   "execution_count": 2,
   "id": "ec50f50e",
   "metadata": {},
   "outputs": [],
   "source": [
    "def stress(u):\n",
    "    return lambda_par*(div(u))*Id(2) + 2*mu_par*strain(u)\n",
    "\n",
    "def strain(u):\n",
    "    return 0.5*(grad(u) + grad(u).trans)"
   ]
  },
  {
   "cell_type": "code",
   "execution_count": 3,
   "id": "77e8f9fd",
   "metadata": {},
   "outputs": [
    {
     "data": {
      "application/vnd.jupyter.widget-view+json": {
       "model_id": "da0c4e38f52f4328984dc8cac3d1f155",
       "version_major": 2,
       "version_minor": 0
      },
      "text/plain": [
       "WebGuiWidget(layout=Layout(height='50vh', width='100%'), value={'gui_settings': {}, 'ngsolve_version': '6.2.23…"
      ]
     },
     "metadata": {},
     "output_type": "display_data"
    }
   ],
   "source": [
    "geo = SplineGeometry()\n",
    "\n",
    "pnts =[(0,0),(5,0),(5,1),(0,1)]\n",
    "p1,p2,p3,p4 = [geo.AppendPoint(*pnt) for pnt in pnts]\n",
    "curves = [[[\"line\",p1,p2],\"bottom\"],\n",
    "          [[\"line\",p2,p3],\"right\"],\n",
    "          [[\"line\",p3,p4],\"top\"],\n",
    "          [[\"line\",p4,p1],\"left\"]]\n",
    "[geo.Append(c,bc=bc, leftdomain=1, rightdomain=0) for c,bc in curves]\n",
    "geo.AddCircle(c=(2.5,0.5),r=0.25,maxh=0.05,bc=\"circle\",leftdomain=0,rightdomain=1)\n",
    "ngmesh = geo.GenerateMesh(maxh=0.1)\n",
    "mesh = Mesh(ngmesh)\n",
    "Draw(mesh)\n",
    "\n",
    "bdry_values = {'left': CoefficientFunction((0,0)), 'right': CoefficientFunction((1,0))}\n",
    "values_list = [bdry_values[bc]\n",
    "               if bc in bdry_values.keys() else ((0,0))\n",
    "               for bc in mesh.GetBoundaries()]\n",
    "g = CoefficientFunction(values_list)"
   ]
  },
  {
   "cell_type": "code",
   "execution_count": 6,
   "id": "4e4d1ab5",
   "metadata": {},
   "outputs": [],
   "source": [
    "# H1-conforming finite element space\n",
    "fes = VectorH1(mesh, order=1, dirichlet='left|right')\n",
    "\n",
    "# define trial- and test-functions\n",
    "u = fes.TrialFunction()\n",
    "v = fes.TestFunction()\n",
    "\n",
    "# the right hand side\n",
    "force = CoefficientFunction((0,0))\n",
    "\n",
    "lf = LinearForm(fes)\n",
    "lf += force * v * dx\n",
    "\n",
    "# the bilinear-form \n",
    "a = BilinearForm(fes, symmetric=True)\n",
    "a += lambda_par*div(u)*div(v)*dx + 2*mu_par*InnerProduct(strain(u),strain(v))*dx\n",
    "\n",
    "a.Assemble()\n",
    "lf.Assemble()\n",
    "\n",
    "# the solution field \n",
    "gfu = GridFunction(fes)\n",
    "gfu.Set(g, definedon=mesh.Boundaries('left|right'))\n",
    "r = lf.vec.CreateVector()\n",
    "r.data = lf.vec - a.mat * gfu.vec\n",
    "gfu.vec.data += a.mat.Inverse(freedofs=fes.FreeDofs()) * r\n"
   ]
  },
  {
   "cell_type": "code",
   "execution_count": 7,
   "id": "b1c9d873",
   "metadata": {},
   "outputs": [
    {
     "data": {
      "application/vnd.jupyter.widget-view+json": {
       "model_id": "27713619cbad4a2aa8a7d3d1e86ab6d2",
       "version_major": 2,
       "version_minor": 0
      },
      "text/plain": [
       "WebGuiWidget(layout=Layout(height='50vh', width='100%'), value={'gui_settings': {}, 'ngsolve_version': '6.2.23…"
      ]
     },
     "metadata": {},
     "output_type": "display_data"
    },
    {
     "data": {
      "text/plain": [
       "BaseWebGuiScene"
      ]
     },
     "execution_count": 7,
     "metadata": {},
     "output_type": "execute_result"
    }
   ],
   "source": [
    "Draw(gfu, deformation=True)"
   ]
  },
  {
   "cell_type": "markdown",
   "id": "3fc429cb",
   "metadata": {},
   "source": [
    "# Perdida de la Coercividad"
   ]
  },
  {
   "cell_type": "code",
   "execution_count": 8,
   "id": "692ede3f",
   "metadata": {},
   "outputs": [
    {
     "data": {
      "application/vnd.jupyter.widget-view+json": {
       "model_id": "e695bd96ebc544aba23a9d2e5541dc39",
       "version_major": 2,
       "version_minor": 0
      },
      "text/plain": [
       "WebGuiWidget(layout=Layout(height='50vh', width='100%'), value={'gui_settings': {}, 'ngsolve_version': '6.2.23…"
      ]
     },
     "metadata": {},
     "output_type": "display_data"
    }
   ],
   "source": [
    "geo = SplineGeometry()\n",
    "\n",
    "pnts =[(0,0),(3,0),(3,1),(0,1)]\n",
    "p1,p2,p3,p4 = [geo.AppendPoint(*pnt) for pnt in pnts]\n",
    "curves = [[[\"line\",p1,p2],\"bottom\"],\n",
    "          [[\"line\",p2,p3],\"right\"],\n",
    "          [[\"line\",p3,p4],\"top\"],\n",
    "          [[\"line\",p4,p1],\"left\"]]\n",
    "[geo.Append(c,bc=bc, leftdomain=1, rightdomain=0) for c,bc in curves]\n",
    "geo.AddCircle(c=(1.5,0.5),r=0.25,maxh=0.025,bc=\"circle2\",leftdomain=0,rightdomain=1)\n",
    "geo.AddCircle(c=(0.625,0.5),r=0.2,maxh=0.025,bc=\"circle1\",leftdomain=0,rightdomain=1)\n",
    "geo.AddCircle(c=(2.375,0.5),r=0.2,maxh=0.025,bc=\"circle3\",leftdomain=0,rightdomain=1)\n",
    "\n",
    "ngmesh = geo.GenerateMesh(maxh=0.1)\n",
    "mesh = Mesh(ngmesh)\n",
    "Draw(mesh)\n",
    "\n",
    "bdry_values = {'left': CoefficientFunction((0,0)), 'right': CoefficientFunction((1,0))}\n",
    "values_list = [bdry_values[bc]\n",
    "               if bc in bdry_values.keys() else ((0,0))\n",
    "               for bc in mesh.GetBoundaries()]\n",
    "g = CoefficientFunction(values_list)"
   ]
  },
  {
   "cell_type": "code",
   "execution_count": 9,
   "id": "9bae3d8f",
   "metadata": {},
   "outputs": [],
   "source": [
    "lambda_par = Parameter(100.0) # Ratio lambda/mu = 100\n",
    "mu_par = Parameter(1.0)\n",
    "def stress(u):\n",
    "    return lambda_par*(div(u))*Id(2) + 2*mu_par*strain(u)\n",
    "\n",
    "def strain(u):\n",
    "    return 0.5*(grad(u) + grad(u).trans)\n",
    "# H1-conforming finite element space\n",
    "fes = VectorH1(mesh, order=1, dirichlet='left|right')\n",
    "\n",
    "# define trial- and test-functions\n",
    "u = fes.TrialFunction()\n",
    "v = fes.TestFunction()\n",
    "\n",
    "# the right hand side\n",
    "force = CoefficientFunction((0,0))\n",
    "\n",
    "lf = LinearForm(fes)\n",
    "lf += force * v * dx\n",
    "\n",
    "# the bilinear-form \n",
    "a = BilinearForm(fes, symmetric=True)\n",
    "a += lambda_par*div(u)*div(v)*dx + 2*mu_par*InnerProduct(strain(u),strain(v))*dx\n",
    "\n",
    "a.Assemble()\n",
    "lf.Assemble()\n",
    "\n",
    "# the solution field \n",
    "gfu = GridFunction(fes)\n",
    "gfu.Set(g, definedon=mesh.Boundaries('left|right'))\n",
    "r = lf.vec.CreateVector()\n",
    "r.data = lf.vec - a.mat * gfu.vec\n",
    "gfu.vec.data += a.mat.Inverse(freedofs=fes.FreeDofs()) * r\n"
   ]
  },
  {
   "cell_type": "code",
   "execution_count": 10,
   "id": "3e7ed683",
   "metadata": {},
   "outputs": [
    {
     "data": {
      "application/vnd.jupyter.widget-view+json": {
       "model_id": "317a22d492e74a1182645fe3a594e35c",
       "version_major": 2,
       "version_minor": 0
      },
      "text/plain": [
       "WebGuiWidget(layout=Layout(height='50vh', width='100%'), value={'gui_settings': {}, 'ngsolve_version': '6.2.23…"
      ]
     },
     "metadata": {},
     "output_type": "display_data"
    },
    {
     "data": {
      "text/plain": [
       "BaseWebGuiScene"
      ]
     },
     "execution_count": 10,
     "metadata": {},
     "output_type": "execute_result"
    }
   ],
   "source": [
    "Draw(gfu, deformation=True)"
   ]
  },
  {
   "cell_type": "code",
   "execution_count": 11,
   "id": "84704e5b",
   "metadata": {},
   "outputs": [
    {
     "data": {
      "application/vnd.jupyter.widget-view+json": {
       "model_id": "83cd4a5142d64ff79d5323299ad17f9b",
       "version_major": 2,
       "version_minor": 0
      },
      "text/plain": [
       "WebGuiWidget(layout=Layout(height='50vh', width='100%'), value={'gui_settings': {}, 'ngsolve_version': '6.2.23…"
      ]
     },
     "metadata": {},
     "output_type": "display_data"
    },
    {
     "data": {
      "application/vnd.jupyter.widget-view+json": {
       "model_id": "b736c0c8ff834e1aa17faefb27eac6aa",
       "version_major": 2,
       "version_minor": 0
      },
      "text/plain": [
       "WebGuiWidget(layout=Layout(height='50vh', width='100%'), value={'gui_settings': {}, 'ngsolve_version': '6.2.23…"
      ]
     },
     "metadata": {},
     "output_type": "display_data"
    },
    {
     "data": {
      "application/vnd.jupyter.widget-view+json": {
       "model_id": "6b20c43f9c92433c80f6b22ea39bded6",
       "version_major": 2,
       "version_minor": 0
      },
      "text/plain": [
       "WebGuiWidget(layout=Layout(height='50vh', width='100%'), value={'gui_settings': {}, 'ngsolve_version': '6.2.23…"
      ]
     },
     "metadata": {},
     "output_type": "display_data"
    },
    {
     "data": {
      "text/plain": [
       "BaseWebGuiScene"
      ]
     },
     "execution_count": 11,
     "metadata": {},
     "output_type": "execute_result"
    }
   ],
   "source": [
    "sigma = grad(gfu)#.MakeVariable()\n",
    "\n",
    "def sigma_min(sigma): # magnitude of first principal stress\n",
    "    return((sigma[0,0]+sigma[1,1])/2 - sqrt(((sigma[0,0]-sigma[1,1])/2)**2 + sigma[1,0]**2))\n",
    "\n",
    "def sigma_max(sigma): # magnitude of first principal stress\n",
    "    return((sigma[0,0]+sigma[1,1])/2 + sqrt(((sigma[0,0]-sigma[1,1])/2)**2 + sigma[1,0]**2))\n",
    "\n",
    "Draw(sigma_max(sigma), mesh)\n",
    "Draw(sigma_min(sigma), mesh)\n",
    "Tresca = sigma_max(sigma)-sigma_min(sigma)\n",
    "Draw(Tresca, mesh)\n"
   ]
  },
  {
   "cell_type": "code",
   "execution_count": 12,
   "id": "9aa88539",
   "metadata": {},
   "outputs": [
    {
     "name": "stdout",
     "output_type": "stream",
     "text": [
      "Help on function Draw in module ngsolve.webgui:\n",
      "\n",
      "Draw(mesh_or_func, mesh_or_none=None, name='function', order=2, min=None, max=None, draw_vol=True, draw_surf=True, autoscale=True, intpoints=None, deformation=False, interpolate_multidim=False, animate=False, clipping=None, vectors=None, js_code=None, eval_function=None, eval=None, filename='', objects=[], nodal_p1=False, settings={})\n",
      "\n"
     ]
    }
   ],
   "source": [
    "help(Draw)"
   ]
  },
  {
   "cell_type": "markdown",
   "id": "340c051e",
   "metadata": {},
   "source": [
    "# Planar elasticity, locking"
   ]
  },
  {
   "cell_type": "code",
   "execution_count": 13,
   "id": "978d557d",
   "metadata": {},
   "outputs": [],
   "source": [
    "def linear_elasticity_problem():\n",
    "    # Material data\n",
    "    E = 3.0 # Young's modulus\n",
    "#     nu = 0.25 # Poisson's ratio nu\n",
    "    nu = 0.499999 # Poisson's ratio nu - near incompressible\n",
    "    mu  = 1/2*(E / (1+nu)) # lame parameter mu\n",
    "    lam = E * nu / ((1+nu)*(1-2*nu))# lame parameter lambda\n",
    "    print(f\"mu = {mu}, lambda = {lam}\")\n",
    "    # exact solution\n",
    "    u1      = CoefficientFunction(-x**2*(x-1.0)**2*y*(y-1.0)*(2.0*y-1.0) )\n",
    "    u2      = -u1\n",
    "    u       = CoefficientFunction((u1, u2))\n",
    "    gradu   = 0\n",
    "    e11     = -2.0*x*y*(2.0*x**2 - 3.0*x + 1.0)*(2*y**2 - 3.0*y + 1.0)\n",
    "    e12     = -(x*(x - 1.0)*(6.0*x**2*y**2 - 6.0*x**2*y + x**2 - 8.0*x*y**3 + 6.0*x*y**2 + 2.0*x*y - x + 4.0*y**3 - 6.0*y**2 + 2.0*y))/2.0\n",
    "    e22     = x**2*(x - 1.0)**2*(6.0*y**2 - 6.0*y + 1.0)\n",
    "    epsilon = CoefficientFunction((e11,e12,e12,e22),  dims=(2,2)) # strain tensor\n",
    "    \n",
    "    # forces\n",
    "    f1      = (E*(x - 2.0*y + 18.0*x**2*y**2 - 24.0*x**2*y**3 + 12.0*x**3*y**2 + 2.0*nu*y + 6.0*x*y - 6.0*nu*x**2 + 12.0*nu*x**3 - 6.0*nu*x**4 - 6.0*nu*y**2 + 4.0*nu*y**3 - 30.0*x*y**2 + 24.0*x*y**3 - 6.0*x**4*y - 4.0*x**3 + 3.0*x**4 + 6.0*y**2 - 4.0*y**3 + 36.0*nu*x*y**2 + 24.0*nu*x**2*y - 24.0*nu*x*y**3 - 24.0*nu*x**3*y + 12.0*nu*x**4*y - 36.0*nu*x**2*y**2 + 24.0*nu*x**2*y**3 - 12.0*nu*x*y))/(2.0*nu**2 + nu - 1.0)\n",
    "    f2      = -(E*(x - y - 12.0*x**2*y**3 + 12.0*x**3*y**2 + 2*nu*y - 6*nu*x**2 + 12*nu*x**3 - 6*nu*x**4 - 6*nu*y**2 + 4*nu*y**3 - 12*x*y**2 + 12*x*y**3 + 12*x**3*y - 12*x**4*y + 3*x**2 - 10*x**3 + 6*x**4 + 3*y**2 - 2*y**3 + 36*nu*x*y**2 + 24*nu*x**2*y - 24*nu*x*y**3 - 24*nu*x**3*y + 12*nu*x**4*y - 36*nu*x**2*y**2 + 24*nu*x**2*y**3 - 12*nu*x*y))/(2.0*nu**2 + nu - 1.0)\n",
    "    \n",
    "    f       = CoefficientFunction((f1,f2))\n",
    "    uD      = u\n",
    "    \n",
    "    # wrap it up\n",
    "    material = {\"E\":E, \"nu\":nu, \"mu\":mu, \"lamb\":lam}\n",
    "    exact = {\"u\":u, \"strain\":epsilon}\n",
    "    data = {\"bodyforce\":f,\"uD\":uD}\n",
    "    \n",
    "    return exact, data, material"
   ]
  },
  {
   "cell_type": "code",
   "execution_count": 14,
   "id": "f8c3b534",
   "metadata": {},
   "outputs": [],
   "source": [
    "def epsilon(u):\n",
    "    return 0.5*(grad(u)+grad(u).trans)\n",
    "\n",
    "def sigma(u,mu,lamb):\n",
    "    return lamb * div(u)*Id(2) + mu*(grad(u) + grad(u).trans)"
   ]
  },
  {
   "cell_type": "code",
   "execution_count": 15,
   "id": "0feb1253",
   "metadata": {},
   "outputs": [],
   "source": [
    "def SetUP_linear_elasticity(mesh, data, material):\n",
    "    \n",
    "    Vh = VectorH1(mesh, order = 1, dirichlet='left|right|top|bottom')\n",
    "\n",
    "    # variables\n",
    "    u = Vh.TrialFunction()\n",
    "    v = Vh.TestFunction()\n",
    "\n",
    "    # bilinear form\n",
    "    a = BilinearForm(Vh)\n",
    "    a += (InnerProduct(sigma(u,material['mu'], material['lamb']),epsilon(v)))*dx\n",
    "    a.Assemble()\n",
    "\n",
    "    L = LinearForm(Vh)\n",
    "    L += data['bodyforce']*v*dx \n",
    "    L.Assemble()\n",
    "\n",
    "    # grid functions\n",
    "    gfu = GridFunction(Vh, name=\"uh\")\n",
    "\n",
    "    \n",
    "    return gfu, a, L\n",
    "\n",
    "def Convergence_test(last_mesh=6):\n",
    "    exact, data, material = linear_elasticity_problem()\n",
    "    output = []\n",
    "    for i in range(2, last_mesh):\n",
    "        h = 2**(-i)\n",
    "        \n",
    "        mesh = Mesh(unit_square.GenerateMesh(maxh=h))\n",
    "        \n",
    "        gfu, a, L = SetUP_linear_elasticity(mesh, data, material)\n",
    "        \n",
    "        # set Dirichlet boudanry condition\n",
    "        gfu.Set(data['uD'], BND)\n",
    "        L.vec.data -= a.mat * gfu.vec\n",
    "\n",
    "        # Solve linear system\n",
    "        solvers.BVP(bf=a, lf=L, gf=gfu)\n",
    "        \n",
    "        # output\n",
    "        err_u       = sqrt( Integrate( InnerProduct( gfu - exact['u'], gfu - exact['u']), mesh))\n",
    "        output.append ((h, gfu.space.ndof, err_u))\n",
    "    # end for\n",
    "#     Draw(gfu, mesh, 'displacement')\n",
    "    return output"
   ]
  },
  {
   "cell_type": "code",
   "execution_count": 16,
   "id": "cb4c17e5",
   "metadata": {},
   "outputs": [],
   "source": [
    "def print_markdown_table(errors):\n",
    "    i = 1\n",
    "    h = []\n",
    "    N = []\n",
    "    error_u = []\n",
    "    order_u = []\n",
    "\n",
    "    while i < len(errors):\n",
    "        h.append(errors[i][0])\n",
    "        N.append(errors[i][1])\n",
    "        error_u.append(errors[i][2])\n",
    "        order_u.append(log(errors[i-1][2]/errors[i][2])/log(errors[i-1][0]/errors[i][0]))\n",
    "        i += 1\n",
    "\n",
    "    # pretty print\n",
    "    df = DataFrame({\"h\": h,\"N\": N,'$$\\|u-u_h\\|_{L^2}$$': error_u,\"$$\\mbox{order } u$$\": order_u})\n",
    "    display(df)"
   ]
  },
  {
   "cell_type": "code",
   "execution_count": 17,
   "id": "8c26bf7e",
   "metadata": {},
   "outputs": [
    {
     "name": "stdout",
     "output_type": "stream",
     "text": [
      "mu = 1.000000666667111, lambda = 499999.3333462666\n"
     ]
    },
    {
     "data": {
      "text/html": [
       "<div>\n",
       "<style scoped>\n",
       "    .dataframe tbody tr th:only-of-type {\n",
       "        vertical-align: middle;\n",
       "    }\n",
       "\n",
       "    .dataframe tbody tr th {\n",
       "        vertical-align: top;\n",
       "    }\n",
       "\n",
       "    .dataframe thead th {\n",
       "        text-align: right;\n",
       "    }\n",
       "</style>\n",
       "<table border=\"1\" class=\"dataframe\">\n",
       "  <thead>\n",
       "    <tr style=\"text-align: right;\">\n",
       "      <th></th>\n",
       "      <th>h</th>\n",
       "      <th>N</th>\n",
       "      <th>$$\\|u-u_h\\|_{L^2}$$</th>\n",
       "      <th>$$\\mbox{order } u$$</th>\n",
       "    </tr>\n",
       "  </thead>\n",
       "  <tbody>\n",
       "    <tr>\n",
       "      <th>0</th>\n",
       "      <td>0.125000</td>\n",
       "      <td>178</td>\n",
       "      <td>0.001525</td>\n",
       "      <td>0.539032</td>\n",
       "    </tr>\n",
       "    <tr>\n",
       "      <th>1</th>\n",
       "      <td>0.062500</td>\n",
       "      <td>676</td>\n",
       "      <td>0.001654</td>\n",
       "      <td>-0.117367</td>\n",
       "    </tr>\n",
       "    <tr>\n",
       "      <th>2</th>\n",
       "      <td>0.031250</td>\n",
       "      <td>2510</td>\n",
       "      <td>0.001854</td>\n",
       "      <td>-0.164511</td>\n",
       "    </tr>\n",
       "    <tr>\n",
       "      <th>3</th>\n",
       "      <td>0.015625</td>\n",
       "      <td>9746</td>\n",
       "      <td>0.001967</td>\n",
       "      <td>-0.085738</td>\n",
       "    </tr>\n",
       "    <tr>\n",
       "      <th>4</th>\n",
       "      <td>0.007812</td>\n",
       "      <td>38556</td>\n",
       "      <td>0.001933</td>\n",
       "      <td>0.025428</td>\n",
       "    </tr>\n",
       "  </tbody>\n",
       "</table>\n",
       "</div>"
      ],
      "text/plain": [
       "          h      N  $$\\|u-u_h\\|_{L^2}$$  $$\\mbox{order } u$$\n",
       "0  0.125000    178             0.001525             0.539032\n",
       "1  0.062500    676             0.001654            -0.117367\n",
       "2  0.031250   2510             0.001854            -0.164511\n",
       "3  0.015625   9746             0.001967            -0.085738\n",
       "4  0.007812  38556             0.001933             0.025428"
      ]
     },
     "metadata": {},
     "output_type": "display_data"
    }
   ],
   "source": [
    "output = Convergence_test( last_mesh=8)\n",
    "print_markdown_table(output)"
   ]
  },
  {
   "cell_type": "code",
   "execution_count": 18,
   "id": "5d15d4ec",
   "metadata": {},
   "outputs": [
    {
     "data": {
      "text/plain": [
       "0"
      ]
     },
     "execution_count": 18,
     "metadata": {},
     "output_type": "execute_result"
    }
   ],
   "source": [
    "from netgen.csg import *\n",
    "\n",
    "wi = 0.2\n",
    "le = 1.0\n",
    "geo = CSGeometry()\n",
    "left  = Plane (Pnt(0,0.5*wi,0.5*wi), Vec(-1,0,0) ).bc('fix')\n",
    "right = Plane (Pnt(1*le,0.5*wi,0.5*wi), Vec( 1,0,0) ).bc('free')\n",
    "front = Plane (Pnt(0.5*le,0,0.5*wi), Vec(0,-1,0) ).bc('free')\n",
    "back  = Plane (Pnt(0.5*le,1*wi,0.5*wi), Vec(0, 1,0) ).bc('free')\n",
    "bot   = Plane (Pnt(0.5*le,0.5*wi,0), Vec(0,0,-1) ).bc('free')\n",
    "top   = Plane (Pnt(0.5*le,0.5*wi,1*wi), Vec(0,0, 1) ).bc('free')\n",
    "\n",
    "beam = left * right * front * back * bot * top \n",
    "geo.Add (beam)"
   ]
  },
  {
   "cell_type": "code",
   "execution_count": 19,
   "id": "a8fea784",
   "metadata": {},
   "outputs": [],
   "source": [
    "mesh = Mesh(geo.GenerateMesh(maxh=0.1))\n",
    "# Draw (mesh)\n",
    "\n",
    "mu = 1\n",
    "rho = 1\n",
    "delta = wi/le\n",
    "gamma = 0.4*delta**2\n",
    "beta = 1.25\n",
    "lamb = beta\n",
    "g = gamma\n",
    "\n",
    "bodyforce = CoefficientFunction((0,0,-rho*g))\n",
    "uD = CoefficientFunction((0,0,0)) "
   ]
  },
  {
   "cell_type": "code",
   "execution_count": 20,
   "id": "c1d7b4b0",
   "metadata": {},
   "outputs": [],
   "source": [
    "def epsilon(u):\n",
    "    return 0.5*(grad(u) + grad(u).trans)\n",
    "\n",
    "def sigma(u):\n",
    "    return lamb * div(u)*Id(mesh.dim) + mu*(grad(u) + grad(u).trans)\n",
    "Vh = VectorH1(mesh, order = 1, dirichlet='fix')\n",
    "\n",
    "# variables\n",
    "u = Vh.TrialFunction()\n",
    "v = Vh.TestFunction()\n",
    "\n",
    "# bilinear form\n",
    "a = BilinearForm(Vh)\n",
    "a += (InnerProduct(sigma(u),epsilon(v)))*dx\n",
    "a.Assemble()\n",
    "\n",
    "L = LinearForm(Vh)\n",
    "L += bodyforce*v*dx \n",
    "L.Assemble()\n",
    "\n",
    "# grid functions\n",
    "gfu = GridFunction(Vh, name=\"uh\")\n",
    "\n",
    "# set Dirichlet boudanry condition\n",
    "gfu.Set(uD, BND)\n",
    "L.vec.data -= a.mat * gfu.vec\n",
    "\n",
    "# Solve linear system\n",
    "solvers.BVP(bf=a, lf=L, gf=gfu)"
   ]
  },
  {
   "cell_type": "code",
   "execution_count": 22,
   "id": "040ea5f2",
   "metadata": {},
   "outputs": [
    {
     "data": {
      "application/vnd.jupyter.widget-view+json": {
       "model_id": "8165c5dafdce468e94808daa78166bee",
       "version_major": 2,
       "version_minor": 0
      },
      "text/plain": [
       "WebGuiWidget(layout=Layout(height='50vh', width='100%'), value={'gui_settings': {}, 'ngsolve_version': '6.2.23…"
      ]
     },
     "metadata": {},
     "output_type": "display_data"
    },
    {
     "data": {
      "text/plain": [
       "BaseWebGuiScene"
      ]
     },
     "execution_count": 22,
     "metadata": {},
     "output_type": "execute_result"
    }
   ],
   "source": [
    "Draw(gfu, mesh)\n"
   ]
  },
  {
   "cell_type": "code",
   "execution_count": null,
   "id": "c04f6fd1",
   "metadata": {},
   "outputs": [],
   "source": []
  }
 ],
 "metadata": {
  "kernelspec": {
   "display_name": "Python 3 (ipykernel)",
   "language": "python",
   "name": "python3"
  },
  "language_info": {
   "codemirror_mode": {
    "name": "ipython",
    "version": 3
   },
   "file_extension": ".py",
   "mimetype": "text/x-python",
   "name": "python",
   "nbconvert_exporter": "python",
   "pygments_lexer": "ipython3",
   "version": "3.7.9"
  }
 },
 "nbformat": 4,
 "nbformat_minor": 5
}
