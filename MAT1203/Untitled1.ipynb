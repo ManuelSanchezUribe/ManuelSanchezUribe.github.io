{
 "cells": [
  {
   "cell_type": "code",
   "execution_count": 1,
   "id": "11f3d6b0-6fba-4310-97d0-159203f8cac5",
   "metadata": {},
   "outputs": [],
   "source": [
    "import numpy as np"
   ]
  },
  {
   "cell_type": "code",
   "execution_count": 2,
   "id": "41f6801c-c4c9-4c86-8472-0eef1a4e3265",
   "metadata": {},
   "outputs": [
    {
     "name": "stdout",
     "output_type": "stream",
     "text": [
      "4.000000000000001\n"
     ]
    }
   ],
   "source": [
    "A = np.array([[2,1,1],[-1,0,2],[3,1,3]], dtype=np.float64)\n",
    "print(np.linalg.det(A))"
   ]
  },
  {
   "cell_type": "code",
   "execution_count": 3,
   "id": "177e661f-16bf-4128-b9b1-9f1f6e505f85",
   "metadata": {},
   "outputs": [
    {
     "name": "stdout",
     "output_type": "stream",
     "text": [
      "-15.999999999999998\n"
     ]
    }
   ],
   "source": [
    "A1 = np.array([[4,1,1],[2,0,2],[-2,1,3]], dtype=np.float64)\n",
    "print(np.linalg.det(A1))"
   ]
  },
  {
   "cell_type": "code",
   "execution_count": 4,
   "id": "d17a74d7-664e-4124-81ff-5a0eadc5cf04",
   "metadata": {},
   "outputs": [
    {
     "name": "stdout",
     "output_type": "stream",
     "text": [
      "52.000000000000036\n"
     ]
    }
   ],
   "source": [
    "A2 = np.array([[2,4,1],[-1,2,2],[3,-2,3]], dtype=np.float64)\n",
    "print(np.linalg.det(A2))"
   ]
  },
  {
   "cell_type": "code",
   "execution_count": 5,
   "id": "8a529fe1-e791-4f56-9613-d784b18ac8ed",
   "metadata": {},
   "outputs": [
    {
     "name": "stdout",
     "output_type": "stream",
     "text": [
      "-4.0\n"
     ]
    }
   ],
   "source": [
    "A3 = np.array([[2,1,4],[-1,0,2],[3,1,-2]],dtype=np.float64)\n",
    "print(np.linalg.det(A3))"
   ]
  },
  {
   "cell_type": "code",
   "execution_count": 7,
   "id": "2b234949-6538-4eeb-a163-8761692c75eb",
   "metadata": {},
   "outputs": [
    {
     "name": "stdout",
     "output_type": "stream",
     "text": [
      "[-4. 13. -1.]\n"
     ]
    }
   ],
   "source": [
    "b = np.array([4,2,-2],dtype=np.float64)\n",
    "x = np.linalg.solve(A,b)\n",
    "print(x)"
   ]
  },
  {
   "cell_type": "code",
   "execution_count": null,
   "id": "ac1d9202-6fe3-4430-8e38-59c23af5a6d6",
   "metadata": {},
   "outputs": [],
   "source": []
  }
 ],
 "metadata": {
  "kernelspec": {
   "display_name": "Python 3",
   "language": "python",
   "name": "python3"
  },
  "language_info": {
   "codemirror_mode": {
    "name": "ipython",
    "version": 3
   },
   "file_extension": ".py",
   "mimetype": "text/x-python",
   "name": "python",
   "nbconvert_exporter": "python",
   "pygments_lexer": "ipython3",
   "version": "3.8.5"
  }
 },
 "nbformat": 4,
 "nbformat_minor": 5
}
